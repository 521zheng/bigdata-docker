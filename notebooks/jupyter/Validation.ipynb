{
 "cells": [
  {
   "cell_type": "code",
   "execution_count": 1,
   "metadata": {},
   "outputs": [
    {
     "name": "stdout",
     "output_type": "stream",
     "text": [
      "Marking org.bdgenomics.adam:adam-core-spark2_2.11:0.24.0 for download\n",
      "Preparing to fetch from:\n",
      "-> file:/tmp/toree-tmp-dir807289334971633172/toree_add_deps/\n",
      "-> https://repo1.maven.org/maven2\n",
      "-> New file at /tmp/toree-tmp-dir807289334971633172/toree_add_deps/https/repo1.maven.org/maven2/org/bdgenomics/adam/adam-core-spark2_2.11/0.24.0/adam-core-spark2_2.11-0.24.0.jar\n",
      "-> New file at /tmp/toree-tmp-dir807289334971633172/toree_add_deps/https/repo1.maven.org/maven2/org/bdgenomics/adam/adam-core-spark2_2.11/0.24.0/adam-core-spark2_2.11-0.24.0.pom\n"
     ]
    },
    {
     "data": {
      "text/plain": [
       "Waiting for a Spark session to start..."
      ]
     },
     "metadata": {},
     "output_type": "display_data"
    },
    {
     "name": "stdout",
     "output_type": "stream",
     "text": [
      "Marking comp.bio.aging:adam-playground_2.11:0.0.12 for download\n",
      "Preparing to fetch from:\n",
      "-> file:/tmp/toree-tmp-dir807289334971633172/toree_add_deps/\n",
      "-> https://dl.bintray.com/comp-bio-aging/main/\n",
      "-> https://repo1.maven.org/maven2\n"
     ]
    }
   ],
   "source": [
    "%AddDeps org.bdgenomics.adam adam-core-spark2_2.11 0.24.0\n",
    "%AddDeps comp.bio.aging adam-playground_2.11 0.0.12 --repository https://dl.bintray.com/comp-bio-aging/main/"
   ]
  },
  {
   "cell_type": "code",
   "execution_count": 2,
   "metadata": {},
   "outputs": [
    {
     "name": "stdout",
     "output_type": "stream",
     "text": [
      "Marking org.apache.hadoop:hadoop-azure:2.7.6 for download\n",
      "Preparing to fetch from:\n",
      "-> file:/tmp/toree-tmp-dir807289334971633172/toree_add_deps/\n",
      "-> https://repo1.maven.org/maven2\n",
      "-> New file at /tmp/toree-tmp-dir807289334971633172/toree_add_deps/https/repo1.maven.org/maven2/org/apache/hadoop/hadoop-azure/2.7.6/hadoop-azure-2.7.6.jar\n",
      "-> New file at /tmp/toree-tmp-dir807289334971633172/toree_add_deps/https/repo1.maven.org/maven2/org/apache/hadoop/hadoop-azure/2.7.6/hadoop-azure-2.7.6.pom\n"
     ]
    },
    {
     "data": {
      "text/plain": [
       "Waiting for a Spark session to start..."
      ]
     },
     "metadata": {},
     "output_type": "display_data"
    },
    {
     "name": "stdout",
     "output_type": "stream",
     "text": [
      "Marking com.microsoft.azure:azure-storage:2.0.0 for download\n",
      "Preparing to fetch from:\n",
      "-> file:/tmp/toree-tmp-dir807289334971633172/toree_add_deps/\n",
      "-> https://repo1.maven.org/maven2\n",
      "-> New file at /tmp/toree-tmp-dir807289334971633172/toree_add_deps/https/repo1.maven.org/maven2/com/microsoft/azure/azure-storage/2.0.0/azure-storage-2.0.0.jar\n",
      "-> New file at /tmp/toree-tmp-dir807289334971633172/toree_add_deps/https/repo1.maven.org/maven2/com/microsoft/azure/azure-storage/2.0.0/azure-storage-2.0.0.pom\n"
     ]
    }
   ],
   "source": [
    "%AddDeps org.apache.hadoop hadoop-azure 2.7.6\n",
    "%AddDeps com.microsoft.azure azure-storage 2.0.0"
   ]
  },
  {
   "cell_type": "code",
   "execution_count": 3,
   "metadata": {},
   "outputs": [],
   "source": [
    "import  org.apache.spark._\n",
    "import org.apache.spark.sql.{DataFrame, Encoders, SparkSession}\n",
    "import org.apache.spark.sql.types.StructType\n",
    "import scala.reflect.runtime.universe._\n",
    "import org.apache.spark.storage.StorageLevel\n",
    "import org.apache.spark.rdd._"
   ]
  },
  {
   "cell_type": "code",
   "execution_count": 4,
   "metadata": {},
   "outputs": [
    {
     "data": {
      "text/plain": [
       "sparkHadoopConf: (sc: org.apache.spark.SparkContext, acountName: String, accountKey: String)org.apache.spark.SparkContext\n"
      ]
     },
     "metadata": {},
     "output_type": "display_data"
    }
   ],
   "source": [
    "def sparkHadoopConf(sc: SparkContext, acountName: String, accountKey: String) = {\n",
    "  sc.hadoopConfiguration.set(\"fs.azure\", \"org.apache.hadoop.fs.azure.NativeAzureFileSystem\")\n",
    "  sc.hadoopConfiguration.set(\"fs.azure.account.key.\" + acountName + \".blob.core.windows.net\", accountKey)\n",
    "  sc\n",
    "}"
   ]
  },
  {
   "cell_type": "code",
   "execution_count": 5,
   "metadata": {},
   "outputs": [
    {
     "data": {
      "text/plain": [
       "azurize: (container: String, accountName: String, blobFile: String)String\n"
      ]
     },
     "metadata": {},
     "output_type": "display_data"
    }
   ],
   "source": [
    "def azurize(container: String, accountName: String, blobFile: String): String = \"wasbs://\"+container+\"@\"+accountName+\".blob.core.windows.net/\"+blobFile "
   ]
  },
  {
   "cell_type": "code",
   "execution_count": 6,
   "metadata": {},
   "outputs": [
    {
     "data": {
      "text/plain": [
       "connString = DefaultEndpointsProtocol=https;AccountName=pipelines1;AccountKey=;EndpointSuffix=core.windows.net\n",
       "account = pipelines1\n",
       "key = \n"
      ]
     },
     "metadata": {},
     "output_type": "display_data"
    },
    {
     "data": {
      "text/plain": [
       "az: (path: String)String\n"
      ]
     },
     "metadata": {},
     "output_type": "display_data"
    },
    {
     "data": {
      "text/plain": [
       ""
      ]
     },
     "execution_count": 6,
     "metadata": {},
     "output_type": "execute_result"
    }
   ],
   "source": [
    "val account = \"pipelines1\"\n",
    "val key = \"\"\n",
    "val connString = s\"DefaultEndpointsProtocol=https;AccountName=pipelines1;AccountKey=${key};EndpointSuffix=core.windows.net\"\n",
        "def az(path: String): String = azurize(\"storage\", account, path)"
   ]
  },
  {
   "cell_type": "code",
   "execution_count": 7,
   "metadata": {},
   "outputs": [
    {
     "data": {
      "text/plain": [
       "write: (df: org.apache.spark.sql.DataFrame, url: String, header: Boolean)String\n"
      ]
     },
     "metadata": {},
     "output_type": "display_data"
    }
   ],
   "source": [
    "def write(df: DataFrame, url: String, header: Boolean = true) = {\n",
    "  df.coalesce(1).write.option(\"sep\",\"\\t\").option(\"header\", header).csv(url)\n",
    "  url\n",
    "}"
   ]
  },
  {
   "cell_type": "code",
   "execution_count": 8,
   "metadata": {},
   "outputs": [
    {
     "data": {
      "text/plain": [
       "sparkContext = org.apache.spark.SparkContext@40850a5c\n",
       "spark = org.apache.spark.sql.SparkSession@493226c1\n"
      ]
     },
     "metadata": {},
     "output_type": "display_data"
    },
    {
     "data": {
      "text/html": [
       "<ul>\n",
       "<li><a href=\"Some(http://fc9b3fce6198:4040)\" target=\"new_tab\">Spark UI: app-20180525190630-0018</a></li>\n",
       "</ul>"
      ],
      "text/plain": [
       "Spark app-20180525190630-0018: Some(http://fc9b3fce6198:4040)"
      ]
     },
     "execution_count": 8,
     "metadata": {},
     "output_type": "execute_result"
    }
   ],
   "source": [
    "val sparkContext = sc\n",
    "sparkHadoopConf(sparkContext, account, key)\n",
    "  \n",
    "val spark = SparkSession\n",
    "  .builder()\n",
    "  .appName(\"whales_validation\")\n",
    "  .getOrCreate()"
   ]
  },
  {
   "cell_type": "code",
   "execution_count": 11,
   "metadata": {},
   "outputs": [
    {
     "data": {
      "text/plain": [
       "toDouble = UserDefinedFunction(<function1>,DoubleType,Some(List(StringType)))\n"
      ]
     },
     "metadata": {},
     "output_type": "display_data"
    },
    {
     "data": {
      "text/plain": [
       "UserDefinedFunction(<function1>,DoubleType,Some(List(StringType)))"
      ]
     },
     "execution_count": 11,
     "metadata": {},
     "output_type": "execute_result"
    }
   ],
   "source": [
    "import org.apache.spark.sql.functions._\n",
    "import spark.implicits._\n",
    "\n",
    "val toDouble = udf[Double, String]( _.toDouble)"
   ]
  },
  {
   "cell_type": "code",
   "execution_count": 12,
   "metadata": {},
   "outputs": [
    {
     "data": {
      "text/plain": [
       "readTSV: (path: String, header: Boolean, sep: String, infer: Boolean)org.apache.spark.sql.DataFrame\n",
       "readTypedTSV: [T <: Product](path: String, header: Boolean, sep: String)(implicit tag: reflect.runtime.universe.TypeTag[T])org.apache.spark.sql.Dataset[T]\n"
      ]
     },
     "metadata": {},
     "output_type": "display_data"
    }
   ],
   "source": [
    "def readTSV(path: String, header: Boolean = false, sep: String = \"\\t\", infer: Boolean = true): DataFrame = spark.read\n",
    "    .option(\"sep\", sep)\n",
    "    .option(\"comment\", \"#\")\n",
    "    .option(\"ignoreLeadingWhiteSpace\", true)\n",
    "    .option(\"ignoreTrailingWhiteSpace\", true)\n",
    "    .option(\"ignoreTrailingWhiteSpace\", true)\n",
    "    .option(\"inferSchema\", infer)\n",
    "    .option(\"header\", header)\n",
    "    .option(\"maxColumns\", 150000)\n",
    "    .csv(path)"
   ]
  },
  {
   "cell_type": "code",
   "execution_count": 9,
   "metadata": {},
   "outputs": [
    {
     "data": {
      "text/plain": [
       "readTypedTSV: [T <: Product](path: String, header: Boolean, sep: String)(implicit tag: reflect.runtime.universe.TypeTag[T])org.apache.spark.sql.Dataset[T]\n"
      ]
     },
     "metadata": {},
     "output_type": "display_data"
    }
   ],
   "source": [
    "def readTypedTSV[T <: Product](path: String, header: Boolean = false, sep: String = \"\\t\")\n",
    "                              (implicit tag: TypeTag[T]): Dataset[T] = {\n",
    "  implicit val encoder: StructType = Encoders.product[T](tag).schema\n",
    "  spark.read\n",
    "    .option(\"sep\", sep)\n",
    "    .option(\"comment\", \"#\")\n",
    "    .option(\"ignoreLeadingWhiteSpace\", true)\n",
    "    .option(\"ignoreTrailingWhiteSpace\", true)\n",
    "    .option(\"ignoreTrailingWhiteSpace\", true)\n",
    "    .option(\"header\", header)\n",
    "    .schema(encoder)\n",
    "    .csv(path).as[T]\n",
    "}"
   ]
  },
  {
   "cell_type": "code",
   "execution_count": 13,
   "metadata": {},
   "outputs": [
    {
     "data": {
      "text/plain": [
       "expressionsPath = expressions\n",
       "byGoPath = expressions/go\n",
       "comparison = expressions/go/gray_whale_with_bowhead_with_minke_with_NMR_with_human_with_mouse_with_cow_full_outer_counts_extended.tsv\n",
       "grouped = expressions/go/grouped\n",
       "ranked = expressions/go/grouped/ranked\n"
      ]
     },
     "metadata": {},
     "output_type": "display_data"
    },
    {
     "data": {
      "text/plain": [
       "expressions/go/grouped/ranked"
      ]
     },
     "execution_count": 13,
     "metadata": {},
     "output_type": "execute_result"
    }
   ],
   "source": [
    "val expressionsPath = \"expressions\"\n",
    "val byGoPath = expressionsPath + \"/go\"\n",
    "val comparison = byGoPath + \"/gray_whale_with_bowhead_with_minke_with_NMR_with_human_with_mouse_with_cow_full_outer_counts_extended.tsv\"\n",
    "val grouped = byGoPath + \"/grouped\"\n",
    "val ranked = byGoPath + \"/grouped/ranked\"\n"
   ]
  },
  {
   "cell_type": "code",
   "execution_count": 16,
   "metadata": {},
   "outputs": [
    {
     "data": {
      "text/plain": [
       "goTable = [go: string, namespace: string ... 27 more fields]\n"
      ]
     },
     "metadata": {},
     "output_type": "display_data"
    },
    {
     "data": {
      "text/plain": [
       "[go: string, namespace: string ... 27 more fields]"
      ]
     },
     "execution_count": 16,
     "metadata": {},
     "output_type": "execute_result"
    }
   ],
   "source": [
    "val goTable = readTSV(az(comparison), true)"
   ]
  },
  {
   "cell_type": "code",
   "execution_count": 18,
   "metadata": {},
   "outputs": [
    {
     "data": {
      "text/html": [
       "<table><tr><th>go</th><th>namespace</th><th>label</th><th>gray_whale_avg</th><th>uniref90_count</th><th>taxons_count</th><th>transcripts_count</th><th>human_transcripts_count</th><th>mouse_transcripts_count</th><th>cow_transcripts_count</th><th>type</th><th>gray_whale_liver</th><th>bowhead_whale_liver</th><th>minke_liver</th><th>NMR_liver</th><th>human_liver</th><th>mouse_totalRNA_liver</th><th>mouse_mRNA_liver</th><th>cow_totalRNA_liver</th><th>cow_mRNA_liver</th><th>gray_whale_kidney</th><th>bowhead_whale_kidney</th><th>minke_kidney</th><th>NMR_kidney</th><th>human_kidney</th><th>mouse_totalRNA_kidney</th><th>mouse_mRNA_kidney</th><th>cow_totalRNA_kidney</th><th>cow_mRNA_kidney</th></tr><tr><td>GO:0070062</td><td>cellular_component</td><td>extracellular exosome</td><td>95231.76295</td><td>726</td><td>929</td><td>876</td><td>2714</td><td>116</td><td>2162</td><td>complete;5prime_partial;internal;3prime_partial</td><td>82627.97828900004</td><td>43406.81879601012</td><td>103879.82613499998</td><td>189153.98861699994</td><td>34179.85539700001</td><td>63059.86755299999</td><td>12146.704848999996</td><td>407115.5446490002</td><td>402875.4094160001</td><td>107835.54761100012</td><td>12291.983165</td><td>139226.62839100015</td><td>251177.67484400002</td><td>17317.253403999995</td><td>8189.928592999998</td><td>3009.2303389999997</td><td>284041.33320799994</td><td>274118.5267729999</td></tr><tr><td>GO:0016021</td><td>cellular_component</td><td>integral component of membrane</td><td>81241.0623675</td><td>1391</td><td>565</td><td>1713</td><td>9561</td><td>8900</td><td>4715</td><td>5prime_partial;complete;3prime_partial;internal</td><td>62374.28512099997</td><td>27353.04877027518</td><td>55178.75498600001</td><td>108836.22230300008</td><td>11032.347553</td><td>168821.304916</td><td>28909.156348999997</td><td>198371.61491800006</td><td>189068.7378029999</td><td>100107.839614</td><td>24343.312661999982</td><td>94079.22781100006</td><td>149277.02259700003</td><td>30508.606157000006</td><td>241562.48318399998</td><td>51496.39662599999</td><td>315467.63018200017</td><td>373243.68564099993</td></tr><tr><td>GO:0003735</td><td>molecular_function</td><td>structural constituent of ribosome</td><td>61936.161357499994</td><td>98</td><td>380</td><td>107</td><td>467</td><td>306</td><td>261</td><td>complete;5prime_partial;3prime_partial;internal</td><td>62265.27571699998</td><td>21665.888836018064</td><td>62369.073224</td><td>103095.90135300001</td><td>5244.261549</td><td>24249.30922799999</td><td>7137.034891999996</td><td>89084.343089</td><td>87166.34631000001</td><td>61607.046997999976</td><td>8349.420524000001</td><td>88459.54913499996</td><td>70943.44369100004</td><td>4565.115427999999</td><td>50372.43014700001</td><td>11549.923136999998</td><td>94610.67463199992</td><td>72399.43132700001</td></tr><tr><td>GO:0005829</td><td>cellular_component</td><td>cytosol</td><td>61398.1790675</td><td>1109</td><td>994</td><td>1376</td><td>6775</td><td>5043</td><td>2348</td><td>complete;3prime_partial;5prime_partial;internal</td><td>50912.655819000014</td><td>29665.787975965563</td><td>72109.60757099999</td><td>188757.6132710001</td><td>20623.12592999999</td><td>148373.97883200005</td><td>100424.52617</td><td>86184.9085600001</td><td>90951.61626199998</td><td>71883.70231600002</td><td>12335.804511999993</td><td>124936.20551199997</td><td>132241.5113150001</td><td>13435.613476000004</td><td>105758.17169699995</td><td>43636.518504000014</td><td>111689.96638100002</td><td>102744.94863500002</td></tr><tr><td>GO:0005840</td><td>cellular_component</td><td>ribosome</td><td>59087.688684</td><td>89</td><td>316</td><td>99</td><td>297</td><td>123</td><td>40</td><td>complete;5prime_partial;internal;3prime_partial</td><td>58631.94472899998</td><td>23801.48132475636</td><td>65881.81530099995</td><td>103165.58999999998</td><td>2209.9476119999995</td><td>5478.616020999998</td><td>1831.119411</td><td>5936.298134999999</td><td>6073.805264</td><td>59543.432639000006</td><td>9270.050664999997</td><td>92530.64897999998</td><td>71492.44906799999</td><td>1924.4887119999999</td><td>10029.277271</td><td>2800.6401849999993</td><td>5875.225427000001</td><td>4481.681578999999</td></tr><tr><td>GO:0006412</td><td>biological_process</td><td>translation</td><td>58622.12868799999</td><td>105</td><td>377</td><td>116</td><td>468</td><td>286</td><td>193</td><td>complete;5prime_partial;3prime_partial;internal</td><td>58727.85268499997</td><td>20034.802301962056</td><td>58984.534049</td><td>99321.06117499995</td><td>5245.888943999999</td><td>19875.159683999995</td><td>5806.578341</td><td>66453.233819</td><td>66083.20671399997</td><td>58516.40469099998</td><td>7580.873805999998</td><td>83876.08076099999</td><td>68055.43613499998</td><td>4572.8019749999985</td><td>40136.835409</td><td>9191.198294</td><td>69545.42429499998</td><td>53565.293888999986</td></tr><tr><td>GO:0005634</td><td>cellular_component</td><td>nucleus</td><td>57345.87068550001</td><td>1431</td><td>2115</td><td>1830</td><td>7301</td><td>6496</td><td>2778</td><td>complete;5prime_partial;3prime_partial;internal</td><td>55747.40112099999</td><td>30295.434521280793</td><td>70441.20552599998</td><td>140240.092983</td><td>10470.131235999997</td><td>94231.85965399996</td><td>84031.996854</td><td>126193.50819700002</td><td>143407.437234</td><td>58944.34024999998</td><td>11416.312302999997</td><td>102915.768411</td><td>90533.17986400002</td><td>8808.929934000003</td><td>81393.57837199996</td><td>30863.47935199999</td><td>118101.15175700001</td><td>99420.20529599997</td></tr><tr><td>GO:0003723</td><td>molecular_function</td><td>RNA binding</td><td>54252.262738</td><td>621</td><td>368</td><td>821</td><td>2148</td><td>1069</td><td>1008</td><td>complete;5prime_partial;3prime_partial;internal</td><td>48843.76697</td><td>23928.740201085533</td><td>56334.43345600005</td><td>91851.60494800007</td><td>6522.695184999994</td><td>14026.664751000004</td><td>4708.064785000002</td><td>74843.61990199998</td><td>82199.186156</td><td>59660.75850600002</td><td>10025.436343999996</td><td>93364.80089000006</td><td>79318.97048099998</td><td>6672.883201000003</td><td>24822.313444999996</td><td>8102.410284000003</td><td>93044.76531800005</td><td>83947.353972</td></tr><tr><td>GO:0005737</td><td>cellular_component</td><td>cytoplasm</td><td>51021.87724949999</td><td>1070</td><td>1897</td><td>1342</td><td>4490</td><td>5424</td><td>2333</td><td>complete;5prime_partial;3prime_partial;internal</td><td>43367.513537999985</td><td>24393.98329442446</td><td>63289.08200100004</td><td>177635.51962800007</td><td>6716.158039999998</td><td>135388.78987699997</td><td>34234.04624200001</td><td>79546.89437599998</td><td>85249.95693999997</td><td>58676.24096099999</td><td>10090.376369000003</td><td>102810.643446</td><td>85731.96628100002</td><td>7004.031145</td><td>87788.121675</td><td>34874.35143699998</td><td>101489.413696</td><td>87811.42796300001</td></tr><tr><td>GO:0005813</td><td>cellular_component</td><td>centrosome</td><td>42454.98833149999</td><td>127</td><td>243</td><td>162</td><td>632</td><td>769</td><td>382</td><td>complete;5prime_partial;internal;3prime_partial</td><td>24852.939731</td><td>1933.4432743038858</td><td>4332.0924300000015</td><td>5095.546241</td><td>292.3133429999999</td><td>3911.2582859999984</td><td>1290.271993</td><td>6743.0331620000015</td><td>7806.252158000002</td><td>60057.036932000025</td><td>839.858576</td><td>9289.642984999997</td><td>3992.193603</td><td>583.6687029999998</td><td>7800.484518000001</td><td>3703.0777580000004</td><td>12280.558181999999</td><td>11146.476477</td></tr></table>"
      ]
     },
     "execution_count": 18,
     "metadata": {},
     "output_type": "execute_result"
    }
   ],
   "source": [
    "%%dataframe goTable"
   ]
  },
  {
   "cell_type": "code",
   "execution_count": 19,
   "metadata": {},
   "outputs": [
    {
     "data": {
      "text/plain": [
       "components = [go: string, namespace: string ... 27 more fields]\n",
       "processes = [go: string, namespace: string ... 27 more fields]\n",
       "functions = [go: string, namespace: string ... 27 more fields]\n"
      ]
     },
     "metadata": {},
     "output_type": "display_data"
    },
    {
     "data": {
      "text/plain": [
       "[go: string, namespace: string ... 27 more fields]"
      ]
     },
     "execution_count": 19,
     "metadata": {},
     "output_type": "execute_result"
    }
   ],
   "source": [
    "val components = goTable.where(\"namespace = 'cellular_component'\")\n",
    "val processes = goTable.where(\"namespace = 'biological_process'\")\n",
    "val functions = goTable.where(\"namespace = 'molecular_function'\")"
   ]
  },
  {
   "cell_type": "code",
   "execution_count": 20,
   "metadata": {},
   "outputs": [
    {
     "data": {
      "text/plain": [
       "(1739,12369,4396,18597)"
      ]
     },
     "execution_count": 20,
     "metadata": {},
     "output_type": "execute_result"
    }
   ],
   "source": [
    "(components.count, processes.count, functions.count, goTable.count)"
   ]
  },
  {
   "cell_type": "code",
   "execution_count": 22,
   "metadata": {
    "scrolled": false
   },
   "outputs": [
    {
     "data": {
      "text/plain": [
       "lastException: Throwable = null\n"
      ]
     },
     "metadata": {},
     "output_type": "display_data"
    },
    {
     "data": {
      "text/plain": [
       "wasbs://storage@pipelines1.blob.core.windows.net/expressions/go/grouped/by_cellular_component.tsv"
      ]
     },
     "execution_count": 22,
     "metadata": {},
     "output_type": "execute_result"
    }
   ],
   "source": [
    "write(components, az(grouped + \"/by_cellular_component.tsv\"))\n"
   ]
  },
  {
   "cell_type": "code",
   "execution_count": 23,
   "metadata": {},
   "outputs": [
    {
     "data": {
      "text/plain": [
       "wasbs://storage@pipelines1.blob.core.windows.net/expressions/go/grouped/by_biological_process.tsv"
      ]
     },
     "execution_count": 23,
     "metadata": {},
     "output_type": "execute_result"
    }
   ],
   "source": [
    "write(processes, az(grouped + \"/by_biological_process.tsv\"))"
   ]
  },
  {
   "cell_type": "code",
   "execution_count": 24,
   "metadata": {},
   "outputs": [
    {
     "data": {
      "text/plain": [
       "wasbs://storage@pipelines1.blob.core.windows.net/expressions/go/grouped/by_molecular_function.tsv"
      ]
     },
     "execution_count": 24,
     "metadata": {},
     "output_type": "execute_result"
    }
   ],
   "source": [
    "write(functions, az(grouped + \"/by_molecular_function.tsv\"))"
   ]
  },
  {
   "cell_type": "code",
   "execution_count": 12,
   "metadata": {},
   "outputs": [
    {
     "data": {
      "text/plain": [
       "rank: (df: org.apache.spark.sql.DataFrame, name: String, rankSuffix: String)org.apache.spark.sql.DataFrame\n",
       "ranks: (df: org.apache.spark.sql.DataFrame, names: Seq[String], rankSuffix: String)org.apache.spark.sql.DataFrame\n"
      ]
     },
     "metadata": {},
     "output_type": "display_data"
    }
   ],
   "source": [
    "import org.apache.spark.sql.{ColumnName, Dataset}\n",
    "import org.apache.spark.sql.expressions.Window\n",
    "\n",
    "def rank(df: DataFrame, name: String, rankSuffix: String = \"_rank\") =\n",
    "  df.withColumn(name + rankSuffix, org.apache.spark.sql.functions.dense_rank().over(Window.orderBy(new ColumnName(name).desc)))\n",
    "\n",
    "def ranks(df: DataFrame,\n",
    "          names: Seq[String],\n",
    "          rankSuffix: String = \"_rank\") = names.foldLeft(df){\n",
    "  case (f, n)=> rank(f, n, rankSuffix)\n",
    "}"
   ]
  },
  {
   "cell_type": "code",
   "execution_count": 1,
   "metadata": {},
   "outputs": [
    {
     "data": {
      "text/plain": [
       "rankedCols = Array(gray_whale_liver, bowhead_whale_liver, minke_liver, NMR_liver, human_liver, mouse_totalRNA_liver, mouse_mRNA_liver, cow_totalRNA_liver, cow_mRNA_liver, gray_whale_kidney, bowhead_whale_kidney, minke_kidney, NMR_kidney, human_kidney, mouse_totalRNA_kidney, mouse_mRNA_kidney, cow_totalRNA_kidney, cow_mRNA_kidney, gray_whale_avg)\n"
      ]
     },
     "metadata": {},
     "output_type": "display_data"
    },
    {
     "data": {
      "text/plain": [
       "[gray_whale_liver, bowhead_whale_liver, minke_liver, NMR_liver, human_liver, mouse_totalRNA_liver, mouse_mRNA_liver, cow_totalRNA_liver, cow_mRNA_liver, gray_whale_kidney, bowhead_whale_kidney, minke_kidney, NMR_kidney, human_kidney, mouse_totalRNA_kidney, mouse_mRNA_kidney, cow_totalRNA_kidney, cow_mRNA_kidney, gray_whale_avg]"
      ]
     },
     "execution_count": 1,
     "metadata": {},
     "output_type": "execute_result"
    }
   ],
   "source": [
    "val rankedCols = components.columns.drop(11)++List(\"gray_whale_avg\")"
   ]
  },
  {
   "cell_type": "code",
   "execution_count": 2,
   "metadata": {},
   "outputs": [
    {
     "data": {
      "text/plain": [
       "rankedComponents = [go: string, namespace: string ... 46 more fields]\n",
       "rankedProcesses = [go: string, namespace: string ... 46 more fields]\n",
       "rankedFunctions = [go: string, namespace: string ... 46 more fields]\n"
      ]
     },
     "metadata": {},
     "output_type": "display_data"
    },
    {
     "data": {
      "text/plain": [
       "[go: string, namespace: string ... 46 more fields]"
      ]
     },
     "execution_count": 2,
     "metadata": {},
     "output_type": "execute_result"
    }
   ],
   "source": [
    "val rankedComponents = ranks(components, rankedCols)\n",
    "val rankedProcesses = ranks(processes, rankedCols)\n",
    "val rankedFunctions = ranks(functions, rankedCols)"
   ]
  },
  {
   "cell_type": "code",
   "execution_count": 3,
   "metadata": {},
   "outputs": [
    {
     "data": {
      "text/plain": [
       "wasbs://storage@pipelines1.blob.core.windows.net/expressions/go/grouped/by_molecular_function_ranked.tsv"
      ]
     },
     "execution_count": 3,
     "metadata": {},
     "output_type": "execute_result"
    }
   ],
   "source": [
    "write(rankedComponents, az(grouped + \"/by_cellular_component_ranked.tsv\"))\n",
    "write(rankedProcesses, az(grouped + \"/by_biological_process_ranked.tsv\"))\n",
    "write(rankedFunctions, az(grouped + \"/by_molecular_function_ranked.tsv\"))"
   ]
  },
  {
   "cell_type": "code",
   "execution_count": 26,
   "metadata": {},
   "outputs": [
    {
     "data": {
      "text/html": [
       "<table><tr><th>go</th><th>namespace</th><th>label</th><th>gray_whale_avg</th><th>uniref90_count</th><th>taxons_count</th><th>transcripts_count</th><th>human_transcripts_count</th><th>mouse_transcripts_count</th><th>cow_transcripts_count</th><th>type</th><th>gray_whale_liver</th><th>bowhead_whale_liver</th><th>minke_liver</th><th>NMR_liver</th><th>human_liver</th><th>mouse_totalRNA_liver</th><th>mouse_mRNA_liver</th><th>cow_totalRNA_liver</th><th>cow_mRNA_liver</th><th>gray_whale_kidney</th><th>bowhead_whale_kidney</th><th>minke_kidney</th><th>NMR_kidney</th><th>human_kidney</th><th>mouse_totalRNA_kidney</th><th>mouse_mRNA_kidney</th><th>cow_totalRNA_kidney</th><th>cow_mRNA_kidney</th><th>gray_whale_liver_rank</th><th>bowhead_whale_liver_rank</th><th>minke_liver_rank</th><th>NMR_liver_rank</th><th>human_liver_rank</th><th>mouse_totalRNA_liver_rank</th><th>mouse_mRNA_liver_rank</th><th>cow_totalRNA_liver_rank</th><th>cow_mRNA_liver_rank</th><th>gray_whale_kidney_rank</th><th>bowhead_whale_kidney_rank</th><th>minke_kidney_rank</th><th>NMR_kidney_rank</th><th>human_kidney_rank</th><th>mouse_totalRNA_kidney_rank</th><th>mouse_mRNA_kidney_rank</th><th>cow_totalRNA_kidney_rank</th><th>cow_mRNA_kidney_rank</th><th>gray_whale_avg_rank</th></tr><tr><td>GO:0070062</td><td>cellular_component</td><td>extracellular exosome</td><td>95231.76295</td><td>726</td><td>929</td><td>876</td><td>2714</td><td>116</td><td>2162</td><td>complete;5prime_partial;internal;3prime_partial</td><td>82627.97828900004</td><td>43406.81879601012</td><td>103879.82613499998</td><td>189153.98861699994</td><td>34179.85539700001</td><td>63059.86755299999</td><td>12146.704848999996</td><td>407115.5446490002</td><td>402875.4094160001</td><td>107835.54761100012</td><td>12291.983165</td><td>139226.62839100015</td><td>251177.67484400002</td><td>17317.253403999995</td><td>8189.928592999998</td><td>3009.2303389999997</td><td>284041.33320799994</td><td>274118.5267729999</td><td>1</td><td>1</td><td>1</td><td>1</td><td>1</td><td>12</td><td>16</td><td>1</td><td>1</td><td>1</td><td>4</td><td>1</td><td>1</td><td>3</td><td>46</td><td>45</td><td>2</td><td>2</td><td>1</td></tr><tr><td>GO:0016021</td><td>cellular_component</td><td>integral component of membrane</td><td>81241.0623675</td><td>1391</td><td>565</td><td>1713</td><td>9561</td><td>8900</td><td>4715</td><td>5prime_partial;complete;3prime_partial;internal</td><td>62374.28512099997</td><td>27353.04877027518</td><td>55178.75498600001</td><td>108836.22230300008</td><td>11032.347553</td><td>168821.304916</td><td>28909.156348999997</td><td>198371.61491800006</td><td>189068.7378029999</td><td>100107.839614</td><td>24343.312661999982</td><td>94079.22781100006</td><td>149277.02259700003</td><td>30508.606157000006</td><td>241562.48318399998</td><td>51496.39662599999</td><td>315467.63018200017</td><td>373243.68564099993</td><td>2</td><td>4</td><td>6</td><td>6</td><td>8</td><td>3</td><td>8</td><td>2</td><td>2</td><td>2</td><td>1</td><td>5</td><td>2</td><td>1</td><td>2</td><td>2</td><td>1</td><td>1</td><td>2</td></tr><tr><td>GO:0005829</td><td>cellular_component</td><td>cytosol</td><td>61398.1790675</td><td>1109</td><td>994</td><td>1376</td><td>6775</td><td>5043</td><td>2348</td><td>complete;3prime_partial;5prime_partial;internal</td><td>50912.655819000014</td><td>29665.787975965563</td><td>72109.60757099999</td><td>188757.6132710001</td><td>20623.12592999999</td><td>148373.97883200005</td><td>100424.52617</td><td>86184.9085600001</td><td>90951.61626199998</td><td>71883.70231600002</td><td>12335.804511999993</td><td>124936.20551199997</td><td>132241.5113150001</td><td>13435.613476000004</td><td>105758.17169699995</td><td>43636.518504000014</td><td>111689.96638100002</td><td>102744.94863500002</td><td>5</td><td>3</td><td>2</td><td>2</td><td>4</td><td>5</td><td>2</td><td>5</td><td>6</td><td>3</td><td>3</td><td>2</td><td>3</td><td>4</td><td>3</td><td>3</td><td>4</td><td>4</td><td>3</td></tr><tr><td>GO:0005840</td><td>cellular_component</td><td>ribosome</td><td>59087.688684</td><td>89</td><td>316</td><td>99</td><td>297</td><td>123</td><td>40</td><td>complete;5prime_partial;internal;3prime_partial</td><td>58631.94472899998</td><td>23801.48132475636</td><td>65881.81530099995</td><td>103165.58999999998</td><td>2209.9476119999995</td><td>5478.616020999998</td><td>1831.119411</td><td>5936.298134999999</td><td>6073.805264</td><td>59543.432639000006</td><td>9270.050664999997</td><td>92530.64897999998</td><td>71492.44906799999</td><td>1924.4887119999999</td><td>10029.277271</td><td>2800.6401849999993</td><td>5875.225427000001</td><td>4481.681578999999</td><td>3</td><td>6</td><td>4</td><td>7</td><td>37</td><td>71</td><td>70</td><td>69</td><td>71</td><td>5</td><td>7</td><td>6</td><td>7</td><td>24</td><td>42</td><td>46</td><td>63</td><td>71</td><td>4</td></tr><tr><td>GO:0005634</td><td>cellular_component</td><td>nucleus</td><td>57345.87068550001</td><td>1431</td><td>2115</td><td>1830</td><td>7301</td><td>6496</td><td>2778</td><td>complete;5prime_partial;3prime_partial;internal</td><td>55747.40112099999</td><td>30295.434521280793</td><td>70441.20552599998</td><td>140240.092983</td><td>10470.131235999997</td><td>94231.85965399996</td><td>84031.996854</td><td>126193.50819700002</td><td>143407.437234</td><td>58944.34024999998</td><td>11416.312302999997</td><td>102915.768411</td><td>90533.17986400002</td><td>8808.929934000003</td><td>81393.57837199996</td><td>30863.47935199999</td><td>118101.15175700001</td><td>99420.20529599997</td><td>4</td><td>2</td><td>3</td><td>4</td><td>10</td><td>9</td><td>3</td><td>4</td><td>4</td><td>6</td><td>5</td><td>3</td><td>4</td><td>9</td><td>7</td><td>5</td><td>3</td><td>5</td><td>5</td></tr><tr><td>GO:0005737</td><td>cellular_component</td><td>cytoplasm</td><td>51021.87724949999</td><td>1070</td><td>1897</td><td>1342</td><td>4490</td><td>5424</td><td>2333</td><td>complete;5prime_partial;3prime_partial;internal</td><td>43367.513537999985</td><td>24393.98329442446</td><td>63289.08200100004</td><td>177635.51962800007</td><td>6716.158039999998</td><td>135388.78987699997</td><td>34234.04624200001</td><td>79546.89437599998</td><td>85249.95693999997</td><td>58676.24096099999</td><td>10090.376369000003</td><td>102810.643446</td><td>85731.96628100002</td><td>7004.031145</td><td>87788.121675</td><td>34874.35143699998</td><td>101489.413696</td><td>87811.42796300001</td><td>6</td><td>5</td><td>5</td><td>3</td><td>19</td><td>6</td><td>6</td><td>7</td><td>7</td><td>7</td><td>6</td><td>4</td><td>5</td><td>12</td><td>5</td><td>4</td><td>5</td><td>8</td><td>6</td></tr><tr><td>GO:0005813</td><td>cellular_component</td><td>centrosome</td><td>42454.98833149999</td><td>127</td><td>243</td><td>162</td><td>632</td><td>769</td><td>382</td><td>complete;5prime_partial;internal;3prime_partial</td><td>24852.939731</td><td>1933.4432743038858</td><td>4332.0924300000015</td><td>5095.546241</td><td>292.3133429999999</td><td>3911.2582859999984</td><td>1290.271993</td><td>6743.0331620000015</td><td>7806.252158000002</td><td>60057.036932000025</td><td>839.858576</td><td>9289.642984999997</td><td>3992.193603</td><td>583.6687029999998</td><td>7800.484518000001</td><td>3703.0777580000004</td><td>12280.558181999999</td><td>11146.476477</td><td>15</td><td>42</td><td>43</td><td>68</td><td>107</td><td>80</td><td>77</td><td>68</td><td>62</td><td>4</td><td>35</td><td>25</td><td>72</td><td>51</td><td>47</td><td>40</td><td>37</td><td>39</td><td>7</td></tr><tr><td>GO:0016020</td><td>cellular_component</td><td>membrane</td><td>42195.42010000002</td><td>540</td><td>793</td><td>679</td><td>2429</td><td>1361</td><td>873</td><td>complete;5prime_partial;3prime_partial;internal</td><td>37894.592234999975</td><td>19480.8165792182</td><td>46392.14733899998</td><td>117524.23082799997</td><td>7963.051234999998</td><td>29617.254172</td><td>7866.986895000002</td><td>51652.158988999996</td><td>58572.10771399999</td><td>46496.247965</td><td>8248.603917000006</td><td>76320.57983899997</td><td>65810.41654900002</td><td>10104.827831000002</td><td>49547.508830999985</td><td>12548.841867000006</td><td>63923.18794699999</td><td>55224.136316000026</td><td>7</td><td>7</td><td>7</td><td>5</td><td>15</td><td>26</td><td>22</td><td>15</td><td>13</td><td>9</td><td>8</td><td>7</td><td>8</td><td>6</td><td>10</td><td>13</td><td>11</td><td>12</td><td>8</td></tr><tr><td>GO:0005743</td><td>cellular_component</td><td>mitochondrial inner membrane</td><td>41890.178823999995</td><td>94</td><td>199</td><td>107</td><td>480</td><td>457</td><td>264</td><td>complete;5prime_partial;3prime_partial;internal</td><td>29423.994463000003</td><td>6016.2954890921</td><td>11020.485428</td><td>27978.854220000012</td><td>7830.421898000001</td><td>70641.50428300002</td><td>13822.831728000003</td><td>20350.154425999994</td><td>23997.109960999995</td><td>54356.36318499999</td><td>1293.5116610000002</td><td>16315.796938999994</td><td>29127.529349999997</td><td>27011.827738999997</td><td>90054.086334</td><td>27055.700689000005</td><td>24419.770394000006</td><td>24988.700207999995</td><td>9</td><td>24</td><td>29</td><td>28</td><td>16</td><td>11</td><td>11</td><td>35</td><td>32</td><td>8</td><td>25</td><td>22</td><td>20</td><td>2</td><td>4</td><td>6</td><td>23</td><td>27</td><td>9</td></tr><tr><td>GO:0045263</td><td>cellular_component</td><td>proton-transporting ATP synthase complex, coupling factor F(o)</td><td>35197.364487</td><td>3</td><td>15</td><td>4</td><td>6</td><td>3</td><td>3</td><td>3prime_partial;complete</td><td>24176.706967000002</td><td>237.07</td><td>712.834561</td><td>null</td><td>235.81343800000002</td><td>16696.458196</td><td>1010.2585270000001</td><td>14724.021791000001</td><td>9415.669591000002</td><td>46218.022007</td><td>46.619923</td><td>1444.4431379999999</td><td>null</td><td>1532.0307950000001</td><td>20318.691885</td><td>1973.9292030000001</td><td>28560.529769</td><td>32445.969279</td><td>16</td><td>202</td><td>162</td><td>941</td><td>121</td><td>33</td><td>84</td><td>39</td><td>55</td><td>10</td><td>320</td><td>168</td><td>940</td><td>31</td><td>28</td><td>58</td><td>22</td><td>19</td><td>10</td></tr></table>"
      ]
     },
     "execution_count": 26,
     "metadata": {},
     "output_type": "execute_result"
    }
   ],
   "source": [
    "%%dataframe rankedComponents"
   ]
  },
  {
   "cell_type": "code",
   "execution_count": 13,
   "metadata": {},
   "outputs": [
    {
     "data": {
      "text/plain": [
       "defined class UniprotMapping\n"
      ]
     },
     "metadata": {},
     "output_type": "display_data"
    }
   ],
   "source": [
    "case class UniprotMapping(\n",
    "                           uniprot_ac: String,\n",
    "                           uniprot_id: String,\n",
    "                           entrez: String,\n",
    "                           refSeq: String,\n",
    "                           gi: String,\n",
    "                           pdb: String,\n",
    "                           go: String,\n",
    "                           uniref100: String,\n",
    "                           uniref90: String,\n",
    "                           uniref50: String,\n",
    "                           uniparc: String,\n",
    "                           pir: String,\n",
    "                           taxon: String,\n",
    "                           mim: String,\n",
    "                           unigene: String,\n",
    "                           pubmed: String,\n",
    "                           embl: String,\n",
    "                           embl_cds: String,\n",
    "                           ensembl: String,\n",
    "                           ensembl_trs: String,\n",
    "                           ensembl_pro: String,\n",
    "                           additional_pubmed: String\n",
    "                         )\n",
    "{\n",
    "  lazy val annotations = go.split(\";\").map(_.trim).toSet\n",
    "}"
   ]
  },
  {
   "cell_type": "code",
   "execution_count": 14,
   "metadata": {},
   "outputs": [
    {
     "data": {
      "text/plain": [
       "idmapping = [uniprot_ac: string, uniprot_id: string ... 20 more fields]\n"
      ]
     },
     "metadata": {},
     "output_type": "display_data"
    },
    {
     "data": {
      "text/plain": [
       "[uniprot_ac: string, uniprot_id: string ... 20 more fields]"
      ]
     },
     "execution_count": 14,
     "metadata": {},
     "output_type": "execute_result"
    }
   ],
   "source": [
    "val mapping =  readTSV[UniprotMapping](az(\"/indexes/uniprot/idmapping_selected.tab\")).toDF(                           uniprot_ac: String,\n",
    "                           uniprot_id: String,\n",
    "                           entrez: String,\n",
    "                           refSeq: String,\n",
    "                           gi: String,\n",
    "                           pdb: String,\n",
    "                           go: String,\n",
    "                           uniref100: String,\n",
    "                           uniref90: String,\n",
    "                           uniref50: String,\n",
    "                           uniparc: String,\n",
    "                           pir: String,\n",
    "                           taxon: String,\n",
    "                           mim: String,\n",
    "                           unigene: String,\n",
    "                           pubmed: String,\n",
    "                           embl: String,\n",
    "                           embl_cds: String,\n",
    "                           ensembl: String,\n",
    "                           ensembl_trs: String,\n",
    "                           ensembl_pro: String,\n",
    "                           additional_pubmed: String)"
   ]
  },
  {
   "cell_type": "code",
   "execution_count": 20,
   "metadata": {},
   "outputs": [
    {
     "data": {
      "text/plain": [
       "[UniprotMapping(Q6GZX4,001R_FRG3G,2947773,YP_031579.1,81941549; 49237298,null,GO:0006355; GO:0046782; GO:0006351,UniRef100_Q6GZX4,UniRef90_Q6GZX4,UniRef50_Q6GZX4,UPI00003B0FD4,null,654924,null,null,15165820,AY548484,AAT09660.1,null,null,null,null)]"
      ]
     },
     "execution_count": 20,
     "metadata": {},
     "output_type": "execute_result"
    }
   ],
   "source": [
    "idmapping.take(1)"
   ]
  },
  {
   "cell_type": "markdown",
   "metadata": {},
   "source": [
    "For Mitya\n",
    "=====\n",
    "\n",
    "Two cells below are for Mitya to get infromation about Uniref90 and Go. As"
   ]
  },
  {
   "cell_type": "code",
   "execution_count": 25,
   "metadata": {},
   "outputs": [
    {
     "data": {
      "text/plain": [
       "go = GO:0006355\n",
       "frame = [uniprot_ac: string, uniprot_id: string ... 20 more fields]\n"
      ]
     },
     "metadata": {},
     "output_type": "display_data"
    },
    {
     "data": {
      "text/plain": [
       "[uniprot_ac: string, uniprot_id: string ... 20 more fields]"
      ]
     },
     "execution_count": 25,
     "metadata": {},
     "output_type": "execute_result"
    }
   ],
   "source": [
    "val go = \"GO:0006355\" //put your GO term inside quotes\n",
    "val frame = idmapping.filter(u=>u.go.contains(go)).toDF()"
   ]
  },
  {
   "cell_type": "code",
   "execution_count": 27,
   "metadata": {},
   "outputs": [
    {
     "data": {
      "text/plain": [
       "--output  The type of the output: ...\n"
      ]
     },
     "metadata": {},
     "output_type": "display_data"
    },
    {
     "data": {
      "text/plain": [
       "ERROR: Task not serializable\n",
       "%%dataframe [arguments]\n",
       "DATAFRAME_CODE\n",
       "\n",
       "DATAFRAME_CODE can be any numbered lines of code, as long as the\n",
       "last line is a reference to a variable which is a DataFrame.\n",
       "    Option    Description                       \n",
       "------    -----------                       \n",
       "--limit   The number of records to return   \n",
       "          (default: 10)                     \n",
       "--output  The type of the output: html, csv,\n",
       "          json (default: html)              \n",
       "Option    Description                       \n",
       "------    -----------                       \n",
       "--limit   The number of records to return   \n",
       "          (default: 10)                     \n",
       "--output  The type of the output: html, csv,\n",
       "          json (default: html)              \n",
       "Option    Description                       \n",
       "------    -----------                       \n",
       "--limit   The number of records to return   \n",
       "          (default: 10)                     \n",
       "--output  The type of the output: html, csv,\n",
       "          json (default: html)              \n",
       "Option    Description                       \n",
       "------    -----------                       \n",
       "--limit   The number of records to return   \n",
       "          (default: 10)                     \n",
       "--output  The type of the output: html, csv,\n",
       "          json (default: html)              \n",
       "Option    Description                       \n",
       "------    -----------                       \n",
       "--limit   The number of records to return   \n",
       "            (default: 10)                   \n",
       "--output  The type of the output: html, csv,\n",
       "            json (default: html)            \n"
      ]
     },
     "execution_count": 27,
     "metadata": {},
     "output_type": "execute_result"
    }
   ],
   "source": [
    "%%dataframe frame"
   ]
  },
  {
   "cell_type": "code",
   "execution_count": null,
   "metadata": {},
   "outputs": [],
   "source": []
  }
 ],
 "metadata": {
  "kernelspec": {
   "display_name": "Apache Toree - Scala",
   "language": "scala",
   "name": "apache_toree_scala"
  },
  "language_info": {
   "codemirror_mode": "text/x-scala",
   "file_extension": ".scala",
   "mimetype": "text/x-scala",
   "name": "scala",
   "pygments_lexer": "scala",
   "version": "2.11.8"
  }
 },
 "nbformat": 4,
 "nbformat_minor": 2
}
