{
  "metadata" : {
    "id" : "033761cd-092b-4642-82cf-470a3321efb9",
    "name" : "rdf",
    "user_save_timestamp" : "1970-01-01T00:00:00.000Z",
    "auto_save_timestamp" : "1970-01-01T00:00:00.000Z",
    "language_info" : {
      "name" : "scala",
      "file_extension" : "scala",
      "codemirror_mode" : "text/x-scala"
    },
    "trusted" : true,
    "sparkNotebook" : null,
    "customLocalRepo" : "/root/.coursier/cache/v1/",
    "customRepos" : [
      "comp-bio-aging % default % https://dl.bintray.com/comp-bio-aging/main/",
      "denigma % default % https://dl.bintray.com/denigma/denigma-releases/",
      "releases % default % https://oss.sonatype.org/content/repositories/releases",
      "snapshots % default % https://oss.sonatype.org/content/repositories/snapshots/",
      "AKSW % default % http://maven.aksw.org/repository/snapshots"
    ],
    "customDeps" : [
      "org.apache.hadoop % hadoop-azure % 2.7.5",
      "net.sansa-stack %% sansa-query-spark % 0.3.1-SNAPSHOT",
      "net.sansa-stack %% sansa-rdf-spark % 0.3.1-SNAPSHOT",
      "net.sansa-stack %% sansa-owl-spark % 0.3.1-SNAPSHOT"
    ],
    "customImports" : null,
    "customArgs" : null,
    "customSparkConf" : {
      "spark.master" : "spark://spark-master:7077",
      "spark.executor.memory" : "14G",
      "spark.scheduler.mode" : "FAIR",
      "spark.executor.cores" : "4"
    },
    "customVars" : null
  },
  "cells" : [
    {
      "metadata" : {
        "trusted" : true,
        "input_collapsed" : false,
        "collapsed" : false,
        "id" : "B6B8337AB77449A5B579FCD0386EFCC3"
      },
      "cell_type" : "code",
      "source" : [
        "import org.apache.spark.sql.{DataFrame, Encoders, SparkSession}\n",
        "import org.apache.spark.sql.types.StructType\n",
        "import org.apache.spark.storage.StorageLevel\n"
      ],
      "outputs" : [
        {
          "name" : "stdout",
          "output_type" : "stream",
          "text" : "import org.apache.spark.sql.{DataFrame, Encoders, SparkSession}\nimport org.apache.spark.sql.types.StructType\nimport org.apache.spark.storage.StorageLevel\n"
        },
        {
          "metadata" : { },
          "data" : {
            "text/html" : ""
          },
          "output_type" : "execute_result",
          "execution_count" : 2,
          "time" : "Took: 0.950s, at 2018-05-07 13:52"
        }
      ]
    },
    {
      "metadata" : {
        "trusted" : true,
        "input_collapsed" : false,
        "collapsed" : false,
        "id" : "F4A48485CCBE4621896BC0AC45D11D85"
      },
      "cell_type" : "code",
      "source" : [
        "def sparkHadoopConf(sc: SparkContext, acountName: String, accountKey: String) = {\n",
        "  sc.hadoopConfiguration.set(\"fs.azure\", \"org.apache.hadoop.fs.azure.NativeAzureFileSystem\")\n",
        "  sc.hadoopConfiguration.set(\"fs.azure.account.key.\" + acountName + \".blob.core.windows.net\", accountKey)\n",
        "  sc\n",
        "}"
      ],
      "outputs" : [
        {
          "name" : "stdout",
          "output_type" : "stream",
          "text" : "sparkHadoopConf: (sc: org.apache.spark.SparkContext, acountName: String, accountKey: String)org.apache.spark.SparkContext\n"
        },
        {
          "metadata" : { },
          "data" : {
            "text/html" : ""
          },
          "output_type" : "execute_result",
          "execution_count" : 3,
          "time" : "Took: 0.873s, at 2018-05-07 13:52"
        }
      ]
    },
    {
      "metadata" : {
        "trusted" : true,
        "input_collapsed" : false,
        "collapsed" : false,
        "id" : "D25952ED9B1648CF8E2F2B8F2F28E871"
      },
      "cell_type" : "code",
      "source" : [
        "def azurize(container: String, accountName: String, blobFile: String): String = \"wasbs://\"+container+\"@\"+accountName+\".blob.core.windows.net/\"+blobFile \n",
        "\n",
        "def writeText2Azure[T]( rdd: RDD[T], container: String, accountName: String, blobFile: String ): String =\n",
        "{\n",
        "  val url = azurize(container, accountName, blobFile)\n",
        "  rdd.saveAsTextFile(url)\n",
        "  url\n",
        "}\n",
        "\n",
        "def writeTsv2Azure( df: DataFrame, container: String, accountName: String, blobFile: String ): String =\n",
        "{\n",
        "  val url = azurize(container, accountName, blobFile)\n",
        "  df.write.option(\"sep\",\"\\t\").option(\"header\",\"true\").csv(url)\n",
        "  url\n",
        "}"
      ],
      "outputs" : [
        {
          "name" : "stdout",
          "output_type" : "stream",
          "text" : "azurize: (container: String, accountName: String, blobFile: String)String\nwriteText2Azure: [T](rdd: org.apache.spark.rdd.RDD[T], container: String, accountName: String, blobFile: String)String\nwriteTsv2Azure: (df: org.apache.spark.sql.DataFrame, container: String, accountName: String, blobFile: String)String\n"
        },
        {
          "metadata" : { },
          "data" : {
            "text/html" : ""
          },
          "output_type" : "execute_result",
          "execution_count" : 4,
          "time" : "Took: 0.864s, at 2018-05-07 13:52"
        }
      ]
    },
    {
      "metadata" : {
        "trusted" : true,
        "input_collapsed" : false,
        "collapsed" : false,
        "id" : "BC5D87AC1D134415967DB28E442EC3CB"
      },
      "cell_type" : "code",
      "source" : [
        "val connString = \"DefaultEndpointsProtocol=https;AccountName=pipelines1;AccountKey=;EndpointSuffix=core.windows.net\"\n",
        "val account = \"pipelines1\"\n",
        "val key = \"\"\n",
        "def az(path: String): String = azurize(\"storage\", account, path)"
      ],
      "outputs" : [
        {
          "name" : "stdout",
          "output_type" : "stream",
          "text" : "connString: String = DefaultEndpointsProtocol=https;AccountName=pipelines1;AccountKey=;EndpointSuffix=core.windows.net\naccount: String = pipelines1\nkey: String = \naz: (path: String)String\n"
        },
        {
          "metadata" : { },
          "data" : {
            "text/html" : ""
          },
          "output_type" : "execute_result",
          "execution_count" : 5,
          "time" : "Took: 0.752s, at 2018-05-07 13:52"
        }
      ]
    },
    {
      "metadata" : {
        "trusted" : true,
        "input_collapsed" : false,
        "collapsed" : false,
        "id" : "01C6AE34B4C441BE921BB7DDE4ED6123"
      },
      "cell_type" : "code",
      "source" : [
        "sparkHadoopConf(sparkContext, account, key)\n",
        "  \n",
        "val spark = SparkSession\n",
        "  .builder()\n",
        "  .appName(\"mapping_models\")\n",
        "  .getOrCreate()"
      ],
      "outputs" : [
        {
          "name" : "stdout",
          "output_type" : "stream",
          "text" : "spark: org.apache.spark.sql.SparkSession = org.apache.spark.sql.SparkSession@40299261\n"
        },
        {
          "metadata" : { },
          "data" : {
            "text/html" : ""
          },
          "output_type" : "execute_result",
          "execution_count" : 4,
          "time" : "Took: 1.029s, at 2018-05-08 10:53"
        }
      ]
    },
    {
      "metadata" : {
        "trusted" : true,
        "input_collapsed" : false,
        "collapsed" : false,
        "id" : "848BDE08506C4F9492404C3C2E5A43F1"
      },
      "cell_type" : "code",
      "source" : [
        "import org.apache.spark.sql.functions._\n",
        "import spark.implicits._\n",
        "\n",
        "val toDouble = udf[Double, String]( _.toDouble)"
      ],
      "outputs" : [
        {
          "name" : "stdout",
          "output_type" : "stream",
          "text" : "import org.apache.spark.sql.functions._\nimport spark.implicits._\ntoDouble: org.apache.spark.sql.expressions.UserDefinedFunction = UserDefinedFunction(<function1>,DoubleType,Some(List(StringType)))\n"
        },
        {
          "metadata" : { },
          "data" : {
            "text/html" : ""
          },
          "output_type" : "execute_result",
          "execution_count" : 7,
          "time" : "Took: 2.102s, at 2018-05-07 13:52"
        }
      ]
    },
    {
      "metadata" : {
        "trusted" : true,
        "input_collapsed" : false,
        "collapsed" : false,
        "id" : "D458C1B7B48147589662FE2FAB69738F"
      },
      "cell_type" : "code",
      "source" : [
        "val base = \"/batch/quant\""
      ],
      "outputs" : [
        {
          "name" : "stdout",
          "output_type" : "stream",
          "text" : "base: String = /batch/quant\n"
        },
        {
          "metadata" : { },
          "data" : {
            "text/html" : ""
          },
          "output_type" : "execute_result",
          "execution_count" : 8,
          "time" : "Took: 0.807s, at 2018-05-07 13:52"
        }
      ]
    },
    {
      "metadata" : {
        "trusted" : true,
        "input_collapsed" : false,
        "collapsed" : false,
        "id" : "D61FC16065E5470495C867CEF4AC341A"
      },
      "cell_type" : "code",
      "source" : [
        "import net.sansa_stack.rdf.spark.io._\n",
        "import org.apache.jena.riot.Lang\n",
        "\n",
        "val input = az(\"/go/go.owl\")\n",
        "\n",
        "val lang = Lang.RDFXML\n",
        "val triples = spark.rdf(lang)(input)"
      ],
      "outputs" : [
        {
          "name" : "stdout",
          "output_type" : "stream",
          "text" : "http://purl.obolibrary.org/obo/go.owl @rdf:type owl:Ontology\nhttp://purl.obolibrary.org/obo/go.owl @owl:versionIRI http://purl.obolibrary.org/obo/go/releases/2018-04-30/go.owl\nhttp://purl.obolibrary.org/obo/go.owl @dc:license http://creativecommons.org/licenses/by/4.0/\nhttp://purl.obolibrary.org/obo/go.owl @http://www.geneontology.org/formats/oboInOwl#default-namespace \"gene_ontology\"\nhttp://purl.obolibrary.org/obo/go.owl @http://www.geneontology.org/formats/oboInOwl#hasOBOFormatVersion \"1.2\"\nimport net.sansa_stack.rdf.spark.io._\nimport org.apache.jena.riot.Lang\ninput: String = wasbs://storage@pipelines1.blob.core.windows.net//go/go.owl\nlang: org.apache.jena.riot.Lang = Lang:RDF/XML\ntriples: org.apache.spark.rdd.RDD[org.apache.jena.graph.Triple] = MapPartitionsRDD[3] at map at package.scala:204\n"
        },
        {
          "metadata" : { },
          "data" : {
            "text/html" : ""
          },
          "output_type" : "execute_result",
          "execution_count" : 4,
          "time" : "Took: 9.046s, at 2018-05-07 19:08"
        }
      ]
    },
    {
      "metadata" : {
        "trusted" : true,
        "input_collapsed" : false,
        "collapsed" : false,
        "id" : "1AD8C3795EAC4BA6807F7FA9D3ACD567"
      },
      "cell_type" : "code",
      "source" : [
        "import net.sansa_stack.rdf.spark.model._\n",
        "import net.sansa_stack.query.spark.query\n",
        "\n",
        "import org.apache.jena.graph.NodeFactory\n",
        "def toGO(id: String) = NodeFactory.createURI(id.replace(\"GO:\",\"http://purl.obolibrary.org/obo/GO_\"))"
      ],
      "outputs" : [
        {
          "name" : "stdout",
          "output_type" : "stream",
          "text" : "import net.sansa_stack.rdf.spark.model._\nimport net.sansa_stack.query.spark.query\nimport org.apache.jena.graph.NodeFactory\ntoGO: (id: String)org.apache.jena.graph.Node\nf: org.apache.spark.rdd.RDD[org.apache.jena.graph.Triple] = MapPartitionsRDD[55] at filter at TripleOps.scala:127\n"
        },
        {
          "metadata" : { },
          "data" : {
            "text/html" : ""
          },
          "output_type" : "execute_result",
          "execution_count" : 19,
          "time" : "Took: 1.028s, at 2018-05-07 20:32"
        }
      ]
    },
    {
      "metadata" : {
        "trusted" : true,
        "input_collapsed" : false,
        "collapsed" : false,
        "id" : "3A20D9B5AFAB4B3095BD04CD60D8412C"
      },
      "cell_type" : "code",
      "source" : [
        "import net.sansa_stack.rdf.spark.model.graph._\n",
        "val g = GraphOps.constructStringGraph(triples).cache\n",
        "g"
      ],
      "outputs" : [
        {
          "name" : "stdout",
          "output_type" : "stream",
          "text" : "import net.sansa_stack.rdf.spark.model.graph._\ng: org.apache.spark.graphx.Graph[String,String] = org.apache.spark.graphx.impl.GraphImpl@6d6ed8e6\nres73: org.apache.spark.graphx.Graph[String,String] = org.apache.spark.graphx.impl.GraphImpl@6d6ed8e6\n"
        },
        {
          "metadata" : { },
          "data" : {
            "text/html" : "org.apache.spark.graphx.impl.GraphImpl@6d6ed8e6"
          },
          "output_type" : "execute_result",
          "execution_count" : 15,
          "time" : "Took: 1.293s, at 2018-05-08 12:27"
        }
      ]
    },
    {
      "metadata" : {
        "trusted" : true,
        "input_collapsed" : false,
        "collapsed" : false,
        "id" : "18A908E4B60047D396F684513720FEF1"
      },
      "cell_type" : "code",
      "source" : [
        "import org.apache.jena.graph.NodeFactory\n",
        "def uri(str: String) = NodeFactory.createURI(str)\n",
        "def toGO(id: String) = uri(id.replace(\"GO:\",\"http://purl.obolibrary.org/obo/go#\"))\n",
        "val alternative = uri(\"http://www.geneontology.org/formats/oboInOwl#hasAlternativeId\")\n",
        "val namespace =  uri(\"http://www.geneontology.org/formats/oboInOwl#hasOBONamespace\")\n"
      ],
      "outputs" : [
        {
          "name" : "stdout",
          "output_type" : "stream",
          "text" : "import org.apache.jena.graph.NodeFactory\nuri: (str: String)org.apache.jena.graph.Node\ntoGO: (id: String)org.apache.jena.graph.Node\nalternative: org.apache.jena.graph.Node = http://www.geneontology.org/formats/oboInOwl#hasAlternativeId\nnamespace: org.apache.jena.graph.Node = http://www.geneontology.org/formats/oboInOwl#hasOBONamespace\n"
        },
        {
          "metadata" : { },
          "data" : {
            "text/html" : ""
          },
          "output_type" : "execute_result",
          "execution_count" : 23,
          "time" : "Took: 1.030s, at 2018-05-07 21:57"
        }
      ]
    },
    {
      "metadata" : {
        "trusted" : true,
        "input_collapsed" : false,
        "collapsed" : false,
        "id" : "D6B9C9AAE4D44FC7BC244CFEF005BA6A"
      },
      "cell_type" : "code",
      "source" : [
        "val namespaces = triples.find(None, Some(namespace), None).cache()\n",
        "val alternatives = triples.find(None, Some(alternative), None).cache()"
      ],
      "outputs" : [
        {
          "name" : "stdout",
          "output_type" : "stream",
          "text" : "namespaces: org.apache.spark.rdd.RDD[org.apache.jena.graph.Triple] = MapPartitionsRDD[58] at filter at TripleOps.scala:127\nalternatives: org.apache.spark.rdd.RDD[org.apache.jena.graph.Triple] = MapPartitionsRDD[59] at filter at TripleOps.scala:127\n"
        },
        {
          "metadata" : { },
          "data" : {
            "text/html" : ""
          },
          "output_type" : "execute_result",
          "execution_count" : 1,
          "time" : "Took: 1.281s, at 2018-05-08 10:39"
        }
      ]
    },
    {
      "metadata" : {
        "trusted" : true,
        "input_collapsed" : false,
        "collapsed" : false,
        "id" : "7B87C06E258849AC9903367202F5AD2B"
      },
      "cell_type" : "code",
      "source" : [
        "def readTSV(path: String, header: Boolean = false, sep: String = \"\\t\"): DataFrame = spark.read\n",
        "  .option(\"sep\", sep)\n",
        "  .option(\"header\", header)\n",
        "  .csv(path)"
      ],
      "outputs" : [
        {
          "name" : "stdout",
          "output_type" : "stream",
          "text" : "readTSV: (path: String, header: Boolean, sep: String)org.apache.spark.sql.DataFrame\n"
        },
        {
          "metadata" : { },
          "data" : {
            "text/html" : ""
          },
          "output_type" : "execute_result",
          "execution_count" : 7,
          "time" : "Took: 1.018s, at 2018-05-08 11:13"
        }
      ]
    },
    {
      "metadata" : {
        "trusted" : true,
        "input_collapsed" : false,
        "collapsed" : false,
        "id" : "358221FF669048F896D334A8C4C7821B"
      },
      "cell_type" : "code",
      "source" : [
        "val comparison = readTSV(az(\"expressions/go/gray_whale_with_bowhead_with_minke_with_NMR_with_human_with_mouse_with_cow_full_outer_counts.tsv\"), true)\n",
        "comparison"
      ],
      "outputs" : [
        {
          "name" : "stdout",
          "output_type" : "stream",
          "text" : "comparison: org.apache.spark.sql.DataFrame = [go: string, label: string ... 26 more fields]\nres60: org.apache.spark.sql.DataFrame = [go: string, label: string ... 26 more fields]\n"
        },
        {
          "metadata" : { },
          "data" : {
            "text/html" : "<div class=\"df-canvas\">\n      <script data-this=\"{&quot;dataId&quot;:&quot;anon179af5faa07cc4e77351fbc7db9064b7&quot;,&quot;partitionIndexId&quot;:&quot;anon9c3b50cbd67a34ed4af7ff0ccf1f1edd&quot;,&quot;numPartitions&quot;:744,&quot;dfSchema&quot;:{&quot;type&quot;:&quot;struct&quot;,&quot;fields&quot;:[{&quot;name&quot;:&quot;go&quot;,&quot;type&quot;:&quot;string&quot;,&quot;nullable&quot;:true,&quot;metadata&quot;:{}},{&quot;name&quot;:&quot;label&quot;,&quot;type&quot;:&quot;string&quot;,&quot;nullable&quot;:true,&quot;metadata&quot;:{}},{&quot;name&quot;:&quot;gray_whale_average&quot;,&quot;type&quot;:&quot;string&quot;,&quot;nullable&quot;:true,&quot;metadata&quot;:{}},{&quot;name&quot;:&quot;uniref90_count&quot;,&quot;type&quot;:&quot;string&quot;,&quot;nullable&quot;:true,&quot;metadata&quot;:{}},{&quot;name&quot;:&quot;taxons_count&quot;,&quot;type&quot;:&quot;string&quot;,&quot;nullable&quot;:true,&quot;metadata&quot;:{}},{&quot;name&quot;:&quot;transcripts_count&quot;,&quot;type&quot;:&quot;string&quot;,&quot;nullable&quot;:true,&quot;metadata&quot;:{}},{&quot;name&quot;:&quot;human_transcripts_count&quot;,&quot;type&quot;:&quot;string&quot;,&quot;nullable&quot;:true,&quot;metadata&quot;:{}},{&quot;name&quot;:&quot;mouse_transcripts_count&quot;,&quot;type&quot;:&quot;string&quot;,&quot;nullable&quot;:true,&quot;metadata&quot;:{}},{&quot;name&quot;:&quot;cow_transcripts_count&quot;,&quot;type&quot;:&quot;string&quot;,&quot;nullable&quot;:true,&quot;metadata&quot;:{}},{&quot;name&quot;:&quot;type&quot;,&quot;type&quot;:&quot;string&quot;,&quot;nullable&quot;:true,&quot;metadata&quot;:{}},{&quot;name&quot;:&quot;gray_whale_liver&quot;,&quot;type&quot;:&quot;string&quot;,&quot;nullable&quot;:true,&quot;metadata&quot;:{}},{&quot;name&quot;:&quot;bowhead_whale_liver&quot;,&quot;type&quot;:&quot;string&quot;,&quot;nullable&quot;:true,&quot;metadata&quot;:{}},{&quot;name&quot;:&quot;minke_liver&quot;,&quot;type&quot;:&quot;string&quot;,&quot;nullable&quot;:true,&quot;metadata&quot;:{}},{&quot;name&quot;:&quot;NMR_liver&quot;,&quot;type&quot;:&quot;string&quot;,&quot;nullable&quot;:true,&quot;metadata&quot;:{}},{&quot;name&quot;:&quot;human_liver&quot;,&quot;type&quot;:&quot;string&quot;,&quot;nullable&quot;:true,&quot;metadata&quot;:{}},{&quot;name&quot;:&quot;mouse_totalRNA_liver&quot;,&quot;type&quot;:&quot;string&quot;,&quot;nullable&quot;:true,&quot;metadata&quot;:{}},{&quot;name&quot;:&quot;mouse_mRNA_liver&quot;,&quot;type&quot;:&quot;string&quot;,&quot;nullable&quot;:true,&quot;metadata&quot;:{}},{&quot;name&quot;:&quot;cow_totalRNA_liver&quot;,&quot;type&quot;:&quot;string&quot;,&quot;nullable&quot;:true,&quot;metadata&quot;:{}},{&quot;name&quot;:&quot;cow_mRNA_liver&quot;,&quot;type&quot;:&quot;string&quot;,&quot;nullable&quot;:true,&quot;metadata&quot;:{}},{&quot;name&quot;:&quot;gray_whale_kidney&quot;,&quot;type&quot;:&quot;string&quot;,&quot;nullable&quot;:true,&quot;metadata&quot;:{}},{&quot;name&quot;:&quot;bowhead_whale_kidney&quot;,&quot;type&quot;:&quot;string&quot;,&quot;nullable&quot;:true,&quot;metadata&quot;:{}},{&quot;name&quot;:&quot;minke_kidney&quot;,&quot;type&quot;:&quot;string&quot;,&quot;nullable&quot;:true,&quot;metadata&quot;:{}},{&quot;name&quot;:&quot;NMR_kidney&quot;,&quot;type&quot;:&quot;string&quot;,&quot;nullable&quot;:true,&quot;metadata&quot;:{}},{&quot;name&quot;:&quot;human_kidney&quot;,&quot;type&quot;:&quot;string&quot;,&quot;nullable&quot;:true,&quot;metadata&quot;:{}},{&quot;name&quot;:&quot;mouse_totalRNA_kidney&quot;,&quot;type&quot;:&quot;string&quot;,&quot;nullable&quot;:true,&quot;metadata&quot;:{}},{&quot;name&quot;:&quot;mouse_mRNA_kidney&quot;,&quot;type&quot;:&quot;string&quot;,&quot;nullable&quot;:true,&quot;metadata&quot;:{}},{&quot;name&quot;:&quot;cow_totalRNA_kidney&quot;,&quot;type&quot;:&quot;string&quot;,&quot;nullable&quot;:true,&quot;metadata&quot;:{}},{&quot;name&quot;:&quot;cow_mRNA_kidney&quot;,&quot;type&quot;:&quot;string&quot;,&quot;nullable&quot;:true,&quot;metadata&quot;:{}}]}}\" type=\"text/x-scoped-javascript\">/*<![CDATA[*/req(['../javascripts/notebook/dataframe','../javascripts/notebook/consoleDir'], \n      function(dataframe, extension) {\n        dataframe.call(data, this, extension);\n      }\n    );/*]]>*/</script>\n      <link rel=\"stylesheet\" href=\"/assets/stylesheets/ipython/css/dataframe.css\" type=\"text/css\"/>\n    </div>"
          },
          "output_type" : "execute_result",
          "execution_count" : 8,
          "time" : "Took: 6.255s, at 2018-05-08 11:13"
        }
      ]
    },
    {
      "metadata" : {
        "trusted" : true,
        "input_collapsed" : false,
        "collapsed" : false,
        "id" : "CE70020CEBC748BE8CD99580B5B7A29F"
      },
      "cell_type" : "code",
      "source" : [
        "import net.sansa_stack.rdf.spark.utils.NodeUtils\n",
        "val trips = triples.map{\n",
        "  t=>(NodeUtils.getNodeValue(t.getSubject) , NodeUtils.getNodeValue(t.getPredicate), NodeUtils.getNodeValue(t.getObject))\n",
        "}.cache()\n",
        "trips.count"
      ],
      "outputs" : [
        {
          "name" : "stdout",
          "output_type" : "stream",
          "text" : "import net.sansa_stack.rdf.spark.utils.NodeUtils\ntrips: org.apache.spark.rdd.RDD[(String, String, String)] = MapPartitionsRDD[111] at map at <console>:123\nres89: Long = 1582297\n"
        },
        {
          "metadata" : { },
          "data" : {
            "text/html" : "1582297"
          },
          "output_type" : "execute_result",
          "execution_count" : 23,
          "time" : "Took: 1m13.589s, at 2018-05-08 12:51"
        }
      ]
    },
    {
      "metadata" : {
        "trusted" : true,
        "input_collapsed" : false,
        "collapsed" : false,
        "id" : "5620052FB2B84D3D854E21598E99633C"
      },
      "cell_type" : "code",
      "source" : [
        "val goTerms = trips.filter(_._1.contains(\"GO_\")).map{ case (s, p ,b) => s -> (p, b)}.cache()\n",
        "goTerms.count"
      ],
      "outputs" : [
        {
          "name" : "stdout",
          "output_type" : "stream",
          "text" : "goTerms: org.apache.spark.rdd.RDD[(String, (String, String))] = MapPartitionsRDD[115] at map at <console>:134\nres95: Long = 586480\n"
        },
        {
          "metadata" : { },
          "data" : {
            "text/html" : "586480"
          },
          "output_type" : "execute_result",
          "execution_count" : 26,
          "time" : "Took: 2.236s, at 2018-05-08 12:58"
        }
      ]
    },
    {
      "metadata" : {
        "trusted" : true,
        "input_collapsed" : false,
        "collapsed" : false,
        "id" : "38E2047D0F9143B3B2C95A02ADC65BDD"
      },
      "cell_type" : "code",
      "source" : [
        "val alts = goTerms\n",
        "  .filter{ case (_, (p, _)) => p == \"http://www.geneontology.org/formats/oboInOwl#hasAlternativeId\"}\n",
        "    .mapValues{ case (p, o) => o}.reduceByKey{ case (a, b) => a + \"; \" + b}.cache()\n",
        "\n",
        "val nms = goTerms\n",
        "  .filter{ case (_, (p, _)) => p == \"http://www.geneontology.org/formats/oboInOwl#hasOBONamespace\"}\n",
        "  .mapValues{ case (p, o) => o}.reduceByKey{ case (a, b) => a + \"; \" + b}.cache()\n",
        "\n",
        "(alts.count, nms.count)"
      ],
      "outputs" : [
        {
          "name" : "stdout",
          "output_type" : "stream",
          "text" : "alts: org.apache.spark.rdd.RDD[(String, String)] = ShuffledRDD[118] at reduceByKey at <console>:136\nnms: org.apache.spark.rdd.RDD[(String, String)] = ShuffledRDD[121] at reduceByKey at <console>:140\nres97: (Long, Long) = (1706,47167)\n"
        },
        {
          "metadata" : { },
          "data" : {
            "text/html" : "(1706,47167)"
          },
          "output_type" : "execute_result",
          "execution_count" : 27,
          "time" : "Took: 2.173s, at 2018-05-08 13:31"
        }
      ]
    },
    {
      "metadata" : {
        "trusted" : true,
        "input_collapsed" : false,
        "collapsed" : false,
        "id" : "492F078710F649F5B374CC555A8B2E61"
      },
      "cell_type" : "code",
      "source" : [
        "comparison"
      ],
      "outputs" : [
        {
          "name" : "stdout",
          "output_type" : "stream",
          "text" : "res173: org.apache.spark.sql.DataFrame = [go: string, label: string ... 26 more fields]\n"
        },
        {
          "metadata" : { },
          "data" : {
            "text/html" : "<div class=\"df-canvas\">\n      <script data-this=\"{&quot;dataId&quot;:&quot;anona8e41983b85b37513bc829f704d67dde&quot;,&quot;partitionIndexId&quot;:&quot;anon3812734a24602eedc9a0145df5f02264&quot;,&quot;numPartitions&quot;:744,&quot;dfSchema&quot;:{&quot;type&quot;:&quot;struct&quot;,&quot;fields&quot;:[{&quot;name&quot;:&quot;go&quot;,&quot;type&quot;:&quot;string&quot;,&quot;nullable&quot;:true,&quot;metadata&quot;:{}},{&quot;name&quot;:&quot;label&quot;,&quot;type&quot;:&quot;string&quot;,&quot;nullable&quot;:true,&quot;metadata&quot;:{}},{&quot;name&quot;:&quot;gray_whale_average&quot;,&quot;type&quot;:&quot;string&quot;,&quot;nullable&quot;:true,&quot;metadata&quot;:{}},{&quot;name&quot;:&quot;uniref90_count&quot;,&quot;type&quot;:&quot;string&quot;,&quot;nullable&quot;:true,&quot;metadata&quot;:{}},{&quot;name&quot;:&quot;taxons_count&quot;,&quot;type&quot;:&quot;string&quot;,&quot;nullable&quot;:true,&quot;metadata&quot;:{}},{&quot;name&quot;:&quot;transcripts_count&quot;,&quot;type&quot;:&quot;string&quot;,&quot;nullable&quot;:true,&quot;metadata&quot;:{}},{&quot;name&quot;:&quot;human_transcripts_count&quot;,&quot;type&quot;:&quot;string&quot;,&quot;nullable&quot;:true,&quot;metadata&quot;:{}},{&quot;name&quot;:&quot;mouse_transcripts_count&quot;,&quot;type&quot;:&quot;string&quot;,&quot;nullable&quot;:true,&quot;metadata&quot;:{}},{&quot;name&quot;:&quot;cow_transcripts_count&quot;,&quot;type&quot;:&quot;string&quot;,&quot;nullable&quot;:true,&quot;metadata&quot;:{}},{&quot;name&quot;:&quot;type&quot;,&quot;type&quot;:&quot;string&quot;,&quot;nullable&quot;:true,&quot;metadata&quot;:{}},{&quot;name&quot;:&quot;gray_whale_liver&quot;,&quot;type&quot;:&quot;string&quot;,&quot;nullable&quot;:true,&quot;metadata&quot;:{}},{&quot;name&quot;:&quot;bowhead_whale_liver&quot;,&quot;type&quot;:&quot;string&quot;,&quot;nullable&quot;:true,&quot;metadata&quot;:{}},{&quot;name&quot;:&quot;minke_liver&quot;,&quot;type&quot;:&quot;string&quot;,&quot;nullable&quot;:true,&quot;metadata&quot;:{}},{&quot;name&quot;:&quot;NMR_liver&quot;,&quot;type&quot;:&quot;string&quot;,&quot;nullable&quot;:true,&quot;metadata&quot;:{}},{&quot;name&quot;:&quot;human_liver&quot;,&quot;type&quot;:&quot;string&quot;,&quot;nullable&quot;:true,&quot;metadata&quot;:{}},{&quot;name&quot;:&quot;mouse_totalRNA_liver&quot;,&quot;type&quot;:&quot;string&quot;,&quot;nullable&quot;:true,&quot;metadata&quot;:{}},{&quot;name&quot;:&quot;mouse_mRNA_liver&quot;,&quot;type&quot;:&quot;string&quot;,&quot;nullable&quot;:true,&quot;metadata&quot;:{}},{&quot;name&quot;:&quot;cow_totalRNA_liver&quot;,&quot;type&quot;:&quot;string&quot;,&quot;nullable&quot;:true,&quot;metadata&quot;:{}},{&quot;name&quot;:&quot;cow_mRNA_liver&quot;,&quot;type&quot;:&quot;string&quot;,&quot;nullable&quot;:true,&quot;metadata&quot;:{}},{&quot;name&quot;:&quot;gray_whale_kidney&quot;,&quot;type&quot;:&quot;string&quot;,&quot;nullable&quot;:true,&quot;metadata&quot;:{}},{&quot;name&quot;:&quot;bowhead_whale_kidney&quot;,&quot;type&quot;:&quot;string&quot;,&quot;nullable&quot;:true,&quot;metadata&quot;:{}},{&quot;name&quot;:&quot;minke_kidney&quot;,&quot;type&quot;:&quot;string&quot;,&quot;nullable&quot;:true,&quot;metadata&quot;:{}},{&quot;name&quot;:&quot;NMR_kidney&quot;,&quot;type&quot;:&quot;string&quot;,&quot;nullable&quot;:true,&quot;metadata&quot;:{}},{&quot;name&quot;:&quot;human_kidney&quot;,&quot;type&quot;:&quot;string&quot;,&quot;nullable&quot;:true,&quot;metadata&quot;:{}},{&quot;name&quot;:&quot;mouse_totalRNA_kidney&quot;,&quot;type&quot;:&quot;string&quot;,&quot;nullable&quot;:true,&quot;metadata&quot;:{}},{&quot;name&quot;:&quot;mouse_mRNA_kidney&quot;,&quot;type&quot;:&quot;string&quot;,&quot;nullable&quot;:true,&quot;metadata&quot;:{}},{&quot;name&quot;:&quot;cow_totalRNA_kidney&quot;,&quot;type&quot;:&quot;string&quot;,&quot;nullable&quot;:true,&quot;metadata&quot;:{}},{&quot;name&quot;:&quot;cow_mRNA_kidney&quot;,&quot;type&quot;:&quot;string&quot;,&quot;nullable&quot;:true,&quot;metadata&quot;:{}}]}}\" type=\"text/x-scoped-javascript\">/*<![CDATA[*/req(['../javascripts/notebook/dataframe','../javascripts/notebook/consoleDir'], \n      function(dataframe, extension) {\n        dataframe.call(data, this, extension);\n      }\n    );/*]]>*/</script>\n      <link rel=\"stylesheet\" href=\"/assets/stylesheets/ipython/css/dataframe.css\" type=\"text/css\"/>\n    </div>"
          },
          "output_type" : "execute_result",
          "execution_count" : 4,
          "time" : "Took: 2.760s, at 2018-05-08 16:06"
        }
      ]
    },
    {
      "metadata" : {
        "trusted" : true,
        "input_collapsed" : false,
        "collapsed" : false,
        "presentation" : {
          "tabs_state" : "{\n  \"tab_id\": \"#tab815669486-0\"\n}",
          "pivot_chart_state" : "{\n  \"hiddenAttributes\": [],\n  \"menuLimit\": 200,\n  \"cols\": [],\n  \"rows\": [],\n  \"vals\": [],\n  \"exclusions\": {},\n  \"inclusions\": {},\n  \"unusedAttrsVertical\": 85,\n  \"autoSortUnusedAttrs\": false,\n  \"inclusionsInfo\": {},\n  \"aggregatorName\": \"Count\",\n  \"rendererName\": \"Table\"\n}"
        },
        "id" : "B9B98151648349668A9B41085615091D"
      },
      "cell_type" : "code",
      "source" : [
        "def toGO(str: String) = str.replace(\"http://purl.obolibrary.org/obo/GO_\", \"GO:\")\n",
        "val ns = nms.map{ case (key, value) => toGO(key) -> value}.toDF(\"go\", \"namespace\")\n",
        "val newColumns = \"namespace\"::comparison.columns.toList.tail.map(s=> if(s==\"gray_whale_average\") \"gray_whale_avg\" else s)\n",
        "val table = comparison.join(ns, Seq(\"go\"), \"left_outer\")\n",
        "  .withColumn(\"gray_whale_avg\", toDouble($\"gray_whale_average\")).drop(\"gray_whale_average\")\n",
        "  .select(\"go\", newColumns:_*)\n",
        "  .sort($\"gray_whale_avg\".desc)\n",
        "table"
      ],
      "outputs" : [
        {
          "name" : "stdout",
          "output_type" : "stream",
          "text" : "toGO: (str: String)String\nns: org.apache.spark.sql.DataFrame = [go: string, namespace: string]\nnewColumns: List[String] = List(namespace, label, gray_whale_avg, uniref90_count, taxons_count, transcripts_count, human_transcripts_count, mouse_transcripts_count, cow_transcripts_count, type, gray_whale_liver, bowhead_whale_liver, minke_liver, NMR_liver, human_liver, mouse_totalRNA_liver, mouse_mRNA_liver, cow_totalRNA_liver, cow_mRNA_liver, gray_whale_kidney, bowhead_whale_kidney, minke_kidney, NMR_kidney, human_kidney, mouse_totalRNA_kidney, mouse_mRNA_kidney, cow_totalRNA_kidney, cow_mRNA_kidney)\ntable: org.apache.spark.sql.Dataset[org.apache.spark.sql.Row] = [go: string, namespace: string ... 27 more fields]\nres186: org.apache.spark.sql.Dataset[org.apache.spark.sql.Row] = [go: string, na..."
        },
        {
          "metadata" : { },
          "data" : {
            "text/html" : "<div class=\"df-canvas\">\n      <script data-this=\"{&quot;dataId&quot;:&quot;anon52cdb2fc049554690735165bbe6e34da&quot;,&quot;partitionIndexId&quot;:&quot;anon9aab9b553baf1001dd07e96ec483b26b&quot;,&quot;numPartitions&quot;:744,&quot;dfSchema&quot;:{&quot;type&quot;:&quot;struct&quot;,&quot;fields&quot;:[{&quot;name&quot;:&quot;go&quot;,&quot;type&quot;:&quot;string&quot;,&quot;nullable&quot;:true,&quot;metadata&quot;:{}},{&quot;name&quot;:&quot;namespace&quot;,&quot;type&quot;:&quot;string&quot;,&quot;nullable&quot;:true,&quot;metadata&quot;:{}},{&quot;name&quot;:&quot;label&quot;,&quot;type&quot;:&quot;string&quot;,&quot;nullable&quot;:true,&quot;metadata&quot;:{}},{&quot;name&quot;:&quot;gray_whale_avg&quot;,&quot;type&quot;:&quot;double&quot;,&quot;nullable&quot;:true,&quot;metadata&quot;:{}},{&quot;name&quot;:&quot;uniref90_count&quot;,&quot;type&quot;:&quot;string&quot;,&quot;nullable&quot;:true,&quot;metadata&quot;:{}},{&quot;name&quot;:&quot;taxons_count&quot;,&quot;type&quot;:&quot;string&quot;,&quot;nullable&quot;:true,&quot;metadata&quot;:{}},{&quot;name&quot;:&quot;transcripts_count&quot;,&quot;type&quot;:&quot;string&quot;,&quot;nullable&quot;:true,&quot;metadata&quot;:{}},{&quot;name&quot;:&quot;human_transcripts_count&quot;,&quot;type&quot;:&quot;string&quot;,&quot;nullable&quot;:true,&quot;metadata&quot;:{}},{&quot;name&quot;:&quot;mouse_transcripts_count&quot;,&quot;type&quot;:&quot;string&quot;,&quot;nullable&quot;:true,&quot;metadata&quot;:{}},{&quot;name&quot;:&quot;cow_transcripts_count&quot;,&quot;type&quot;:&quot;string&quot;,&quot;nullable&quot;:true,&quot;metadata&quot;:{}},{&quot;name&quot;:&quot;type&quot;,&quot;type&quot;:&quot;string&quot;,&quot;nullable&quot;:true,&quot;metadata&quot;:{}},{&quot;name&quot;:&quot;gray_whale_liver&quot;,&quot;type&quot;:&quot;string&quot;,&quot;nullable&quot;:true,&quot;metadata&quot;:{}},{&quot;name&quot;:&quot;bowhead_whale_liver&quot;,&quot;type&quot;:&quot;string&quot;,&quot;nullable&quot;:true,&quot;metadata&quot;:{}},{&quot;name&quot;:&quot;minke_liver&quot;,&quot;type&quot;:&quot;string&quot;,&quot;nullable&quot;:true,&quot;metadata&quot;:{}},{&quot;name&quot;:&quot;NMR_liver&quot;,&quot;type&quot;:&quot;string&quot;,&quot;nullable&quot;:true,&quot;metadata&quot;:{}},{&quot;name&quot;:&quot;human_liver&quot;,&quot;type&quot;:&quot;string&quot;,&quot;nullable&quot;:true,&quot;metadata&quot;:{}},{&quot;name&quot;:&quot;mouse_totalRNA_liver&quot;,&quot;type&quot;:&quot;string&quot;,&quot;nullable&quot;:true,&quot;metadata&quot;:{}},{&quot;name&quot;:&quot;mouse_mRNA_liver&quot;,&quot;type&quot;:&quot;string&quot;,&quot;nullable&quot;:true,&quot;metadata&quot;:{}},{&quot;name&quot;:&quot;cow_totalRNA_liver&quot;,&quot;type&quot;:&quot;string&quot;,&quot;nullable&quot;:true,&quot;metadata&quot;:{}},{&quot;name&quot;:&quot;cow_mRNA_liver&quot;,&quot;type&quot;:&quot;string&quot;,&quot;nullable&quot;:true,&quot;metadata&quot;:{}},{&quot;name&quot;:&quot;gray_whale_kidney&quot;,&quot;type&quot;:&quot;string&quot;,&quot;nullable&quot;:true,&quot;metadata&quot;:{}},{&quot;name&quot;:&quot;bowhead_whale_kidney&quot;,&quot;type&quot;:&quot;string&quot;,&quot;nullable&quot;:true,&quot;metadata&quot;:{}},{&quot;name&quot;:&quot;minke_kidney&quot;,&quot;type&quot;:&quot;string&quot;,&quot;nullable&quot;:true,&quot;metadata&quot;:{}},{&quot;name&quot;:&quot;NMR_kidney&quot;,&quot;type&quot;:&quot;string&quot;,&quot;nullable&quot;:true,&quot;metadata&quot;:{}},{&quot;name&quot;:&quot;human_kidney&quot;,&quot;type&quot;:&quot;string&quot;,&quot;nullable&quot;:true,&quot;metadata&quot;:{}},{&quot;name&quot;:&quot;mouse_totalRNA_kidney&quot;,&quot;type&quot;:&quot;string&quot;,&quot;nullable&quot;:true,&quot;metadata&quot;:{}},{&quot;name&quot;:&quot;mouse_mRNA_kidney&quot;,&quot;type&quot;:&quot;string&quot;,&quot;nullable&quot;:true,&quot;metadata&quot;:{}},{&quot;name&quot;:&quot;cow_totalRNA_kidney&quot;,&quot;type&quot;:&quot;string&quot;,&quot;nullable&quot;:true,&quot;metadata&quot;:{}},{&quot;name&quot;:&quot;cow_mRNA_kidney&quot;,&quot;type&quot;:&quot;string&quot;,&quot;nullable&quot;:true,&quot;metadata&quot;:{}}]}}\" type=\"text/x-scoped-javascript\">/*<![CDATA[*/req(['../javascripts/notebook/dataframe','../javascripts/notebook/consoleDir'], \n      function(dataframe, extension) {\n        dataframe.call(data, this, extension);\n      }\n    );/*]]>*/</script>\n      <link rel=\"stylesheet\" href=\"/assets/stylesheets/ipython/css/dataframe.css\" type=\"text/css\"/>\n    </div>"
          },
          "output_type" : "execute_result",
          "execution_count" : 12,
          "time" : "Took: 6.532s, at 2018-05-08 16:17"
        }
      ]
    },
    {
      "metadata" : {
        "trusted" : true,
        "input_collapsed" : false,
        "collapsed" : false,
        "id" : "CAF2C0A6FCC3498281AB8168CC1DD9FA"
      },
      "cell_type" : "code",
      "source" : [
        "(table.count, comparison.count)"
      ],
      "outputs" : [
        {
          "name" : "stdout",
          "output_type" : "stream",
          "text" : "res188: (Long, Long) = (18597,18597)\n"
        },
        {
          "metadata" : { },
          "data" : {
            "text/html" : "(18597,18597)"
          },
          "output_type" : "execute_result",
          "execution_count" : 13,
          "time" : "Took: 5.678s, at 2018-05-08 16:18"
        }
      ]
    },
    {
      "metadata" : {
        "trusted" : true,
        "input_collapsed" : false,
        "collapsed" : false,
        "id" : "646D591DCB7E4EC88A68EDD34B6A5AAB"
      },
      "cell_type" : "code",
      "source" : [
        "val where = \"file:///pipelines/gray_whale_with_bowhead_with_minke_with_NMR_with_human_with_mouse_with_cow_full_outer_counts_extended.tsv\""
      ],
      "outputs" : [
        {
          "name" : "stdout",
          "output_type" : "stream",
          "text" : "where: String = file:///pipelines/gray_whale_with_bowhead_with_minke_with_NMR_with_human_with_mouse_with_cow_full_outer_counts_extended.tsv\n"
        },
        {
          "metadata" : { },
          "data" : {
            "text/html" : ""
          },
          "output_type" : "execute_result",
          "execution_count" : 10,
          "time" : "Took: 1.025s, at 2018-05-08 16:10"
        }
      ]
    },
    {
      "metadata" : {
        "trusted" : true,
        "input_collapsed" : false,
        "collapsed" : false,
        "id" : "C77BCC103F5B495D8BFC873BBA0ED08B"
      },
      "cell_type" : "code",
      "source" : [
        "def writeTSV(dataFrame: DataFrame, path: String, header: Boolean = true, sep: String = \"\\t\"): Unit =\n",
        "  dataFrame.write.option(\"sep\", sep).option(\"header\",header).csv(path)\n"
      ],
      "outputs" : [
        {
          "name" : "stdout",
          "output_type" : "stream",
          "text" : "writeTSV: (dataFrame: org.apache.spark.sql.DataFrame, path: String, header: Boolean, sep: String)Unit\n"
        },
        {
          "metadata" : { },
          "data" : {
            "text/html" : ""
          },
          "output_type" : "execute_result",
          "execution_count" : 7,
          "time" : "Took: 1.111s, at 2018-05-08 16:09"
        }
      ]
    },
    {
      "metadata" : {
        "trusted" : true,
        "input_collapsed" : false,
        "collapsed" : false,
        "presentation" : {
          "tabs_state" : "{\n  \"tab_id\": \"#tab1982169348-0\"\n}",
          "pivot_chart_state" : "{\n  \"hiddenAttributes\": [],\n  \"menuLimit\": 200,\n  \"cols\": [],\n  \"rows\": [],\n  \"vals\": [],\n  \"exclusions\": {},\n  \"inclusions\": {},\n  \"unusedAttrsVertical\": 85,\n  \"autoSortUnusedAttrs\": false,\n  \"inclusionsInfo\": {},\n  \"aggregatorName\": \"Count\",\n  \"rendererName\": \"Table\"\n}"
        },
        "id" : "F89C71D9E5B84CE2868968B19AADBC49"
      },
      "cell_type" : "code",
      "source" : [
        "writeTSV(table.coalesce(1), where)"
      ],
      "outputs" : [
        {
          "metadata" : { },
          "data" : {
            "text/html" : ""
          },
          "output_type" : "execute_result",
          "execution_count" : 14,
          "time" : "Took: 5.394s, at 2018-05-08 16:18"
        }
      ]
    },
    {
      "metadata" : {
        "trusted" : true,
        "input_collapsed" : false,
        "collapsed" : true,
        "id" : "DC7CF3DBB63D40AD8772D5F3B3A63CC1"
      },
      "cell_type" : "code",
      "source" : [
        ""
      ],
      "outputs" : [ ]
    }
  ],
  "nbformat" : 4
}