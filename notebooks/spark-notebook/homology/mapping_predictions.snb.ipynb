{
  "metadata" : {
    "id" : "4e808aeb-f4d3-4ba8-a80a-0831052ff2c1",
    "name" : "mapping_predictions.snb.ipynb",
    "user_save_timestamp" : "2018-01-20T01:59:01.295Z",
    "auto_save_timestamp" : "1970-01-01T00:00:00.000Z",
    "language_info" : {
      "name" : "scala",
      "file_extension" : "scala",
      "codemirror_mode" : "text/x-scala"
    },
    "trusted" : true,
    "sparkNotebook" : null,
    "customLocalRepo" : "/root/.coursier/cache/v1",
    "customRepos" : [
      "comp-bio-aging % default % https://dl.bintray.com/comp-bio-aging/main/",
      "denigma % default % https://dl.bintray.com/denigma/denigma-releases/",
      "releases % default % https://oss.sonatype.org/content/repositories/releases",
      "snapshots % default % https://oss.sonatype.org/content/repositories/snapshots/"
    ],
    "customDeps" : [
      "org.bdgenomics.adam %% adam-core-spark2 % 0.23.0",
      "comp.bio.aging %% adam-playground % 0.0.9",
      "com.crealytics %% spark-excel % 0.9.9",
      "org.typelevel %% frameless-cats    % 0.5.0",
      "org.typelevel %% frameless-dataset   % 0.5.0",
      "com.github.pathikrit  %% better-files  % 3.4.0"
    ],
    "customImports" : null,
    "customArgs" : null,
    "customSparkConf" : {
      "spark.master" : "spark://spark-master:7077",
      "spark.executor.cores" : "8",
      "spark.executor.memory" : "15G",
      "spark.serializer" : "org.apache.spark.serializer.KryoSerializer",
      "spark.kryo.registrator" : "org.bdgenomics.adam.serialization.ADAMKryoRegistrator",
      "spark.kryo.referenceTracking" : "true"
    },
    "customVars" : null
  },
  "cells" : [
    {
      "metadata" : {
        "trusted" : true,
        "input_collapsed" : false,
        "collapsed" : false,
        "id" : "99C31FAA4900457583349F96F5418FA8"
      },
      "cell_type" : "code",
      "source" : [
        "import org.apache.spark.sql.{DataFrame, Encoders, SparkSession}\n",
        "import org.apache.spark.sql.types.StructType\n",
        "import org.bdgenomics.adam.rdd.ADAMContext._\n",
        "import org.bdgenomics.adam.rdd.ADAMContextExtensions._\n",
        "import scala.reflect.runtime.universe._\n",
        "import comp.bio.aging.playground.extras.uniprot._\n",
        "import org.apache.spark.storage.StorageLevel"
      ],
      "outputs" : [
        {
          "name" : "stdout",
          "output_type" : "stream",
          "text" : "import org.apache.spark.sql.{DataFrame, Encoders, SparkSession}\nimport org.apache.spark.sql.types.StructType\nimport org.bdgenomics.adam.rdd.ADAMContext._\nimport org.bdgenomics.adam.rdd.ADAMContextExtensions._\nimport scala.reflect.runtime.universe._\nimport comp.bio.aging.playground.extras.uniprot._\nimport org.apache.spark.storage.StorageLevel\n"
        },
        {
          "metadata" : { },
          "data" : {
            "text/html" : ""
          },
          "output_type" : "execute_result",
          "execution_count" : 1,
          "time" : "Took: 2.257s, at 2018-04-12 01:21"
        }
      ]
    },
    {
      "metadata" : {
        "trusted" : true,
        "input_collapsed" : false,
        "collapsed" : false,
        "id" : "C1D04970F17A4BFCAD8A646F50627914"
      },
      "cell_type" : "code",
      "source" : [
        "val spark = SparkSession\n",
        "  .builder()\n",
        "  .appName(\"annotations\")\n",
        "  .getOrCreate()"
      ],
      "outputs" : [
        {
          "name" : "stdout",
          "output_type" : "stream",
          "text" : "spark: org.apache.spark.sql.SparkSession = org.apache.spark.sql.SparkSession@282f89a3\n"
        },
        {
          "metadata" : { },
          "data" : {
            "text/html" : ""
          },
          "output_type" : "execute_result",
          "execution_count" : 2,
          "time" : "Took: 7.807s, at 2018-01-24 17:04"
        }
      ]
    },
    {
      "metadata" : {
        "id" : "0631F66C15E046F2B845F438D8BBD269"
      },
      "cell_type" : "markdown",
      "source" : "1. UniProtKB-AC\n2. UniProtKB-ID\n3. GeneID (EntrezGene)\n4. RefSeq\n5. GI\n6. PDB\n7. GO\n8. UniRef100\n9. UniRef90\n10. UniRef50\n11. UniParc\n12. PIR\n13. NCBI-taxon\n14. MIM\n15. UniGene\n16. PubMed\n17. EMBL\n18. EMBL-CDS\n19. Ensembl\n20. Ensembl_TRS\n21. Ensembl_PRO\n22. Additional PubMed"
    },
    {
      "metadata" : {
        "trusted" : true,
        "input_collapsed" : false,
        "collapsed" : false,
        "id" : "69C97BE5273342C1AA91A264D7007260"
      },
      "cell_type" : "code",
      "source" : [
        "val base = \"hdfs://namenode/pipelines\"\n",
        "val diamond = base + \"/diamond\"\n",
        "val blastp = diamond + \"/blastp\"\n",
        "val blastx = diamond + \"/blastx\""
      ],
      "outputs" : [
        {
          "name" : "stdout",
          "output_type" : "stream",
          "text" : "base: String = hdfs://namenode/pipelines\ndiamond: String = hdfs://namenode/pipelines/diamond\nblastp: String = hdfs://namenode/pipelines/diamond/blastp\nblastx: String = hdfs://namenode/pipelines/diamond/blastx\n"
        },
        {
          "metadata" : { },
          "data" : {
            "text/html" : ""
          },
          "output_type" : "execute_result",
          "execution_count" : 3,
          "time" : "Took: 0.938s, at 2018-01-24 17:05"
        }
      ]
    },
    {
      "metadata" : {
        "trusted" : true,
        "input_collapsed" : false,
        "collapsed" : true,
        "id" : "9946BD54273B4DB38940307BD6D9F3B0"
      },
      "cell_type" : "code",
      "source" : [
        "val target = base + \"/GRAY_WHALE\"\n",
        "val transdecoderName = \"Trin_Mitya.Trinity\"\n"
      ],
      "outputs" : [ ]
    },
    {
      "metadata" : {
        "trusted" : true,
        "input_collapsed" : false,
        "collapsed" : true,
        "id" : "E2230917D7B646CB8B7DA2D509DE174A"
      },
      "cell_type" : "code",
      "source" : [
        "val trinity = base + s\"/${transdecoderName}.fasta\"\n",
        "val proteins = base + s\"/${transdecoderName}.transdecoder.pep\"\n",
        "val gff = graywhale + s\"/${transdecoderName}.fasta.transdecoder.gff3\"\n",
        "\n",
        "val trinity = graywhale + \"/Trin_Mitya.Trinity.fasta\"\n",
        "val proteins = graywhale + \"/Trin_Mitya.Trinity.fasta.transdecoder.pep\"\n",
        "val gff = graywhale + \"/Trin_Mitya.Trinity.fasta.transdecoder.gff3\"\n",
        "\n",
        "val proteinsAdam = graywhale + \"/proteins.adam\"\n",
        "val transcriptsAdam = graywhale + \"/transcripts.adam\"\n",
        "val transcripts = sparkContext.loadParquetContigFragments(transcriptsAdam)\n",
        "val query = sparkContext.loadParquetContigFragments(proteinsAdam)\n"
      ],
      "outputs" : [ ]
    },
    {
      "metadata" : {
        "trusted" : true,
        "input_collapsed" : false,
        "collapsed" : false,
        "id" : "43F5BBD1579C402AA7374A423F2220B8"
      },
      "cell_type" : "code",
      "source" : [
        "val predictions = query.rdd\n",
        "  .map(q=>comp.bio.aging.playground.extras.diamond.ProteinPrediction.extractPrediction(q.getDescription, q.getSequence, q.getContigName))\n",
        "  .filter(p=>p.diamondHits.nonEmpty)\n",
        "  //.filter(p=>p.diamondHits.nonEmpty || p.pfamHits.nonEmpty)\n",
        "  .map(p=>(p.transcript, p))"
      ],
      "outputs" : [
        {
          "name" : "stdout",
          "output_type" : "stream",
          "text" : "predictions: org.apache.spark.rdd.RDD[(String, comp.bio.aging.playground.extras.diamond.ProteinPrediction)] = MapPartitionsRDD[4] at map at <console>:91\n"
        },
        {
          "metadata" : { },
          "data" : {
            "text/html" : ""
          },
          "output_type" : "execute_result",
          "execution_count" : 4,
          "time" : "Took: 2.231s, at 2018-01-20 03:02"
        }
      ]
    },
    {
      "metadata" : {
        "trusted" : true,
        "input_collapsed" : false,
        "collapsed" : false,
        "id" : "B51D56F6B4F04390B13E65EBD48A451B"
      },
      "cell_type" : "code",
      "source" : [
        "val mapping =  spark.readTypedTSV[UniprotMapping](\"/pipelines/uniprot/idmapping_selected.tab\")"
      ],
      "outputs" : [
        {
          "name" : "stdout",
          "output_type" : "stream",
          "text" : "mapping: org.apache.spark.sql.Dataset[comp.bio.aging.playground.extras.uniprot.UniprotMapping] = [uniprot_ac: string, uniprot_id: string ... 20 more fields]\n"
        },
        {
          "metadata" : { },
          "data" : {
            "text/html" : ""
          },
          "output_type" : "execute_result",
          "execution_count" : 5,
          "time" : "Took: 5.977s, at 2018-01-20 03:02"
        }
      ]
    },
    {
      "metadata" : {
        "trusted" : true,
        "input_collapsed" : false,
        "collapsed" : false,
        "id" : "CC4AF421B4BF4A1889D2C283541FEAB5"
      },
      "cell_type" : "code",
      "source" : [
        "import spark.implicits._\n",
        "val complete = predictions.filter(p => p._2.orf_type == \"complete\")\n",
        "val completeDF = complete.map{ case (tr, c) =>(tr, c.diamondHits.maxBy(r=>r.score).id, c.sequence)}.toDF(\"transcript\", \"uniref\",\"sequence\")\n"
      ],
      "outputs" : [
        {
          "name" : "stdout",
          "output_type" : "stream",
          "text" : "import spark.implicits._\ncomplete: org.apache.spark.rdd.RDD[(String, comp.bio.aging.playground.extras.diamond.ProteinPrediction)] = MapPartitionsRDD[5] at filter at <console>:92\ncompleteDF: org.apache.spark.sql.DataFrame = [transcript: string, uniref: string ... 1 more field]\n"
        },
        {
          "metadata" : { },
          "data" : {
            "text/html" : ""
          },
          "output_type" : "execute_result",
          "execution_count" : 6,
          "time" : "Took: 2.219s, at 2018-01-20 03:02"
        }
      ]
    },
    {
      "metadata" : {
        "trusted" : true,
        "input_collapsed" : false,
        "collapsed" : false,
        "presentation" : {
          "tabs_state" : "{\n  \"tab_id\": \"#tab1704145606-0\"\n}",
          "pivot_chart_state" : "{\n  \"hiddenAttributes\": [],\n  \"menuLimit\": 200,\n  \"cols\": [],\n  \"rows\": [],\n  \"vals\": [],\n  \"exclusions\": {},\n  \"inclusions\": {},\n  \"unusedAttrsVertical\": 85,\n  \"autoSortUnusedAttrs\": false,\n  \"inclusionsInfo\": {},\n  \"aggregatorName\": \"Count\",\n  \"rendererName\": \"Table\"\n}"
        },
        "id" : "819F4920EF0840878C95751635036E64"
      },
      "cell_type" : "code",
      "source" : [
        "val suffix = \"_common_mapped_redundant.tab\"\n",
        "val name = \"/graywhale\" + suffix\n",
        "val filename = \"/pipelines/mappings/complete\" + name"
      ],
      "outputs" : [
        {
          "name" : "stdout",
          "output_type" : "stream",
          "text" : "suffix: String = _common_mapped_redundant.tab\nname: String = /graywhale_common_mapped_redundant.tab\nfilename: String = /pipelines/mappings/complete/graywhale_common_mapped_redundant.tab\n"
        },
        {
          "metadata" : { },
          "data" : {
            "text/html" : ""
          },
          "output_type" : "execute_result",
          "execution_count" : 7,
          "time" : "Took: 0.881s, at 2018-01-20 03:02"
        }
      ]
    },
    {
      "metadata" : {
        "trusted" : true,
        "input_collapsed" : false,
        "collapsed" : false,
        "presentation" : {
          "tabs_state" : "{\n  \"tab_id\": \"#tab912807753-0\"\n}",
          "pivot_chart_state" : "{\n  \"hiddenAttributes\": [],\n  \"menuLimit\": 200,\n  \"cols\": [],\n  \"rows\": [],\n  \"vals\": [],\n  \"exclusions\": {},\n  \"inclusions\": {},\n  \"unusedAttrsVertical\": 85,\n  \"autoSortUnusedAttrs\": false,\n  \"inclusionsInfo\": {},\n  \"aggregatorName\": \"Count\",\n  \"rendererName\": \"Table\"\n}"
        },
        "id" : "E0E94348ECE848B29CB7FEEAD0C9C085"
      },
      "cell_type" : "code",
      "source" : [
        "val mappingDF = mapping.toDF().select(\"uniprot_ac\",\t\"uniprot_id\",\t\"entrez\",\t\"refSeq\",\t\"gi\",\t\"go\",\t\"uniref90\",\t\"uniparc\",\t\"taxon\", \"pubmed\", \"embl\")\n",
        "val completedMapped = mappingDF.join(completeDF, completeDF(\"uniref\") === mappingDF(\"uniref90\")).cache()"
      ],
      "outputs" : [
        {
          "name" : "stdout",
          "output_type" : "stream",
          "text" : "mappingDF: org.apache.spark.sql.DataFrame = [uniprot_ac: string, uniprot_id: string ... 9 more fields]\ncompletedMapped: org.apache.spark.sql.Dataset[org.apache.spark.sql.Row] = [uniprot_ac: string, uniprot_id: string ... 12 more fields]\n"
        },
        {
          "metadata" : { },
          "data" : {
            "text/html" : ""
          },
          "output_type" : "execute_result",
          "execution_count" : 8,
          "time" : "Took: 5.350s, at 2018-01-20 03:02"
        }
      ]
    },
    {
      "metadata" : {
        "trusted" : true,
        "input_collapsed" : false,
        "collapsed" : true,
        "id" : "A1A41B520D5745D28EDE973DA47FB8F6"
      },
      "cell_type" : "code",
      "source" : [
        "completedMapped.write.option(\"sep\",\"\\t\").option(\"header\",\"true\").csv(filename)"
      ],
      "outputs" : [ ]
    },
    {
      "metadata" : {
        "trusted" : true,
        "input_collapsed" : false,
        "collapsed" : false,
        "id" : "97E690A76D0844DE83D12BDC46A9BE6A"
      },
      "cell_type" : "code",
      "source" : [
        "case class MappedJoined(transcript: String, uniref90: String, taxon: String, pubmed: String, go: String, entrez: String, uniprot_id: String)\n",
        "  {\n",
        "    self =>\n",
        "\n",
        "    lazy val pubmeds: Set[String] = pubmed.split(\";\").toSet\n",
        "    lazy val goes: Set[String] = go.split(\";\").toSet\n",
        "    lazy val taxons: Set[String] = taxon.split(\";\").toSet\n",
        "\n",
        "    def merge(other: MappedJoined): MappedJoined = other.copy(\n",
        "      self.taxon + \";\" + other.taxon,\n",
        "      self.pubmed + \";\" + other.pubmed,\n",
        "      self.go + \";\" + other.go\n",
        "    )\n",
        "  }\n"
      ],
      "outputs" : [
        {
          "name" : "stdout",
          "output_type" : "stream",
          "text" : "defined class MappedJoined\n"
        },
        {
          "metadata" : { },
          "data" : {
            "text/html" : ""
          },
          "output_type" : "execute_result",
          "execution_count" : 22,
          "time" : "Took: 0.775s, at 2018-01-20 01:56"
        }
      ]
    },
    {
      "metadata" : {
        "trusted" : true,
        "input_collapsed" : false,
        "collapsed" : false,
        "id" : "69DA637446884B6CA73AA58012923538"
      },
      "cell_type" : "code",
      "source" : [
        "val smallJoined= joined.rdd.map(r=>\n",
        "    ( r.getAs[String](\"transcript\"),\n",
        "        MappedJoined(\n",
        "            r.getAs[String](\"transcript\"),\n",
        "            r.getAs[String](\"uniref90\"),\n",
        "            r.getAs[String](\"taxon\"),\n",
        "            r.getAs[String](\"pubmed\"),\n",
        "            r.getAs[String](\"go\"),\n",
        "            r.getAs[String](\"entrez\"),\n",
        "            r.getAs[String](\"uniprot_id\")\n",
        "        )\n",
        "      )\n",
        "    ).reduceByKey((a, b)=> a.merge(b)).persist(StorageLevel.MEMORY_AND_DISK) \n",
        "  "
      ],
      "outputs" : [
        {
          "name" : "stdout",
          "output_type" : "stream",
          "text" : "smallJoined: org.apache.spark.rdd.RDD[(String, MappedJoined)] = ShuffledRDD[57] at reduceByKey at <console>:119\n"
        },
        {
          "metadata" : { },
          "data" : {
            "text/html" : ""
          },
          "output_type" : "execute_result",
          "execution_count" : 23,
          "time" : "Took: 1.222s, at 2018-01-20 01:57"
        }
      ]
    },
    {
      "metadata" : {
        "trusted" : true,
        "input_collapsed" : false,
        "collapsed" : false,
        "id" : "F2F8D9CD6FD6424386FEC30262D57791"
      },
      "cell_type" : "code",
      "source" : [
        "(completeDF.count, joined.count, smallJoined.count)"
      ],
      "outputs" : [
        {
          "name" : "stdout",
          "output_type" : "stream",
          "text" : "org.apache.spark.SparkException: Job aborted due to stage failure: Task 0 in stage 28.0 failed 4 times, most recent failure: Lost task 0.3 in stage 28.0 (TID 437, 10.0.2.3, executor 0): java.io.IOException: org.apache.spark.SparkException: Failed to get broadcast_25_piece0 of broadcast_25\n\tat org.apache.spark.util.Utils$.tryOrIOException(Utils.scala:1310)\n\tat org.apache.spark.broadcast.TorrentBroadcast.readBroadcastBlock(TorrentBroadcast.scala:206)\n\tat org.apache.spark.broadcast.TorrentBroadcast._value$lzycompute(TorrentBroadcast.scala:66)\n\tat org.apache.spark.broadcast.TorrentBroadcast._value(TorrentBroadcast.scala:66)\n\tat org.apache.spark.broadcast.TorrentBroadcast.getValue(TorrentBroadcast.scala:96)\n\tat org.apache.spark.broadcast.Broadcast.value(Broadcast.scala:70)\n\tat org.apache.spark.scheduler.ShuffleMapTask.runTask(ShuffleMapTask.scala:86)\n\tat org.apache.spark.scheduler.ShuffleMapTask.runTask(ShuffleMapTask.scala:53)\n\tat org.apache.spark.scheduler.Task.run(Task.scala:108)\n\tat org.apache.spark.executor.Executor$TaskRunner.run(Executor.scala:338)\n\tat java.util.concurrent.ThreadPoolExecutor.runWorker(ThreadPoolExecutor.java:1142)\n\tat java.util.concurrent.ThreadPoolExecutor$Worker.run(ThreadPoolExecutor.java:617)\n\tat java.lang.Thread.run(Thread.java:745)\nCaused by: org.apache.spark.SparkException: Failed to get broadcast_25_piece0 of broadcast_25\n\tat org.apache.spark.broadcast.TorrentBroadcast$$anonfun$org$apache$spark$broadcast$TorrentBroadcast$$readBlocks$1.apply$mcVI$sp(TorrentBroadcast.scala:178)\n\tat org.apache.spark.broadcast.TorrentBroadcast$$anonfun$org$apache$spark$broadcast$TorrentBroadcast$$readBlocks$1.apply(TorrentBroadcast.scala:150)\n\tat org.apache.spark.broadcast.TorrentBroadcast$$anonfun$org$apache$spark$broadcast$TorrentBroadcast$$readBlocks$1.apply(TorrentBroadcast.scala:150)\n\tat scala.collection.immutable.List.foreach(List.scala:381)\n\tat org.apache.spark.broadcast.TorrentBroadcast.org$apache$spark$broadcast$TorrentBroadcast$$readBlocks(TorrentBroadcast.scala:150)\n\tat org.apache.spark.broadcast.TorrentBroadcast$$anonfun$readBroadcastBlock$1.apply(TorrentBroadcast.scala:222)\n\tat org.apache.spark.util.Utils$.tryOrIOException(Utils.scala:1303)\n\t... 12 more\n\nDriver stacktrace:\n  at org.apache.spark.scheduler.DAGScheduler.org$apache$spark$scheduler$DAGScheduler$$failJobAndIndependentStages(DAGScheduler.scala:1517)\n  at org.apache.spark.scheduler.DAGScheduler$$anonfun$abortStage$1.apply(DAGScheduler.scala:1505)\n  at org.apache.spark.scheduler.DAGScheduler$$anonfun$abortStage$1.apply(DAGScheduler.scala:1504)\n  at scala.collection.mutable.ResizableArray$class.foreach(ResizableArray.scala:59)\n  at scala.collection.mutable.ArrayBuffer.foreach(ArrayBuffer.scala:48)\n  at org.apache.spark.scheduler.DAGScheduler.abortStage(DAGScheduler.scala:1504)\n  at org.apache.spark.scheduler.DAGScheduler$$anonfun$handleTaskSetFailed$1.apply(DAGScheduler.scala:814)\n  at org.apache.spark.scheduler.DAGScheduler$$anonfun$handleTaskSetFailed$1.apply(DAGScheduler.scala:814)\n  at scala.Option.foreach(Option.scala:257)\n  at org.apache.spark.scheduler.DAGScheduler.handleTaskSetFailed(DAGScheduler.scala:814)\n  at org.apache.spark.scheduler.DAGSchedulerEventProcessLoop.doOnReceive(DAGScheduler.scala:1732)\n  at org.apache.spark.scheduler.DAGSchedulerEventProcessLoop.onReceive(DAGScheduler.scala:1687)\n  at org.apache.spark.scheduler.DAGSchedulerEventProcessLoop.onReceive(DAGScheduler.scala:1676)\n  at org.apache.spark.util.EventLoop$$anon$1.run(EventLoop.scala:48)\n  at org.apache.spark.scheduler.DAGScheduler.runJob(DAGScheduler.scala:630)\n  at org.apache.spark.SparkContext.runJob(SparkContext.scala:2029)\n  at org.apache.spark.SparkContext.runJob(SparkContext.scala:2050)\n  at org.apache.spark.SparkContext.runJob(SparkContext.scala:2069)\n  at org.apache.spark.SparkContext.runJob(SparkContext.scala:2094)\n  at org.apache.spark.rdd.RDD$$anonfun$collect$1.apply(RDD.scala:936)\n  at org.apache.spark.rdd.RDDOperationScope$.withScope(RDDOperationScope.scala:151)\n  at org.apache.spark.rdd.RDDOperationScope$.withScope(RDDOperationScope.scala:112)\n  at org.apache.spark.rdd.RDD.withScope(RDD.scala:362)\n  at org.apache.spark.rdd.RDD.collect(RDD.scala:935)\n  at org.apache.spark.sql.execution.SparkPlan.executeCollect(SparkPlan.scala:278)\n  at org.apache.spark.sql.Dataset$$anonfun$count$1.apply(Dataset.scala:2435)\n  at org.apache.spark.sql.Dataset$$anonfun$count$1.apply(Dataset.scala:2434)\n  at org.apache.spark.sql.Dataset$$anonfun$55.apply(Dataset.scala:2842)\n  at org.apache.spark.sql.execution.SQLExecution$.withNewExecutionId(SQLExecution.scala:65)\n  at org.apache.spark.sql.Dataset.withAction(Dataset.scala:2841)\n  at org.apache.spark.sql.Dataset.count(Dataset.scala:2434)\n  ... 73 elided\nCaused by: java.io.IOException: org.apache.spark.SparkException: Failed to get broadcast_25_piece0 of broadcast_25\n  at org.apache.spark.util.Utils$.tryOrIOException(Utils.scala:1310)\n  at org.apache.spark.broadcast.TorrentBroadcast.readBroadcastBlock(TorrentBroadcast.scala:206)\n  at org.apache.spark.broadcast.TorrentBroadcast._value$lzycompute(TorrentBroadcast.scala:66)\n  at org.apache.spark.broadcast.TorrentBroadcast._value(TorrentBroadcast.scala:66)\n  at org.apache.spark.broadcast.TorrentBroadcast.getValue(TorrentBroadcast.scala:96)\n  at org.apache.spark.broadcast.Broadcast.value(Broadcast.scala:70)\n  at org.apache.spark.scheduler.ShuffleMapTask.runTask(ShuffleMapTask.scala:86)\n  at org.apache.spark.scheduler.ShuffleMapTask.runTask(ShuffleMapTask.scala:53)\n  at org.apache.spark.scheduler.Task.run(Task.scala:108)\n  at org.apache.spark.executor.Executor$TaskRunner.run(Executor.scala:338)\n  at java.util.concurrent.ThreadPoolExecutor.runWorker(ThreadPoolExecutor.java:1142)\n  at java.util.concurrent.ThreadPoolExecutor$Worker.run(ThreadPoolExecutor.java:617)\n  at java.lang.Thread.run(Thread.java:745)\nCaused by: org.apache.spark.SparkException: Failed to get broadcast_25_piece0 of broadcast_25\n  at org.apache.spark.broadcast.TorrentBroadcast$$anonfun$org$apache$spark$broadcast$TorrentBroadcast$$readBlocks$1.apply$mcVI$sp(TorrentBroadcast.scala:178)\n  at org.apache.spark.broadcast.TorrentBroadcast$$anonfun$org$apache$spark$broadcast$TorrentBroadcast$$readBlocks$1.apply(TorrentBroadcast.scala:150)\n  at org.apache.spark.broadcast.TorrentBroadcast$$anonfun$org$apache$spark$broadcast$TorrentBroadcast$$readBlocks$1.apply(TorrentBroadcast.scala:150)\n  at scala.collection.immutable.List.foreach(List.scala:381)\n  at org.apache.spark.broadcast.TorrentBroadcast.org$apache$spark$broadcast$TorrentBroadcast$$readBlocks(TorrentBroadcast.scala:150)\n  at org.apache.spark.broadcast.TorrentBroadcast$$anonfun$readBroadcastBlock$1.apply(TorrentBroadcast.scala:222)\n  at org.apache.spark.util.Utils$.tryOrIOException(Utils.scala:1303)\n  ... 12 more\n"
        }
      ]
    },
    {
      "metadata" : {
        "trusted" : true,
        "input_collapsed" : false,
        "collapsed" : false,
        "presentation" : {
          "tabs_state" : "{\n  \"tab_id\": \"#tab1201825030-0\"\n}",
          "pivot_chart_state" : "{\n  \"hiddenAttributes\": [],\n  \"menuLimit\": 200,\n  \"cols\": [],\n  \"rows\": [],\n  \"vals\": [],\n  \"exclusions\": {},\n  \"inclusions\": {},\n  \"unusedAttrsVertical\": 85,\n  \"autoSortUnusedAttrs\": false,\n  \"inclusionsInfo\": {},\n  \"aggregatorName\": \"Count\",\n  \"rendererName\": \"Table\"\n}"
        },
        "id" : "29F3D4578D484984ACEB5ADAE8D2DC86"
      },
      "cell_type" : "code",
      "source" : [
        "features.rdd.take(10)"
      ],
      "outputs" : [
        {
          "name" : "stdout",
          "output_type" : "stream",
          "text" : "res11: Array[org.bdgenomics.formats.avro.Feature] = Array({\"featureId\": \"Gene.10639::c10000_g1_i1::g.10639\", \"name\": \"ORF%20type%3A5prime_partial%20len%3A112%20%28-%29%2Cscore%3D25.49%2CUniRef90_UPI000440677B%7C100.0%7C2.8e-56%2CUniRef90_UPI0009517C74%7C99.1%7C6.2e-56%2CUniRef90_L5JU14%7C99.1%7C8.1e-56%2CUniRef90_UPI0007689164%7C99.1%7C8.1e-56%2CUniRef90_UPI00042CD8A7%7C98.2%7C2.3e-55%2CUniRef90_K9KD70%7C97.3%7C3.1e-55%2CUniRef90_F7DFP8%7C97.3%7C3.1e-55%2CUniRef90_UPI0003290704%7C96.4%7C3.1e-55%2CUniRef90_UPI00033436D2%7C96.4%7C4.0e-55%2CUniRef90_UPI00057BC7E4%7C97.3%7C5.2e-55%2CUniRef90_UPI0007047ADE%7C97.3%7C5.2e-55%2CUniRef90_UPI0009453B6C%7C96.4%7C5.2e-55%2CUniRef90_E2QZ15%7C96.4%7C8.9e-55%2CUniRef90_E1BDD1%7C97.3%7C1.5e-54%2CUniRef90_G3MXA6%7C97.3%7C1.5e-54%2CUniRef90_A0A287BJY9%7C..."
        },
        {
          "metadata" : { },
          "data" : {
            "text/html" : "<div>\n      <script data-this=\"{&quot;dataId&quot;:&quot;anon1fff7f6b7c15d491a813f333929b9162&quot;,&quot;dataInit&quot;:[],&quot;genId&quot;:&quot;1201825030&quot;}\" type=\"text/x-scoped-javascript\">/*<![CDATA[*/req(['../javascripts/notebook/playground','../javascripts/notebook/magic/tabs'], \n      function(playground, _magictabs) {\n        // data ==> data-this (in observable.js's scopedEval) ==> this in JS => { dataId, dataInit, ... }\n        // this ==> scope (in observable.js's scopedEval) ==> this.parentElement ==> div.container below (toHtml)\n\n        playground.call(data,\n                        this\n                        ,\n                        {\n    \"f\": _magictabs,\n    \"o\": {}\n  }\n  \n                        \n                        \n                      );\n      }\n    );/*]]>*/</script>\n    <div>\n      <div>\n        <ul class=\"nav nav-tabs\" id=\"ul1201825030\"><li>\n              <a href=\"#tab1201825030-0\"><i class=\"fa fa-table\"/></a>\n            </li><li>\n              <a href=\"#tab1201825030-1\"><i class=\"fa fa-cubes\"/></a>\n            </li></ul>\n\n        <div class=\"tab-content\" id=\"tab1201825030\"><div class=\"tab-pane\" id=\"tab1201825030-0\">\n            <div>\n      <script data-this=\"{&quot;dataId&quot;:&quot;anone581e45d4b316b978eac15a22c9624ec&quot;,&quot;dataInit&quot;:[{&quot;aliases&quot;:&quot;[]&quot;,&quot;derivesFrom&quot;:null,&quot;name&quot;:&quot;ORF%20type%3A5prime_partial%20len%3A112%20%28-%29%2Cscore%3D25.49%2CUniRef90_UPI000440677B%7C100.0%7C2.8e-56%2CUniRef90_UPI0009517C74%7C99.1%7C6.2e-56%2CUniRef90_L5JU14%7C99.1%7C8.1e-56%2CUniRef90_UPI0007689164%7C99.1%7C8.1e-56%2CUniRef90_UPI00042CD8A7%7C98.2%7C2.3e-55%2CUniRef90_K9KD70%7C97.3%7C3.1e-55%2CUniRef90_F7DFP8%7C97.3%7C3.1e-55%2CUniRef90_UPI0003290704%7C96.4%7C3.1e-55%2CUniRef90_UPI00033436D2%7C96.4%7C4.0e-55%2CUniRef90_UPI00057BC7E4%7C97.3%7C5.2e-55%2CUniRef90_UPI0007047ADE%7C97.3%7C5.2e-55%2CUniRef90_UPI0009453B6C%7C96.4%7C5.2e-55%2CUniRef90_E2QZ15%7C96.4%7C8.9e-55%2CUniRef90_E1BDD1%7C97.3%7C1.5e-54%2CUniRef90_G3MXA6%7C97.3%7C1.5e-54%2CUniRef90_A0A287BJY9%7C95.5%7C1.5e-54%2CUniRef90_UPI00023AD786%7C97.3%7C1.5e-54%2CUniRef90_UPI0003C8FB79%7C94.6%7C2.0e-54%2CUniRef90_Q8N6Q8%7C95.5%7C3.4e-54%2CUniRef90_G1PAQ3%7C95.5%7C3.4e-54%2CUniRef90_UPI0005CFFA83%7C95.5%7C3.4e-54%2CUniRef90_UPI0007DC78E8%7C95.5%7C3.4e-54%2CUniRef90_W5Q0Z5%7C96.4%7C4.4e-54%2CUniRef90_UPI00072F9D6E%7C96.4%7C4.4e-54%2CUniRef90_UPI0003F16658%7C95.5%7C7.5e-54&quot;,&quot;source&quot;:&quot;transdecoder&quot;,&quot;geneId&quot;:null,&quot;dbxrefs&quot;:&quot;[]&quot;,&quot;ontologyTerms&quot;:&quot;[]&quot;,&quot;phase&quot;:null,&quot;circular&quot;:null,&quot;score&quot;:null,&quot;featureId&quot;:&quot;Gene.10639::c10000_g1_i1::g.10639&quot;,&quot;featureType&quot;:&quot;gene&quot;,&quot;parentIds&quot;:&quot;[]&quot;,&quot;contigName&quot;:&quot;c10000_g1_i1&quot;,&quot;transcriptId&quot;:null,&quot;attributes&quot;:&quot;{}&quot;,&quot;frame&quot;:null,&quot;gap&quot;:null,&quot;end&quot;:440,&quot;target&quot;:null,&quot;notes&quot;:&quot;[]&quot;,&quot;strand&quot;:&quot;REVERSE&quot;,&quot;start&quot;:0,&quot;exonId&quot;:null},{&quot;aliases&quot;:&quot;[]&quot;,&quot;derivesFrom&quot;:null,&quot;name&quot;:&quot;ORF%20type%3A5prime_partial%20len%3A112%20%28-%29%2Cscore%3D25.49%2CUniRef90_UPI000440677B%7C100.0%7C2.8e-56%2CUniRef90_UPI0009517C74%7C99.1%7C6.2e-56%2CUniRef90_L5JU14%7C99.1%7C8.1e-56%2CUniRef90_UPI0007689164%7C99.1%7C8.1e-56%2CUniRef90_UPI00042CD8A7%7C98.2%7C2.3e-55%2CUniRef90_K9KD70%7C97.3%7C3.1e-55%2CUniRef90_F7DFP8%7C97.3%7C3.1e-55%2CUniRef90_UPI0003290704%7C96.4%7C3.1e-55%2CUniRef90_UPI00033436D2%7C96.4%7C4.0e-55%2CUniRef90_UPI00057BC7E4%7C97.3%7C5.2e-55%2CUniRef90_UPI0007047ADE%7C97.3%7C5.2e-55%2CUniRef90_UPI0009453B6C%7C96.4%7C5.2e-55%2CUniRef90_E2QZ15%7C96.4%7C8.9e-55%2CUniRef90_E1BDD1%7C97.3%7C1.5e-54%2CUniRef90_G3MXA6%7C97.3%7C1.5e-54%2CUniRef90_A0A287BJY9%7C95.5%7C1.5e-54%2CUniRef90_UPI00023AD786%7C97.3%7C1.5e-54%2CUniRef90_UPI0003C8FB79%7C94.6%7C2.0e-54%2CUniRef90_Q8N6Q8%7C95.5%7C3.4e-54%2CUniRef90_G1PAQ3%7C95.5%7C3.4e-54%2CUniRef90_UPI0005CFFA83%7C95.5%7C3.4e-54%2CUniRef90_UPI0007DC78E8%7C95.5%7C3.4e-54%2CUniRef90_W5Q0Z5%7C96.4%7C4.4e-54%2CUniRef90_UPI00072F9D6E%7C96.4%7C4.4e-54%2CUniRef90_UPI0003F16658%7C95.5%7C7.5e-54&quot;,&quot;source&quot;:&quot;transdecoder&quot;,&quot;geneId&quot;:null,&quot;dbxrefs&quot;:&quot;[]&quot;,&quot;ontologyTerms&quot;:&quot;[]&quot;,&quot;phase&quot;:null,&quot;circular&quot;:null,&quot;score&quot;:null,&quot;featureId&quot;:&quot;Gene.10639::c10000_g1_i1::g.10639::m.10639&quot;,&quot;featureType&quot;:&quot;mRNA&quot;,&quot;parentIds&quot;:&quot;[Gene.10639::c10000_g1_i1::g.10639]&quot;,&quot;contigName&quot;:&quot;c10000_g1_i1&quot;,&quot;transcriptId&quot;:null,&quot;attributes&quot;:&quot;{}&quot;,&quot;frame&quot;:null,&quot;gap&quot;:null,&quot;end&quot;:440,&quot;target&quot;:null,&quot;notes&quot;:&quot;[]&quot;,&quot;strand&quot;:&quot;REVERSE&quot;,&quot;start&quot;:0,&quot;exonId&quot;:null},{&quot;aliases&quot;:&quot;[]&quot;,&quot;derivesFrom&quot;:null,&quot;name&quot;:null,&quot;source&quot;:&quot;transdecoder&quot;,&quot;geneId&quot;:null,&quot;dbxrefs&quot;:&quot;[]&quot;,&quot;ontologyTerms&quot;:&quot;[]&quot;,&quot;phase&quot;:null,&quot;circular&quot;:null,&quot;score&quot;:null,&quot;featureId&quot;:&quot;Gene.10639::c10000_g1_i1::g.10639::m.10639.utr5p1&quot;,&quot;featureType&quot;:&quot;five_prime_UTR&quot;,&quot;parentIds&quot;:&quot;[Gene.10639::c10000_g1_i1::g.10639::m.10639]&quot;,&quot;contigName&quot;:&quot;c10000_g1_i1&quot;,&quot;transcriptId&quot;:null,&quot;attributes&quot;:&quot;{}&quot;,&quot;frame&quot;:null,&quot;gap&quot;:null,&quot;end&quot;:440,&quot;target&quot;:null,&quot;notes&quot;:&quot;[]&quot;,&quot;strand&quot;:&quot;REVERSE&quot;,&quot;start&quot;:439,&quot;exonId&quot;:null},{&quot;aliases&quot;:&quot;[]&quot;,&quot;derivesFrom&quot;:null,&quot;name&quot;:null,&quot;source&quot;:&quot;transdecoder&quot;,&quot;geneId&quot;:null,&quot;dbxrefs&quot;:&quot;[]&quot;,&quot;ontologyTerms&quot;:&quot;[]&quot;,&quot;phase&quot;:null,&quot;circular&quot;:null,&quot;score&quot;:null,&quot;featureId&quot;:&quot;Gene.10639::c10000_g1_i1::g.10639::m.10639.exon1&quot;,&quot;featureType&quot;:&quot;exon&quot;,&quot;parentIds&quot;:&quot;[Gene.10639::c10000_g1_i1::g.10639::m.10639]&quot;,&quot;contigName&quot;:&quot;c10000_g1_i1&quot;,&quot;transcriptId&quot;:null,&quot;attributes&quot;:&quot;{}&quot;,&quot;frame&quot;:null,&quot;gap&quot;:null,&quot;end&quot;:440,&quot;target&quot;:null,&quot;notes&quot;:&quot;[]&quot;,&quot;strand&quot;:&quot;REVERSE&quot;,&quot;start&quot;:0,&quot;exonId&quot;:null},{&quot;aliases&quot;:&quot;[]&quot;,&quot;derivesFrom&quot;:null,&quot;name&quot;:null,&quot;source&quot;:&quot;transdecoder&quot;,&quot;geneId&quot;:null,&quot;dbxrefs&quot;:&quot;[]&quot;,&quot;ontologyTerms&quot;:&quot;[]&quot;,&quot;phase&quot;:0,&quot;circular&quot;:null,&quot;score&quot;:null,&quot;featureId&quot;:&quot;cds.Gene.10639::c10000_g1_i1::g.10639::m.10639&quot;,&quot;featureType&quot;:&quot;CDS&quot;,&quot;parentIds&quot;:&quot;[Gene.10639::c10000_g1_i1::g.10639::m.10639]&quot;,&quot;contigName&quot;:&quot;c10000_g1_i1&quot;,&quot;transcriptId&quot;:null,&quot;attributes&quot;:&quot;{}&quot;,&quot;frame&quot;:null,&quot;gap&quot;:null,&quot;end&quot;:439,&quot;target&quot;:null,&quot;notes&quot;:&quot;[]&quot;,&quot;strand&quot;:&quot;REVERSE&quot;,&quot;start&quot;:103,&quot;exonId&quot;:null},{&quot;aliases&quot;:&quot;[]&quot;,&quot;derivesFrom&quot;:null,&quot;name&quot;:null,&quot;source&quot;:&quot;transdecoder&quot;,&quot;geneId&quot;:null,&quot;dbxrefs&quot;:&quot;[]&quot;,&quot;ontologyTerms&quot;:&quot;[]&quot;,&quot;phase&quot;:null,&quot;circular&quot;:null,&quot;score&quot;:null,&quot;featureId&quot;:&quot;Gene.10639::c10000_g1_i1::g.10639::m.10639.utr3p1&quot;,&quot;featureType&quot;:&quot;three_prime_UTR&quot;,&quot;parentIds&quot;:&quot;[Gene.10639::c10000_g1_i1::g.10639::m.10639]&quot;,&quot;contigName&quot;:&quot;c10000_g1_i1&quot;,&quot;transcriptId&quot;:null,&quot;attributes&quot;:&quot;{}&quot;,&quot;frame&quot;:null,&quot;gap&quot;:null,&quot;end&quot;:103,&quot;target&quot;:null,&quot;notes&quot;:&quot;[]&quot;,&quot;strand&quot;:&quot;REVERSE&quot;,&quot;start&quot;:0,&quot;exonId&quot;:null},{&quot;aliases&quot;:&quot;[]&quot;,&quot;derivesFrom&quot;:null,&quot;name&quot;:&quot;ORF%20type%3A5prime_partial%20len%3A112%20%28-%29%2Cscore%3D25.49%2CUniRef90_UPI000440677B%7C100.0%7C2.8e-56%2CUniRef90_UPI0009517C74%7C99.1%7C6.2e-56%2CUniRef90_L5JU14%7C99.1%7C8.1e-56%2CUniRef90_UPI0007689164%7C99.1%7C8.1e-56%2CUniRef90_UPI00042CD8A7%7C98.2%7C2.3e-55%2CUniRef90_K9KD70%7C97.3%7C3.1e-55%2CUniRef90_F7DFP8%7C97.3%7C3.1e-55%2CUniRef90_UPI0003290704%7C96.4%7C3.1e-55%2CUniRef90_UPI00033436D2%7C96.4%7C4.0e-55%2CUniRef90_UPI00057BC7E4%7C97.3%7C5.2e-55%2CUniRef90_UPI0007047ADE%7C97.3%7C5.2e-55%2CUniRef90_UPI0009453B6C%7C96.4%7C5.2e-55%2CUniRef90_E2QZ15%7C96.4%7C8.9e-55%2CUniRef90_E1BDD1%7C97.3%7C1.5e-54%2CUniRef90_G3MXA6%7C97.3%7C1.5e-54%2CUniRef90_A0A287BJY9%7C95.5%7C1.5e-54%2CUniRef90_UPI00023AD786%7C97.3%7C1.5e-54%2CUniRef90_UPI0003C8FB79%7C94.6%7C2.0e-54%2CUniRef90_Q8N6Q8%7C95.5%7C3.4e-54%2CUniRef90_G1PAQ3%7C95.5%7C3.4e-54%2CUniRef90_UPI0005CFFA83%7C95.5%7C3.4e-54%2CUniRef90_UPI0007DC78E8%7C95.5%7C3.4e-54%2CUniRef90_W5Q0Z5%7C96.4%7C4.4e-54%2CUniRef90_UPI00072F9D6E%7C96.4%7C4.4e-54%2CUniRef90_UPI0003F16658%7C95.5%7C7.5e-54&quot;,&quot;source&quot;:&quot;transdecoder&quot;,&quot;geneId&quot;:null,&quot;dbxrefs&quot;:&quot;[]&quot;,&quot;ontologyTerms&quot;:&quot;[]&quot;,&quot;phase&quot;:null,&quot;circular&quot;:null,&quot;score&quot;:null,&quot;featureId&quot;:&quot;Gene.10640::c10000_g1_i2::g.10640&quot;,&quot;featureType&quot;:&quot;gene&quot;,&quot;parentIds&quot;:&quot;[]&quot;,&quot;contigName&quot;:&quot;c10000_g1_i2&quot;,&quot;transcriptId&quot;:null,&quot;attributes&quot;:&quot;{}&quot;,&quot;frame&quot;:null,&quot;gap&quot;:null,&quot;end&quot;:414,&quot;target&quot;:null,&quot;notes&quot;:&quot;[]&quot;,&quot;strand&quot;:&quot;REVERSE&quot;,&quot;start&quot;:0,&quot;exonId&quot;:null},{&quot;aliases&quot;:&quot;[]&quot;,&quot;derivesFrom&quot;:null,&quot;name&quot;:&quot;ORF%20type%3A5prime_partial%20len%3A112%20%28-%29%2Cscore%3D25.49%2CUniRef90_UPI000440677B%7C100.0%7C2.8e-56%2CUniRef90_UPI0009517C74%7C99.1%7C6.2e-56%2CUniRef90_L5JU14%7C99.1%7C8.1e-56%2CUniRef90_UPI0007689164%7C99.1%7C8.1e-56%2CUniRef90_UPI00042CD8A7%7C98.2%7C2.3e-55%2CUniRef90_K9KD70%7C97.3%7C3.1e-55%2CUniRef90_F7DFP8%7C97.3%7C3.1e-55%2CUniRef90_UPI0003290704%7C96.4%7C3.1e-55%2CUniRef90_UPI00033436D2%7C96.4%7C4.0e-55%2CUniRef90_UPI00057BC7E4%7C97.3%7C5.2e-55%2CUniRef90_UPI0007047ADE%7C97.3%7C5.2e-55%2CUniRef90_UPI0009453B6C%7C96.4%7C5.2e-55%2CUniRef90_E2QZ15%7C96.4%7C8.9e-55%2CUniRef90_E1BDD1%7C97.3%7C1.5e-54%2CUniRef90_G3MXA6%7C97.3%7C1.5e-54%2CUniRef90_A0A287BJY9%7C95.5%7C1.5e-54%2CUniRef90_UPI00023AD786%7C97.3%7C1.5e-54%2CUniRef90_UPI0003C8FB79%7C94.6%7C2.0e-54%2CUniRef90_Q8N6Q8%7C95.5%7C3.4e-54%2CUniRef90_G1PAQ3%7C95.5%7C3.4e-54%2CUniRef90_UPI0005CFFA83%7C95.5%7C3.4e-54%2CUniRef90_UPI0007DC78E8%7C95.5%7C3.4e-54%2CUniRef90_W5Q0Z5%7C96.4%7C4.4e-54%2CUniRef90_UPI00072F9D6E%7C96.4%7C4.4e-54%2CUniRef90_UPI0003F16658%7C95.5%7C7.5e-54&quot;,&quot;source&quot;:&quot;transdecoder&quot;,&quot;geneId&quot;:null,&quot;dbxrefs&quot;:&quot;[]&quot;,&quot;ontologyTerms&quot;:&quot;[]&quot;,&quot;phase&quot;:null,&quot;circular&quot;:null,&quot;score&quot;:null,&quot;featureId&quot;:&quot;Gene.10640::c10000_g1_i2::g.10640::m.10640&quot;,&quot;featureType&quot;:&quot;mRNA&quot;,&quot;parentIds&quot;:&quot;[Gene.10640::c10000_g1_i2::g.10640]&quot;,&quot;contigName&quot;:&quot;c10000_g1_i2&quot;,&quot;transcriptId&quot;:null,&quot;attributes&quot;:&quot;{}&quot;,&quot;frame&quot;:null,&quot;gap&quot;:null,&quot;end&quot;:414,&quot;target&quot;:null,&quot;notes&quot;:&quot;[]&quot;,&quot;strand&quot;:&quot;REVERSE&quot;,&quot;start&quot;:0,&quot;exonId&quot;:null},{&quot;aliases&quot;:&quot;[]&quot;,&quot;derivesFrom&quot;:null,&quot;name&quot;:null,&quot;source&quot;:&quot;transdecoder&quot;,&quot;geneId&quot;:null,&quot;dbxrefs&quot;:&quot;[]&quot;,&quot;ontologyTerms&quot;:&quot;[]&quot;,&quot;phase&quot;:null,&quot;circular&quot;:null,&quot;score&quot;:null,&quot;featureId&quot;:&quot;Gene.10640::c10000_g1_i2::g.10640::m.10640.utr5p1&quot;,&quot;featureType&quot;:&quot;five_prime_UTR&quot;,&quot;parentIds&quot;:&quot;[Gene.10640::c10000_g1_i2::g.10640::m.10640]&quot;,&quot;contigName&quot;:&quot;c10000_g1_i2&quot;,&quot;transcriptId&quot;:null,&quot;attributes&quot;:&quot;{}&quot;,&quot;frame&quot;:null,&quot;gap&quot;:null,&quot;end&quot;:414,&quot;target&quot;:null,&quot;notes&quot;:&quot;[]&quot;,&quot;strand&quot;:&quot;REVERSE&quot;,&quot;start&quot;:413,&quot;exonId&quot;:null},{&quot;aliases&quot;:&quot;[]&quot;,&quot;derivesFrom&quot;:null,&quot;name&quot;:null,&quot;source&quot;:&quot;transdecoder&quot;,&quot;geneId&quot;:null,&quot;dbxrefs&quot;:&quot;[]&quot;,&quot;ontologyTerms&quot;:&quot;[]&quot;,&quot;phase&quot;:null,&quot;circular&quot;:null,&quot;score&quot;:null,&quot;featureId&quot;:&quot;Gene.10640::c10000_g1_i2::g.10640::m.10640.exon1&quot;,&quot;featureType&quot;:&quot;exon&quot;,&quot;parentIds&quot;:&quot;[Gene.10640::c10000_g1_i2::g.10640::m.10640]&quot;,&quot;contigName&quot;:&quot;c10000_g1_i2&quot;,&quot;transcriptId&quot;:null,&quot;attributes&quot;:&quot;{}&quot;,&quot;frame&quot;:null,&quot;gap&quot;:null,&quot;end&quot;:414,&quot;target&quot;:null,&quot;notes&quot;:&quot;[]&quot;,&quot;strand&quot;:&quot;REVERSE&quot;,&quot;start&quot;:0,&quot;exonId&quot;:null}],&quot;genId&quot;:&quot;360159526&quot;}\" type=\"text/x-scoped-javascript\">/*<![CDATA[*/req(['../javascripts/notebook/playground','../javascripts/notebook/magic/tableChart'], \n      function(playground, _magictableChart) {\n        // data ==> data-this (in observable.js's scopedEval) ==> this in JS => { dataId, dataInit, ... }\n        // this ==> scope (in observable.js's scopedEval) ==> this.parentElement ==> div.container below (toHtml)\n\n        playground.call(data,\n                        this\n                        ,\n                        {\n    \"f\": _magictableChart,\n    \"o\": {\"headers\":[\"featureId\",\"name\",\"source\",\"featureType\",\"contigName\",\"start\",\"end\",\"strand\",\"phase\",\"frame\",\"score\",\"geneId\",\"transcriptId\",\"exonId\",\"aliases\",\"parentIds\",\"target\",\"gap\",\"derivesFrom\",\"notes\",\"dbxrefs\",\"ontologyTerms\",\"circular\",\"attributes\"],\"width\":600,\"height\":400}\n  }\n  \n                        \n                        \n                      );\n      }\n    );/*]]>*/</script>\n    <div>\n      <span class=\"chart-total-item-count\"><p data-bind=\"text: value\"><script data-this=\"{&quot;valueId&quot;:&quot;anonaa977e56050154988bf3c8a34cf3cb41&quot;,&quot;initialValue&quot;:&quot;10&quot;}\" type=\"text/x-scoped-javascript\">/*<![CDATA[*/\nreq(\n['observable', 'knockout'],\nfunction (O, ko) {\n  ko.applyBindings({\n      value: O.makeObservable(valueId, initialValue)\n    },\n    this\n  );\n});\n        /*]]>*/</script></p> entries total</span>\n      <span class=\"chart-sampling-warning\"><p data-bind=\"text: value\"><script data-this=\"{&quot;valueId&quot;:&quot;anond95a5b722e802752d8fd059a849aa676&quot;,&quot;initialValue&quot;:&quot;&quot;}\" type=\"text/x-scoped-javascript\">/*<![CDATA[*/\nreq(\n['observable', 'knockout'],\nfunction (O, ko) {\n  ko.applyBindings({\n      value: O.makeObservable(valueId, initialValue)\n    },\n    this\n  );\n});\n        /*]]>*/</script></p></span>\n      <div>\n      </div>\n    </div></div>\n            </div><div class=\"tab-pane\" id=\"tab1201825030-1\">\n            <div>\n      <script data-this=\"{&quot;dataId&quot;:&quot;anon36a202ac06963f6ebf9e07565df096a4&quot;,&quot;dataInit&quot;:[{&quot;aliases&quot;:&quot;[]&quot;,&quot;derivesFrom&quot;:null,&quot;name&quot;:&quot;ORF%20type%3A5prime_partial%20len%3A112%20%28-%29%2Cscore%3D25.49%2CUniRef90_UPI000440677B%7C100.0%7C2.8e-56%2CUniRef90_UPI0009517C74%7C99.1%7C6.2e-56%2CUniRef90_L5JU14%7C99.1%7C8.1e-56%2CUniRef90_UPI0007689164%7C99.1%7C8.1e-56%2CUniRef90_UPI00042CD8A7%7C98.2%7C2.3e-55%2CUniRef90_K9KD70%7C97.3%7C3.1e-55%2CUniRef90_F7DFP8%7C97.3%7C3.1e-55%2CUniRef90_UPI0003290704%7C96.4%7C3.1e-55%2CUniRef90_UPI00033436D2%7C96.4%7C4.0e-55%2CUniRef90_UPI00057BC7E4%7C97.3%7C5.2e-55%2CUniRef90_UPI0007047ADE%7C97.3%7C5.2e-55%2CUniRef90_UPI0009453B6C%7C96.4%7C5.2e-55%2CUniRef90_E2QZ15%7C96.4%7C8.9e-55%2CUniRef90_E1BDD1%7C97.3%7C1.5e-54%2CUniRef90_G3MXA6%7C97.3%7C1.5e-54%2CUniRef90_A0A287BJY9%7C95.5%7C1.5e-54%2CUniRef90_UPI00023AD786%7C97.3%7C1.5e-54%2CUniRef90_UPI0003C8FB79%7C94.6%7C2.0e-54%2CUniRef90_Q8N6Q8%7C95.5%7C3.4e-54%2CUniRef90_G1PAQ3%7C95.5%7C3.4e-54%2CUniRef90_UPI0005CFFA83%7C95.5%7C3.4e-54%2CUniRef90_UPI0007DC78E8%7C95.5%7C3.4e-54%2CUniRef90_W5Q0Z5%7C96.4%7C4.4e-54%2CUniRef90_UPI00072F9D6E%7C96.4%7C4.4e-54%2CUniRef90_UPI0003F16658%7C95.5%7C7.5e-54&quot;,&quot;source&quot;:&quot;transdecoder&quot;,&quot;geneId&quot;:null,&quot;dbxrefs&quot;:&quot;[]&quot;,&quot;ontologyTerms&quot;:&quot;[]&quot;,&quot;phase&quot;:null,&quot;circular&quot;:null,&quot;score&quot;:null,&quot;featureId&quot;:&quot;Gene.10639::c10000_g1_i1::g.10639&quot;,&quot;featureType&quot;:&quot;gene&quot;,&quot;parentIds&quot;:&quot;[]&quot;,&quot;contigName&quot;:&quot;c10000_g1_i1&quot;,&quot;transcriptId&quot;:null,&quot;attributes&quot;:&quot;{}&quot;,&quot;frame&quot;:null,&quot;gap&quot;:null,&quot;end&quot;:440,&quot;target&quot;:null,&quot;notes&quot;:&quot;[]&quot;,&quot;strand&quot;:&quot;REVERSE&quot;,&quot;start&quot;:0,&quot;exonId&quot;:null},{&quot;aliases&quot;:&quot;[]&quot;,&quot;derivesFrom&quot;:null,&quot;name&quot;:&quot;ORF%20type%3A5prime_partial%20len%3A112%20%28-%29%2Cscore%3D25.49%2CUniRef90_UPI000440677B%7C100.0%7C2.8e-56%2CUniRef90_UPI0009517C74%7C99.1%7C6.2e-56%2CUniRef90_L5JU14%7C99.1%7C8.1e-56%2CUniRef90_UPI0007689164%7C99.1%7C8.1e-56%2CUniRef90_UPI00042CD8A7%7C98.2%7C2.3e-55%2CUniRef90_K9KD70%7C97.3%7C3.1e-55%2CUniRef90_F7DFP8%7C97.3%7C3.1e-55%2CUniRef90_UPI0003290704%7C96.4%7C3.1e-55%2CUniRef90_UPI00033436D2%7C96.4%7C4.0e-55%2CUniRef90_UPI00057BC7E4%7C97.3%7C5.2e-55%2CUniRef90_UPI0007047ADE%7C97.3%7C5.2e-55%2CUniRef90_UPI0009453B6C%7C96.4%7C5.2e-55%2CUniRef90_E2QZ15%7C96.4%7C8.9e-55%2CUniRef90_E1BDD1%7C97.3%7C1.5e-54%2CUniRef90_G3MXA6%7C97.3%7C1.5e-54%2CUniRef90_A0A287BJY9%7C95.5%7C1.5e-54%2CUniRef90_UPI00023AD786%7C97.3%7C1.5e-54%2CUniRef90_UPI0003C8FB79%7C94.6%7C2.0e-54%2CUniRef90_Q8N6Q8%7C95.5%7C3.4e-54%2CUniRef90_G1PAQ3%7C95.5%7C3.4e-54%2CUniRef90_UPI0005CFFA83%7C95.5%7C3.4e-54%2CUniRef90_UPI0007DC78E8%7C95.5%7C3.4e-54%2CUniRef90_W5Q0Z5%7C96.4%7C4.4e-54%2CUniRef90_UPI00072F9D6E%7C96.4%7C4.4e-54%2CUniRef90_UPI0003F16658%7C95.5%7C7.5e-54&quot;,&quot;source&quot;:&quot;transdecoder&quot;,&quot;geneId&quot;:null,&quot;dbxrefs&quot;:&quot;[]&quot;,&quot;ontologyTerms&quot;:&quot;[]&quot;,&quot;phase&quot;:null,&quot;circular&quot;:null,&quot;score&quot;:null,&quot;featureId&quot;:&quot;Gene.10639::c10000_g1_i1::g.10639::m.10639&quot;,&quot;featureType&quot;:&quot;mRNA&quot;,&quot;parentIds&quot;:&quot;[Gene.10639::c10000_g1_i1::g.10639]&quot;,&quot;contigName&quot;:&quot;c10000_g1_i1&quot;,&quot;transcriptId&quot;:null,&quot;attributes&quot;:&quot;{}&quot;,&quot;frame&quot;:null,&quot;gap&quot;:null,&quot;end&quot;:440,&quot;target&quot;:null,&quot;notes&quot;:&quot;[]&quot;,&quot;strand&quot;:&quot;REVERSE&quot;,&quot;start&quot;:0,&quot;exonId&quot;:null},{&quot;aliases&quot;:&quot;[]&quot;,&quot;derivesFrom&quot;:null,&quot;name&quot;:null,&quot;source&quot;:&quot;transdecoder&quot;,&quot;geneId&quot;:null,&quot;dbxrefs&quot;:&quot;[]&quot;,&quot;ontologyTerms&quot;:&quot;[]&quot;,&quot;phase&quot;:null,&quot;circular&quot;:null,&quot;score&quot;:null,&quot;featureId&quot;:&quot;Gene.10639::c10000_g1_i1::g.10639::m.10639.utr5p1&quot;,&quot;featureType&quot;:&quot;five_prime_UTR&quot;,&quot;parentIds&quot;:&quot;[Gene.10639::c10000_g1_i1::g.10639::m.10639]&quot;,&quot;contigName&quot;:&quot;c10000_g1_i1&quot;,&quot;transcriptId&quot;:null,&quot;attributes&quot;:&quot;{}&quot;,&quot;frame&quot;:null,&quot;gap&quot;:null,&quot;end&quot;:440,&quot;target&quot;:null,&quot;notes&quot;:&quot;[]&quot;,&quot;strand&quot;:&quot;REVERSE&quot;,&quot;start&quot;:439,&quot;exonId&quot;:null},{&quot;aliases&quot;:&quot;[]&quot;,&quot;derivesFrom&quot;:null,&quot;name&quot;:null,&quot;source&quot;:&quot;transdecoder&quot;,&quot;geneId&quot;:null,&quot;dbxrefs&quot;:&quot;[]&quot;,&quot;ontologyTerms&quot;:&quot;[]&quot;,&quot;phase&quot;:null,&quot;circular&quot;:null,&quot;score&quot;:null,&quot;featureId&quot;:&quot;Gene.10639::c10000_g1_i1::g.10639::m.10639.exon1&quot;,&quot;featureType&quot;:&quot;exon&quot;,&quot;parentIds&quot;:&quot;[Gene.10639::c10000_g1_i1::g.10639::m.10639]&quot;,&quot;contigName&quot;:&quot;c10000_g1_i1&quot;,&quot;transcriptId&quot;:null,&quot;attributes&quot;:&quot;{}&quot;,&quot;frame&quot;:null,&quot;gap&quot;:null,&quot;end&quot;:440,&quot;target&quot;:null,&quot;notes&quot;:&quot;[]&quot;,&quot;strand&quot;:&quot;REVERSE&quot;,&quot;start&quot;:0,&quot;exonId&quot;:null},{&quot;aliases&quot;:&quot;[]&quot;,&quot;derivesFrom&quot;:null,&quot;name&quot;:null,&quot;source&quot;:&quot;transdecoder&quot;,&quot;geneId&quot;:null,&quot;dbxrefs&quot;:&quot;[]&quot;,&quot;ontologyTerms&quot;:&quot;[]&quot;,&quot;phase&quot;:0,&quot;circular&quot;:null,&quot;score&quot;:null,&quot;featureId&quot;:&quot;cds.Gene.10639::c10000_g1_i1::g.10639::m.10639&quot;,&quot;featureType&quot;:&quot;CDS&quot;,&quot;parentIds&quot;:&quot;[Gene.10639::c10000_g1_i1::g.10639::m.10639]&quot;,&quot;contigName&quot;:&quot;c10000_g1_i1&quot;,&quot;transcriptId&quot;:null,&quot;attributes&quot;:&quot;{}&quot;,&quot;frame&quot;:null,&quot;gap&quot;:null,&quot;end&quot;:439,&quot;target&quot;:null,&quot;notes&quot;:&quot;[]&quot;,&quot;strand&quot;:&quot;REVERSE&quot;,&quot;start&quot;:103,&quot;exonId&quot;:null},{&quot;aliases&quot;:&quot;[]&quot;,&quot;derivesFrom&quot;:null,&quot;name&quot;:null,&quot;source&quot;:&quot;transdecoder&quot;,&quot;geneId&quot;:null,&quot;dbxrefs&quot;:&quot;[]&quot;,&quot;ontologyTerms&quot;:&quot;[]&quot;,&quot;phase&quot;:null,&quot;circular&quot;:null,&quot;score&quot;:null,&quot;featureId&quot;:&quot;Gene.10639::c10000_g1_i1::g.10639::m.10639.utr3p1&quot;,&quot;featureType&quot;:&quot;three_prime_UTR&quot;,&quot;parentIds&quot;:&quot;[Gene.10639::c10000_g1_i1::g.10639::m.10639]&quot;,&quot;contigName&quot;:&quot;c10000_g1_i1&quot;,&quot;transcriptId&quot;:null,&quot;attributes&quot;:&quot;{}&quot;,&quot;frame&quot;:null,&quot;gap&quot;:null,&quot;end&quot;:103,&quot;target&quot;:null,&quot;notes&quot;:&quot;[]&quot;,&quot;strand&quot;:&quot;REVERSE&quot;,&quot;start&quot;:0,&quot;exonId&quot;:null},{&quot;aliases&quot;:&quot;[]&quot;,&quot;derivesFrom&quot;:null,&quot;name&quot;:&quot;ORF%20type%3A5prime_partial%20len%3A112%20%28-%29%2Cscore%3D25.49%2CUniRef90_UPI000440677B%7C100.0%7C2.8e-56%2CUniRef90_UPI0009517C74%7C99.1%7C6.2e-56%2CUniRef90_L5JU14%7C99.1%7C8.1e-56%2CUniRef90_UPI0007689164%7C99.1%7C8.1e-56%2CUniRef90_UPI00042CD8A7%7C98.2%7C2.3e-55%2CUniRef90_K9KD70%7C97.3%7C3.1e-55%2CUniRef90_F7DFP8%7C97.3%7C3.1e-55%2CUniRef90_UPI0003290704%7C96.4%7C3.1e-55%2CUniRef90_UPI00033436D2%7C96.4%7C4.0e-55%2CUniRef90_UPI00057BC7E4%7C97.3%7C5.2e-55%2CUniRef90_UPI0007047ADE%7C97.3%7C5.2e-55%2CUniRef90_UPI0009453B6C%7C96.4%7C5.2e-55%2CUniRef90_E2QZ15%7C96.4%7C8.9e-55%2CUniRef90_E1BDD1%7C97.3%7C1.5e-54%2CUniRef90_G3MXA6%7C97.3%7C1.5e-54%2CUniRef90_A0A287BJY9%7C95.5%7C1.5e-54%2CUniRef90_UPI00023AD786%7C97.3%7C1.5e-54%2CUniRef90_UPI0003C8FB79%7C94.6%7C2.0e-54%2CUniRef90_Q8N6Q8%7C95.5%7C3.4e-54%2CUniRef90_G1PAQ3%7C95.5%7C3.4e-54%2CUniRef90_UPI0005CFFA83%7C95.5%7C3.4e-54%2CUniRef90_UPI0007DC78E8%7C95.5%7C3.4e-54%2CUniRef90_W5Q0Z5%7C96.4%7C4.4e-54%2CUniRef90_UPI00072F9D6E%7C96.4%7C4.4e-54%2CUniRef90_UPI0003F16658%7C95.5%7C7.5e-54&quot;,&quot;source&quot;:&quot;transdecoder&quot;,&quot;geneId&quot;:null,&quot;dbxrefs&quot;:&quot;[]&quot;,&quot;ontologyTerms&quot;:&quot;[]&quot;,&quot;phase&quot;:null,&quot;circular&quot;:null,&quot;score&quot;:null,&quot;featureId&quot;:&quot;Gene.10640::c10000_g1_i2::g.10640&quot;,&quot;featureType&quot;:&quot;gene&quot;,&quot;parentIds&quot;:&quot;[]&quot;,&quot;contigName&quot;:&quot;c10000_g1_i2&quot;,&quot;transcriptId&quot;:null,&quot;attributes&quot;:&quot;{}&quot;,&quot;frame&quot;:null,&quot;gap&quot;:null,&quot;end&quot;:414,&quot;target&quot;:null,&quot;notes&quot;:&quot;[]&quot;,&quot;strand&quot;:&quot;REVERSE&quot;,&quot;start&quot;:0,&quot;exonId&quot;:null},{&quot;aliases&quot;:&quot;[]&quot;,&quot;derivesFrom&quot;:null,&quot;name&quot;:&quot;ORF%20type%3A5prime_partial%20len%3A112%20%28-%29%2Cscore%3D25.49%2CUniRef90_UPI000440677B%7C100.0%7C2.8e-56%2CUniRef90_UPI0009517C74%7C99.1%7C6.2e-56%2CUniRef90_L5JU14%7C99.1%7C8.1e-56%2CUniRef90_UPI0007689164%7C99.1%7C8.1e-56%2CUniRef90_UPI00042CD8A7%7C98.2%7C2.3e-55%2CUniRef90_K9KD70%7C97.3%7C3.1e-55%2CUniRef90_F7DFP8%7C97.3%7C3.1e-55%2CUniRef90_UPI0003290704%7C96.4%7C3.1e-55%2CUniRef90_UPI00033436D2%7C96.4%7C4.0e-55%2CUniRef90_UPI00057BC7E4%7C97.3%7C5.2e-55%2CUniRef90_UPI0007047ADE%7C97.3%7C5.2e-55%2CUniRef90_UPI0009453B6C%7C96.4%7C5.2e-55%2CUniRef90_E2QZ15%7C96.4%7C8.9e-55%2CUniRef90_E1BDD1%7C97.3%7C1.5e-54%2CUniRef90_G3MXA6%7C97.3%7C1.5e-54%2CUniRef90_A0A287BJY9%7C95.5%7C1.5e-54%2CUniRef90_UPI00023AD786%7C97.3%7C1.5e-54%2CUniRef90_UPI0003C8FB79%7C94.6%7C2.0e-54%2CUniRef90_Q8N6Q8%7C95.5%7C3.4e-54%2CUniRef90_G1PAQ3%7C95.5%7C3.4e-54%2CUniRef90_UPI0005CFFA83%7C95.5%7C3.4e-54%2CUniRef90_UPI0007DC78E8%7C95.5%7C3.4e-54%2CUniRef90_W5Q0Z5%7C96.4%7C4.4e-54%2CUniRef90_UPI00072F9D6E%7C96.4%7C4.4e-54%2CUniRef90_UPI0003F16658%7C95.5%7C7.5e-54&quot;,&quot;source&quot;:&quot;transdecoder&quot;,&quot;geneId&quot;:null,&quot;dbxrefs&quot;:&quot;[]&quot;,&quot;ontologyTerms&quot;:&quot;[]&quot;,&quot;phase&quot;:null,&quot;circular&quot;:null,&quot;score&quot;:null,&quot;featureId&quot;:&quot;Gene.10640::c10000_g1_i2::g.10640::m.10640&quot;,&quot;featureType&quot;:&quot;mRNA&quot;,&quot;parentIds&quot;:&quot;[Gene.10640::c10000_g1_i2::g.10640]&quot;,&quot;contigName&quot;:&quot;c10000_g1_i2&quot;,&quot;transcriptId&quot;:null,&quot;attributes&quot;:&quot;{}&quot;,&quot;frame&quot;:null,&quot;gap&quot;:null,&quot;end&quot;:414,&quot;target&quot;:null,&quot;notes&quot;:&quot;[]&quot;,&quot;strand&quot;:&quot;REVERSE&quot;,&quot;start&quot;:0,&quot;exonId&quot;:null},{&quot;aliases&quot;:&quot;[]&quot;,&quot;derivesFrom&quot;:null,&quot;name&quot;:null,&quot;source&quot;:&quot;transdecoder&quot;,&quot;geneId&quot;:null,&quot;dbxrefs&quot;:&quot;[]&quot;,&quot;ontologyTerms&quot;:&quot;[]&quot;,&quot;phase&quot;:null,&quot;circular&quot;:null,&quot;score&quot;:null,&quot;featureId&quot;:&quot;Gene.10640::c10000_g1_i2::g.10640::m.10640.utr5p1&quot;,&quot;featureType&quot;:&quot;five_prime_UTR&quot;,&quot;parentIds&quot;:&quot;[Gene.10640::c10000_g1_i2::g.10640::m.10640]&quot;,&quot;contigName&quot;:&quot;c10000_g1_i2&quot;,&quot;transcriptId&quot;:null,&quot;attributes&quot;:&quot;{}&quot;,&quot;frame&quot;:null,&quot;gap&quot;:null,&quot;end&quot;:414,&quot;target&quot;:null,&quot;notes&quot;:&quot;[]&quot;,&quot;strand&quot;:&quot;REVERSE&quot;,&quot;start&quot;:413,&quot;exonId&quot;:null},{&quot;aliases&quot;:&quot;[]&quot;,&quot;derivesFrom&quot;:null,&quot;name&quot;:null,&quot;source&quot;:&quot;transdecoder&quot;,&quot;geneId&quot;:null,&quot;dbxrefs&quot;:&quot;[]&quot;,&quot;ontologyTerms&quot;:&quot;[]&quot;,&quot;phase&quot;:null,&quot;circular&quot;:null,&quot;score&quot;:null,&quot;featureId&quot;:&quot;Gene.10640::c10000_g1_i2::g.10640::m.10640.exon1&quot;,&quot;featureType&quot;:&quot;exon&quot;,&quot;parentIds&quot;:&quot;[Gene.10640::c10000_g1_i2::g.10640::m.10640]&quot;,&quot;contigName&quot;:&quot;c10000_g1_i2&quot;,&quot;transcriptId&quot;:null,&quot;attributes&quot;:&quot;{}&quot;,&quot;frame&quot;:null,&quot;gap&quot;:null,&quot;end&quot;:414,&quot;target&quot;:null,&quot;notes&quot;:&quot;[]&quot;,&quot;strand&quot;:&quot;REVERSE&quot;,&quot;start&quot;:0,&quot;exonId&quot;:null}],&quot;genId&quot;:&quot;2057156734&quot;}\" type=\"text/x-scoped-javascript\">/*<![CDATA[*/req(['../javascripts/notebook/playground','../javascripts/notebook/magic/pivotChart'], \n      function(playground, _magicpivotChart) {\n        // data ==> data-this (in observable.js's scopedEval) ==> this in JS => { dataId, dataInit, ... }\n        // this ==> scope (in observable.js's scopedEval) ==> this.parentElement ==> div.container below (toHtml)\n\n        playground.call(data,\n                        this\n                        ,\n                        {\n    \"f\": _magicpivotChart,\n    \"o\": {\"width\":600,\"height\":400,\"derivedAttributes\":{},\"extraOptions\":{}}\n  }\n  \n                        \n                        \n                      );\n      }\n    );/*]]>*/</script>\n    <div>\n      <span class=\"chart-total-item-count\"><p data-bind=\"text: value\"><script data-this=\"{&quot;valueId&quot;:&quot;anon642e0d048af3b3785d6a6325f70fab1d&quot;,&quot;initialValue&quot;:&quot;10&quot;}\" type=\"text/x-scoped-javascript\">/*<![CDATA[*/\nreq(\n['observable', 'knockout'],\nfunction (O, ko) {\n  ko.applyBindings({\n      value: O.makeObservable(valueId, initialValue)\n    },\n    this\n  );\n});\n        /*]]>*/</script></p> entries total</span>\n      <span class=\"chart-sampling-warning\"><p data-bind=\"text: value\"><script data-this=\"{&quot;valueId&quot;:&quot;anon3dc1b17e73998ed4c1fb3a5649093871&quot;,&quot;initialValue&quot;:&quot;&quot;}\" type=\"text/x-scoped-javascript\">/*<![CDATA[*/\nreq(\n['observable', 'knockout'],\nfunction (O, ko) {\n  ko.applyBindings({\n      value: O.makeObservable(valueId, initialValue)\n    },\n    this\n  );\n});\n        /*]]>*/</script></p></span>\n      <div>\n      </div>\n    </div></div>\n            </div></div>\n      </div>\n    </div></div>"
          },
          "output_type" : "execute_result",
          "execution_count" : 10,
          "time" : "Took: 1.559s, at 2018-01-19 00:23"
        }
      ]
    },
    {
      "metadata" : {
        "trusted" : true,
        "input_collapsed" : false,
        "collapsed" : false,
        "presentation" : {
          "tabs_state" : "{\n  \"tab_id\": \"#tab188431640-0\"\n}",
          "pivot_chart_state" : "{\n  \"hiddenAttributes\": [],\n  \"menuLimit\": 200,\n  \"cols\": [],\n  \"rows\": [],\n  \"vals\": [],\n  \"exclusions\": {},\n  \"inclusions\": {},\n  \"unusedAttrsVertical\": 85,\n  \"autoSortUnusedAttrs\": false,\n  \"inclusionsInfo\": {},\n  \"aggregatorName\": \"Count\",\n  \"rendererName\": \"Table\"\n}"
        },
        "id" : "D4BE0E51290541898E29F4E098CA183D"
      },
      "cell_type" : "code",
      "source" : [
        "features.rdd.map(_.getFeatureType).distinct().collect().toList"
      ],
      "outputs" : [
        {
          "name" : "stdout",
          "output_type" : "stream",
          "text" : "res16: List[String] = List(mRNA, CDS, three_prime_UTR, exon, gene, five_prime_UTR)\n"
        },
        {
          "metadata" : { },
          "data" : {
            "text/html" : "<div>\n      <script data-this=\"{&quot;dataId&quot;:&quot;anon936f118c2aba2cf8110019766edb9d8c&quot;,&quot;dataInit&quot;:[],&quot;genId&quot;:&quot;188431640&quot;}\" type=\"text/x-scoped-javascript\">/*<![CDATA[*/req(['../javascripts/notebook/playground','../javascripts/notebook/magic/tabs'], \n      function(playground, _magictabs) {\n        // data ==> data-this (in observable.js's scopedEval) ==> this in JS => { dataId, dataInit, ... }\n        // this ==> scope (in observable.js's scopedEval) ==> this.parentElement ==> div.container below (toHtml)\n\n        playground.call(data,\n                        this\n                        ,\n                        {\n    \"f\": _magictabs,\n    \"o\": {}\n  }\n  \n                        \n                        \n                      );\n      }\n    );/*]]>*/</script>\n    <div>\n      <div>\n        <ul class=\"nav nav-tabs\" id=\"ul188431640\"><li>\n              <a href=\"#tab188431640-0\"><i class=\"fa fa-table\"/></a>\n            </li><li>\n              <a href=\"#tab188431640-1\"><i class=\"fa fa-cubes\"/></a>\n            </li></ul>\n\n        <div class=\"tab-content\" id=\"tab188431640\"><div class=\"tab-pane\" id=\"tab188431640-0\">\n            <div>\n      <script data-this=\"{&quot;dataId&quot;:&quot;anona8e3ff5c432ac75fa0f9d8f927654a32&quot;,&quot;dataInit&quot;:[{&quot;string value&quot;:&quot;mRNA&quot;},{&quot;string value&quot;:&quot;CDS&quot;},{&quot;string value&quot;:&quot;three_prime_UTR&quot;},{&quot;string value&quot;:&quot;exon&quot;},{&quot;string value&quot;:&quot;gene&quot;},{&quot;string value&quot;:&quot;five_prime_UTR&quot;}],&quot;genId&quot;:&quot;1928270980&quot;}\" type=\"text/x-scoped-javascript\">/*<![CDATA[*/req(['../javascripts/notebook/playground','../javascripts/notebook/magic/tableChart'], \n      function(playground, _magictableChart) {\n        // data ==> data-this (in observable.js's scopedEval) ==> this in JS => { dataId, dataInit, ... }\n        // this ==> scope (in observable.js's scopedEval) ==> this.parentElement ==> div.container below (toHtml)\n\n        playground.call(data,\n                        this\n                        ,\n                        {\n    \"f\": _magictableChart,\n    \"o\": {\"headers\":[\"string value\"],\"width\":600,\"height\":400}\n  }\n  \n                        \n                        \n                      );\n      }\n    );/*]]>*/</script>\n    <div>\n      <span class=\"chart-total-item-count\"><p data-bind=\"text: value\"><script data-this=\"{&quot;valueId&quot;:&quot;anon091343e0cfea62273db816fa921a0dc6&quot;,&quot;initialValue&quot;:&quot;6&quot;}\" type=\"text/x-scoped-javascript\">/*<![CDATA[*/\nreq(\n['observable', 'knockout'],\nfunction (O, ko) {\n  ko.applyBindings({\n      value: O.makeObservable(valueId, initialValue)\n    },\n    this\n  );\n});\n        /*]]>*/</script></p> entries total</span>\n      <span class=\"chart-sampling-warning\"><p data-bind=\"text: value\"><script data-this=\"{&quot;valueId&quot;:&quot;anonc1613cf089a14d39c8fde43444e83ebd&quot;,&quot;initialValue&quot;:&quot;&quot;}\" type=\"text/x-scoped-javascript\">/*<![CDATA[*/\nreq(\n['observable', 'knockout'],\nfunction (O, ko) {\n  ko.applyBindings({\n      value: O.makeObservable(valueId, initialValue)\n    },\n    this\n  );\n});\n        /*]]>*/</script></p></span>\n      <div>\n      </div>\n    </div></div>\n            </div><div class=\"tab-pane\" id=\"tab188431640-1\">\n            <div>\n      <script data-this=\"{&quot;dataId&quot;:&quot;anon0daca5f3d8c573c71e977029cb8e75df&quot;,&quot;dataInit&quot;:[{&quot;string value&quot;:&quot;mRNA&quot;},{&quot;string value&quot;:&quot;CDS&quot;},{&quot;string value&quot;:&quot;three_prime_UTR&quot;},{&quot;string value&quot;:&quot;exon&quot;},{&quot;string value&quot;:&quot;gene&quot;},{&quot;string value&quot;:&quot;five_prime_UTR&quot;}],&quot;genId&quot;:&quot;701228891&quot;}\" type=\"text/x-scoped-javascript\">/*<![CDATA[*/req(['../javascripts/notebook/playground','../javascripts/notebook/magic/pivotChart'], \n      function(playground, _magicpivotChart) {\n        // data ==> data-this (in observable.js's scopedEval) ==> this in JS => { dataId, dataInit, ... }\n        // this ==> scope (in observable.js's scopedEval) ==> this.parentElement ==> div.container below (toHtml)\n\n        playground.call(data,\n                        this\n                        ,\n                        {\n    \"f\": _magicpivotChart,\n    \"o\": {\"width\":600,\"height\":400,\"derivedAttributes\":{},\"extraOptions\":{}}\n  }\n  \n                        \n                        \n                      );\n      }\n    );/*]]>*/</script>\n    <div>\n      <span class=\"chart-total-item-count\"><p data-bind=\"text: value\"><script data-this=\"{&quot;valueId&quot;:&quot;anon353c239f439b84abf39e9509a5d632d5&quot;,&quot;initialValue&quot;:&quot;6&quot;}\" type=\"text/x-scoped-javascript\">/*<![CDATA[*/\nreq(\n['observable', 'knockout'],\nfunction (O, ko) {\n  ko.applyBindings({\n      value: O.makeObservable(valueId, initialValue)\n    },\n    this\n  );\n});\n        /*]]>*/</script></p> entries total</span>\n      <span class=\"chart-sampling-warning\"><p data-bind=\"text: value\"><script data-this=\"{&quot;valueId&quot;:&quot;anon90ea33cc6d66c4e006eb0950cec34a62&quot;,&quot;initialValue&quot;:&quot;&quot;}\" type=\"text/x-scoped-javascript\">/*<![CDATA[*/\nreq(\n['observable', 'knockout'],\nfunction (O, ko) {\n  ko.applyBindings({\n      value: O.makeObservable(valueId, initialValue)\n    },\n    this\n  );\n});\n        /*]]>*/</script></p></span>\n      <div>\n      </div>\n    </div></div>\n            </div></div>\n      </div>\n    </div></div>"
          },
          "output_type" : "execute_result",
          "execution_count" : 13,
          "time" : "Took: 3.149s, at 2018-01-19 00:32"
        }
      ]
    },
    {
      "metadata" : {
        "trusted" : true,
        "input_collapsed" : false,
        "collapsed" : true,
        "id" : "8A97E78796DD4056A94D3CDE38B3A3E2"
      },
      "cell_type" : "code",
      "source" : [
        ""
      ],
      "outputs" : [ ]
    }
  ],
  "nbformat" : 4
}