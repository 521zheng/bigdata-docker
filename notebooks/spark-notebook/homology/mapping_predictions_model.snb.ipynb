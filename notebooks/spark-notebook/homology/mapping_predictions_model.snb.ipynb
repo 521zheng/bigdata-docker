{
  "metadata" : {
    "id" : "2c477689-fb27-41f9-a5ac-97b42c5c05dc",
    "name" : "mapping_predictions_model",
    "user_save_timestamp" : "2018-01-20T01:59:01.295Z",
    "auto_save_timestamp" : "1970-01-01T00:00:00.000Z",
    "language_info" : {
      "name" : "scala",
      "file_extension" : "scala",
      "codemirror_mode" : "text/x-scala"
    },
    "trusted" : true,
    "sparkNotebook" : null,
    "customLocalRepo" : "/root/.coursier/cache/v1",
    "customRepos" : [
      "comp-bio-aging % default % https://dl.bintray.com/comp-bio-aging/main/",
      "denigma % default % https://dl.bintray.com/denigma/denigma-releases/",
      "releases % default % https://oss.sonatype.org/content/repositories/releases",
      "snapshots % default % https://oss.sonatype.org/content/repositories/snapshots/"
    ],
    "customDeps" : [
      "org.bdgenomics.adam %% adam-core-spark2 % 0.23.0",
      "comp.bio.aging %% adam-playground % 0.0.9",
      "com.crealytics %% spark-excel % 0.9.9",
      "org.typelevel %% frameless-cats    % 0.5.0",
      "org.typelevel %% frameless-dataset   % 0.5.0",
      "com.github.pathikrit  %% better-files  % 3.4.0",
      "org.apache.hadoop % hadoop-azure % 2.7.5"
    ],
    "customImports" : null,
    "customArgs" : null,
    "customSparkConf" : {
      "spark.master" : "spark://spark-master:7077",
      "spark.executor.cores" : "8",
      "spark.executor.memory" : "15G",
      "spark.serializer" : "org.apache.spark.serializer.KryoSerializer",
      "spark.kryo.registrator" : "org.bdgenomics.adam.serialization.ADAMKryoRegistrator",
      "spark.kryo.referenceTracking" : "true"
    },
    "customVars" : null
  },
  "cells" : [
    {
      "metadata" : {
        "trusted" : true,
        "input_collapsed" : false,
        "collapsed" : false,
        "id" : "99C31FAA4900457583349F96F5418FA8"
      },
      "cell_type" : "code",
      "source" : [
        "import org.apache.spark.sql.{DataFrame, Encoders, SparkSession}\n",
        "import org.apache.spark.sql.types.StructType\n",
        "import org.bdgenomics.adam.rdd.ADAMContext._\n",
        "import org.bdgenomics.adam.rdd.ADAMContextExtensions._\n",
        "import scala.reflect.runtime.universe._\n",
        "import comp.bio.aging.playground.extras.uniprot._\n",
        "import org.apache.spark.storage.StorageLevel"
      ],
      "outputs" : [
        {
          "name" : "stdout",
          "output_type" : "stream",
          "text" : "import org.apache.spark.sql.{DataFrame, Encoders, SparkSession}\nimport org.apache.spark.sql.types.StructType\nimport org.bdgenomics.adam.rdd.ADAMContext._\nimport org.bdgenomics.adam.rdd.ADAMContextExtensions._\nimport scala.reflect.runtime.universe._\nimport comp.bio.aging.playground.extras.uniprot._\nimport org.apache.spark.storage.StorageLevel\n"
        },
        {
          "metadata" : { },
          "data" : {
            "text/html" : ""
          },
          "output_type" : "execute_result",
          "execution_count" : 1,
          "time" : "Took: 2.088s, at 2018-04-14 17:31"
        }
      ]
    },
    {
      "metadata" : {
        "trusted" : true,
        "input_collapsed" : false,
        "collapsed" : false,
        "id" : "5E7802CB71DF434988DF1E056C42DF1B"
      },
      "cell_type" : "code",
      "source" : [
        "def sparkHadoopConf(sc: SparkContext, acountName: String, accountKey: String) = {\n",
        "  sc.hadoopConfiguration.set(\"fs.azure\", \"org.apache.hadoop.fs.azure.NativeAzureFileSystem\")\n",
        "  sc.hadoopConfiguration.set(\"fs.azure.account.key.\" + acountName + \".blob.core.windows.net\", accountKey)\n",
        "  sc\n",
        "}"
      ],
      "outputs" : [
        {
          "name" : "stdout",
          "output_type" : "stream",
          "text" : "sparkHadoopConf: (sc: org.apache.spark.SparkContext, acountName: String, accountKey: String)org.apache.spark.SparkContext\n"
        },
        {
          "metadata" : { },
          "data" : {
            "text/html" : ""
          },
          "output_type" : "execute_result",
          "execution_count" : 3,
          "time" : "Took: 0.856s, at 2018-04-14 17:32"
        }
      ]
    },
    {
      "metadata" : {
        "trusted" : true,
        "input_collapsed" : false,
        "collapsed" : false,
        "id" : "3E39E958A500473F80EE396A2666C442"
      },
      "cell_type" : "code",
      "source" : [
        "def azurize(container: String, accountName: String, blobFile: String): String = \"wasbs://\"+container+\"@\"+accountName+\".blob.core.windows.net/\"+blobFile \n",
        "\n",
        "def writeText2Azure[T]( rdd: RDD[T], container: String, accountName: String, blobFile: String ): String =\n",
        "{\n",
        "  val url = azurize(container, accountName, blobFile)\n",
        "  rdd.saveAsTextFile(url)\n",
        "  url\n",
        "}\n",
        "\n",
        "def writeTsv2Azure( df: DataFrame, container: String, accountName: String, blobFile: String ): String =\n",
        "{\n",
        "  val url = azurize(container, accountName, blobFile)\n",
        "  df.write.option(\"sep\",\"\\t\").option(\"header\",\"true\").csv(url)\n",
        "  url\n",
        "}"
      ],
      "outputs" : [
        {
          "name" : "stdout",
          "output_type" : "stream",
          "text" : "azurize: (container: String, accountName: String, blobFile: String)String\nwriteText2Azure: [T](rdd: org.apache.spark.rdd.RDD[T], container: String, accountName: String, blobFile: String)String\nwriteTsv2Azure: (df: org.apache.spark.sql.DataFrame, container: String, accountName: String, blobFile: String)String\n"
        },
        {
          "metadata" : { },
          "data" : {
            "text/html" : ""
          },
          "output_type" : "execute_result",
          "execution_count" : 4,
          "time" : "Took: 0.877s, at 2018-04-14 17:32"
        }
      ]
    },
    {
      "metadata" : {
        "trusted" : true,
        "input_collapsed" : false,
        "collapsed" : false,
        "id" : "2DB50761C0864F498B6B8DC65C447EC0"
      },
      "cell_type" : "code",
      "source" : [
        "val connString = \"DefaultEndpointsProtocol=https;AccountName=pipelines1;AccountKey=;EndpointSuffix=core.windows.net\"\n",
        "val account = \"pipelines1\"\n",
        "val key = \"\"\n",
        "def az(path: String): String = azurize(\"storage\", account, path)"
      ],
      "outputs" : [
        {
          "name" : "stdout",
          "output_type" : "stream",
          "text" : "connString: String = DefaultEndpointsProtocol=https;AccountName=pipelines1;AccountKey=;EndpointSuffix=core.windows.net\naccount: String = pipelines1\nkey: String = \naz: (path: String)String\n"
        },
        {
          "metadata" : { },
          "data" : {
            "text/html" : ""
          },
          "output_type" : "execute_result",
          "execution_count" : 5,
          "time" : "Took: 0.846s, at 2018-04-14 17:32"
        }
      ]
    },
    {
      "metadata" : {
        "trusted" : true,
        "input_collapsed" : false,
        "collapsed" : false,
        "id" : "266B6BE9C99147EA8AA9196A2986D5E1"
      },
      "cell_type" : "code",
      "source" : [
        "sparkHadoopConf(sparkContext, account, key)\n",
        "  \n",
        "val spark = SparkSession\n",
        "  .builder()\n",
        "  .appName(\"mapping_models\")\n",
        "  .getOrCreate()"
      ],
      "outputs" : [
        {
          "name" : "stdout",
          "output_type" : "stream",
          "text" : "spark: org.apache.spark.sql.SparkSession = org.apache.spark.sql.SparkSession@70287b35\n"
        },
        {
          "metadata" : { },
          "data" : {
            "text/html" : ""
          },
          "output_type" : "execute_result",
          "execution_count" : 6,
          "time" : "Took: 2.038s, at 2018-04-14 17:32"
        }
      ]
    },
    {
      "metadata" : {
        "trusted" : true,
        "input_collapsed" : false,
        "collapsed" : false,
        "id" : "DB5912BFD24D45BE979587FBC4FEE8A7"
      },
      "cell_type" : "code",
      "source" : [
        "import org.apache.spark.sql.functions._\n",
        "import spark.implicits._\n",
        "\n",
        "val toDouble = udf[Double, String]( _.toDouble)"
      ],
      "outputs" : [
        {
          "name" : "stdout",
          "output_type" : "stream",
          "text" : "import org.apache.spark.sql.functions._\nimport spark.implicits._\ntoDouble: org.apache.spark.sql.expressions.UserDefinedFunction = UserDefinedFunction(<function1>,DoubleType,Some(List(StringType)))\n"
        },
        {
          "metadata" : { },
          "data" : {
            "text/html" : ""
          },
          "output_type" : "execute_result",
          "execution_count" : 7,
          "time" : "Took: 2.326s, at 2018-04-14 17:32"
        }
      ]
    },
    {
      "metadata" : {
        "trusted" : true,
        "input_collapsed" : false,
        "collapsed" : false,
        "id" : "712DD799E41F475B88666BB78B6DEF40"
      },
      "cell_type" : "code",
      "source" : [
        "//val base = \"/batch/quant\"\n",
        "//val base = \"/storage/expressions/models\"\n",
        "val base = \"/samples\""
      ],
      "outputs" : [
        {
          "name" : "stdout",
          "output_type" : "stream",
          "text" : "base: String = /samples\n"
        },
        {
          "metadata" : { },
          "data" : {
            "text/html" : ""
          },
          "output_type" : "execute_result",
          "execution_count" : 14,
          "time" : "Took: 0.770s, at 2018-04-14 23:23"
        }
      ]
    },
    {
      "metadata" : {
        "trusted" : true,
        "input_collapsed" : false,
        "collapsed" : false,
        "id" : "DF9DFEA07D924FA3B8BD73B40C5C3D4B"
      },
      "cell_type" : "code",
      "source" : [
        "//val human_liver_path = az(base + \"/Homo sapiens_totalRNA_GSM1698568_quant.sf\")\n",
        "//val human_kidney_path = az(base + \"/Homo sapiens_totalRNA_GSM1698570_quant.sf\")\n",
        "def quant(gse: String, gsm: String) = az(base + s\"/${gse}/${gsm}/transcripts_quant/quant.sf\")\n",
        "\n",
        "val human_liver_path = quant(\"GSE69360\", \"GSM1698568\")\n",
        "val human_kidney_path = quant(\"GSE69360\", \"GSM1698570\")\n",
        "\n",
        "val mouse_liver_totalRNA_path  = quant(\"GSE58089\", \"GSM1400574\")\n",
        "val mouse_kidney_totalRNA_path = quant(\"GSE83144\", \"GSM2195188\")\n",
        "val mouse_liver_mRNA_path  = quant(\"GSE108990\", \"GSM2927683\")\n",
        "val mouse_kidney_mRNA_path = quant(\"GSE108990\", \"GSM2927750\")\n",
        "\n",
        "val cow_liver_mRNA_path = quant(\"GSE77020\", \"GSM2042593\")\n",
        "val cow_kidney_mRNA_path = quant(\"GSE77020\", \"GSM2042596\")\n",
        "val cow_liver_totalRNA_path = quant(\"GSE41637\",\"GSM1020724\")\n",
        "val cow_kidney_totalRNA_path = quant(\"GSE41637\",\"GSM1020723\")\n",
        "\n"
      ],
      "outputs" : [
        {
          "name" : "stdout",
          "output_type" : "stream",
          "text" : "quant: (gse: String, gsm: String)String\nhuman_liver_path: String = wasbs://storage@pipelines1.blob.core.windows.net//samples/GSE69360/GSM1698568/transcripts_quant/quant.sf\nhuman_kidney_path: String = wasbs://storage@pipelines1.blob.core.windows.net//samples/GSE69360/GSM1698570/transcripts_quant/quant.sf\nmouse_liver_totalRNA_path: String = wasbs://storage@pipelines1.blob.core.windows.net//samples/GSE58089/GSM1400574/transcripts_quant/quant.sf\nmouse_kidney_totalRNA_path: String = wasbs://storage@pipelines1.blob.core.windows.net//samples/GSE83144/GSM2195188/transcripts_quant/quant.sf\nmouse_liver_mRNA_path: String = wasbs://storage@pipelines1.blob.core.windows.net//samples/GSE108990/GSM2927683/transcripts_quant/quant.sf\nmouse_kidney_mRNA_path: String = wasbs://storage@pipelines1.blob.core.w..."
        },
        {
          "metadata" : { },
          "data" : {
            "text/html" : ""
          },
          "output_type" : "execute_result",
          "execution_count" : 15,
          "time" : "Took: 0.924s, at 2018-04-14 23:23"
        }
      ]
    },
    {
      "metadata" : {
        "trusted" : true,
        "input_collapsed" : false,
        "collapsed" : false,
        "id" : "2BA9453C2045461E8EFCEBBC772A7349"
      },
      "cell_type" : "code",
      "source" : [
        "def load_liver(path: String) = spark.readTSV(path, true).withColumn(\"liver\", toDouble($\"TPM\")).drop(\"TPM\").withColumnRenamed(\"Name\",\"transcript\")\n",
        "def load_kidney(path: String) = spark.readTSV(path, true).withColumn(\"kidney\", toDouble($\"TPM\")).drop(\"TPM\").withColumnRenamed(\"Name\",\"transcript\")\n",
        "def join_liver_kidney(liver: DataFrame, kidney: DataFrame): DataFrame =\n",
        "    liver.join(kidney.withColumnRenamed(\"transcript\", \"kidney_transcript\"), $\"transcript\" === $\"kidney_transcript\")\n",
        "    .select($\"transcript\", $\"liver\", $\"kidney\", ($\"liver\" + $\"kidney\").as(\"avg_expression\"))    \n",
        "    .sort($\"avg_expression\".desc)"
      ],
      "outputs" : [
        {
          "name" : "stdout",
          "output_type" : "stream",
          "text" : "load_liver: (path: String)org.apache.spark.sql.DataFrame\nload_kidney: (path: String)org.apache.spark.sql.DataFrame\njoin_liver_kidney: (liver: org.apache.spark.sql.DataFrame, kidney: org.apache.spark.sql.DataFrame)org.apache.spark.sql.DataFrame\n"
        },
        {
          "metadata" : { },
          "data" : {
            "text/html" : ""
          },
          "output_type" : "execute_result",
          "execution_count" : 16,
          "time" : "Took: 0.935s, at 2018-04-14 23:23"
        }
      ]
    },
    {
      "metadata" : {
        "trusted" : true,
        "input_collapsed" : false,
        "collapsed" : false,
        "id" : "051374EC3921488C8F8BDA16A387ABC2"
      },
      "cell_type" : "code",
      "source" : [
        "val human = join_liver_kidney(load_liver(human_liver_path), load_kidney(human_kidney_path))\n",
        "val mouse_totalRNA = join_liver_kidney(load_liver(mouse_liver_totalRNA_path), load_kidney(mouse_kidney_totalRNA_path))\n",
        "val mouse_mRNA = join_liver_kidney(load_liver(mouse_liver_mRNA_path), load_kidney(mouse_kidney_mRNA_path))\n",
        "val cow_totalRNA = join_liver_kidney(load_liver(cow_liver_totalRNA_path), load_kidney(cow_kidney_totalRNA_path))\n",
        "val cow_mRNA = join_liver_kidney(load_liver(cow_liver_mRNA_path), load_kidney(cow_kidney_mRNA_path))"
      ],
      "outputs" : [
        {
          "name" : "stdout",
          "output_type" : "stream",
          "text" : "human: org.apache.spark.sql.DataFrame = [transcript: string, liver: double ... 2 more fields]\nmouse_totalRNA: org.apache.spark.sql.DataFrame = [transcript: string, liver: double ... 2 more fields]\nmouse_mRNA: org.apache.spark.sql.DataFrame = [transcript: string, liver: double ... 2 more fields]\ncow_totalRNA: org.apache.spark.sql.DataFrame = [transcript: string, liver: double ... 2 more fields]\ncow_mRNA: org.apache.spark.sql.DataFrame = [transcript: string, liver: double ... 2 more fields]\n"
        },
        {
          "metadata" : { },
          "data" : {
            "text/html" : ""
          },
          "output_type" : "execute_result",
          "execution_count" : 17,
          "time" : "Took: 16.309s, at 2018-04-14 23:24"
        }
      ]
    },
    {
      "metadata" : {
        "trusted" : true,
        "input_collapsed" : false,
        "collapsed" : false,
        "presentation" : {
          "tabs_state" : "{\n  \"tab_id\": \"#tab1495681407-0\"\n}",
          "pivot_chart_state" : "{\n  \"hiddenAttributes\": [],\n  \"menuLimit\": 200,\n  \"cols\": [],\n  \"rows\": [],\n  \"vals\": [],\n  \"exclusions\": {},\n  \"inclusions\": {},\n  \"unusedAttrsVertical\": 85,\n  \"autoSortUnusedAttrs\": false,\n  \"inclusionsInfo\": {},\n  \"aggregatorName\": \"Count\",\n  \"rendererName\": \"Table\"\n}"
        },
        "id" : "BE330E00EF5D4459830EFBC1CE741542"
      },
      "cell_type" : "code",
      "source" : [
        "/*\n",
        "def simplify(dataFrame: DataFrame): Dataset[(String, Double, Double, Double)] = dataFrame.map{ row=>\n",
        "  val tran = row.getAs[String](\"transcript\")\n",
        "  val tr = tran.substring(0,  Math.min(tran.indexOf('|'), tran.length))\n",
        "  (tr.substring(0, Math.min(tr.indexOf('.'),tr.length)),\trow.getAs[Double](\"liver\"), row.getAs[Double](\"kidney\"), row.getAs[Double](\"avg_expression\"))\n",
        "}\n",
        "*/\n",
        "\n",
        "def simplify(dataFrame: DataFrame): Dataset[(String, Double, Double, Double)] = dataFrame.map{ row=>\n",
        "  val tran = row.getAs[String](\"transcript\")\n",
        "  val i = tran.indexOf('|')\n",
        "  val tr = if(i> 0) tran.substring(0, tran.indexOf('|')) else tran\n",
        "  val transcript =  tr.substring(0, Math.min(tr.indexOf('.'),tr.length))\n",
        "  (transcript,\t(row.getAs[Double](\"liver\"), row.getAs[Double](\"kidney\"), row.getAs[Double](\"avg_expression\")))\n",
        "}.rdd.reduceByKey{ case ((a1, b1, c1), (a2, b2,c2)) => (a1+a2, b1+b2, c1 + c2)}\n",
        "    .map{ case (a, (b ,c, d)) => (a, b ,c ,d)}\n",
        "  .toDS()"
      ],
      "outputs" : [
        {
          "name" : "stdout",
          "output_type" : "stream",
          "text" : "simplify: (dataFrame: org.apache.spark.sql.DataFrame)org.apache.spark.sql.Dataset[(String, Double, Double, Double)]\nhuman_simple: org.apache.spark.sql.DataFrame = [transcript: string, liver: double ... 2 more fields]\nmouse_totalRNA_simple: org.apache.spark.sql.DataFrame = [transcript: string, liver: double ... 2 more fields]\nmouse_mRNA_simple: org.apache.spark.sql.DataFrame = [transcript: string, liver: double ... 2 more fields]\n"
        },
        {
          "metadata" : { },
          "data" : {
            "text/html" : ""
          },
          "output_type" : "execute_result",
          "execution_count" : 51,
          "time" : "Took: 7.283s, at 2018-04-14 23:47"
        }
      ]
    },
    {
      "metadata" : {
        "trusted" : true,
        "input_collapsed" : false,
        "collapsed" : false,
        "id" : "47B7B14166F64FCAA34B0D737C43C42B"
      },
      "cell_type" : "code",
      "source" : [
        "val human_simple = simplify(human).toDF(\"transcript\", \"liver\", \"kidney\", \"avg_expression\")\n",
        "val mouse_totalRNA_simple = simplify(mouse_totalRNA).toDF(\"transcript\", \"liver\", \"kidney\", \"avg_expression\")\n",
        "val mouse_mRNA_simple = simplify(mouse_mRNA).toDF(\"transcript\", \"liver\", \"kidney\", \"avg_expression\")\n",
        "val cow_totalRNA_simple = simplify(cow_totalRNA).toDF(\"transcript\", \"liver\", \"kidney\", \"avg_expression\")\n",
        "val cow_mRNA_simple = simplify(cow_mRNA).toDF(\"transcript\", \"liver\", \"kidney\", \"avg_expression\")"
      ],
      "outputs" : [
        {
          "name" : "stdout",
          "output_type" : "stream",
          "text" : "human_simple: org.apache.spark.sql.DataFrame = [transcript: string, liver: double ... 2 more fields]\nmouse_totalRNA_simple: org.apache.spark.sql.DataFrame = [transcript: string, liver: double ... 2 more fields]\nmouse_mRNA_simple: org.apache.spark.sql.DataFrame = [transcript: string, liver: double ... 2 more fields]\ncow_totalRNA_simple: org.apache.spark.sql.DataFrame = [transcript: string, liver: double ... 2 more fields]\ncow_mRNA_simple: org.apache.spark.sql.DataFrame = [transcript: string, liver: double ... 2 more fields]\n"
        },
        {
          "metadata" : { },
          "data" : {
            "text/html" : ""
          },
          "output_type" : "execute_result",
          "execution_count" : 52,
          "time" : "Took: 10.343s, at 2018-04-14 23:48"
        }
      ]
    },
    {
      "metadata" : {
        "trusted" : true,
        "input_collapsed" : false,
        "collapsed" : false,
        "id" : "1637F2D27CCA4709BFDB1695B3FFE642"
      },
      "cell_type" : "code",
      "source" : [
        "val headers = List(\"uniprot_ac\", \"uniprot_id\", \"entrez\", \"refSeq\", \"gi\", \"pdb\", \"go\", \n",
        "  \"uniref100\", \"uniref90\", \"uniref50\", \"uniparc\", \"pir\", \n",
        "  \"taxon\", \"mim\", \"unigene\", \"pubmed\", \"embl\", \"embl_cds\", \n",
        "  \"ensembl\", /*\"ensembl_trs\"*/ \"transcript\", \"ensembl_pro\", \"additional_pubmed\") "
      ],
      "outputs" : [
        {
          "name" : "stdout",
          "output_type" : "stream",
          "text" : "headers: List[String] = List(uniprot_ac, uniprot_id, entrez, refSeq, gi, pdb, go, uniref100, uniref90, uniref50, uniparc, pir, taxon, mim, unigene, pubmed, embl, embl_cds, ensembl, transcript, ensembl_pro, additional_pubmed)\n"
        },
        {
          "metadata" : { },
          "data" : {
            "text/html" : ""
          },
          "output_type" : "execute_result",
          "execution_count" : 19,
          "time" : "Took: 0.872s, at 2018-04-14 23:26"
        }
      ]
    },
    {
      "metadata" : {
        "trusted" : true,
        "input_collapsed" : false,
        "collapsed" : false,
        "id" : "4EF23DCA223C42968468BBC51A62DC25"
      },
      "cell_type" : "code",
      "source" : [
        "val columns = List(\"transcript\", \"uniref90\", \"go\", \"liver\",\"kidney\", \"avg_expression\", \"uniprot_ac\", \"taxon\", \"uniprot_id\", \"entrez\", \"refSeq\", \"gi\", \"uniparc\", \"pubmed\", \"embl\")\n",
        "\n",
        "def joinMapping(mapping: Dataset[UniprotMapping], df: DataFrame): DataFrame = {\n",
        "  val mdf = mapping.flatMap{ u=> if(u.ensembl_trs == null) Nil else  u.ensembl_trs.split(';').map(trs=>u.copy(ensembl_trs = trs)) }.toDF(headers:_*)\n",
        "  mdf.join(df, \"transcript\").select(columns.head, columns.tail:_*)\n",
        "}"
      ],
      "outputs" : [
        {
          "name" : "stdout",
          "output_type" : "stream",
          "text" : "columns: List[String] = List(transcript, uniref90, go, liver, kidney, avg_expression, uniprot_ac, taxon, uniprot_id, entrez, refSeq, gi, uniparc, pubmed, embl)\njoinMapping: (mapping: org.apache.spark.sql.Dataset[comp.bio.aging.playground.extras.uniprot.UniprotMapping], df: org.apache.spark.sql.DataFrame)org.apache.spark.sql.DataFrame\n"
        },
        {
          "metadata" : { },
          "data" : {
            "text/html" : ""
          },
          "output_type" : "execute_result",
          "execution_count" : 20,
          "time" : "Took: 1.154s, at 2018-04-14 23:26"
        }
      ]
    },
    {
      "metadata" : {
        "trusted" : true,
        "input_collapsed" : false,
        "collapsed" : false,
        "id" : "65BFD372FCB64415851AA957F1D1149D"
      },
      "cell_type" : "code",
      "source" : [
        "val human_tax_id = \"9606\"\n",
        "val mouse_tax_id = \"10090\"\n",
        "val cow_tax_id = \"9913\"\n",
        "\n",
        "val ind = az(\"/indexes/uniprot\")\n",
        "val human_mapping = spark.readTypedTSV[UniprotMapping](ind + \"/HUMAN_9606_idmapping_selected.tab\")\n",
        "val mouse_mapping = spark.readTypedTSV[UniprotMapping](ind + \"/MOUSE_10090_idmapping_selected.tab\")\n",
        "val cow_mapping = spark.readTypedTSV[UniprotMapping](ind + s\"/COW_${cow_tax_id}_idmapping_selected.tab\")\n",
        "val all_mapping =  spark.readTypedTSV[UniprotMapping](\"file:///pipelines/indexes/uniprot/idmapping_selected.tab\")"
      ],
      "outputs" : [
        {
          "name" : "stdout",
          "output_type" : "stream",
          "text" : "human_tax_id: String = 9606\nmouse_tax_id: String = 10090\ncow_tax_id: String = 9913\nind: String = wasbs://storage@pipelines1.blob.core.windows.net//indexes/uniprot\nhuman_mapping: org.apache.spark.sql.Dataset[comp.bio.aging.playground.extras.uniprot.UniprotMapping] = [uniprot_ac: string, uniprot_id: string ... 20 more fields]\nmouse_mapping: org.apache.spark.sql.Dataset[comp.bio.aging.playground.extras.uniprot.UniprotMapping] = [uniprot_ac: string, uniprot_id: string ... 20 more fields]\ncow_mapping: org.apache.spark.sql.Dataset[comp.bio.aging.playground.extras.uniprot.UniprotMapping] = [uniprot_ac: string, uniprot_id: string ... 20 more fields]\nall_mapping: org.apache.spark.sql.Dataset[comp.bio.aging.playground.extras.uniprot.UniprotMapping] = [uniprot_ac: string, uniprot_id: string ... 20..."
        },
        {
          "metadata" : { },
          "data" : {
            "text/html" : ""
          },
          "output_type" : "execute_result",
          "execution_count" : 21,
          "time" : "Took: 1.932s, at 2018-04-14 23:26"
        }
      ]
    },
    {
      "metadata" : {
        "trusted" : true,
        "input_collapsed" : false,
        "collapsed" : false,
        "id" : "15F15DC8139E4F6AA87326F42EAA3920"
      },
      "cell_type" : "code",
      "source" : [
        "(human_mapping.count, mouse_mapping.count, cow_mapping.count)"
      ],
      "outputs" : [
        {
          "name" : "stdout",
          "output_type" : "stream",
          "text" : "res30: (Long, Long, Long) = (162191,83601,32206)\n"
        },
        {
          "metadata" : { },
          "data" : {
            "text/html" : "(162191,83601,32206)"
          },
          "output_type" : "execute_result",
          "execution_count" : 22,
          "time" : "Took: 7.520s, at 2018-04-14 23:27"
        }
      ]
    },
    {
      "metadata" : {
        "trusted" : true,
        "input_collapsed" : false,
        "collapsed" : false,
        "id" : "48F32AA87FD547BCA5F31EE7D052124B"
      },
      "cell_type" : "code",
      "source" : [
        "import org.bdgenomics.adam.rdd.ADAMContextExtensions._\n",
        "import comp.bio.aging.playground.extras.uniprot._\n",
        "def writeTSV(dataFrame: DataFrame, path: String, header: Boolean = true, sep: String = \"\\t\"): Unit =\n",
        "      dataFrame.write.option(\"sep\", sep).option(\"header\",header).csv(path)\n",
        "//val cow_mapping = all_mapping.filter(u=>u.taxon == cow_tax_id)\n",
        "//writeTSV(cow_mapping.toDF().coalesce(1), ind + s\"/COW_${cow_tax_id}_idmapping_selected.tab\")"
      ],
      "outputs" : [
        {
          "name" : "stdout",
          "output_type" : "stream",
          "text" : "import org.bdgenomics.adam.rdd.ADAMContextExtensions._\nimport comp.bio.aging.playground.extras.uniprot._\nwriteTSV: (dataFrame: org.apache.spark.sql.DataFrame, path: String, header: Boolean, sep: String)Unit\n"
        },
        {
          "metadata" : { },
          "data" : {
            "text/html" : ""
          },
          "output_type" : "execute_result",
          "execution_count" : 23,
          "time" : "Took: 0.905s, at 2018-04-14 23:27"
        }
      ]
    },
    {
      "metadata" : {
        "trusted" : true,
        "input_collapsed" : false,
        "collapsed" : false,
        "id" : "0DC2F5ADD61949498A6AFD69147AC887"
      },
      "cell_type" : "code",
      "source" : [
        "val humanExpressions = joinMapping(human_mapping, human_simple)\n",
        "humanExpressions.count"
      ],
      "outputs" : [
        {
          "name" : "stdout",
          "output_type" : "stream",
          "text" : "humanExpressions: org.apache.spark.sql.DataFrame = [transcript: string, uniref90: string ... 13 more fields]\nres37: Long = 68560\n"
        },
        {
          "metadata" : { },
          "data" : {
            "text/html" : "68560"
          },
          "output_type" : "execute_result",
          "execution_count" : 26,
          "time" : "Took: 8.272s, at 2018-04-14 23:30"
        }
      ]
    },
    {
      "metadata" : {
        "trusted" : true,
        "input_collapsed" : false,
        "collapsed" : false,
        "id" : "F1A6CC50F71E4ECA8BCA95CD46D9AF00"
      },
      "cell_type" : "code",
      "source" : [
        "val mouse_totalRNA_Expressions = joinMapping(mouse_mapping, mouse_totalRNA_simple)\n",
        "val mouse_mRNA_Expressions = joinMapping(mouse_mapping, mouse_mRNA_simple)\n",
        "(mouse_totalRNA_Expressions.count , mouse_mRNA_Expressions.count)"
      ],
      "outputs" : [
        {
          "name" : "stdout",
          "output_type" : "stream",
          "text" : "mouse_totalRNA_Expressions: org.apache.spark.sql.DataFrame = [transcript: string, uniref90: string ... 13 more fields]\nmouse_mRNA_Expressions: org.apache.spark.sql.DataFrame = [transcript: string, uniref90: string ... 13 more fields]\nres39: (Long, Long) = (50956,50956)\n"
        },
        {
          "metadata" : { },
          "data" : {
            "text/html" : "(50956,50956)"
          },
          "output_type" : "execute_result",
          "execution_count" : 27,
          "time" : "Took: 4.674s, at 2018-04-14 23:30"
        }
      ]
    },
    {
      "metadata" : {
        "trusted" : true,
        "input_collapsed" : false,
        "collapsed" : false,
        "id" : "38E0CD8C9B0E43D3897768DE908FCED7"
      },
      "cell_type" : "code",
      "source" : [
        "val cow_totalRNA_Expressions = joinMapping(cow_mapping, cow_totalRNA_simple)\n",
        "val cow_mRNA_Expressions = joinMapping(cow_mapping, cow_mRNA_simple)\n",
        "(cow_totalRNA_Expressions.count, cow_mRNA_Expressions.count)\n"
      ],
      "outputs" : [
        {
          "name" : "stdout",
          "output_type" : "stream",
          "text" : "cow_totalRNA_Expressions: org.apache.spark.sql.DataFrame = [transcript: string, uniref90: string ... 13 more fields]\ncow_mRNA_Expressions: org.apache.spark.sql.DataFrame = [transcript: string, uniref90: string ... 13 more fields]\nres91: (Long, Long) = (21857,21857)\n"
        },
        {
          "metadata" : { },
          "data" : {
            "text/html" : "(21857,21857)"
          },
          "output_type" : "execute_result",
          "execution_count" : 54,
          "time" : "Took: 5.125s, at 2018-04-14 23:49"
        }
      ]
    },
    {
      "metadata" : {
        "trusted" : true,
        "input_collapsed" : false,
        "collapsed" : false,
        "id" : "534E42A89EF2484FBAEAD6961FC993C3"
      },
      "cell_type" : "code",
      "source" : [
        "human_simple"
      ],
      "outputs" : [
        {
          "name" : "stdout",
          "output_type" : "stream",
          "text" : "res31: org.apache.spark.sql.DataFrame = [transcript: string, liver: double ... 2 more fields]\n"
        },
        {
          "metadata" : { },
          "data" : {
            "text/html" : "<div class=\"df-canvas\">\n      <script data-this=\"{&quot;dataId&quot;:&quot;anon3f7630128ad5ab5e38bdf1820fac7eac&quot;,&quot;partitionIndexId&quot;:&quot;anon78213d10b2a624460dc36a8d3a294f5a&quot;,&quot;numPartitions&quot;:3817,&quot;dfSchema&quot;:{&quot;type&quot;:&quot;struct&quot;,&quot;fields&quot;:[{&quot;name&quot;:&quot;transcript&quot;,&quot;type&quot;:&quot;string&quot;,&quot;nullable&quot;:true,&quot;metadata&quot;:{}},{&quot;name&quot;:&quot;liver&quot;,&quot;type&quot;:&quot;double&quot;,&quot;nullable&quot;:false,&quot;metadata&quot;:{}},{&quot;name&quot;:&quot;kidney&quot;,&quot;type&quot;:&quot;double&quot;,&quot;nullable&quot;:false,&quot;metadata&quot;:{}},{&quot;name&quot;:&quot;avg_expression&quot;,&quot;type&quot;:&quot;double&quot;,&quot;nullable&quot;:false,&quot;metadata&quot;:{}}]}}\" type=\"text/x-scoped-javascript\">/*<![CDATA[*/req(['../javascripts/notebook/dataframe','../javascripts/notebook/consoleDir'], \n      function(dataframe, extension) {\n        dataframe.call(data, this, extension);\n      }\n    );/*]]>*/</script>\n      <link rel=\"stylesheet\" href=\"/assets/stylesheets/ipython/css/dataframe.css\" type=\"text/css\"/>\n    </div>"
          },
          "output_type" : "execute_result",
          "execution_count" : 24,
          "time" : "Took: 5.041s, at 2018-03-13 01:55"
        }
      ]
    },
    {
      "metadata" : {
        "trusted" : true,
        "input_collapsed" : false,
        "collapsed" : false,
        "id" : "E8352B383AE54129944177C6DE59D550"
      },
      "cell_type" : "code",
      "source" : [
        "writeTSV(humanExpressions.coalesce(1), az(\"/expressions/transcripts/\" + \"human\"+\"_transcripts_all.tab\"), true)\n",
        "writeTSV(mouse_totalRNA_Expressions.coalesce(1), az(\"/expressions/transcripts/\" + \"mouse\"+\"_totalRNA\"+\"_transcripts_all.tab\"), true)\n",
        "writeTSV(mouse_mRNA_Expressions.coalesce(1), az(\"/expressions/transcripts/\" + \"mouse\"+\"_mRNA\"+\"_transcripts_all.tab\"), true)\n",
        "writeTSV(cow_totalRNA_Expressions.coalesce(1), az(\"/expressions/transcripts/\" + \"cow\"+\"_totalRNA\"+\"_transcripts_all.tab\"), true)\n",
        "writeTSV(cow_mRNA_Expressions.coalesce(1), az(\"/expressions/transcripts/\" + \"cow\"+\"_mRNA\"+\"_transcripts_all.tab\"), true)"
      ],
      "outputs" : [
        {
          "metadata" : { },
          "data" : {
            "text/html" : ""
          },
          "output_type" : "execute_result",
          "execution_count" : 57,
          "time" : "Took: 54.099s, at 2018-04-14 23:56"
        }
      ]
    },
    {
      "metadata" : {
        "trusted" : true,
        "input_collapsed" : false,
        "collapsed" : false,
        "id" : "BBE5D049C94445D78079E865BFF8A1A8"
      },
      "cell_type" : "code",
      "source" : [
        "//val go_inner = spark.readTSV(az(\"/expressions/go/gray_whale_with_bowhead_with_minke_with_NMR_small_full_inner.tsv\"), true)\n",
        "val go_outer_counts = spark.readTSV(az(\"/expressions/go/gray_whale_with_bowhead_with_minke_with_NMR_full_outer_counts.tsv\"), true)"
      ],
      "outputs" : [
        {
          "name" : "stdout",
          "output_type" : "stream",
          "text" : "go_outer_counts: org.apache.spark.sql.DataFrame = [go: string, label: string ... 13 more fields]\n"
        },
        {
          "metadata" : { },
          "data" : {
            "text/html" : ""
          },
          "output_type" : "execute_result",
          "execution_count" : 58,
          "time" : "Took: 1.319s, at 2018-04-14 23:59"
        }
      ]
    },
    {
      "metadata" : {
        "trusted" : true,
        "input_collapsed" : false,
        "collapsed" : false,
        "id" : "2837D4BEFBE64CA6B223D8D5B0F1F664"
      },
      "cell_type" : "code",
      "source" : [
        "def byGo(df: DataFrame, species: String) =\n",
        "  df.select(\"go\", \"liver\", \"kidney\").flatMap{row=>\n",
        "    val g = row.getAs[String](\"go\")\n",
        "    val goes = if(g==null) Array[String]() else g.split(\";\").map(go=>go.trim).filter(go=>go!=\"\")\n",
        "    goes.map{ go =>\n",
        "      go -> (1, row.getAs[Double](\"liver\"), row.getAs[Double](\"kidney\"))\n",
        "    }\n",
        "  }.rdd.reduceByKey{ case ((i1, l1, k1), (i2, l2, k2)) => (i1 + i2, l1 + l2, k1 + k2)}\n",
        "    .map{ case (go, (i, liver, kidney)) => (go, i,  liver, kidney)}\n",
        "    .toDF(\"go\", s\"${species}_transcripts_count\", s\"${species}_liver\", s\"${species}_kidney\")"
      ],
      "outputs" : [
        {
          "name" : "stdout",
          "output_type" : "stream",
          "text" : "byGo: (df: org.apache.spark.sql.DataFrame, species: String)org.apache.spark.sql.DataFrame\n"
        },
        {
          "metadata" : { },
          "data" : {
            "text/html" : ""
          },
          "output_type" : "execute_result",
          "execution_count" : 93,
          "time" : "Took: 1.251s, at 2018-04-15 00:41"
        }
      ]
    },
    {
      "metadata" : {
        "trusted" : true,
        "input_collapsed" : false,
        "collapsed" : false,
        "id" : "2FE5358FC2BC419D9E001A2C76B416CF"
      },
      "cell_type" : "code",
      "source" : [
        "val goHuman = byGo(humanExpressions, \"human\")\n",
        "val goMouse_totalRNA = byGo(mouse_totalRNA_Expressions, \"mouse_totalRNA\")\n",
        ".withColumnRenamed(\"mouse_totalRNA_transcripts_count\", \"mouse_transcripts_count\")\n",
        "val goMouse_mRNA = byGo(mouse_mRNA_Expressions, \"mouse_mRNA\").drop(\"mouse_mRNA_transcripts_count\")\n",
        "val goCow_totalRNA = byGo(cow_totalRNA_Expressions, \"cow_totalRNA\")\n",
        " .withColumnRenamed(\"cow_totalRNA_transcripts_count\", \"cow_transcripts_count\")\n",
        "val goCow_mRNA = byGo(cow_mRNA_Expressions, \"cow_mRNA\").drop(\"cow_mRNA_transcripts_count\")\n"
      ],
      "outputs" : [
        {
          "name" : "stdout",
          "output_type" : "stream",
          "text" : "goHuman: org.apache.spark.sql.DataFrame = [go: string, human_transcripts_count: int ... 2 more fields]\ngoMouse_totalRNA: org.apache.spark.sql.DataFrame = [go: string, mouse_transcripts_count: int ... 2 more fields]\ngoMouse_mRNA: org.apache.spark.sql.DataFrame = [go: string, mouse_mRNA_liver: double ... 1 more field]\ngoCow_totalRNA: org.apache.spark.sql.DataFrame = [go: string, cow_transcripts_count: int ... 2 more fields]\ngoCow_mRNA: org.apache.spark.sql.DataFrame = [go: string, cow_mRNA_liver: double ... 1 more field]\n"
        },
        {
          "metadata" : { },
          "data" : {
            "text/html" : ""
          },
          "output_type" : "execute_result",
          "execution_count" : 98,
          "time" : "Took: 5.513s, at 2018-04-15 00:56"
        }
      ]
    },
    {
      "metadata" : {
        "trusted" : true,
        "input_collapsed" : false,
        "collapsed" : false,
        "id" : "40D20D4892654C3C84C4B29E785CFECD"
      },
      "cell_type" : "code",
      "source" : [
        "//val go_inner_ext = go_inner.join(goHuman, Seq(\"go\"), \"inner\").join(goMouse, Seq(\"go\"), \"inner\").sort($\"gray_whale_avg_expression\".desc)\n",
        "val toDouble = udf[Double, String]( v=> if(v==\"\" || v==null) 0.0 else v.toDouble)\n",
        "\n",
        "val go_outer_ext = go_outer_counts.na.fill(\"\")\n",
        "  .join(goHuman, Seq(\"go\"), \"full_outer\")\n",
        "  .join(goMouse_totalRNA, Seq(\"go\"), \"full_outer\")\n",
        "  .join(goMouse_mRNA, Seq(\"go\"), \"full_outer\")\n",
        "  .join(goCow_totalRNA, Seq(\"go\"), \"full_outer\")\n",
        "  .join(goCow_mRNA, Seq(\"go\"), \"full_outer\")\n",
        "  .withColumn(\"gray_whale_average\", toDouble($\"gray_whale_avg\"))\n",
        "  .drop(\"gray_whale_avg\")\n",
        "  .sort($\"gray_whale_average\".desc)"
      ],
      "outputs" : [
        {
          "name" : "stdout",
          "output_type" : "stream",
          "text" : "toDouble: org.apache.spark.sql.expressions.UserDefinedFunction = UserDefinedFunction(<function1>,DoubleType,Some(List(StringType)))\ngo_outer_ext: org.apache.spark.sql.Dataset[org.apache.spark.sql.Row] = [go: string, label: string ... 26 more fields]\n"
        },
        {
          "metadata" : { },
          "data" : {
            "text/html" : ""
          },
          "output_type" : "execute_result",
          "execution_count" : 99,
          "time" : "Took: 1.352s, at 2018-04-15 00:56"
        }
      ]
    },
    {
      "metadata" : {
        "trusted" : true,
        "input_collapsed" : false,
        "collapsed" : false,
        "id" : "FD2D82E341914CA1AA6003F46D8C9117"
      },
      "cell_type" : "code",
      "source" : [
        "val go_outer_ext_counts = go_outer_ext.select(\"go\", \"label\", \"gray_whale_average\", \n",
        "\"uniref90_count\",\"taxons_count\",  \"transcripts_count\", \"human_transcripts_count\", \"mouse_transcripts_count\", \"cow_transcripts_count\", \"type\", \n",
        "\"gray_whale_liver\", \"bowhead_whale_liver\", \"minke_liver\", \"NMR_liver\", \"human_liver\", \n",
        "                                              \"mouse_totalRNA_liver\", \"mouse_mRNA_liver\", \"cow_totalRNA_liver\", \"cow_mRNA_liver\",\n",
        "\"gray_whale_kidney\", \"bowhead_whale_kidney\", \"minke_kidney\", \"NMR_kidney\", \"human_kidney\",  \n",
        "                                              \"mouse_totalRNA_kidney\", \"mouse_mRNA_kidney\",  \"cow_totalRNA_kidney\", \"cow_mRNA_kidney\")"
      ],
      "outputs" : [
        {
          "name" : "stdout",
          "output_type" : "stream",
          "text" : "go_outer_ext_counts: org.apache.spark.sql.DataFrame = [go: string, label: string ... 26 more fields]\n"
        },
        {
          "metadata" : { },
          "data" : {
            "text/html" : ""
          },
          "output_type" : "execute_result",
          "execution_count" : 104,
          "time" : "Took: 1.148s, at 2018-04-15 01:00"
        }
      ]
    },
    {
      "metadata" : {
        "trusted" : true,
        "input_collapsed" : false,
        "collapsed" : false,
        "id" : "487CF7F63196423386B8B14F591FC574"
      },
      "cell_type" : "code",
      "source" : [
        "go_outer_ext_counts"
      ],
      "outputs" : [
        {
          "name" : "stdout",
          "output_type" : "stream",
          "text" : "res170: org.apache.spark.sql.DataFrame = [go: string, label: string ... 26 more fields]\n"
        },
        {
          "metadata" : { },
          "data" : {
            "text/html" : "<div class=\"df-canvas\">\n      <script data-this=\"{&quot;dataId&quot;:&quot;anon1ffc37a1e5520822822316621c10d8a4&quot;,&quot;partitionIndexId&quot;:&quot;anon10c874f973a559d890c706686183dd48&quot;,&quot;numPartitions&quot;:744,&quot;dfSchema&quot;:{&quot;type&quot;:&quot;struct&quot;,&quot;fields&quot;:[{&quot;name&quot;:&quot;go&quot;,&quot;type&quot;:&quot;string&quot;,&quot;nullable&quot;:true,&quot;metadata&quot;:{}},{&quot;name&quot;:&quot;label&quot;,&quot;type&quot;:&quot;string&quot;,&quot;nullable&quot;:true,&quot;metadata&quot;:{}},{&quot;name&quot;:&quot;gray_whale_average&quot;,&quot;type&quot;:&quot;double&quot;,&quot;nullable&quot;:true,&quot;metadata&quot;:{}},{&quot;name&quot;:&quot;uniref90_count&quot;,&quot;type&quot;:&quot;string&quot;,&quot;nullable&quot;:true,&quot;metadata&quot;:{}},{&quot;name&quot;:&quot;taxons_count&quot;,&quot;type&quot;:&quot;string&quot;,&quot;nullable&quot;:true,&quot;metadata&quot;:{}},{&quot;name&quot;:&quot;transcripts_count&quot;,&quot;type&quot;:&quot;string&quot;,&quot;nullable&quot;:true,&quot;metadata&quot;:{}},{&quot;name&quot;:&quot;human_transcripts_count&quot;,&quot;type&quot;:&quot;integer&quot;,&quot;nullable&quot;:true,&quot;metadata&quot;:{}},{&quot;name&quot;:&quot;mouse_transcripts_count&quot;,&quot;type&quot;:&quot;integer&quot;,&quot;nullable&quot;:true,&quot;metadata&quot;:{}},{&quot;name&quot;:&quot;cow_transcripts_count&quot;,&quot;type&quot;:&quot;integer&quot;,&quot;nullable&quot;:true,&quot;metadata&quot;:{}},{&quot;name&quot;:&quot;type&quot;,&quot;type&quot;:&quot;string&quot;,&quot;nullable&quot;:true,&quot;metadata&quot;:{}},{&quot;name&quot;:&quot;gray_whale_liver&quot;,&quot;type&quot;:&quot;string&quot;,&quot;nullable&quot;:true,&quot;metadata&quot;:{}},{&quot;name&quot;:&quot;bowhead_whale_liver&quot;,&quot;type&quot;:&quot;string&quot;,&quot;nullable&quot;:true,&quot;metadata&quot;:{}},{&quot;name&quot;:&quot;minke_liver&quot;,&quot;type&quot;:&quot;string&quot;,&quot;nullable&quot;:true,&quot;metadata&quot;:{}},{&quot;name&quot;:&quot;NMR_liver&quot;,&quot;type&quot;:&quot;string&quot;,&quot;nullable&quot;:true,&quot;metadata&quot;:{}},{&quot;name&quot;:&quot;human_liver&quot;,&quot;type&quot;:&quot;double&quot;,&quot;nullable&quot;:true,&quot;metadata&quot;:{}},{&quot;name&quot;:&quot;mouse_totalRNA_liver&quot;,&quot;type&quot;:&quot;double&quot;,&quot;nullable&quot;:true,&quot;metadata&quot;:{}},{&quot;name&quot;:&quot;mouse_mRNA_liver&quot;,&quot;type&quot;:&quot;double&quot;,&quot;nullable&quot;:true,&quot;metadata&quot;:{}},{&quot;name&quot;:&quot;cow_totalRNA_liver&quot;,&quot;type&quot;:&quot;double&quot;,&quot;nullable&quot;:true,&quot;metadata&quot;:{}},{&quot;name&quot;:&quot;cow_mRNA_liver&quot;,&quot;type&quot;:&quot;double&quot;,&quot;nullable&quot;:true,&quot;metadata&quot;:{}},{&quot;name&quot;:&quot;gray_whale_kidney&quot;,&quot;type&quot;:&quot;string&quot;,&quot;nullable&quot;:true,&quot;metadata&quot;:{}},{&quot;name&quot;:&quot;bowhead_whale_kidney&quot;,&quot;type&quot;:&quot;string&quot;,&quot;nullable&quot;:true,&quot;metadata&quot;:{}},{&quot;name&quot;:&quot;minke_kidney&quot;,&quot;type&quot;:&quot;string&quot;,&quot;nullable&quot;:true,&quot;metadata&quot;:{}},{&quot;name&quot;:&quot;NMR_kidney&quot;,&quot;type&quot;:&quot;string&quot;,&quot;nullable&quot;:true,&quot;metadata&quot;:{}},{&quot;name&quot;:&quot;human_kidney&quot;,&quot;type&quot;:&quot;double&quot;,&quot;nullable&quot;:true,&quot;metadata&quot;:{}},{&quot;name&quot;:&quot;mouse_totalRNA_kidney&quot;,&quot;type&quot;:&quot;double&quot;,&quot;nullable&quot;:true,&quot;metadata&quot;:{}},{&quot;name&quot;:&quot;mouse_mRNA_kidney&quot;,&quot;type&quot;:&quot;double&quot;,&quot;nullable&quot;:true,&quot;metadata&quot;:{}},{&quot;name&quot;:&quot;cow_totalRNA_kidney&quot;,&quot;type&quot;:&quot;double&quot;,&quot;nullable&quot;:true,&quot;metadata&quot;:{}},{&quot;name&quot;:&quot;cow_mRNA_kidney&quot;,&quot;type&quot;:&quot;double&quot;,&quot;nullable&quot;:true,&quot;metadata&quot;:{}}]}}\" type=\"text/x-scoped-javascript\">/*<![CDATA[*/req(['../javascripts/notebook/dataframe','../javascripts/notebook/consoleDir'], \n      function(dataframe, extension) {\n        dataframe.call(data, this, extension);\n      }\n    );/*]]>*/</script>\n      <link rel=\"stylesheet\" href=\"/assets/stylesheets/ipython/css/dataframe.css\" type=\"text/css\"/>\n    </div>"
          },
          "output_type" : "execute_result",
          "execution_count" : 105,
          "time" : "Took: 29.774s, at 2018-04-15 01:00"
        }
      ]
    },
    {
      "metadata" : {
        "trusted" : true,
        "input_collapsed" : false,
        "collapsed" : false,
        "id" : "F5C94C0C5A5F421B88B44A3B7ECD55A5"
      },
      "cell_type" : "code",
      "source" : [
        "//writeTSV(go_inner_ext.coalesce(1), az(\"/expressions/go/gray_whale_with_bowhead_with_minke_with_NMR_with_human_with_mouse_small_full_inner.tsv\"), true)\n",
        "writeTSV(go_outer_ext_counts.coalesce(1), \n",
        "         az(\"/expressions/go/gray_whale_with_bowhead_with_minke_with_NMR_with_human_with_mouse_with_cow_full_outer_counts.tsv\"), true)\n"
      ],
      "outputs" : [
        {
          "metadata" : { },
          "data" : {
            "text/html" : ""
          },
          "output_type" : "execute_result",
          "execution_count" : 106,
          "time" : "Took: 17.629s, at 2018-04-15 01:03"
        }
      ]
    },
    {
      "metadata" : {
        "trusted" : true,
        "input_collapsed" : false,
        "collapsed" : true,
        "id" : "657861D9E96340DC92C7F170A58AAFA7"
      },
      "cell_type" : "code",
      "source" : [
        ""
      ],
      "outputs" : [ ]
    }
  ],
  "nbformat" : 4
}