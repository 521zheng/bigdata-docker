{
  "metadata" : {
    "id" : "2cab367a-0e42-4b0d-9e9e-5ffb60af76df",
    "name" : "rainbow",
    "user_save_timestamp" : "1970-01-01T00:00:00.000Z",
    "auto_save_timestamp" : "1970-01-01T00:00:00.000Z",
    "language_info" : {
      "name" : "scala",
      "file_extension" : "scala",
      "codemirror_mode" : "text/x-scala"
    },
    "trusted" : true,
    "sparkNotebook" : null,
    "customLocalRepo" : "/root/.coursier/cache/v1/",
    "customRepos" : [
      "comp-bio-aging % default % https://dl.bintray.com/comp-bio-aging/main/",
      "denigma % default % https://dl.bintray.com/denigma/denigma-releases/",
      "snapshots % default % https://oss.sonatype.org/content/repositories/snapshots/"
    ],
    "customDeps" : [
      "comp.bio.aging %% crispr % 0.0.7"
    ],
    "customImports" : null,
    "customArgs" : null,
    "customSparkConf" : {
      "spark.master" : "spark://spark-master:7077",
      "spark.executor.cores" : "8",
      "spark.executor.memory" : "19G"
    },
    "customVars" : null
  },
  "cells" : [
    {
      "metadata" : {
        "trusted" : true,
        "input_collapsed" : false,
        "collapsed" : false,
        "id" : "DD80D275523B4F338D541CFFB068740F"
      },
      "cell_type" : "code",
      "source" : [
        "import org.apache.spark.{SparkConf, SparkContext}\n",
        "import org.apache.spark.sql.SparkSession\n",
        "import org.bdgenomics.adam.rdd.ADAMContext._\n",
        "import comp.bio.aging.playground.extensions._\n",
        "import org.apache.spark.sql._\n",
        "import scala.util.Try\n",
        "import org.apache.spark.storage.StorageLevel\n",
        "\n",
        "val spark = SparkSession\n",
        "    .builder()\n",
        "    .appName(\"Homology search\")\n",
        "    .config(\"spark.executor.cores\",\"8\")\n",
        "    .config(\"spark.executor.memory\", \"19G\")\n",
        "    .getOrCreate()\n",
        "// For implicit conversions like converting RDDs to DataFrames\n",
        "import spark.implicits._\n",
        "spark.sparkContext.setLogLevel(\"WARN\")"
      ],
      "outputs" : [
        {
          "name" : "stdout",
          "output_type" : "stream",
          "text" : "import org.apache.spark.{SparkConf, SparkContext}\nimport org.apache.spark.sql.SparkSession\nimport org.bdgenomics.adam.rdd.ADAMContext._\nimport comp.bio.aging.playground.extensions._\nimport org.apache.spark.sql._\nimport scala.util.Try\nimport org.apache.spark.storage.StorageLevel\nspark: org.apache.spark.sql.SparkSession = org.apache.spark.sql.SparkSession@58168a28\nimport spark.implicits._\n"
        },
        {
          "metadata" : { },
          "data" : {
            "text/html" : ""
          },
          "output_type" : "execute_result",
          "execution_count" : 1,
          "time" : "Took: 3.163s, at 2018-01-15 10:34"
        }
      ]
    },
    {
      "metadata" : {
        "trusted" : true,
        "input_collapsed" : false,
        "collapsed" : false,
        "id" : "A380589D642D45AFBF83DD6D1318F6B8"
      },
      "cell_type" : "code",
      "source" : [
        "def readTSV(path: String) = spark.read.option(\"sep\", \"\\t\").csv(path)\n",
        "\n",
        "val base = \"hdfs://namenode/pipelines\"\n",
        "val human = base + \"/HUMAN/GRCh38/27\"\n",
        "val genomeAdam = human + \"/genome.adam\"\n",
        "val chrYAdam = human + \"/chrY.adam\"\n",
        "  "
      ],
      "outputs" : [
        {
          "name" : "stdout",
          "output_type" : "stream",
          "text" : "readTSV: (path: String)org.apache.spark.sql.DataFrame\nbase: String = hdfs://namenode/pipelines\nhuman: String = hdfs://namenode/pipelines/HUMAN/GRCh38/27\ngenomeAdam: String = hdfs://namenode/pipelines/HUMAN/GRCh38/27/genome.adam\nchrYAdam: String = hdfs://namenode/pipelines/HUMAN/GRCh38/27/chrY.adam\n"
        },
        {
          "metadata" : { },
          "data" : {
            "text/html" : ""
          },
          "output_type" : "execute_result",
          "execution_count" : 2,
          "time" : "Took: 1.087s, at 2018-01-15 10:34"
        }
      ]
    },
    {
      "metadata" : {
        "trusted" : true,
        "input_collapsed" : false,
        "collapsed" : false,
        "presentation" : {
          "tabs_state" : "{\n  \"tab_id\": \"#tab1944807760-0\"\n}",
          "pivot_chart_state" : "{\n  \"hiddenAttributes\": [],\n  \"menuLimit\": 200,\n  \"cols\": [],\n  \"rows\": [],\n  \"vals\": [],\n  \"exclusions\": {},\n  \"inclusions\": {},\n  \"unusedAttrsVertical\": 85,\n  \"autoSortUnusedAttrs\": false,\n  \"inclusionsInfo\": {},\n  \"aggregatorName\": \"Count\",\n  \"rendererName\": \"Table\"\n}"
        },
        "id" : "E16E6DA2968449A4BB7E7E1EB7C95AE5"
      },
      "cell_type" : "code",
      "source" : [
        "val genome = sparkContext.loadParquetContigFragments(genomeAdam)\n",
        "val contigNames = genome.sequences.records.map(_.name)\n",
        "contigNames\n"
      ],
      "outputs" : [
        {
          "name" : "stdout",
          "output_type" : "stream",
          "text" : "genome: org.bdgenomics.adam.rdd.contig.NucleotideContigFragmentRDD = ParquetUnboundNucleotideContigFragmentRDD with 555 reference sequences\ncontigNames: scala.collection.immutable.Vector[String] = Vector(GL383554.1, KN538367.1, KI270579.1, KV575246.1, KI270733.1, GL383532.1, KI270869.1, KI270765.1, KI270890.1, KI270849.1, KQ090017.1, KQ090024.1, KI270820.1, KI270915.1, KN538370.1, GL383521.1, KI270742.1, KB021644.2, KI270829.1, KV575256.1, KV575250.1, KI270583.1, KI270870.1, chr1, GL000251.2, KI270868.1, GL000219.1, KI270317.1, KI270744.1, KI270921.1, KI270747.1, KI270787.1, KI270783.1, KV575259.1, KQ090022.1, KI270936.1, chr4, KV880765.1, KV575252.1, GL383575.2, KN538368.1, GL383518.1, KI270904.1, KI270335.1, chrX, chr20, KI270735.1, KQ090023.1, KI270374.1, GL383530.1, KI270826.1, chr1..."
        },
        {
          "metadata" : { },
          "data" : {
            "text/html" : "<div>\n      <script data-this=\"{&quot;dataId&quot;:&quot;anon395cda5f284a03a0a7994ea054d61cf8&quot;,&quot;dataInit&quot;:[],&quot;genId&quot;:&quot;1944807760&quot;}\" type=\"text/x-scoped-javascript\">/*<![CDATA[*/req(['../javascripts/notebook/playground','../javascripts/notebook/magic/tabs'], \n      function(playground, _magictabs) {\n        // data ==> data-this (in observable.js's scopedEval) ==> this in JS => { dataId, dataInit, ... }\n        // this ==> scope (in observable.js's scopedEval) ==> this.parentElement ==> div.container below (toHtml)\n\n        playground.call(data,\n                        this\n                        ,\n                        {\n    \"f\": _magictabs,\n    \"o\": {}\n  }\n  \n                        \n                        \n                      );\n      }\n    );/*]]>*/</script>\n    <div>\n      <div>\n        <ul class=\"nav nav-tabs\" id=\"ul1944807760\"><li>\n              <a href=\"#tab1944807760-0\"><i class=\"fa fa-table\"/></a>\n            </li><li>\n              <a href=\"#tab1944807760-1\"><i class=\"fa fa-cubes\"/></a>\n            </li></ul>\n\n        <div class=\"tab-content\" id=\"tab1944807760\"><div class=\"tab-pane\" id=\"tab1944807760-0\">\n            <div>\n      <script data-this=\"{&quot;dataId&quot;:&quot;anonaad6a4ed9e4cd04a17e60550b7986a0e&quot;,&quot;dataInit&quot;:[{&quot;string value&quot;:&quot;GL383554.1&quot;},{&quot;string value&quot;:&quot;KN538367.1&quot;},{&quot;string value&quot;:&quot;KI270579.1&quot;},{&quot;string value&quot;:&quot;KV575246.1&quot;},{&quot;string value&quot;:&quot;KI270733.1&quot;},{&quot;string value&quot;:&quot;GL383532.1&quot;},{&quot;string value&quot;:&quot;KI270869.1&quot;},{&quot;string value&quot;:&quot;KI270765.1&quot;},{&quot;string value&quot;:&quot;KI270890.1&quot;},{&quot;string value&quot;:&quot;KI270849.1&quot;},{&quot;string value&quot;:&quot;KQ090017.1&quot;},{&quot;string value&quot;:&quot;KQ090024.1&quot;},{&quot;string value&quot;:&quot;KI270820.1&quot;},{&quot;string value&quot;:&quot;KI270915.1&quot;},{&quot;string value&quot;:&quot;KN538370.1&quot;},{&quot;string value&quot;:&quot;GL383521.1&quot;},{&quot;string value&quot;:&quot;KI270742.1&quot;},{&quot;string value&quot;:&quot;KB021644.2&quot;},{&quot;string value&quot;:&quot;KI270829.1&quot;},{&quot;string value&quot;:&quot;KV575256.1&quot;},{&quot;string value&quot;:&quot;KV575250.1&quot;},{&quot;string value&quot;:&quot;KI270583.1&quot;},{&quot;string value&quot;:&quot;KI270870.1&quot;},{&quot;string value&quot;:&quot;chr1&quot;},{&quot;string value&quot;:&quot;GL000251.2&quot;},{&quot;string value&quot;:&quot;KI270868.1&quot;},{&quot;string value&quot;:&quot;GL000219.1&quot;},{&quot;string value&quot;:&quot;KI270317.1&quot;},{&quot;string value&quot;:&quot;KI270744.1&quot;},{&quot;string value&quot;:&quot;KI270921.1&quot;},{&quot;string value&quot;:&quot;KI270747.1&quot;},{&quot;string value&quot;:&quot;KI270787.1&quot;},{&quot;string value&quot;:&quot;KI270783.1&quot;},{&quot;string value&quot;:&quot;KV575259.1&quot;},{&quot;string value&quot;:&quot;KQ090022.1&quot;},{&quot;string value&quot;:&quot;KI270936.1&quot;},{&quot;string value&quot;:&quot;chr4&quot;},{&quot;string value&quot;:&quot;KV880765.1&quot;},{&quot;string value&quot;:&quot;KV575252.1&quot;},{&quot;string value&quot;:&quot;GL383575.2&quot;},{&quot;string value&quot;:&quot;KN538368.1&quot;},{&quot;string value&quot;:&quot;GL383518.1&quot;},{&quot;string value&quot;:&quot;KI270904.1&quot;},{&quot;string value&quot;:&quot;KI270335.1&quot;},{&quot;string value&quot;:&quot;chrX&quot;},{&quot;string value&quot;:&quot;chr20&quot;},{&quot;string value&quot;:&quot;KI270735.1&quot;},{&quot;string value&quot;:&quot;KQ090023.1&quot;},{&quot;string value&quot;:&quot;KI270374.1&quot;},{&quot;string value&quot;:&quot;GL383530.1&quot;},{&quot;string value&quot;:&quot;KI270826.1&quot;},{&quot;string value&quot;:&quot;chr16&quot;},{&quot;string value&quot;:&quot;KV766196.1&quot;},{&quot;string value&quot;:&quot;GL000205.2&quot;},{&quot;string value&quot;:&quot;chr21&quot;},{&quot;string value&quot;:&quot;GL383533.1&quot;},{&quot;string value&quot;:&quot;GL000195.1&quot;},{&quot;string value&quot;:&quot;KQ458385.1&quot;},{&quot;string value&quot;:&quot;KI270429.1&quot;},{&quot;string value&quot;:&quot;KI270803.1&quot;},{&quot;string value&quot;:&quot;KI270908.1&quot;},{&quot;string value&quot;:&quot;KI270876.1&quot;},{&quot;string value&quot;:&quot;KI270776.1&quot;},{&quot;string value&quot;:&quot;GL383580.2&quot;},{&quot;string value&quot;:&quot;KN538371.1&quot;},{&quot;string value&quot;:&quot;GL383565.1&quot;},{&quot;string value&quot;:&quot;KI270781.1&quot;},{&quot;string value&quot;:&quot;GL000250.2&quot;},{&quot;string value&quot;:&quot;KI270814.1&quot;},{&quot;string value&quot;:&quot;KN538360.1&quot;},{&quot;string value&quot;:&quot;GL383552.1&quot;},{&quot;string value&quot;:&quot;KI270303.1&quot;},{&quot;string value&quot;:&quot;GL383557.1&quot;},{&quot;string value&quot;:&quot;KI270748.1&quot;},{&quot;string value&quot;:&quot;KI270899.1&quot;},{&quot;string value&quot;:&quot;KV575254.1&quot;},{&quot;string value&quot;:&quot;KQ090016.1&quot;},{&quot;string value&quot;:&quot;KI270823.1&quot;},{&quot;string value&quot;:&quot;KI270363.1&quot;},{&quot;string value&quot;:&quot;KI270752.1&quot;},{&quot;string value&quot;:&quot;GL582966.2&quot;},{&quot;string value&quot;:&quot;KI270509.1&quot;},{&quot;string value&quot;:&quot;KN196480.1&quot;},{&quot;string value&quot;:&quot;KI270928.1&quot;},{&quot;string value&quot;:&quot;KI270795.1&quot;},{&quot;string value&quot;:&quot;GL383550.2&quot;},{&quot;string value&quot;:&quot;KI270770.1&quot;},{&quot;string value&quot;:&quot;KI270805.1&quot;},{&quot;string value&quot;:&quot;KI270739.1&quot;},{&quot;string value&quot;:&quot;KI270903.1&quot;},{&quot;string value&quot;:&quot;KI270802.1&quot;},{&quot;string value&quot;:&quot;KI270769.1&quot;},{&quot;string value&quot;:&quot;KQ090014.1&quot;},{&quot;string value&quot;:&quot;KI270414.1&quot;},{&quot;string value&quot;:&quot;KI270934.1&quot;},{&quot;string value&quot;:&quot;KI270767.1&quot;},{&quot;string value&quot;:&quot;KI270333.1&quot;},{&quot;string value&quot;:&quot;KI270844.1&quot;},{&quot;string value&quot;:&quot;KQ090018.1&quot;},{&quot;string value&quot;:&quot;KQ090028.1&quot;},{&quot;string value&quot;:&quot;KN538362.1&quot;},{&quot;string value&quot;:&quot;KI270435.1&quot;},{&quot;string value&quot;:&quot;KI270745.1&quot;},{&quot;string value&quot;:&quot;KI270799.1&quot;},{&quot;string value&quot;:&quot;JH159136.1&quot;},{&quot;string value&quot;:&quot;KI270305.1&quot;},{&quot;string value&quot;:&quot;KB663609.1&quot;},{&quot;string value&quot;:&quot;KQ759762.1&quot;},{&quot;string value&quot;:&quot;KI270925.1&quot;},{&quot;string value&quot;:&quot;KI270580.1&quot;},{&quot;string value&quot;:&quot;KI270766.1&quot;},{&quot;string value&quot;:&quot;KI270873.1&quot;},{&quot;string value&quot;:&quot;KV575248.1&quot;},{&quot;string value&quot;:&quot;GL383556.1&quot;},{&quot;string value&quot;:&quot;KI270879.1&quot;},{&quot;string value&quot;:&quot;KI270529.1&quot;},{&quot;string value&quot;:&quot;KI270796.1&quot;},{&quot;string value&quot;:&quot;KI270731.1&quot;},{&quot;string value&quot;:&quot;KI270931.1&quot;},{&quot;string value&quot;:&quot;KI270438.1&quot;},{&quot;string value&quot;:&quot;GL383566.1&quot;},{&quot;string value&quot;:&quot;KI270381.1&quot;},{&quot;string value&quot;:&quot;KI270875.1&quot;},{&quot;string value&quot;:&quot;GL383522.1&quot;},{&quot;string value&quot;:&quot;KI270425.1&quot;},{&quot;string value&quot;:&quot;chr18&quot;},{&quot;string value&quot;:&quot;KI270515.1&quot;},{&quot;string value&quot;:&quot;KI270419.1&quot;},{&quot;string value&quot;:&quot;KI270778.1&quot;},{&quot;string value&quot;:&quot;KI270819.1&quot;},{&quot;string value&quot;:&quot;KN538364.1&quot;},{&quot;string value&quot;:&quot;KN196485.1&quot;},{&quot;string value&quot;:&quot;GL383579.2&quot;},{&quot;string value&quot;:&quot;KI270548.1&quot;},{&quot;string value&quot;:&quot;KI270336.1&quot;},{&quot;string value&quot;:&quot;KI270750.1&quot;},{&quot;string value&quot;:&quot;KI270725.1&quot;},{&quot;string value&quot;:&quot;KI270376.1&quot;},{&quot;string value&quot;:&quot;KV575255.1&quot;},{&quot;string value&quot;:&quot;KI270375.1&quot;},{&quot;string value&quot;:&quot;KI270790.1&quot;},{&quot;string value&quot;:&quot;GL383573.1&quot;},{&quot;string value&quot;:&quot;GL000221.1&quot;},{&quot;string value&quot;:&quot;KI270884.1&quot;},{&quot;string value&quot;:&quot;GL383568.1&quot;},{&quot;string value&quot;:&quot;KI270467.1&quot;},{&quot;string value&quot;:&quot;KI270832.1&quot;},{&quot;string value&quot;:&quot;KI270393.1&quot;},{&quot;string value&quot;:&quot;KI270809.1&quot;},{&quot;string value&quot;:&quot;KI270902.1&quot;},{&quot;string value&quot;:&quot;KI270880.1&quot;},{&quot;string value&quot;:&quot;GL949742.1&quot;},{&quot;string value&quot;:&quot;chr11&quot;},{&quot;string value&quot;:&quot;KI270825.1&quot;},{&quot;string value&quot;:&quot;GL000225.1&quot;},{&quot;string value&quot;:&quot;KI270797.1&quot;},{&quot;string value&quot;:&quot;GL000009.2&quot;},{&quot;string value&quot;:&quot;KN196472.1&quot;},{&quot;string value&quot;:&quot;KI270521.1&quot;},{&quot;string value&quot;:&quot;GL000252.2&quot;},{&quot;string value&quot;:&quot;KI270302.1&quot;},{&quot;string value&quot;:&quot;KI270811.1&quot;},{&quot;string value&quot;:&quot;KV575257.1&quot;},{&quot;string value&quot;:&quot;GL383547.1&quot;},{&quot;string value&quot;:&quot;KI270837.1&quot;},{&quot;string value&quot;:&quot;GL383576.1&quot;},{&quot;string value&quot;:&quot;KI270874.1&quot;},{&quot;string value&quot;:&quot;KI270304.1&quot;},{&quot;string value&quot;:&quot;KI270834.1&quot;},{&quot;string value&quot;:&quot;KI270519.1&quot;},{&quot;string value&quot;:&quot;KI270372.1&quot;},{&quot;string value&quot;:&quot;KQ031389.1&quot;},{&quot;string value&quot;:&quot;KI270442.1&quot;},{&quot;string value&quot;:&quot;GL000194.1&quot;},{&quot;string value&quot;:&quot;chr5&quot;},{&quot;string value&quot;:&quot;KI270721.1&quot;},{&quot;string value&quot;:&quot;KI270883.1&quot;},{&quot;string value&quot;:&quot;KI270822.1&quot;},{&quot;string value&quot;:&quot;KI270779.1&quot;},{&quot;string value&quot;:&quot;KI270917.1&quot;},{&quot;string value&quot;:&quot;KI270593.1&quot;},{&quot;string value&quot;:&quot;chr22&quot;},{&quot;string value&quot;:&quot;chrY&quot;},{&quot;string value&quot;:&quot;KI270362.1&quot;},{&quot;string value&quot;:&quot;KI270864.1&quot;},{&quot;string value&quot;:&quot;KI270893.1&quot;},{&quot;string value&quot;:&quot;KV766193.1&quot;},{&quot;string value&quot;:&quot;KI270808.1&quot;},{&quot;string value&quot;:&quot;KI270764.1&quot;},{&quot;string value&quot;:&quot;KI270724.1&quot;},{&quot;string value&quot;:&quot;KI270846.1&quot;},{&quot;string value&quot;:&quot;KI270730.1&quot;},{&quot;string value&quot;:&quot;KI270885.1&quot;},{&quot;string value&quot;:&quot;KI270872.1&quot;},{&quot;string value&quot;:&quot;KI270901.1&quot;},{&quot;string value&quot;:&quot;chr7&quot;},{&quot;string value&quot;:&quot;KN538366.1&quot;},{&quot;string value&quot;:&quot;JH159148.1&quot;},{&quot;string value&quot;:&quot;KI270382.1&quot;},{&quot;string value&quot;:&quot;GL949752.1&quot;},{&quot;string value&quot;:&quot;KI270827.1&quot;},{&quot;string value&quot;:&quot;KQ031388.1&quot;},{&quot;string value&quot;:&quot;GL949751.2&quot;},{&quot;string value&quot;:&quot;KI270512.1&quot;},{&quot;string value&quot;:&quot;GL000008.2&quot;},{&quot;string value&quot;:&quot;GL000218.1&quot;},{&quot;string value&quot;:&quot;KI270855.1&quot;},{&quot;string value&quot;:&quot;KV575258.1&quot;},{&quot;string value&quot;:&quot;KI270763.1&quot;},{&quot;string value&quot;:&quot;KI270424.1&quot;},{&quot;string value&quot;:&quot;KQ031383.1&quot;},{&quot;string value&quot;:&quot;JH159146.1&quot;},{&quot;string value&quot;:&quot;KI270749.1&quot;},{&quot;string value&quot;:&quot;KN196483.1&quot;},{&quot;string value&quot;:&quot;KI270831.1&quot;},{&quot;string value&quot;:&quot;KN538365.1&quot;},{&quot;string value&quot;:&quot;KI270311.1&quot;},{&quot;string value&quot;:&quot;KI270857.1&quot;},{&quot;string value&quot;:&quot;GL949750.2&quot;},{&quot;string value&quot;:&quot;KN538373.1&quot;},{&quot;string value&quot;:&quot;KI270895.1&quot;},{&quot;string value&quot;:&quot;KI270881.1&quot;},{&quot;string value&quot;:&quot;KI270932.1&quot;},{&quot;string value&quot;:&quot;KI270394.1&quot;},{&quot;string value&quot;:&quot;KI270910.1&quot;},{&quot;string value&quot;:&quot;KI270312.1&quot;},{&quot;string value&quot;:&quot;KI270933.1&quot;},{&quot;string value&quot;:&quot;GL383520.2&quot;},{&quot;string value&quot;:&quot;KQ031386.1&quot;},{&quot;string value&quot;:&quot;KQ090021.1&quot;},{&quot;string value&quot;:&quot;KI270889.1&quot;},{&quot;string value&quot;:&quot;KV575249.1&quot;},{&quot;string value&quot;:&quot;KI270892.1&quot;},{&quot;string value&quot;:&quot;KI270911.1&quot;},{&quot;string value&quot;:&quot;KI270848.1&quot;},{&quot;string value&quot;:&quot;GL949746.1&quot;},{&quot;string value&quot;:&quot;KI270417.1&quot;},{&quot;string value&quot;:&quot;KI270386.1&quot;},{&quot;string value&quot;:&quot;KI270815.1&quot;},{&quot;string value&quot;:&quot;GL383567.1&quot;},{&quot;string value&quot;:&quot;KI270383.1&quot;},{&quot;string value&quot;:&quot;KI270418.1&quot;},{&quot;string value&quot;:&quot;KI270812.1&quot;},{&quot;string value&quot;:&quot;KI270712.1&quot;},{&quot;string value&quot;:&quot;KI270710.1&quot;},{&quot;string value&quot;:&quot;KI270914.1&quot;},{&quot;string value&quot;:&quot;KI270584.1&quot;},{&quot;string value&quot;:&quot;GL000256.2&quot;},{&quot;string value&quot;:&quot;KI270364.1&quot;},{&quot;string value&quot;:&quot;KI270723.1&quot;},{&quot;string value&quot;:&quot;KI270894.1&quot;},{&quot;string value&quot;:&quot;KI270835.1&quot;},{&quot;string value&quot;:&quot;KI270927.1&quot;},{&quot;string value&quot;:&quot;KI270334.1&quot;},{&quot;string value&quot;:&quot;KI270716.1&quot;},{&quot;string value&quot;:&quot;chr2&quot;},{&quot;string value&quot;:&quot;KV575253.1&quot;},{&quot;string value&quot;:&quot;KQ983257.1&quot;},{&quot;string value&quot;:&quot;KI270907.1&quot;},{&quot;string value&quot;:&quot;KI270316.1&quot;},{&quot;string value&quot;:&quot;KI270918.1&quot;},{&quot;string value&quot;:&quot;KI270842.1&quot;},{&quot;string value&quot;:&quot;KI270818.1&quot;},{&quot;string value&quot;:&quot;KI270887.1&quot;},{&quot;string value&quot;:&quot;KI270758.1&quot;},{&quot;string value&quot;:&quot;KN196473.1&quot;},{&quot;string value&quot;:&quot;KQ031390.1&quot;},{&quot;string value&quot;:&quot;KI270935.1&quot;},{&quot;string value&quot;:&quot;KI270900.1&quot;},{&quot;string value&quot;:&quot;KI270589.1&quot;},{&quot;string value&quot;:&quot;chr3&quot;},{&quot;string value&quot;:&quot;KI270816.1&quot;},{&quot;string value&quot;:&quot;KI270711.1&quot;},{&quot;string value&quot;:&quot;chr8&quot;},{&quot;string value&quot;:&quot;KI270387.1&quot;},{&quot;string value&quot;:&quot;KI270371.1&quot;},{&quot;string value&quot;:&quot;chr9&quot;},{&quot;string value&quot;:&quot;KI270813.1&quot;},{&quot;string value&quot;:&quot;KV575244.1&quot;},{&quot;string value&quot;:&quot;KI270923.1&quot;},{&quot;string value&quot;:&quot;KI270793.1&quot;},{&quot;string value&quot;:&quot;KI270732.1&quot;},{&quot;string value&quot;:&quot;GL383564.2&quot;},{&quot;string value&quot;:&quot;KI270591.1&quot;},{&quot;string value&quot;:&quot;KI270315.1&quot;},{&quot;string value&quot;:&quot;GL000258.2&quot;},{&quot;string value&quot;:&quot;KI270824.1&quot;},{&quot;string value&quot;:&quot;KI270738.1&quot;},{&quot;string value&quot;:&quot;KI270734.1&quot;},{&quot;string value&quot;:&quot;KV880768.1&quot;},{&quot;string value&quot;:&quot;KI270373.1&quot;},{&quot;string value&quot;:&quot;KI270466.1&quot;},{&quot;string value&quot;:&quot;KI270843.1&quot;},{&quot;string value&quot;:&quot;KI270582.1&quot;},{&quot;string value&quot;:&quot;JH159137.1&quot;},{&quot;string value&quot;:&quot;GL000257.2&quot;},{&quot;string value&quot;:&quot;KI270511.1&quot;},{&quot;string value&quot;:&quot;KI270729.1&quot;},{&quot;string value&quot;:&quot;KQ759760.1&quot;},{&quot;string value&quot;:&quot;chr10&quot;},{&quot;string value&quot;:&quot;KI270384.1&quot;},{&quot;string value&quot;:&quot;KI270392.1&quot;},{&quot;string value&quot;:&quot;KI270865.1&quot;},{&quot;string value&quot;:&quot;KI270841.1&quot;},{&quot;string value&quot;:&quot;KI270838.1&quot;},{&quot;string value&quot;:&quot;KN196481.1&quot;},{&quot;string value&quot;:&quot;KI270830.1&quot;},{&quot;string value&quot;:&quot;KI270937.1&quot;},{&quot;string value&quot;:&quot;KI270538.1&quot;},{&quot;string value&quot;:&quot;KV766199.1&quot;},{&quot;string value&quot;:&quot;chrM&quot;},{&quot;string value&quot;:&quot;KI270867.1&quot;},{&quot;string value&quot;:&quot;KI270780.1&quot;},{&quot;string value&quot;:&quot;KV880767.1&quot;},{&quot;string value&quot;:&quot;KI270412.1&quot;},{&quot;string value&quot;:&quot;KQ090019.1&quot;},{&quot;string value&quot;:&quot;KN196479.1&quot;},{&quot;string value&quot;:&quot;KI270784.1&quot;},{&quot;string value&quot;:&quot;KI270713.1&quot;},{&quot;string value&quot;:&quot;GL000226.1&quot;},{&quot;string value&quot;:&quot;chr19&quot;},{&quot;string value&quot;:&quot;KI270898.1&quot;},{&quot;string value&quot;:&quot;KI270926.1&quot;},{&quot;string value&quot;:&quot;KV575260.1&quot;},{&quot;string value&quot;:&quot;KI270888.1&quot;},{&quot;string value&quot;:&quot;KN538363.1&quot;},{&quot;string value&quot;:&quot;chr15&quot;},{&quot;string value&quot;:&quot;KI270507.1&quot;},{&quot;string value&quot;:&quot;GL383582.2&quot;},{&quot;string value&quot;:&quot;GL383549.1&quot;},{&quot;string value&quot;:&quot;GL877876.1&quot;},{&quot;string value&quot;:&quot;GL000224.1&quot;},{&quot;string value&quot;:&quot;KQ983258.1&quot;},{&quot;string value&quot;:&quot;KN196486.1&quot;},{&quot;string value&quot;:&quot;KI270922.1&quot;},{&quot;string value&quot;:&quot;KI270785.1&quot;},{&quot;string value&quot;:&quot;KI270878.1&quot;},{&quot;string value&quot;:&quot;KI270337.1&quot;},{&quot;string value&quot;:&quot;KI270718.1&quot;},{&quot;string value&quot;:&quot;GL000253.2&quot;},{&quot;string value&quot;:&quot;chr14&quot;},{&quot;string value&quot;:&quot;KV880763.1&quot;},{&quot;string value&quot;:&quot;KQ458382.1&quot;},{&quot;string value&quot;:&quot;GL000220.1&quot;},{&quot;string value&quot;:&quot;KI270544.1&quot;},{&quot;string value&quot;:&quot;KI270322.1&quot;},{&quot;string value&quot;:&quot;KI270806.1&quot;},{&quot;string value&quot;:&quot;KI270423.1&quot;},{&quot;string value&quot;:&quot;KI270782.1&quot;},{&quot;string value&quot;:&quot;KV575251.1&quot;},{&quot;string value&quot;:&quot;KI270378.1&quot;},{&quot;string value&quot;:&quot;KI270919.1&quot;},{&quot;string value&quot;:&quot;KI270860.1&quot;},{&quot;string value&quot;:&quot;KV766198.1&quot;},{&quot;string value&quot;:&quot;KN538361.1&quot;},{&quot;string value&quot;:&quot;GL383563.3&quot;},{&quot;string value&quot;:&quot;chr13&quot;},{&quot;string value&quot;:&quot;KI270854.1&quot;},{&quot;string value&quot;:&quot;KI270929.1&quot;},{&quot;string value&quot;:&quot;GL949748.2&quot;},{&quot;string value&quot;:&quot;KI270877.1&quot;},{&quot;string value&quot;:&quot;KV575243.1&quot;},{&quot;string value&quot;:&quot;KN196474.1&quot;},{&quot;string value&quot;:&quot;KI270807.1&quot;},{&quot;string value&quot;:&quot;KI270740.1&quot;},{&quot;string value&quot;:&quot;KQ090015.1&quot;},{&quot;string value&quot;:&quot;KI270920.1&quot;},{&quot;string value&quot;:&quot;KI270771.1&quot;},{&quot;string value&quot;:&quot;KI270866.1&quot;},{&quot;string value&quot;:&quot;KI270340.1&quot;},{&quot;string value&quot;:&quot;KI270717.1&quot;},{&quot;string value&quot;:&quot;KI270746.1&quot;},{&quot;string value&quot;:&quot;KI270588.1&quot;},{&quot;string value&quot;:&quot;KN196484.1&quot;},{&quot;string value&quot;:&quot;KI270756.1&quot;},{&quot;string value&quot;:&quot;KI270847.1&quot;},{&quot;string value&quot;:&quot;KQ759761.1&quot;},{&quot;string value&quot;:&quot;KN538372.1&quot;},{&quot;string value&quot;:&quot;KI270736.1&quot;},{&quot;string value&quot;:&quot;KI270468.1&quot;},{&quot;string value&quot;:&quot;KI270395.1&quot;},{&quot;string value&quot;:&quot;KI270840.1&quot;},{&quot;string value&quot;:&quot;JH636055.2&quot;},{&quot;string value&quot;:&quot;KQ031384.1&quot;},{&quot;string value&quot;:&quot;KI270338.1&quot;},{&quot;string value&quot;:&quot;KI270715.1&quot;},{&quot;string value&quot;:&quot;KI270581.1&quot;},{&quot;string value&quot;:&quot;KI270465.1&quot;},{&quot;string value&quot;:&quot;JH159147.1&quot;},{&quot;string value&quot;:&quot;KI270518.1&quot;},{&quot;string value&quot;:&quot;KI270722.1&quot;},{&quot;string value&quot;:&quot;KQ090027.1&quot;},{&quot;string value&quot;:&quot;KI270858.1&quot;},{&quot;string value&quot;:&quot;KI270753.1&quot;},{&quot;string value&quot;:&quot;KN196475.1&quot;},{&quot;string value&quot;:&quot;KN196477.1&quot;},{&quot;string value&quot;:&quot;KI270788.1&quot;},{&quot;string value&quot;:&quot;KI270852.1&quot;},{&quot;string value&quot;:&quot;KI270757.1&quot;},{&quot;string value&quot;:&quot;KI270390.1&quot;},{&quot;string value&quot;:&quot;KI270448.1&quot;},{&quot;string value&quot;:&quot;KI270886.1&quot;},{&quot;string value&quot;:&quot;KI270422.1&quot;},{&quot;string value&quot;:&quot;KI270772.1&quot;},{&quot;string value&quot;:&quot;KQ090026.1&quot;},{&quot;string value&quot;:&quot;GL000216.2&quot;},{&quot;string value&quot;:&quot;KV766195.1&quot;},{&quot;string value&quot;:&quot;KI270817.1&quot;},{&quot;string value&quot;:&quot;KI270330.1&quot;},{&quot;string value&quot;:&quot;KI270930.1&quot;},{&quot;string value&quot;:&quot;KI270801.1&quot;},{&quot;string value&quot;:&quot;KI270821.1&quot;},{&quot;string value&quot;:&quot;KQ090025.1&quot;},{&quot;string value&quot;:&quot;KN196478.1&quot;},{&quot;string value&quot;:&quot;KV880764.1&quot;},{&quot;string value&quot;:&quot;KV575247.1&quot;},{&quot;string value&quot;:&quot;KN196487.1&quot;},{&quot;string value&quot;:&quot;GL383572.1&quot;},{&quot;string value&quot;:&quot;KI270508.1&quot;},{&quot;string value&quot;:&quot;KI270420.1&quot;},{&quot;string value&quot;:&quot;KI270396.1&quot;},{&quot;string value&quot;:&quot;KI270924.1&quot;},{&quot;string value&quot;:&quot;KI270851.1&quot;},{&quot;string value&quot;:&quot;KQ458387.1&quot;},{&quot;string value&quot;:&quot;KI270388.1&quot;},{&quot;string value&quot;:&quot;KI270385.1&quot;},{&quot;string value&quot;:&quot;KI270389.1&quot;},{&quot;string value&quot;:&quot;KV880766.1&quot;},{&quot;string value&quot;:&quot;KN538369.1&quot;},{&quot;string value&quot;:&quot;KI270896.1&quot;},{&quot;string value&quot;:&quot;GL000213.1&quot;},{&quot;string value&quot;:&quot;KI270913.1&quot;},{&quot;string value&quot;:&quot;KI270859.1&quot;},{&quot;string value&quot;:&quot;chr6&quot;},{&quot;string value&quot;:&quot;KI270714.1&quot;},{&quot;string value&quot;:&quot;KI270728.1&quot;},{&quot;string value&quot;:&quot;KI270810.1&quot;},{&quot;string value&quot;:&quot;KI270760.1&quot;},{&quot;string value&quot;:&quot;KV766192.1&quot;},{&quot;string value&quot;:&quot;GL383570.1&quot;},{&quot;string value&quot;:&quot;KI270862.1&quot;},{&quot;string value&quot;:&quot;GL383540.1&quot;},{&quot;string value&quot;:&quot;GL949753.2&quot;},{&quot;string value&quot;:&quot;KI270768.1&quot;},{&quot;string value&quot;:&quot;GL383553.2&quot;},{&quot;string value&quot;:&quot;KI270861.1&quot;},{&quot;string value&quot;:&quot;KI270310.1&quot;},{&quot;string value&quot;:&quot;GL383555.2&quot;},{&quot;string value&quot;:&quot;GL383574.1&quot;},{&quot;string value&quot;:&quot;KI270761.1&quot;},{&quot;string value&quot;:&quot;KI270800.1&quot;},{&quot;string value&quot;:&quot;GL383519.1&quot;},{&quot;string value&quot;:&quot;KQ090013.1&quot;},{&quot;string value&quot;:&quot;GL383541.1&quot;},{&quot;string value&quot;:&quot;GL383531.1&quot;},{&quot;string value&quot;:&quot;KQ458384.1&quot;},{&quot;string value&quot;:&quot;KI270391.1&quot;},{&quot;string value&quot;:&quot;GL000254.2&quot;},{&quot;string value&quot;:&quot;GL383534.2&quot;},{&quot;string value&quot;:&quot;GL383546.1&quot;},{&quot;string value&quot;:&quot;KI270938.1&quot;},{&quot;string value&quot;:&quot;KI270743.1&quot;},{&quot;string value&quot;:&quot;GL383577.2&quot;},{&quot;string value&quot;:&quot;KI270909.1&quot;},{&quot;string value&quot;:&quot;KI270905.1&quot;},{&quot;string value&quot;:&quot;KI270891.1&quot;},{&quot;string value&quot;:&quot;KI270366.1&quot;},{&quot;string value&quot;:&quot;GL877875.1&quot;},{&quot;string value&quot;:&quot;KQ759759.1&quot;},{&quot;string value&quot;:&quot;KI270791.1&quot;},{&quot;string value&quot;:&quot;KI270775.1&quot;},{&quot;string value&quot;:&quot;KQ458386.1&quot;},{&quot;string value&quot;:&quot;GL000208.1&quot;},{&quot;string value&quot;:&quot;KI270773.1&quot;},{&quot;string value&quot;:&quot;GL383583.2&quot;},{&quot;string value&quot;:&quot;KI270528.1&quot;},{&quot;string value&quot;:&quot;KI270707.1&quot;},{&quot;string value&quot;:&quot;KV766197.1&quot;},{&quot;string value&quot;:&quot;GL383528.1&quot;},{&quot;string value&quot;:&quot;KQ031385.1&quot;},{&quot;string value&quot;:&quot;KI270774.1&quot;},{&quot;string value&quot;:&quot;KI270737.1&quot;},{&quot;string value&quot;:&quot;KI270530.1&quot;},{&quot;string value&quot;:&quot;KN196476.1&quot;},{&quot;string value&quot;:&quot;KQ983256.1&quot;},{&quot;string value&quot;:&quot;KI270786.1&quot;},{&quot;string value&quot;:&quot;KI270906.1&quot;},{&quot;string value&quot;:&quot;KI270804.1&quot;},{&quot;string value&quot;:&quot;KI270510.1&quot;},{&quot;string value&quot;:&quot;KQ458388.1&quot;},{&quot;string value&quot;:&quot;KQ458383.1&quot;},{&quot;string value&quot;:&quot;KI270755.1&quot;},{&quot;string value&quot;:&quot;KI270517.1&quot;},{&quot;string value&quot;:&quot;KQ090020.1&quot;},{&quot;string value&quot;:&quot;KI270379.1&quot;},{&quot;string value&quot;:&quot;KI270754.1&quot;},{&quot;string value&quot;:&quot;KI270727.1&quot;},{&quot;string value&quot;:&quot;KV575245.1&quot;},{&quot;string value&quot;:&quot;GL383581.2&quot;},{&quot;string value&quot;:&quot;GL000209.2&quot;},{&quot;string value&quot;:&quot;KI270777.1&quot;},{&quot;string value&quot;:&quot;GL949749.2&quot;},{&quot;string value&quot;:&quot;KI270833.1&quot;},{&quot;string value&quot;:&quot;GL000255.2&quot;},{&quot;string value&quot;:&quot;KI270522.1&quot;},{&quot;string value&quot;:&quot;KI270853.1&quot;},{&quot;string value&quot;:&quot;KI270792.1&quot;},{&quot;string value&quot;:&quot;KI270789.1&quot;},{&quot;string value&quot;:&quot;GL000214.1&quot;},{&quot;string value&quot;:&quot;KI270516.1&quot;},{&quot;string value&quot;:&quot;KI270912.1&quot;},{&quot;string value&quot;:&quot;KI270719.1&quot;},{&quot;string value&quot;:&quot;KI270762.1&quot;},{&quot;string value&quot;:&quot;KI270708.1&quot;},{&quot;string value&quot;:&quot;KI270839.1&quot;},{&quot;string value&quot;:&quot;KI270706.1&quot;},{&quot;string value&quot;:&quot;KN196482.1&quot;},{&quot;string value&quot;:&quot;KI270897.1&quot;},{&quot;string value&quot;:&quot;GL339449.2&quot;},{&quot;string value&quot;:&quot;KI270916.1&quot;},{&quot;string value&quot;:&quot;KI270741.1&quot;},{&quot;string value&quot;:&quot;GL383542.1&quot;},{&quot;string value&quot;:&quot;GL383569.1&quot;},{&quot;string value&quot;:&quot;GL383578.2&quot;},{&quot;string value&quot;:&quot;GL383527.1&quot;},{&quot;string value&quot;:&quot;KI270329.1&quot;},{&quot;string value&quot;:&quot;KI270751.1&quot;},{&quot;string value&quot;:&quot;KI270587.1&quot;},{&quot;string value&quot;:&quot;KI270759.1&quot;},{&quot;string value&quot;:&quot;KQ983255.1&quot;},{&quot;string value&quot;:&quot;KI270539.1&quot;},{&quot;string value&quot;:&quot;KI270320.1&quot;},{&quot;string value&quot;:&quot;KI270850.1&quot;},{&quot;string value&quot;:&quot;GL949747.2&quot;},{&quot;string value&quot;:&quot;KI270720.1&quot;},{&quot;string value&quot;:&quot;KI270590.1&quot;},{&quot;string value&quot;:&quot;KI270709.1&quot;},{&quot;string value&quot;:&quot;GL383571.1&quot;},{&quot;string value&quot;:&quot;KQ031387.1&quot;},{&quot;string value&quot;:&quot;KI270871.1&quot;},{&quot;string value&quot;:&quot;GL383545.1&quot;},{&quot;string value&quot;:&quot;KI270836.1&quot;},{&quot;string value&quot;:&quot;KI270798.1&quot;},{&quot;string value&quot;:&quot;chr17&quot;},{&quot;string value&quot;:&quot;GL383526.1&quot;},{&quot;string value&quot;:&quot;chr12&quot;},{&quot;string value&quot;:&quot;GL383551.1&quot;},{&quot;string value&quot;:&quot;KI270794.1&quot;},{&quot;string value&quot;:&quot;KI270726.1&quot;},{&quot;string value&quot;:&quot;KI270845.1&quot;},{&quot;string value&quot;:&quot;GL383539.1&quot;},{&quot;string value&quot;:&quot;KI270882.1&quot;},{&quot;string value&quot;:&quot;KI270863.1&quot;},{&quot;string value&quot;:&quot;KI270856.1&quot;},{&quot;string value&quot;:&quot;KI270411.1&quot;}],&quot;genId&quot;:&quot;1480793194&quot;}\" type=\"text/x-scoped-javascript\">/*<![CDATA[*/req(['../javascripts/notebook/playground','../javascripts/notebook/magic/tableChart'], \n      function(playground, _magictableChart) {\n        // data ==> data-this (in observable.js's scopedEval) ==> this in JS => { dataId, dataInit, ... }\n        // this ==> scope (in observable.js's scopedEval) ==> this.parentElement ==> div.container below (toHtml)\n\n        playground.call(data,\n                        this\n                        ,\n                        {\n    \"f\": _magictableChart,\n    \"o\": {\"headers\":[\"string value\"],\"width\":600,\"height\":400}\n  }\n  \n                        \n                        \n                      );\n      }\n    );/*]]>*/</script>\n    <div>\n      <span class=\"chart-total-item-count\"><p data-bind=\"text: value\"><script data-this=\"{&quot;valueId&quot;:&quot;anon3bfcb6dc23b8c443e861316d8ac6327d&quot;,&quot;initialValue&quot;:&quot;555&quot;}\" type=\"text/x-scoped-javascript\">/*<![CDATA[*/\nreq(\n['observable', 'knockout'],\nfunction (O, ko) {\n  ko.applyBindings({\n      value: O.makeObservable(valueId, initialValue)\n    },\n    this\n  );\n});\n        /*]]>*/</script></p> entries total</span>\n      <span class=\"chart-sampling-warning\"><p data-bind=\"text: value\"><script data-this=\"{&quot;valueId&quot;:&quot;anond7f3b4e1931a3bce5f58b556e203b56b&quot;,&quot;initialValue&quot;:&quot;&quot;}\" type=\"text/x-scoped-javascript\">/*<![CDATA[*/\nreq(\n['observable', 'knockout'],\nfunction (O, ko) {\n  ko.applyBindings({\n      value: O.makeObservable(valueId, initialValue)\n    },\n    this\n  );\n});\n        /*]]>*/</script></p></span>\n      <div>\n      </div>\n    </div></div>\n            </div><div class=\"tab-pane\" id=\"tab1944807760-1\">\n            <div>\n      <script data-this=\"{&quot;dataId&quot;:&quot;anonc72fe5f916ef1876e495bea28f8a85a8&quot;,&quot;dataInit&quot;:[{&quot;string value&quot;:&quot;GL383554.1&quot;},{&quot;string value&quot;:&quot;KN538367.1&quot;},{&quot;string value&quot;:&quot;KI270579.1&quot;},{&quot;string value&quot;:&quot;KV575246.1&quot;},{&quot;string value&quot;:&quot;KI270733.1&quot;},{&quot;string value&quot;:&quot;GL383532.1&quot;},{&quot;string value&quot;:&quot;KI270869.1&quot;},{&quot;string value&quot;:&quot;KI270765.1&quot;},{&quot;string value&quot;:&quot;KI270890.1&quot;},{&quot;string value&quot;:&quot;KI270849.1&quot;},{&quot;string value&quot;:&quot;KQ090017.1&quot;},{&quot;string value&quot;:&quot;KQ090024.1&quot;},{&quot;string value&quot;:&quot;KI270820.1&quot;},{&quot;string value&quot;:&quot;KI270915.1&quot;},{&quot;string value&quot;:&quot;KN538370.1&quot;},{&quot;string value&quot;:&quot;GL383521.1&quot;},{&quot;string value&quot;:&quot;KI270742.1&quot;},{&quot;string value&quot;:&quot;KB021644.2&quot;},{&quot;string value&quot;:&quot;KI270829.1&quot;},{&quot;string value&quot;:&quot;KV575256.1&quot;},{&quot;string value&quot;:&quot;KV575250.1&quot;},{&quot;string value&quot;:&quot;KI270583.1&quot;},{&quot;string value&quot;:&quot;KI270870.1&quot;},{&quot;string value&quot;:&quot;chr1&quot;},{&quot;string value&quot;:&quot;GL000251.2&quot;},{&quot;string value&quot;:&quot;KI270868.1&quot;},{&quot;string value&quot;:&quot;GL000219.1&quot;},{&quot;string value&quot;:&quot;KI270317.1&quot;},{&quot;string value&quot;:&quot;KI270744.1&quot;},{&quot;string value&quot;:&quot;KI270921.1&quot;},{&quot;string value&quot;:&quot;KI270747.1&quot;},{&quot;string value&quot;:&quot;KI270787.1&quot;},{&quot;string value&quot;:&quot;KI270783.1&quot;},{&quot;string value&quot;:&quot;KV575259.1&quot;},{&quot;string value&quot;:&quot;KQ090022.1&quot;},{&quot;string value&quot;:&quot;KI270936.1&quot;},{&quot;string value&quot;:&quot;chr4&quot;},{&quot;string value&quot;:&quot;KV880765.1&quot;},{&quot;string value&quot;:&quot;KV575252.1&quot;},{&quot;string value&quot;:&quot;GL383575.2&quot;},{&quot;string value&quot;:&quot;KN538368.1&quot;},{&quot;string value&quot;:&quot;GL383518.1&quot;},{&quot;string value&quot;:&quot;KI270904.1&quot;},{&quot;string value&quot;:&quot;KI270335.1&quot;},{&quot;string value&quot;:&quot;chrX&quot;},{&quot;string value&quot;:&quot;chr20&quot;},{&quot;string value&quot;:&quot;KI270735.1&quot;},{&quot;string value&quot;:&quot;KQ090023.1&quot;},{&quot;string value&quot;:&quot;KI270374.1&quot;},{&quot;string value&quot;:&quot;GL383530.1&quot;},{&quot;string value&quot;:&quot;KI270826.1&quot;},{&quot;string value&quot;:&quot;chr16&quot;},{&quot;string value&quot;:&quot;KV766196.1&quot;},{&quot;string value&quot;:&quot;GL000205.2&quot;},{&quot;string value&quot;:&quot;chr21&quot;},{&quot;string value&quot;:&quot;GL383533.1&quot;},{&quot;string value&quot;:&quot;GL000195.1&quot;},{&quot;string value&quot;:&quot;KQ458385.1&quot;},{&quot;string value&quot;:&quot;KI270429.1&quot;},{&quot;string value&quot;:&quot;KI270803.1&quot;},{&quot;string value&quot;:&quot;KI270908.1&quot;},{&quot;string value&quot;:&quot;KI270876.1&quot;},{&quot;string value&quot;:&quot;KI270776.1&quot;},{&quot;string value&quot;:&quot;GL383580.2&quot;},{&quot;string value&quot;:&quot;KN538371.1&quot;},{&quot;string value&quot;:&quot;GL383565.1&quot;},{&quot;string value&quot;:&quot;KI270781.1&quot;},{&quot;string value&quot;:&quot;GL000250.2&quot;},{&quot;string value&quot;:&quot;KI270814.1&quot;},{&quot;string value&quot;:&quot;KN538360.1&quot;},{&quot;string value&quot;:&quot;GL383552.1&quot;},{&quot;string value&quot;:&quot;KI270303.1&quot;},{&quot;string value&quot;:&quot;GL383557.1&quot;},{&quot;string value&quot;:&quot;KI270748.1&quot;},{&quot;string value&quot;:&quot;KI270899.1&quot;},{&quot;string value&quot;:&quot;KV575254.1&quot;},{&quot;string value&quot;:&quot;KQ090016.1&quot;},{&quot;string value&quot;:&quot;KI270823.1&quot;},{&quot;string value&quot;:&quot;KI270363.1&quot;},{&quot;string value&quot;:&quot;KI270752.1&quot;},{&quot;string value&quot;:&quot;GL582966.2&quot;},{&quot;string value&quot;:&quot;KI270509.1&quot;},{&quot;string value&quot;:&quot;KN196480.1&quot;},{&quot;string value&quot;:&quot;KI270928.1&quot;},{&quot;string value&quot;:&quot;KI270795.1&quot;},{&quot;string value&quot;:&quot;GL383550.2&quot;},{&quot;string value&quot;:&quot;KI270770.1&quot;},{&quot;string value&quot;:&quot;KI270805.1&quot;},{&quot;string value&quot;:&quot;KI270739.1&quot;},{&quot;string value&quot;:&quot;KI270903.1&quot;},{&quot;string value&quot;:&quot;KI270802.1&quot;},{&quot;string value&quot;:&quot;KI270769.1&quot;},{&quot;string value&quot;:&quot;KQ090014.1&quot;},{&quot;string value&quot;:&quot;KI270414.1&quot;},{&quot;string value&quot;:&quot;KI270934.1&quot;},{&quot;string value&quot;:&quot;KI270767.1&quot;},{&quot;string value&quot;:&quot;KI270333.1&quot;},{&quot;string value&quot;:&quot;KI270844.1&quot;},{&quot;string value&quot;:&quot;KQ090018.1&quot;},{&quot;string value&quot;:&quot;KQ090028.1&quot;},{&quot;string value&quot;:&quot;KN538362.1&quot;},{&quot;string value&quot;:&quot;KI270435.1&quot;},{&quot;string value&quot;:&quot;KI270745.1&quot;},{&quot;string value&quot;:&quot;KI270799.1&quot;},{&quot;string value&quot;:&quot;JH159136.1&quot;},{&quot;string value&quot;:&quot;KI270305.1&quot;},{&quot;string value&quot;:&quot;KB663609.1&quot;},{&quot;string value&quot;:&quot;KQ759762.1&quot;},{&quot;string value&quot;:&quot;KI270925.1&quot;},{&quot;string value&quot;:&quot;KI270580.1&quot;},{&quot;string value&quot;:&quot;KI270766.1&quot;},{&quot;string value&quot;:&quot;KI270873.1&quot;},{&quot;string value&quot;:&quot;KV575248.1&quot;},{&quot;string value&quot;:&quot;GL383556.1&quot;},{&quot;string value&quot;:&quot;KI270879.1&quot;},{&quot;string value&quot;:&quot;KI270529.1&quot;},{&quot;string value&quot;:&quot;KI270796.1&quot;},{&quot;string value&quot;:&quot;KI270731.1&quot;},{&quot;string value&quot;:&quot;KI270931.1&quot;},{&quot;string value&quot;:&quot;KI270438.1&quot;},{&quot;string value&quot;:&quot;GL383566.1&quot;},{&quot;string value&quot;:&quot;KI270381.1&quot;},{&quot;string value&quot;:&quot;KI270875.1&quot;},{&quot;string value&quot;:&quot;GL383522.1&quot;},{&quot;string value&quot;:&quot;KI270425.1&quot;},{&quot;string value&quot;:&quot;chr18&quot;},{&quot;string value&quot;:&quot;KI270515.1&quot;},{&quot;string value&quot;:&quot;KI270419.1&quot;},{&quot;string value&quot;:&quot;KI270778.1&quot;},{&quot;string value&quot;:&quot;KI270819.1&quot;},{&quot;string value&quot;:&quot;KN538364.1&quot;},{&quot;string value&quot;:&quot;KN196485.1&quot;},{&quot;string value&quot;:&quot;GL383579.2&quot;},{&quot;string value&quot;:&quot;KI270548.1&quot;},{&quot;string value&quot;:&quot;KI270336.1&quot;},{&quot;string value&quot;:&quot;KI270750.1&quot;},{&quot;string value&quot;:&quot;KI270725.1&quot;},{&quot;string value&quot;:&quot;KI270376.1&quot;},{&quot;string value&quot;:&quot;KV575255.1&quot;},{&quot;string value&quot;:&quot;KI270375.1&quot;},{&quot;string value&quot;:&quot;KI270790.1&quot;},{&quot;string value&quot;:&quot;GL383573.1&quot;},{&quot;string value&quot;:&quot;GL000221.1&quot;},{&quot;string value&quot;:&quot;KI270884.1&quot;},{&quot;string value&quot;:&quot;GL383568.1&quot;},{&quot;string value&quot;:&quot;KI270467.1&quot;},{&quot;string value&quot;:&quot;KI270832.1&quot;},{&quot;string value&quot;:&quot;KI270393.1&quot;},{&quot;string value&quot;:&quot;KI270809.1&quot;},{&quot;string value&quot;:&quot;KI270902.1&quot;},{&quot;string value&quot;:&quot;KI270880.1&quot;},{&quot;string value&quot;:&quot;GL949742.1&quot;},{&quot;string value&quot;:&quot;chr11&quot;},{&quot;string value&quot;:&quot;KI270825.1&quot;},{&quot;string value&quot;:&quot;GL000225.1&quot;},{&quot;string value&quot;:&quot;KI270797.1&quot;},{&quot;string value&quot;:&quot;GL000009.2&quot;},{&quot;string value&quot;:&quot;KN196472.1&quot;},{&quot;string value&quot;:&quot;KI270521.1&quot;},{&quot;string value&quot;:&quot;GL000252.2&quot;},{&quot;string value&quot;:&quot;KI270302.1&quot;},{&quot;string value&quot;:&quot;KI270811.1&quot;},{&quot;string value&quot;:&quot;KV575257.1&quot;},{&quot;string value&quot;:&quot;GL383547.1&quot;},{&quot;string value&quot;:&quot;KI270837.1&quot;},{&quot;string value&quot;:&quot;GL383576.1&quot;},{&quot;string value&quot;:&quot;KI270874.1&quot;},{&quot;string value&quot;:&quot;KI270304.1&quot;},{&quot;string value&quot;:&quot;KI270834.1&quot;},{&quot;string value&quot;:&quot;KI270519.1&quot;},{&quot;string value&quot;:&quot;KI270372.1&quot;},{&quot;string value&quot;:&quot;KQ031389.1&quot;},{&quot;string value&quot;:&quot;KI270442.1&quot;},{&quot;string value&quot;:&quot;GL000194.1&quot;},{&quot;string value&quot;:&quot;chr5&quot;},{&quot;string value&quot;:&quot;KI270721.1&quot;},{&quot;string value&quot;:&quot;KI270883.1&quot;},{&quot;string value&quot;:&quot;KI270822.1&quot;},{&quot;string value&quot;:&quot;KI270779.1&quot;},{&quot;string value&quot;:&quot;KI270917.1&quot;},{&quot;string value&quot;:&quot;KI270593.1&quot;},{&quot;string value&quot;:&quot;chr22&quot;},{&quot;string value&quot;:&quot;chrY&quot;},{&quot;string value&quot;:&quot;KI270362.1&quot;},{&quot;string value&quot;:&quot;KI270864.1&quot;},{&quot;string value&quot;:&quot;KI270893.1&quot;},{&quot;string value&quot;:&quot;KV766193.1&quot;},{&quot;string value&quot;:&quot;KI270808.1&quot;},{&quot;string value&quot;:&quot;KI270764.1&quot;},{&quot;string value&quot;:&quot;KI270724.1&quot;},{&quot;string value&quot;:&quot;KI270846.1&quot;},{&quot;string value&quot;:&quot;KI270730.1&quot;},{&quot;string value&quot;:&quot;KI270885.1&quot;},{&quot;string value&quot;:&quot;KI270872.1&quot;},{&quot;string value&quot;:&quot;KI270901.1&quot;},{&quot;string value&quot;:&quot;chr7&quot;},{&quot;string value&quot;:&quot;KN538366.1&quot;},{&quot;string value&quot;:&quot;JH159148.1&quot;},{&quot;string value&quot;:&quot;KI270382.1&quot;},{&quot;string value&quot;:&quot;GL949752.1&quot;},{&quot;string value&quot;:&quot;KI270827.1&quot;},{&quot;string value&quot;:&quot;KQ031388.1&quot;},{&quot;string value&quot;:&quot;GL949751.2&quot;},{&quot;string value&quot;:&quot;KI270512.1&quot;},{&quot;string value&quot;:&quot;GL000008.2&quot;},{&quot;string value&quot;:&quot;GL000218.1&quot;},{&quot;string value&quot;:&quot;KI270855.1&quot;},{&quot;string value&quot;:&quot;KV575258.1&quot;},{&quot;string value&quot;:&quot;KI270763.1&quot;},{&quot;string value&quot;:&quot;KI270424.1&quot;},{&quot;string value&quot;:&quot;KQ031383.1&quot;},{&quot;string value&quot;:&quot;JH159146.1&quot;},{&quot;string value&quot;:&quot;KI270749.1&quot;},{&quot;string value&quot;:&quot;KN196483.1&quot;},{&quot;string value&quot;:&quot;KI270831.1&quot;},{&quot;string value&quot;:&quot;KN538365.1&quot;},{&quot;string value&quot;:&quot;KI270311.1&quot;},{&quot;string value&quot;:&quot;KI270857.1&quot;},{&quot;string value&quot;:&quot;GL949750.2&quot;},{&quot;string value&quot;:&quot;KN538373.1&quot;},{&quot;string value&quot;:&quot;KI270895.1&quot;},{&quot;string value&quot;:&quot;KI270881.1&quot;},{&quot;string value&quot;:&quot;KI270932.1&quot;},{&quot;string value&quot;:&quot;KI270394.1&quot;},{&quot;string value&quot;:&quot;KI270910.1&quot;},{&quot;string value&quot;:&quot;KI270312.1&quot;},{&quot;string value&quot;:&quot;KI270933.1&quot;},{&quot;string value&quot;:&quot;GL383520.2&quot;},{&quot;string value&quot;:&quot;KQ031386.1&quot;},{&quot;string value&quot;:&quot;KQ090021.1&quot;},{&quot;string value&quot;:&quot;KI270889.1&quot;},{&quot;string value&quot;:&quot;KV575249.1&quot;},{&quot;string value&quot;:&quot;KI270892.1&quot;},{&quot;string value&quot;:&quot;KI270911.1&quot;},{&quot;string value&quot;:&quot;KI270848.1&quot;},{&quot;string value&quot;:&quot;GL949746.1&quot;},{&quot;string value&quot;:&quot;KI270417.1&quot;},{&quot;string value&quot;:&quot;KI270386.1&quot;},{&quot;string value&quot;:&quot;KI270815.1&quot;},{&quot;string value&quot;:&quot;GL383567.1&quot;},{&quot;string value&quot;:&quot;KI270383.1&quot;},{&quot;string value&quot;:&quot;KI270418.1&quot;},{&quot;string value&quot;:&quot;KI270812.1&quot;},{&quot;string value&quot;:&quot;KI270712.1&quot;},{&quot;string value&quot;:&quot;KI270710.1&quot;},{&quot;string value&quot;:&quot;KI270914.1&quot;},{&quot;string value&quot;:&quot;KI270584.1&quot;},{&quot;string value&quot;:&quot;GL000256.2&quot;},{&quot;string value&quot;:&quot;KI270364.1&quot;},{&quot;string value&quot;:&quot;KI270723.1&quot;},{&quot;string value&quot;:&quot;KI270894.1&quot;},{&quot;string value&quot;:&quot;KI270835.1&quot;},{&quot;string value&quot;:&quot;KI270927.1&quot;},{&quot;string value&quot;:&quot;KI270334.1&quot;},{&quot;string value&quot;:&quot;KI270716.1&quot;},{&quot;string value&quot;:&quot;chr2&quot;},{&quot;string value&quot;:&quot;KV575253.1&quot;},{&quot;string value&quot;:&quot;KQ983257.1&quot;},{&quot;string value&quot;:&quot;KI270907.1&quot;},{&quot;string value&quot;:&quot;KI270316.1&quot;},{&quot;string value&quot;:&quot;KI270918.1&quot;},{&quot;string value&quot;:&quot;KI270842.1&quot;},{&quot;string value&quot;:&quot;KI270818.1&quot;},{&quot;string value&quot;:&quot;KI270887.1&quot;},{&quot;string value&quot;:&quot;KI270758.1&quot;},{&quot;string value&quot;:&quot;KN196473.1&quot;},{&quot;string value&quot;:&quot;KQ031390.1&quot;},{&quot;string value&quot;:&quot;KI270935.1&quot;},{&quot;string value&quot;:&quot;KI270900.1&quot;},{&quot;string value&quot;:&quot;KI270589.1&quot;},{&quot;string value&quot;:&quot;chr3&quot;},{&quot;string value&quot;:&quot;KI270816.1&quot;},{&quot;string value&quot;:&quot;KI270711.1&quot;},{&quot;string value&quot;:&quot;chr8&quot;},{&quot;string value&quot;:&quot;KI270387.1&quot;},{&quot;string value&quot;:&quot;KI270371.1&quot;},{&quot;string value&quot;:&quot;chr9&quot;},{&quot;string value&quot;:&quot;KI270813.1&quot;},{&quot;string value&quot;:&quot;KV575244.1&quot;},{&quot;string value&quot;:&quot;KI270923.1&quot;},{&quot;string value&quot;:&quot;KI270793.1&quot;},{&quot;string value&quot;:&quot;KI270732.1&quot;},{&quot;string value&quot;:&quot;GL383564.2&quot;},{&quot;string value&quot;:&quot;KI270591.1&quot;},{&quot;string value&quot;:&quot;KI270315.1&quot;},{&quot;string value&quot;:&quot;GL000258.2&quot;},{&quot;string value&quot;:&quot;KI270824.1&quot;},{&quot;string value&quot;:&quot;KI270738.1&quot;},{&quot;string value&quot;:&quot;KI270734.1&quot;},{&quot;string value&quot;:&quot;KV880768.1&quot;},{&quot;string value&quot;:&quot;KI270373.1&quot;},{&quot;string value&quot;:&quot;KI270466.1&quot;},{&quot;string value&quot;:&quot;KI270843.1&quot;},{&quot;string value&quot;:&quot;KI270582.1&quot;},{&quot;string value&quot;:&quot;JH159137.1&quot;},{&quot;string value&quot;:&quot;GL000257.2&quot;},{&quot;string value&quot;:&quot;KI270511.1&quot;},{&quot;string value&quot;:&quot;KI270729.1&quot;},{&quot;string value&quot;:&quot;KQ759760.1&quot;},{&quot;string value&quot;:&quot;chr10&quot;},{&quot;string value&quot;:&quot;KI270384.1&quot;},{&quot;string value&quot;:&quot;KI270392.1&quot;},{&quot;string value&quot;:&quot;KI270865.1&quot;},{&quot;string value&quot;:&quot;KI270841.1&quot;},{&quot;string value&quot;:&quot;KI270838.1&quot;},{&quot;string value&quot;:&quot;KN196481.1&quot;},{&quot;string value&quot;:&quot;KI270830.1&quot;},{&quot;string value&quot;:&quot;KI270937.1&quot;},{&quot;string value&quot;:&quot;KI270538.1&quot;},{&quot;string value&quot;:&quot;KV766199.1&quot;},{&quot;string value&quot;:&quot;chrM&quot;},{&quot;string value&quot;:&quot;KI270867.1&quot;},{&quot;string value&quot;:&quot;KI270780.1&quot;},{&quot;string value&quot;:&quot;KV880767.1&quot;},{&quot;string value&quot;:&quot;KI270412.1&quot;},{&quot;string value&quot;:&quot;KQ090019.1&quot;},{&quot;string value&quot;:&quot;KN196479.1&quot;},{&quot;string value&quot;:&quot;KI270784.1&quot;},{&quot;string value&quot;:&quot;KI270713.1&quot;},{&quot;string value&quot;:&quot;GL000226.1&quot;},{&quot;string value&quot;:&quot;chr19&quot;},{&quot;string value&quot;:&quot;KI270898.1&quot;},{&quot;string value&quot;:&quot;KI270926.1&quot;},{&quot;string value&quot;:&quot;KV575260.1&quot;},{&quot;string value&quot;:&quot;KI270888.1&quot;},{&quot;string value&quot;:&quot;KN538363.1&quot;},{&quot;string value&quot;:&quot;chr15&quot;},{&quot;string value&quot;:&quot;KI270507.1&quot;},{&quot;string value&quot;:&quot;GL383582.2&quot;},{&quot;string value&quot;:&quot;GL383549.1&quot;},{&quot;string value&quot;:&quot;GL877876.1&quot;},{&quot;string value&quot;:&quot;GL000224.1&quot;},{&quot;string value&quot;:&quot;KQ983258.1&quot;},{&quot;string value&quot;:&quot;KN196486.1&quot;},{&quot;string value&quot;:&quot;KI270922.1&quot;},{&quot;string value&quot;:&quot;KI270785.1&quot;},{&quot;string value&quot;:&quot;KI270878.1&quot;},{&quot;string value&quot;:&quot;KI270337.1&quot;},{&quot;string value&quot;:&quot;KI270718.1&quot;},{&quot;string value&quot;:&quot;GL000253.2&quot;},{&quot;string value&quot;:&quot;chr14&quot;},{&quot;string value&quot;:&quot;KV880763.1&quot;},{&quot;string value&quot;:&quot;KQ458382.1&quot;},{&quot;string value&quot;:&quot;GL000220.1&quot;},{&quot;string value&quot;:&quot;KI270544.1&quot;},{&quot;string value&quot;:&quot;KI270322.1&quot;},{&quot;string value&quot;:&quot;KI270806.1&quot;},{&quot;string value&quot;:&quot;KI270423.1&quot;},{&quot;string value&quot;:&quot;KI270782.1&quot;},{&quot;string value&quot;:&quot;KV575251.1&quot;},{&quot;string value&quot;:&quot;KI270378.1&quot;},{&quot;string value&quot;:&quot;KI270919.1&quot;},{&quot;string value&quot;:&quot;KI270860.1&quot;},{&quot;string value&quot;:&quot;KV766198.1&quot;},{&quot;string value&quot;:&quot;KN538361.1&quot;},{&quot;string value&quot;:&quot;GL383563.3&quot;},{&quot;string value&quot;:&quot;chr13&quot;},{&quot;string value&quot;:&quot;KI270854.1&quot;},{&quot;string value&quot;:&quot;KI270929.1&quot;},{&quot;string value&quot;:&quot;GL949748.2&quot;},{&quot;string value&quot;:&quot;KI270877.1&quot;},{&quot;string value&quot;:&quot;KV575243.1&quot;},{&quot;string value&quot;:&quot;KN196474.1&quot;},{&quot;string value&quot;:&quot;KI270807.1&quot;},{&quot;string value&quot;:&quot;KI270740.1&quot;},{&quot;string value&quot;:&quot;KQ090015.1&quot;},{&quot;string value&quot;:&quot;KI270920.1&quot;},{&quot;string value&quot;:&quot;KI270771.1&quot;},{&quot;string value&quot;:&quot;KI270866.1&quot;},{&quot;string value&quot;:&quot;KI270340.1&quot;},{&quot;string value&quot;:&quot;KI270717.1&quot;},{&quot;string value&quot;:&quot;KI270746.1&quot;},{&quot;string value&quot;:&quot;KI270588.1&quot;},{&quot;string value&quot;:&quot;KN196484.1&quot;},{&quot;string value&quot;:&quot;KI270756.1&quot;},{&quot;string value&quot;:&quot;KI270847.1&quot;},{&quot;string value&quot;:&quot;KQ759761.1&quot;},{&quot;string value&quot;:&quot;KN538372.1&quot;},{&quot;string value&quot;:&quot;KI270736.1&quot;},{&quot;string value&quot;:&quot;KI270468.1&quot;},{&quot;string value&quot;:&quot;KI270395.1&quot;},{&quot;string value&quot;:&quot;KI270840.1&quot;},{&quot;string value&quot;:&quot;JH636055.2&quot;},{&quot;string value&quot;:&quot;KQ031384.1&quot;},{&quot;string value&quot;:&quot;KI270338.1&quot;},{&quot;string value&quot;:&quot;KI270715.1&quot;},{&quot;string value&quot;:&quot;KI270581.1&quot;},{&quot;string value&quot;:&quot;KI270465.1&quot;},{&quot;string value&quot;:&quot;JH159147.1&quot;},{&quot;string value&quot;:&quot;KI270518.1&quot;},{&quot;string value&quot;:&quot;KI270722.1&quot;},{&quot;string value&quot;:&quot;KQ090027.1&quot;},{&quot;string value&quot;:&quot;KI270858.1&quot;},{&quot;string value&quot;:&quot;KI270753.1&quot;},{&quot;string value&quot;:&quot;KN196475.1&quot;},{&quot;string value&quot;:&quot;KN196477.1&quot;},{&quot;string value&quot;:&quot;KI270788.1&quot;},{&quot;string value&quot;:&quot;KI270852.1&quot;},{&quot;string value&quot;:&quot;KI270757.1&quot;},{&quot;string value&quot;:&quot;KI270390.1&quot;},{&quot;string value&quot;:&quot;KI270448.1&quot;},{&quot;string value&quot;:&quot;KI270886.1&quot;},{&quot;string value&quot;:&quot;KI270422.1&quot;},{&quot;string value&quot;:&quot;KI270772.1&quot;},{&quot;string value&quot;:&quot;KQ090026.1&quot;},{&quot;string value&quot;:&quot;GL000216.2&quot;},{&quot;string value&quot;:&quot;KV766195.1&quot;},{&quot;string value&quot;:&quot;KI270817.1&quot;},{&quot;string value&quot;:&quot;KI270330.1&quot;},{&quot;string value&quot;:&quot;KI270930.1&quot;},{&quot;string value&quot;:&quot;KI270801.1&quot;},{&quot;string value&quot;:&quot;KI270821.1&quot;},{&quot;string value&quot;:&quot;KQ090025.1&quot;},{&quot;string value&quot;:&quot;KN196478.1&quot;},{&quot;string value&quot;:&quot;KV880764.1&quot;},{&quot;string value&quot;:&quot;KV575247.1&quot;},{&quot;string value&quot;:&quot;KN196487.1&quot;},{&quot;string value&quot;:&quot;GL383572.1&quot;},{&quot;string value&quot;:&quot;KI270508.1&quot;},{&quot;string value&quot;:&quot;KI270420.1&quot;},{&quot;string value&quot;:&quot;KI270396.1&quot;},{&quot;string value&quot;:&quot;KI270924.1&quot;},{&quot;string value&quot;:&quot;KI270851.1&quot;},{&quot;string value&quot;:&quot;KQ458387.1&quot;},{&quot;string value&quot;:&quot;KI270388.1&quot;},{&quot;string value&quot;:&quot;KI270385.1&quot;},{&quot;string value&quot;:&quot;KI270389.1&quot;},{&quot;string value&quot;:&quot;KV880766.1&quot;},{&quot;string value&quot;:&quot;KN538369.1&quot;},{&quot;string value&quot;:&quot;KI270896.1&quot;},{&quot;string value&quot;:&quot;GL000213.1&quot;},{&quot;string value&quot;:&quot;KI270913.1&quot;},{&quot;string value&quot;:&quot;KI270859.1&quot;},{&quot;string value&quot;:&quot;chr6&quot;},{&quot;string value&quot;:&quot;KI270714.1&quot;},{&quot;string value&quot;:&quot;KI270728.1&quot;},{&quot;string value&quot;:&quot;KI270810.1&quot;},{&quot;string value&quot;:&quot;KI270760.1&quot;},{&quot;string value&quot;:&quot;KV766192.1&quot;},{&quot;string value&quot;:&quot;GL383570.1&quot;},{&quot;string value&quot;:&quot;KI270862.1&quot;},{&quot;string value&quot;:&quot;GL383540.1&quot;},{&quot;string value&quot;:&quot;GL949753.2&quot;},{&quot;string value&quot;:&quot;KI270768.1&quot;},{&quot;string value&quot;:&quot;GL383553.2&quot;},{&quot;string value&quot;:&quot;KI270861.1&quot;},{&quot;string value&quot;:&quot;KI270310.1&quot;},{&quot;string value&quot;:&quot;GL383555.2&quot;},{&quot;string value&quot;:&quot;GL383574.1&quot;},{&quot;string value&quot;:&quot;KI270761.1&quot;},{&quot;string value&quot;:&quot;KI270800.1&quot;},{&quot;string value&quot;:&quot;GL383519.1&quot;},{&quot;string value&quot;:&quot;KQ090013.1&quot;},{&quot;string value&quot;:&quot;GL383541.1&quot;},{&quot;string value&quot;:&quot;GL383531.1&quot;},{&quot;string value&quot;:&quot;KQ458384.1&quot;},{&quot;string value&quot;:&quot;KI270391.1&quot;},{&quot;string value&quot;:&quot;GL000254.2&quot;},{&quot;string value&quot;:&quot;GL383534.2&quot;},{&quot;string value&quot;:&quot;GL383546.1&quot;},{&quot;string value&quot;:&quot;KI270938.1&quot;},{&quot;string value&quot;:&quot;KI270743.1&quot;},{&quot;string value&quot;:&quot;GL383577.2&quot;},{&quot;string value&quot;:&quot;KI270909.1&quot;},{&quot;string value&quot;:&quot;KI270905.1&quot;},{&quot;string value&quot;:&quot;KI270891.1&quot;},{&quot;string value&quot;:&quot;KI270366.1&quot;},{&quot;string value&quot;:&quot;GL877875.1&quot;},{&quot;string value&quot;:&quot;KQ759759.1&quot;},{&quot;string value&quot;:&quot;KI270791.1&quot;},{&quot;string value&quot;:&quot;KI270775.1&quot;},{&quot;string value&quot;:&quot;KQ458386.1&quot;},{&quot;string value&quot;:&quot;GL000208.1&quot;},{&quot;string value&quot;:&quot;KI270773.1&quot;},{&quot;string value&quot;:&quot;GL383583.2&quot;},{&quot;string value&quot;:&quot;KI270528.1&quot;},{&quot;string value&quot;:&quot;KI270707.1&quot;},{&quot;string value&quot;:&quot;KV766197.1&quot;},{&quot;string value&quot;:&quot;GL383528.1&quot;},{&quot;string value&quot;:&quot;KQ031385.1&quot;},{&quot;string value&quot;:&quot;KI270774.1&quot;},{&quot;string value&quot;:&quot;KI270737.1&quot;},{&quot;string value&quot;:&quot;KI270530.1&quot;},{&quot;string value&quot;:&quot;KN196476.1&quot;},{&quot;string value&quot;:&quot;KQ983256.1&quot;},{&quot;string value&quot;:&quot;KI270786.1&quot;},{&quot;string value&quot;:&quot;KI270906.1&quot;},{&quot;string value&quot;:&quot;KI270804.1&quot;},{&quot;string value&quot;:&quot;KI270510.1&quot;},{&quot;string value&quot;:&quot;KQ458388.1&quot;},{&quot;string value&quot;:&quot;KQ458383.1&quot;},{&quot;string value&quot;:&quot;KI270755.1&quot;},{&quot;string value&quot;:&quot;KI270517.1&quot;},{&quot;string value&quot;:&quot;KQ090020.1&quot;},{&quot;string value&quot;:&quot;KI270379.1&quot;},{&quot;string value&quot;:&quot;KI270754.1&quot;},{&quot;string value&quot;:&quot;KI270727.1&quot;},{&quot;string value&quot;:&quot;KV575245.1&quot;},{&quot;string value&quot;:&quot;GL383581.2&quot;},{&quot;string value&quot;:&quot;GL000209.2&quot;},{&quot;string value&quot;:&quot;KI270777.1&quot;},{&quot;string value&quot;:&quot;GL949749.2&quot;},{&quot;string value&quot;:&quot;KI270833.1&quot;},{&quot;string value&quot;:&quot;GL000255.2&quot;},{&quot;string value&quot;:&quot;KI270522.1&quot;},{&quot;string value&quot;:&quot;KI270853.1&quot;},{&quot;string value&quot;:&quot;KI270792.1&quot;},{&quot;string value&quot;:&quot;KI270789.1&quot;},{&quot;string value&quot;:&quot;GL000214.1&quot;},{&quot;string value&quot;:&quot;KI270516.1&quot;},{&quot;string value&quot;:&quot;KI270912.1&quot;},{&quot;string value&quot;:&quot;KI270719.1&quot;},{&quot;string value&quot;:&quot;KI270762.1&quot;},{&quot;string value&quot;:&quot;KI270708.1&quot;},{&quot;string value&quot;:&quot;KI270839.1&quot;},{&quot;string value&quot;:&quot;KI270706.1&quot;},{&quot;string value&quot;:&quot;KN196482.1&quot;},{&quot;string value&quot;:&quot;KI270897.1&quot;},{&quot;string value&quot;:&quot;GL339449.2&quot;},{&quot;string value&quot;:&quot;KI270916.1&quot;},{&quot;string value&quot;:&quot;KI270741.1&quot;},{&quot;string value&quot;:&quot;GL383542.1&quot;},{&quot;string value&quot;:&quot;GL383569.1&quot;},{&quot;string value&quot;:&quot;GL383578.2&quot;},{&quot;string value&quot;:&quot;GL383527.1&quot;},{&quot;string value&quot;:&quot;KI270329.1&quot;},{&quot;string value&quot;:&quot;KI270751.1&quot;},{&quot;string value&quot;:&quot;KI270587.1&quot;},{&quot;string value&quot;:&quot;KI270759.1&quot;},{&quot;string value&quot;:&quot;KQ983255.1&quot;},{&quot;string value&quot;:&quot;KI270539.1&quot;},{&quot;string value&quot;:&quot;KI270320.1&quot;},{&quot;string value&quot;:&quot;KI270850.1&quot;},{&quot;string value&quot;:&quot;GL949747.2&quot;},{&quot;string value&quot;:&quot;KI270720.1&quot;},{&quot;string value&quot;:&quot;KI270590.1&quot;},{&quot;string value&quot;:&quot;KI270709.1&quot;},{&quot;string value&quot;:&quot;GL383571.1&quot;},{&quot;string value&quot;:&quot;KQ031387.1&quot;},{&quot;string value&quot;:&quot;KI270871.1&quot;},{&quot;string value&quot;:&quot;GL383545.1&quot;},{&quot;string value&quot;:&quot;KI270836.1&quot;},{&quot;string value&quot;:&quot;KI270798.1&quot;},{&quot;string value&quot;:&quot;chr17&quot;},{&quot;string value&quot;:&quot;GL383526.1&quot;},{&quot;string value&quot;:&quot;chr12&quot;},{&quot;string value&quot;:&quot;GL383551.1&quot;},{&quot;string value&quot;:&quot;KI270794.1&quot;},{&quot;string value&quot;:&quot;KI270726.1&quot;},{&quot;string value&quot;:&quot;KI270845.1&quot;},{&quot;string value&quot;:&quot;GL383539.1&quot;},{&quot;string value&quot;:&quot;KI270882.1&quot;},{&quot;string value&quot;:&quot;KI270863.1&quot;},{&quot;string value&quot;:&quot;KI270856.1&quot;},{&quot;string value&quot;:&quot;KI270411.1&quot;}],&quot;genId&quot;:&quot;751700635&quot;}\" type=\"text/x-scoped-javascript\">/*<![CDATA[*/req(['../javascripts/notebook/playground','../javascripts/notebook/magic/pivotChart'], \n      function(playground, _magicpivotChart) {\n        // data ==> data-this (in observable.js's scopedEval) ==> this in JS => { dataId, dataInit, ... }\n        // this ==> scope (in observable.js's scopedEval) ==> this.parentElement ==> div.container below (toHtml)\n\n        playground.call(data,\n                        this\n                        ,\n                        {\n    \"f\": _magicpivotChart,\n    \"o\": {\"width\":600,\"height\":400,\"derivedAttributes\":{},\"extraOptions\":{}}\n  }\n  \n                        \n                        \n                      );\n      }\n    );/*]]>*/</script>\n    <div>\n      <span class=\"chart-total-item-count\"><p data-bind=\"text: value\"><script data-this=\"{&quot;valueId&quot;:&quot;anonab943e7baab17970e6796a8c6d82a5cf&quot;,&quot;initialValue&quot;:&quot;555&quot;}\" type=\"text/x-scoped-javascript\">/*<![CDATA[*/\nreq(\n['observable', 'knockout'],\nfunction (O, ko) {\n  ko.applyBindings({\n      value: O.makeObservable(valueId, initialValue)\n    },\n    this\n  );\n});\n        /*]]>*/</script></p> entries total</span>\n      <span class=\"chart-sampling-warning\"><p data-bind=\"text: value\"><script data-this=\"{&quot;valueId&quot;:&quot;anonf1668ca4170a011a5a59fa98b848fddd&quot;,&quot;initialValue&quot;:&quot;&quot;}\" type=\"text/x-scoped-javascript\">/*<![CDATA[*/\nreq(\n['observable', 'knockout'],\nfunction (O, ko) {\n  ko.applyBindings({\n      value: O.makeObservable(valueId, initialValue)\n    },\n    this\n  );\n});\n        /*]]>*/</script></p></span>\n      <div>\n      </div>\n    </div></div>\n            </div></div>\n      </div>\n    </div></div>"
          },
          "output_type" : "execute_result",
          "execution_count" : 4,
          "time" : "Took: 19.632s, at 2018-01-02 23:19"
        }
      ]
    },
    {
      "metadata" : {
        "trusted" : true,
        "input_collapsed" : false,
        "collapsed" : false,
        "id" : "4B4203C5F1CA4CC1A1139E6D657167B0"
      },
      "cell_type" : "code",
      "source" : [
        "import org.bdgenomics.adam.rdd.contig.NucleotideContigFragmentRDD\n",
        "def saveHuman(frags: NucleotideContigFragmentRDD,name: String) = {\n",
        "  val path = if(name.startsWith(\"/\")) human + name else human + \"//\" + name\n",
        "  frags.saveAsParquet(path)\n",
        "  path  \n",
        "}"
      ],
      "outputs" : [
        {
          "name" : "stdout",
          "output_type" : "stream",
          "text" : "import org.bdgenomics.adam.rdd.contig.NucleotideContigFragmentRDD\nsaveHuman: (frags: org.bdgenomics.adam.rdd.contig.NucleotideContigFragmentRDD, name: String)String\n"
        },
        {
          "metadata" : { },
          "data" : {
            "text/html" : ""
          },
          "output_type" : "execute_result",
          "execution_count" : 3,
          "time" : "Took: 1.488s, at 2018-01-15 10:34"
        }
      ]
    },
    {
      "metadata" : {
        "trusted" : true,
        "input_collapsed" : false,
        "collapsed" : false,
        "id" : "618B18811AD745F687B2CF11CFF4C086"
      },
      "cell_type" : "code",
      "source" : [
        "val guidomePamAdam =       human + \"/guidomePam.adam\"\n",
        "val guidomeNoPamAdam =     human + \"/guidomeNoPam.adam\"\n",
        "val guidomeChrYPamAdam = human + \"/guidomeChrYPam.adam\"\n",
        "val guidomeChrYNoPamAdam =   human + \"/guidomeChrYNoPam.adam\""
      ],
      "outputs" : [
        {
          "name" : "stdout",
          "output_type" : "stream",
          "text" : "guidomePamAdam: String = hdfs://namenode/pipelines/HUMAN/GRCh38/27/guidomePam.adam\nguidomeNoPamAdam: String = hdfs://namenode/pipelines/HUMAN/GRCh38/27/guidomeNoPam.adam\nguidomeChrYPamAdam: String = hdfs://namenode/pipelines/HUMAN/GRCh38/27/guidomeChrYPam.adam\nguidomeChrYNoPamAdam: String = hdfs://namenode/pipelines/HUMAN/GRCh38/27/guidomeChrYNoPam.adam\n"
        },
        {
          "metadata" : { },
          "data" : {
            "text/html" : ""
          },
          "output_type" : "execute_result",
          "execution_count" : 4,
          "time" : "Took: 0.897s, at 2018-01-15 10:34"
        }
      ]
    },
    {
      "metadata" : {
        "trusted" : true,
        "input_collapsed" : false,
        "collapsed" : false,
        "id" : "E9B7E51E6E914E629C6849860723B584"
      },
      "cell_type" : "code",
      "source" : [
        "import comp.bio.aging.crispr._\n",
        "val cas9 = new Cas9ADAM()\n",
        "\n",
        "//val chrY = genome.transform(rdd=>rdd.filter(_.getContigName==\"chrY\"))\n",
        "//saveHuman(chrY, \"/chrY.adam\")\n",
        "//val guidomePam = cas9.guidome(genome, true)\n",
        "//val guidomeNoPam = cas9.guidome(genome, false)\n",
        "\n",
        "val guidomePam = sparkContext.loadParquetContigFragments(guidomePamAdam)\n",
        "val guidomeNoPam = sparkContext.loadParquetContigFragments(guidomeNoPamAdam)\n",
        "\n",
        "val chrY = sparkContext.loadParquetContigFragments(chrYAdam)\n",
        "\n",
        "//val chrYNoPam = cas9.guidome(chrY, false)\n",
        "//val chrYPam = cas9.guidome(chrY, true)\n",
        "\n",
        "val chrYPam = sparkContext.loadParquetContigFragments(guidomeChrYPamAdam)\n",
        "val chrYNoPam = sparkContext.loadParquetContigFragments(guidomeChrYNoPamAdam)"
      ],
      "outputs" : [
        {
          "name" : "stdout",
          "output_type" : "stream",
          "text" : "import comp.bio.aging.crispr._\ncas9: comp.bio.aging.crispr.Cas9ADAM = comp.bio.aging.crispr.Cas9ADAM@27c9c86c\nguidomePam: org.bdgenomics.adam.rdd.contig.NucleotideContigFragmentRDD = ParquetUnboundNucleotideContigFragmentRDD with 555 reference sequences\nguidomeNoPam: org.bdgenomics.adam.rdd.contig.NucleotideContigFragmentRDD = ParquetUnboundNucleotideContigFragmentRDD with 555 reference sequences\nchrY: org.bdgenomics.adam.rdd.contig.NucleotideContigFragmentRDD = ParquetUnboundNucleotideContigFragmentRDD with 555 reference sequences\nchrYPam: org.bdgenomics.adam.rdd.contig.NucleotideContigFragmentRDD = ParquetUnboundNucleotideContigFragmentRDD with 555 reference sequences\nchrYNoPam: org.bdgenomics.adam.rdd.contig.NucleotideContigFragmentRDD = ParquetUnboundNucleotideContigFragmentRDD with..."
        },
        {
          "metadata" : { },
          "data" : {
            "text/html" : ""
          },
          "output_type" : "execute_result",
          "execution_count" : 7,
          "time" : "Took: 2.057s, at 2018-01-15 10:35"
        }
      ]
    },
    {
      "metadata" : {
        "trusted" : true,
        "input_collapsed" : false,
        "collapsed" : false,
        "id" : "CD7C07BD49834E1F8F7ABE331E1CA5DF"
      },
      "cell_type" : "code",
      "source" : [
        "val cho = base + \"/CHO\"\n",
        "val genomeCHOfna = cho + \"/GCA_900186095.1_CHOK1S_HZDv1_genomic.fna\"\n",
        "val choAdam = cho +\"/genome_CHO.adam\"\n",
        "val genomeCHO = sparkContext.loadParquetContigFragments(choAdam)"
      ],
      "outputs" : [
        {
          "name" : "stdout",
          "output_type" : "stream",
          "text" : "cho: String = hdfs://namenode/pipelines/CHO\ngenomeCHOfna: String = hdfs://namenode/pipelines/CHO/GCA_900186095.1_CHOK1S_HZDv1_genomic.fna\nchoAdam: String = hdfs://namenode/pipelines/CHO/genome_CHO.adam\ngenomeCHO: org.bdgenomics.adam.rdd.contig.NucleotideContigFragmentRDD = ParquetUnboundNucleotideContigFragmentRDD with 8264 reference sequences\n"
        },
        {
          "metadata" : { },
          "data" : {
            "text/html" : ""
          },
          "output_type" : "execute_result",
          "execution_count" : 5,
          "time" : "Took: 1.914s, at 2018-01-15 10:35"
        }
      ]
    },
    {
      "metadata" : {
        "trusted" : true,
        "input_collapsed" : false,
        "collapsed" : false,
        "id" : "EB7E7BDC17604F8B8639AD076B52151E"
      },
      "cell_type" : "code",
      "source" : [
        "//val guidomePamCHO = cas9.guidome(genomeCHO, true)\n",
        "//val guidomeNoPamCHO = cas9.guidome(genomeCHO, false)\n",
        "val guidomePamAdamCHO =   cho + \"/guidomePamCHO.adam\"\n",
        "val guidomeNoPamAdamCHO =   cho + \"/guidomeNoPamCHO.adam\"\n",
        "//guidomePamCHO.saveAsParquet(guidomePamAdamCHO)\n",
        "//guidomeNoPamCHO.saveAsParquet(guidomeNoPamAdamCHO)\n",
        "val guidomePamCHO = sparkContext.loadParquetContigFragments(guidomePamAdamCHO)\n",
        "val guidomeNoPamCHO = sparkContext.loadParquetContigFragments(guidomeNoPamAdamCHO)"
      ],
      "outputs" : [
        {
          "name" : "stdout",
          "output_type" : "stream",
          "text" : "guidomePamAdamCHO: String = hdfs://namenode/pipelines/CHO/guidomePamCHO.adam\nguidomeNoPamAdamCHO: String = hdfs://namenode/pipelines/CHO/guidomeNoPamCHO.adam\nguidomePamCHO: org.bdgenomics.adam.rdd.contig.NucleotideContigFragmentRDD = ParquetUnboundNucleotideContigFragmentRDD with 8264 reference sequences\nguidomeNoPamCHO: org.bdgenomics.adam.rdd.contig.NucleotideContigFragmentRDD = ParquetUnboundNucleotideContigFragmentRDD with 8264 reference sequences\n"
        },
        {
          "metadata" : { },
          "data" : {
            "text/html" : ""
          },
          "output_type" : "execute_result",
          "execution_count" : 9,
          "time" : "Took: 0.967s, at 2018-01-15 10:47"
        }
      ]
    },
    {
      "metadata" : {
        "trusted" : true,
        "input_collapsed" : false,
        "collapsed" : false,
        "id" : "C40D28AD4AD0466A8559336006DD60CC"
      },
      "cell_type" : "code",
      "source" : [
        "val yReps = Rainbow.countRepeats(chrYNoPam, 10).cache\n",
        "yReps.count"
      ],
      "outputs" : [
        {
          "name" : "stdout",
          "output_type" : "stream",
          "text" : "yReps: org.apache.spark.rdd.RDD[(String, Int)] = MapPartitionsRDD[12] at filter at Rainbow.scala:24\nres15: Long = 4435\n"
        },
        {
          "metadata" : { },
          "data" : {
            "text/html" : "4435"
          },
          "output_type" : "execute_result",
          "execution_count" : 11,
          "time" : "Took: 8.841s, at 2018-01-15 10:48"
        }
      ]
    },
    {
      "metadata" : {
        "trusted" : true,
        "input_collapsed" : false,
        "collapsed" : false,
        "id" : "15767DC49EF44890859ECB880EABED9E"
      },
      "cell_type" : "code",
      "source" : [
        "val noY = guidomeNoPam.transform(rdd=>rdd.filter(c=>c.getContigName!=\"chrY\"))\n",
        "val noYrepeats5 = Rainbow.countRepeatsByContig(noY, 5).persist(StorageLevel.MEMORY_AND_DISK)\n",
        "noYrepeats5.count\n"
      ],
      "outputs" : [
        {
          "name" : "stdout",
          "output_type" : "stream",
          "text" : "noY: org.bdgenomics.adam.rdd.contig.NucleotideContigFragmentRDD = RDDBoundNucleotideContigFragmentRDD with 555 reference sequences\nnoYrepeats5: org.apache.spark.rdd.RDD[((String, String), Int)] = MapPartitionsRDD[10] at filter at Rainbow.scala:29\nres9: Long = 859593\n"
        },
        {
          "metadata" : { },
          "data" : {
            "text/html" : "859593"
          },
          "output_type" : "execute_result",
          "execution_count" : 7,
          "time" : "Took: 7m28.553s, at 2018-01-15 01:40"
        }
      ]
    },
    {
      "metadata" : {
        "trusted" : true,
        "input_collapsed" : false,
        "collapsed" : false,
        "id" : "1492AC5602334CBE91EF3F3AE262F474"
      },
      "cell_type" : "code",
      "source" : [
        "val repsOnlyY= yReps.keys.subtract(noYrepeats5.keys.map(_._1)).cache()\n",
        "repsOnlyY.count()\n",
        "  "
      ],
      "outputs" : [
        {
          "name" : "stdout",
          "output_type" : "stream",
          "text" : "repsOnlyY: org.apache.spark.rdd.RDD[String] = MapPartitionsRDD[17] at subtract at <console>:102\nres11: Long = 1285\n"
        },
        {
          "metadata" : { },
          "data" : {
            "text/html" : "1285"
          },
          "output_type" : "execute_result",
          "execution_count" : 8,
          "time" : "Took: 2.224s, at 2018-01-15 01:42"
        }
      ]
    },
    {
      "metadata" : {
        "trusted" : true,
        "input_collapsed" : false,
        "collapsed" : false,
        "presentation" : {
          "tabs_state" : "{\n  \"tab_id\": \"#tab205817955-0\"\n}",
          "pivot_chart_state" : "{\n  \"hiddenAttributes\": [],\n  \"menuLimit\": 200,\n  \"cols\": [],\n  \"rows\": [],\n  \"vals\": [],\n  \"exclusions\": {},\n  \"inclusions\": {},\n  \"unusedAttrsVertical\": 85,\n  \"autoSortUnusedAttrs\": false,\n  \"inclusionsInfo\": {},\n  \"aggregatorName\": \"Count\",\n  \"rendererName\": \"Table\"\n}"
        },
        "id" : "E1AE35A277D846718C0D15241F045FE9"
      },
      "cell_type" : "code",
      "source" : [
        "//repsOnlyY.saveAsTextFile(human + \"/y_only_repeats_10.txt\")\n",
        "//yReps.saveAsTextFile(human + \"/all_y_repeats_10.txt\")\n",
        "yReps.take(10)"
      ],
      "outputs" : [
        {
          "name" : "stdout",
          "output_type" : "stream",
          "text" : "res21: Array[(String, Int)] = Array((TCTCACTCTGTTGCCCAGGC,59), (TCTAGGGTTTTTATGGTTTT,84), (GGAGACCAGCCTGGCCAACA,18), (CTAAAAATACAAAATTAGCC,46), (TGGAATGGAATCGAATGCAA,28), (ATTAGGACGTGGACATCTTT,62), (TCTTTAAGAATGTTGAATAT,62), (TGGATTCGAATGGAAGGCAA,24), (GAAGGCCTTTTCTCGGCAGC,11), (TGTAATCCCAGCACTTTAGG,16))\n"
        },
        {
          "metadata" : { },
          "data" : {
            "text/html" : "<div>\n      <script data-this=\"{&quot;dataId&quot;:&quot;anon5ebd80498e10aae0458b4422841291e6&quot;,&quot;dataInit&quot;:[],&quot;genId&quot;:&quot;205817955&quot;}\" type=\"text/x-scoped-javascript\">/*<![CDATA[*/req(['../javascripts/notebook/playground','../javascripts/notebook/magic/tabs'], \n      function(playground, _magictabs) {\n        // data ==> data-this (in observable.js's scopedEval) ==> this in JS => { dataId, dataInit, ... }\n        // this ==> scope (in observable.js's scopedEval) ==> this.parentElement ==> div.container below (toHtml)\n\n        playground.call(data,\n                        this\n                        ,\n                        {\n    \"f\": _magictabs,\n    \"o\": {}\n  }\n  \n                        \n                        \n                      );\n      }\n    );/*]]>*/</script>\n    <div>\n      <div>\n        <ul class=\"nav nav-tabs\" id=\"ul205817955\"><li>\n              <a href=\"#tab205817955-0\"><i class=\"fa fa-table\"/></a>\n            </li><li>\n              <a href=\"#tab205817955-1\"><i class=\"fa fa-bar-chart\"/></a>\n            </li><li>\n              <a href=\"#tab205817955-2\"><i class=\"fa fa-pie-chart\"/></a>\n            </li><li>\n              <a href=\"#tab205817955-3\"><i class=\"fa fa-cubes\"/></a>\n            </li></ul>\n\n        <div class=\"tab-content\" id=\"tab205817955\"><div class=\"tab-pane\" id=\"tab205817955-0\">\n            <div>\n      <script data-this=\"{&quot;dataId&quot;:&quot;anona4a6e473fb1c89d172c9eb07643d9fd7&quot;,&quot;dataInit&quot;:[{&quot;_1&quot;:&quot;TCTCACTCTGTTGCCCAGGC&quot;,&quot;_2&quot;:59},{&quot;_1&quot;:&quot;TCTAGGGTTTTTATGGTTTT&quot;,&quot;_2&quot;:84},{&quot;_1&quot;:&quot;GGAGACCAGCCTGGCCAACA&quot;,&quot;_2&quot;:18},{&quot;_1&quot;:&quot;CTAAAAATACAAAATTAGCC&quot;,&quot;_2&quot;:46},{&quot;_1&quot;:&quot;TGGAATGGAATCGAATGCAA&quot;,&quot;_2&quot;:28},{&quot;_1&quot;:&quot;ATTAGGACGTGGACATCTTT&quot;,&quot;_2&quot;:62},{&quot;_1&quot;:&quot;TCTTTAAGAATGTTGAATAT&quot;,&quot;_2&quot;:62},{&quot;_1&quot;:&quot;TGGATTCGAATGGAAGGCAA&quot;,&quot;_2&quot;:24},{&quot;_1&quot;:&quot;GAAGGCCTTTTCTCGGCAGC&quot;,&quot;_2&quot;:11},{&quot;_1&quot;:&quot;TGTAATCCCAGCACTTTAGG&quot;,&quot;_2&quot;:16}],&quot;genId&quot;:&quot;724987066&quot;}\" type=\"text/x-scoped-javascript\">/*<![CDATA[*/req(['../javascripts/notebook/playground','../javascripts/notebook/magic/tableChart'], \n      function(playground, _magictableChart) {\n        // data ==> data-this (in observable.js's scopedEval) ==> this in JS => { dataId, dataInit, ... }\n        // this ==> scope (in observable.js's scopedEval) ==> this.parentElement ==> div.container below (toHtml)\n\n        playground.call(data,\n                        this\n                        ,\n                        {\n    \"f\": _magictableChart,\n    \"o\": {\"headers\":[\"_1\",\"_2\"],\"width\":600,\"height\":400}\n  }\n  \n                        \n                        \n                      );\n      }\n    );/*]]>*/</script>\n    <div>\n      <span class=\"chart-total-item-count\"><p data-bind=\"text: value\"><script data-this=\"{&quot;valueId&quot;:&quot;anon1bd5276ff875362198d58b289aafb25e&quot;,&quot;initialValue&quot;:&quot;10&quot;}\" type=\"text/x-scoped-javascript\">/*<![CDATA[*/\nreq(\n['observable', 'knockout'],\nfunction (O, ko) {\n  ko.applyBindings({\n      value: O.makeObservable(valueId, initialValue)\n    },\n    this\n  );\n});\n        /*]]>*/</script></p> entries total</span>\n      <span class=\"chart-sampling-warning\"><p data-bind=\"text: value\"><script data-this=\"{&quot;valueId&quot;:&quot;anonf04a55de9e5941b867326db037018ed3&quot;,&quot;initialValue&quot;:&quot;&quot;}\" type=\"text/x-scoped-javascript\">/*<![CDATA[*/\nreq(\n['observable', 'knockout'],\nfunction (O, ko) {\n  ko.applyBindings({\n      value: O.makeObservable(valueId, initialValue)\n    },\n    this\n  );\n});\n        /*]]>*/</script></p></span>\n      <div>\n      </div>\n    </div></div>\n            </div><div class=\"tab-pane\" id=\"tab205817955-1\">\n            <div>\n      <script data-this=\"{&quot;dataId&quot;:&quot;anonfe3c06e5ba415e0e43792eed3a435b44&quot;,&quot;dataInit&quot;:[{&quot;_1&quot;:&quot;TCTCACTCTGTTGCCCAGGC&quot;,&quot;_2&quot;:59},{&quot;_1&quot;:&quot;TCTAGGGTTTTTATGGTTTT&quot;,&quot;_2&quot;:84},{&quot;_1&quot;:&quot;GGAGACCAGCCTGGCCAACA&quot;,&quot;_2&quot;:18},{&quot;_1&quot;:&quot;CTAAAAATACAAAATTAGCC&quot;,&quot;_2&quot;:46},{&quot;_1&quot;:&quot;TGGAATGGAATCGAATGCAA&quot;,&quot;_2&quot;:28},{&quot;_1&quot;:&quot;ATTAGGACGTGGACATCTTT&quot;,&quot;_2&quot;:62},{&quot;_1&quot;:&quot;TCTTTAAGAATGTTGAATAT&quot;,&quot;_2&quot;:62},{&quot;_1&quot;:&quot;TGGATTCGAATGGAAGGCAA&quot;,&quot;_2&quot;:24},{&quot;_1&quot;:&quot;GAAGGCCTTTTCTCGGCAGC&quot;,&quot;_2&quot;:11},{&quot;_1&quot;:&quot;TGTAATCCCAGCACTTTAGG&quot;,&quot;_2&quot;:16}],&quot;genId&quot;:&quot;790979809&quot;}\" type=\"text/x-scoped-javascript\">/*<![CDATA[*/req(['../javascripts/notebook/playground','../javascripts/notebook/magic/barChart'], \n      function(playground, _magicbarChart) {\n        // data ==> data-this (in observable.js's scopedEval) ==> this in JS => { dataId, dataInit, ... }\n        // this ==> scope (in observable.js's scopedEval) ==> this.parentElement ==> div.container below (toHtml)\n\n        playground.call(data,\n                        this\n                        ,\n                        {\n    \"f\": _magicbarChart,\n    \"o\": {\"x\":\"_1\",\"y\":\"_2\",\"width\":600,\"height\":400}\n  }\n  \n                        \n                        \n                      );\n      }\n    );/*]]>*/</script>\n    <div>\n      <span class=\"chart-total-item-count\"><p data-bind=\"text: value\"><script data-this=\"{&quot;valueId&quot;:&quot;anon9312ded1df14bf76af1bcd77cd293c21&quot;,&quot;initialValue&quot;:&quot;10&quot;}\" type=\"text/x-scoped-javascript\">/*<![CDATA[*/\nreq(\n['observable', 'knockout'],\nfunction (O, ko) {\n  ko.applyBindings({\n      value: O.makeObservable(valueId, initialValue)\n    },\n    this\n  );\n});\n        /*]]>*/</script></p> entries total</span>\n      <span class=\"chart-sampling-warning\"><p data-bind=\"text: value\"><script data-this=\"{&quot;valueId&quot;:&quot;anon36556f3f183492f57138eaea45e9082c&quot;,&quot;initialValue&quot;:&quot;&quot;}\" type=\"text/x-scoped-javascript\">/*<![CDATA[*/\nreq(\n['observable', 'knockout'],\nfunction (O, ko) {\n  ko.applyBindings({\n      value: O.makeObservable(valueId, initialValue)\n    },\n    this\n  );\n});\n        /*]]>*/</script></p></span>\n      <div>\n      </div>\n    </div></div>\n            </div><div class=\"tab-pane\" id=\"tab205817955-2\">\n            <div>\n      <script data-this=\"{&quot;dataId&quot;:&quot;anon5a88f5ba0c8839ebbbb24506f7123b42&quot;,&quot;dataInit&quot;:[{&quot;_1&quot;:&quot;TCTCACTCTGTTGCCCAGGC&quot;,&quot;_2&quot;:59},{&quot;_1&quot;:&quot;TCTAGGGTTTTTATGGTTTT&quot;,&quot;_2&quot;:84},{&quot;_1&quot;:&quot;GGAGACCAGCCTGGCCAACA&quot;,&quot;_2&quot;:18},{&quot;_1&quot;:&quot;CTAAAAATACAAAATTAGCC&quot;,&quot;_2&quot;:46},{&quot;_1&quot;:&quot;TGGAATGGAATCGAATGCAA&quot;,&quot;_2&quot;:28},{&quot;_1&quot;:&quot;ATTAGGACGTGGACATCTTT&quot;,&quot;_2&quot;:62},{&quot;_1&quot;:&quot;TCTTTAAGAATGTTGAATAT&quot;,&quot;_2&quot;:62},{&quot;_1&quot;:&quot;TGGATTCGAATGGAAGGCAA&quot;,&quot;_2&quot;:24},{&quot;_1&quot;:&quot;GAAGGCCTTTTCTCGGCAGC&quot;,&quot;_2&quot;:11},{&quot;_1&quot;:&quot;TGTAATCCCAGCACTTTAGG&quot;,&quot;_2&quot;:16}],&quot;genId&quot;:&quot;1805408692&quot;}\" type=\"text/x-scoped-javascript\">/*<![CDATA[*/req(['../javascripts/notebook/playground','../javascripts/notebook/magic/pieChart'], \n      function(playground, _magicpieChart) {\n        // data ==> data-this (in observable.js's scopedEval) ==> this in JS => { dataId, dataInit, ... }\n        // this ==> scope (in observable.js's scopedEval) ==> this.parentElement ==> div.container below (toHtml)\n\n        playground.call(data,\n                        this\n                        ,\n                        {\n    \"f\": _magicpieChart,\n    \"o\": {\"series\":\"_1\",\"p\":\"_2\",\"width\":600,\"height\":400}\n  }\n  \n                        \n                        \n                      );\n      }\n    );/*]]>*/</script>\n    <div>\n      <span class=\"chart-total-item-count\"><p data-bind=\"text: value\"><script data-this=\"{&quot;valueId&quot;:&quot;anon78fec2cb2c1fb7c3a0d57e252f7ff0bf&quot;,&quot;initialValue&quot;:&quot;10&quot;}\" type=\"text/x-scoped-javascript\">/*<![CDATA[*/\nreq(\n['observable', 'knockout'],\nfunction (O, ko) {\n  ko.applyBindings({\n      value: O.makeObservable(valueId, initialValue)\n    },\n    this\n  );\n});\n        /*]]>*/</script></p> entries total</span>\n      <span class=\"chart-sampling-warning\"><p data-bind=\"text: value\"><script data-this=\"{&quot;valueId&quot;:&quot;anone8236ec59780570ae539222c79cc0954&quot;,&quot;initialValue&quot;:&quot;&quot;}\" type=\"text/x-scoped-javascript\">/*<![CDATA[*/\nreq(\n['observable', 'knockout'],\nfunction (O, ko) {\n  ko.applyBindings({\n      value: O.makeObservable(valueId, initialValue)\n    },\n    this\n  );\n});\n        /*]]>*/</script></p></span>\n      <div>\n      </div>\n    </div></div>\n            </div><div class=\"tab-pane\" id=\"tab205817955-3\">\n            <div>\n      <script data-this=\"{&quot;dataId&quot;:&quot;anonef73e067efa1105df27e3d75da583ada&quot;,&quot;dataInit&quot;:[{&quot;_1&quot;:&quot;TCTCACTCTGTTGCCCAGGC&quot;,&quot;_2&quot;:59},{&quot;_1&quot;:&quot;TCTAGGGTTTTTATGGTTTT&quot;,&quot;_2&quot;:84},{&quot;_1&quot;:&quot;GGAGACCAGCCTGGCCAACA&quot;,&quot;_2&quot;:18},{&quot;_1&quot;:&quot;CTAAAAATACAAAATTAGCC&quot;,&quot;_2&quot;:46},{&quot;_1&quot;:&quot;TGGAATGGAATCGAATGCAA&quot;,&quot;_2&quot;:28},{&quot;_1&quot;:&quot;ATTAGGACGTGGACATCTTT&quot;,&quot;_2&quot;:62},{&quot;_1&quot;:&quot;TCTTTAAGAATGTTGAATAT&quot;,&quot;_2&quot;:62},{&quot;_1&quot;:&quot;TGGATTCGAATGGAAGGCAA&quot;,&quot;_2&quot;:24},{&quot;_1&quot;:&quot;GAAGGCCTTTTCTCGGCAGC&quot;,&quot;_2&quot;:11},{&quot;_1&quot;:&quot;TGTAATCCCAGCACTTTAGG&quot;,&quot;_2&quot;:16}],&quot;genId&quot;:&quot;440673771&quot;}\" type=\"text/x-scoped-javascript\">/*<![CDATA[*/req(['../javascripts/notebook/playground','../javascripts/notebook/magic/pivotChart'], \n      function(playground, _magicpivotChart) {\n        // data ==> data-this (in observable.js's scopedEval) ==> this in JS => { dataId, dataInit, ... }\n        // this ==> scope (in observable.js's scopedEval) ==> this.parentElement ==> div.container below (toHtml)\n\n        playground.call(data,\n                        this\n                        ,\n                        {\n    \"f\": _magicpivotChart,\n    \"o\": {\"width\":600,\"height\":400,\"derivedAttributes\":{},\"extraOptions\":{}}\n  }\n  \n                        \n                        \n                      );\n      }\n    );/*]]>*/</script>\n    <div>\n      <span class=\"chart-total-item-count\"><p data-bind=\"text: value\"><script data-this=\"{&quot;valueId&quot;:&quot;anond902f7ddb1c0cdd19585f294efafe4f3&quot;,&quot;initialValue&quot;:&quot;10&quot;}\" type=\"text/x-scoped-javascript\">/*<![CDATA[*/\nreq(\n['observable', 'knockout'],\nfunction (O, ko) {\n  ko.applyBindings({\n      value: O.makeObservable(valueId, initialValue)\n    },\n    this\n  );\n});\n        /*]]>*/</script></p> entries total</span>\n      <span class=\"chart-sampling-warning\"><p data-bind=\"text: value\"><script data-this=\"{&quot;valueId&quot;:&quot;anon4be7f8171d15f553f64b307f3b429df9&quot;,&quot;initialValue&quot;:&quot;&quot;}\" type=\"text/x-scoped-javascript\">/*<![CDATA[*/\nreq(\n['observable', 'knockout'],\nfunction (O, ko) {\n  ko.applyBindings({\n      value: O.makeObservable(valueId, initialValue)\n    },\n    this\n  );\n});\n        /*]]>*/</script></p></span>\n      <div>\n      </div>\n    </div></div>\n            </div></div>\n      </div>\n    </div></div>"
          },
          "output_type" : "execute_result",
          "execution_count" : 13,
          "time" : "Took: 1.379s, at 2018-01-15 02:30"
        }
      ]
    },
    {
      "metadata" : {
        "trusted" : true,
        "input_collapsed" : false,
        "collapsed" : false,
        "id" : "0957C010E92843F38F846DAF13421018"
      },
      "cell_type" : "code",
      "source" : [
        "val repeatsCHO = Rainbow.countRepeatsByContig(guidomeNoPamCHO, 2).persist(StorageLevel.MEMORY_AND_DISK)\n",
        "repeatsCHO.count"
      ],
      "outputs" : [
        {
          "name" : "stdout",
          "output_type" : "stream",
          "text" : "repeatsCHO: org.apache.spark.rdd.RDD[((String, String), Int)] = MapPartitionsRDD[90] at filter at Rainbow.scala:29\nres76: Long = 2228145\n"
        },
        {
          "metadata" : { },
          "data" : {
            "text/html" : "2228145"
          },
          "output_type" : "execute_result",
          "execution_count" : 44,
          "time" : "Took: 5m27.966s, at 2018-01-15 11:44"
        }
      ]
    },
    {
      "metadata" : {
        "trusted" : true,
        "input_collapsed" : false,
        "collapsed" : false,
        "presentation" : {
          "tabs_state" : "{\n  \"tab_id\": \"#tab323520135-0\"\n}",
          "pivot_chart_state" : "{\n  \"hiddenAttributes\": [],\n  \"menuLimit\": 200,\n  \"cols\": [],\n  \"rows\": [],\n  \"vals\": [],\n  \"exclusions\": {},\n  \"inclusions\": {},\n  \"unusedAttrsVertical\": 85,\n  \"autoSortUnusedAttrs\": false,\n  \"inclusionsInfo\": {},\n  \"aggregatorName\": \"Count\",\n  \"rendererName\": \"Table\"\n}"
        },
        "id" : "42D78D559B4E4C96AFEC91088C6B8AA3"
      },
      "cell_type" : "code",
      "source" : [
        "val guidesY = sparkContext.textFile(human + \"/y_only_repeats_10.txt\")\n"
      ],
      "outputs" : [
        {
          "name" : "stdout",
          "output_type" : "stream",
          "text" : "guidesY: org.apache.spark.rdd.RDD[String] = hdfs://namenode/pipelines/HUMAN/GRCh38/27/y_only_repeats_10.txt MapPartitionsRDD[19] at textFile at <console>:92\n"
        },
        {
          "metadata" : { },
          "data" : {
            "text/html" : ""
          },
          "output_type" : "execute_result",
          "execution_count" : 13,
          "time" : "Took: 1.106s, at 2018-01-15 10:56"
        }
      ]
    },
    {
      "metadata" : {
        "trusted" : true,
        "input_collapsed" : false,
        "collapsed" : false,
        "id" : "6B51BE20C548401CB0704392BB08778A"
      },
      "cell_type" : "code",
      "source" : [
        "val trueUnique = guidesY.subtract(repeatsCHO.keys.map(_._1.toUpperCase))\n",
        "trueUnique.count"
      ],
      "outputs" : [
        {
          "name" : "stdout",
          "output_type" : "stream",
          "text" : "trueUnique: org.apache.spark.rdd.RDD[String] = MapPartitionsRDD[98] at subtract at <console>:103\nres80: Long = 1285\n"
        },
        {
          "metadata" : { },
          "data" : {
            "text/html" : "1285"
          },
          "output_type" : "execute_result",
          "execution_count" : 46,
          "time" : "Took: 4.025s, at 2018-01-15 11:45"
        }
      ]
    },
    {
      "metadata" : {
        "trusted" : true,
        "input_collapsed" : false,
        "collapsed" : false,
        "presentation" : {
          "tabs_state" : "{\n  \"tab_id\": \"#tab612732121-0\"\n}",
          "pivot_chart_state" : "{\n  \"hiddenAttributes\": [],\n  \"menuLimit\": 200,\n  \"cols\": [],\n  \"rows\": [],\n  \"vals\": [],\n  \"exclusions\": {},\n  \"inclusions\": {},\n  \"unusedAttrsVertical\": 85,\n  \"autoSortUnusedAttrs\": false,\n  \"inclusionsInfo\": {},\n  \"aggregatorName\": \"Count\",\n  \"rendererName\": \"Table\"\n}"
        },
        "id" : "9C674B784A8E4CC598BB2C6D2A9AAE61"
      },
      "cell_type" : "code",
      "source" : [
        "repeatsCHO.keys.map(_._1.toUpperCase).take(10)"
      ],
      "outputs" : [
        {
          "name" : "stdout",
          "output_type" : "stream",
          "text" : "res78: Array[String] = Array(TGTGGCTTTGGAGGCTGCCC, CCTGGGGAGCAGAAAAGGTA, AAACTTGTAGAGGAAGATTA, GGAACCTGTGTTAGGTAAAG, ACCTCCTAGTGACTAAGACA, ATTTTGTGTTAGTGATTTGT, TAATTCTTTATTGATTCTTT, GACCCTATCATGTGTAAAGC, GGTGGTTGTGAGCCACTATG, TAGACTTTGATGACACCCTA)\n"
        },
        {
          "metadata" : { },
          "data" : {
            "text/html" : "<div>\n      <script data-this=\"{&quot;dataId&quot;:&quot;anon2daf6b3ce0021e3c64cc7b900c37147a&quot;,&quot;dataInit&quot;:[],&quot;genId&quot;:&quot;612732121&quot;}\" type=\"text/x-scoped-javascript\">/*<![CDATA[*/req(['../javascripts/notebook/playground','../javascripts/notebook/magic/tabs'], \n      function(playground, _magictabs) {\n        // data ==> data-this (in observable.js's scopedEval) ==> this in JS => { dataId, dataInit, ... }\n        // this ==> scope (in observable.js's scopedEval) ==> this.parentElement ==> div.container below (toHtml)\n\n        playground.call(data,\n                        this\n                        ,\n                        {\n    \"f\": _magictabs,\n    \"o\": {}\n  }\n  \n                        \n                        \n                      );\n      }\n    );/*]]>*/</script>\n    <div>\n      <div>\n        <ul class=\"nav nav-tabs\" id=\"ul612732121\"><li>\n              <a href=\"#tab612732121-0\"><i class=\"fa fa-table\"/></a>\n            </li><li>\n              <a href=\"#tab612732121-1\"><i class=\"fa fa-cubes\"/></a>\n            </li></ul>\n\n        <div class=\"tab-content\" id=\"tab612732121\"><div class=\"tab-pane\" id=\"tab612732121-0\">\n            <div>\n      <script data-this=\"{&quot;dataId&quot;:&quot;anonbedc25b893bf1fde9e9aed7f43ddb74e&quot;,&quot;dataInit&quot;:[{&quot;string value&quot;:&quot;TGTGGCTTTGGAGGCTGCCC&quot;},{&quot;string value&quot;:&quot;CCTGGGGAGCAGAAAAGGTA&quot;},{&quot;string value&quot;:&quot;AAACTTGTAGAGGAAGATTA&quot;},{&quot;string value&quot;:&quot;GGAACCTGTGTTAGGTAAAG&quot;},{&quot;string value&quot;:&quot;ACCTCCTAGTGACTAAGACA&quot;},{&quot;string value&quot;:&quot;ATTTTGTGTTAGTGATTTGT&quot;},{&quot;string value&quot;:&quot;TAATTCTTTATTGATTCTTT&quot;},{&quot;string value&quot;:&quot;GACCCTATCATGTGTAAAGC&quot;},{&quot;string value&quot;:&quot;GGTGGTTGTGAGCCACTATG&quot;},{&quot;string value&quot;:&quot;TAGACTTTGATGACACCCTA&quot;}],&quot;genId&quot;:&quot;504574847&quot;}\" type=\"text/x-scoped-javascript\">/*<![CDATA[*/req(['../javascripts/notebook/playground','../javascripts/notebook/magic/tableChart'], \n      function(playground, _magictableChart) {\n        // data ==> data-this (in observable.js's scopedEval) ==> this in JS => { dataId, dataInit, ... }\n        // this ==> scope (in observable.js's scopedEval) ==> this.parentElement ==> div.container below (toHtml)\n\n        playground.call(data,\n                        this\n                        ,\n                        {\n    \"f\": _magictableChart,\n    \"o\": {\"headers\":[\"string value\"],\"width\":600,\"height\":400}\n  }\n  \n                        \n                        \n                      );\n      }\n    );/*]]>*/</script>\n    <div>\n      <span class=\"chart-total-item-count\"><p data-bind=\"text: value\"><script data-this=\"{&quot;valueId&quot;:&quot;anon39e6de6723eee563abab9ddcfb6f21f8&quot;,&quot;initialValue&quot;:&quot;10&quot;}\" type=\"text/x-scoped-javascript\">/*<![CDATA[*/\nreq(\n['observable', 'knockout'],\nfunction (O, ko) {\n  ko.applyBindings({\n      value: O.makeObservable(valueId, initialValue)\n    },\n    this\n  );\n});\n        /*]]>*/</script></p> entries total</span>\n      <span class=\"chart-sampling-warning\"><p data-bind=\"text: value\"><script data-this=\"{&quot;valueId&quot;:&quot;anon6df6a499f6b504ad9012bc8c62b08671&quot;,&quot;initialValue&quot;:&quot;&quot;}\" type=\"text/x-scoped-javascript\">/*<![CDATA[*/\nreq(\n['observable', 'knockout'],\nfunction (O, ko) {\n  ko.applyBindings({\n      value: O.makeObservable(valueId, initialValue)\n    },\n    this\n  );\n});\n        /*]]>*/</script></p></span>\n      <div>\n      </div>\n    </div></div>\n            </div><div class=\"tab-pane\" id=\"tab612732121-1\">\n            <div>\n      <script data-this=\"{&quot;dataId&quot;:&quot;anone097d5d1edc622b8686f2160affd3c9c&quot;,&quot;dataInit&quot;:[{&quot;string value&quot;:&quot;TGTGGCTTTGGAGGCTGCCC&quot;},{&quot;string value&quot;:&quot;CCTGGGGAGCAGAAAAGGTA&quot;},{&quot;string value&quot;:&quot;AAACTTGTAGAGGAAGATTA&quot;},{&quot;string value&quot;:&quot;GGAACCTGTGTTAGGTAAAG&quot;},{&quot;string value&quot;:&quot;ACCTCCTAGTGACTAAGACA&quot;},{&quot;string value&quot;:&quot;ATTTTGTGTTAGTGATTTGT&quot;},{&quot;string value&quot;:&quot;TAATTCTTTATTGATTCTTT&quot;},{&quot;string value&quot;:&quot;GACCCTATCATGTGTAAAGC&quot;},{&quot;string value&quot;:&quot;GGTGGTTGTGAGCCACTATG&quot;},{&quot;string value&quot;:&quot;TAGACTTTGATGACACCCTA&quot;}],&quot;genId&quot;:&quot;2076878297&quot;}\" type=\"text/x-scoped-javascript\">/*<![CDATA[*/req(['../javascripts/notebook/playground','../javascripts/notebook/magic/pivotChart'], \n      function(playground, _magicpivotChart) {\n        // data ==> data-this (in observable.js's scopedEval) ==> this in JS => { dataId, dataInit, ... }\n        // this ==> scope (in observable.js's scopedEval) ==> this.parentElement ==> div.container below (toHtml)\n\n        playground.call(data,\n                        this\n                        ,\n                        {\n    \"f\": _magicpivotChart,\n    \"o\": {\"width\":600,\"height\":400,\"derivedAttributes\":{},\"extraOptions\":{}}\n  }\n  \n                        \n                        \n                      );\n      }\n    );/*]]>*/</script>\n    <div>\n      <span class=\"chart-total-item-count\"><p data-bind=\"text: value\"><script data-this=\"{&quot;valueId&quot;:&quot;anon6f12487841b882a6ee3cb499d910b9ed&quot;,&quot;initialValue&quot;:&quot;10&quot;}\" type=\"text/x-scoped-javascript\">/*<![CDATA[*/\nreq(\n['observable', 'knockout'],\nfunction (O, ko) {\n  ko.applyBindings({\n      value: O.makeObservable(valueId, initialValue)\n    },\n    this\n  );\n});\n        /*]]>*/</script></p> entries total</span>\n      <span class=\"chart-sampling-warning\"><p data-bind=\"text: value\"><script data-this=\"{&quot;valueId&quot;:&quot;anonce0b6b387e8fe8a88665a955c7716c16&quot;,&quot;initialValue&quot;:&quot;&quot;}\" type=\"text/x-scoped-javascript\">/*<![CDATA[*/\nreq(\n['observable', 'knockout'],\nfunction (O, ko) {\n  ko.applyBindings({\n      value: O.makeObservable(valueId, initialValue)\n    },\n    this\n  );\n});\n        /*]]>*/</script></p></span>\n      <div>\n      </div>\n    </div></div>\n            </div></div>\n      </div>\n    </div></div>"
          },
          "output_type" : "execute_result",
          "execution_count" : 45,
          "time" : "Took: 1.519s, at 2018-01-15 11:44"
        }
      ]
    },
    {
      "metadata" : {
        "trusted" : true,
        "input_collapsed" : false,
        "collapsed" : false,
        "id" : "249B2229D1BA44DF89C267773C763F2F"
      },
      "cell_type" : "code",
      "source" : [
        "def selectTargets(guidesY: RDD[String],\n",
        "                  guidome: NucleotideContigFragmentRDD,\n",
        "                  minCluster: Long = 10,\n",
        "                  maxDist: Long = 1000) = {\n",
        "  val strs = guidesY.collect()\n",
        "  guidome.rdd\n",
        "    .filter(f=>strs.contains(f.getSequence))\n",
        "    .map(f=>f.getSequence->f)\n",
        "    .aggregateByKey(List.empty[(Long, Long)])(\n",
        "    {\n",
        "      case (Nil, frag) => (0L, frag.getStart.toLong)::Nil\n",
        "      case ((n, last)::tail, frag) =>\n",
        "        if(Math.abs(frag.getStart.toLong - last) > maxDist)\n",
        "          (0L, frag.getStart.toLong)::(n, last)::tail\n",
        "        else (n + 1L, frag.getStart.toLong)::tail\n",
        "    },\n",
        "    {case (a, b) => a ++ b}\n",
        "    )\n",
        "    .mapValues(l=> l.collect{ case (n, _) if n >= minCluster => n })\n",
        "    .filter(_._2.nonEmpty)\n",
        "}"
      ],
      "outputs" : [
        {
          "name" : "stdout",
          "output_type" : "stream",
          "text" : "selectTargets: (guidesY: org.apache.spark.rdd.RDD[String], guidome: org.bdgenomics.adam.rdd.contig.NucleotideContigFragmentRDD, minCluster: Long, maxDist: Long)org.apache.spark.rdd.RDD[(String, List[Long])]\n"
        },
        {
          "metadata" : { },
          "data" : {
            "text/html" : ""
          },
          "output_type" : "execute_result",
          "execution_count" : 16,
          "time" : "Took: 1.450s, at 2018-01-15 11:09"
        }
      ]
    },
    {
      "metadata" : {
        "trusted" : true,
        "input_collapsed" : false,
        "collapsed" : false,
        "id" : "5E9D47FD43534B93818E89C6D2B8053C"
      },
      "cell_type" : "code",
      "source" : [
        "val targets = selectTargets(trueUnique,chrYNoPam, 10, 800).cache\n",
        "targets.count"
      ],
      "outputs" : [
        {
          "name" : "stdout",
          "output_type" : "stream",
          "text" : "targets: org.apache.spark.rdd.RDD[(String, List[Long])] = MapPartitionsRDD[78] at filter at <console>:113\nres68: Long = 4\n"
        },
        {
          "metadata" : { },
          "data" : {
            "text/html" : "4"
          },
          "output_type" : "execute_result",
          "execution_count" : 40,
          "time" : "Took: 18.808s, at 2018-01-15 11:26"
        }
      ]
    },
    {
      "metadata" : {
        "trusted" : true,
        "input_collapsed" : false,
        "collapsed" : false,
        "presentation" : {
          "tabs_state" : "{\n  \"tab_id\": \"#tab439596048-0\"\n}",
          "pivot_chart_state" : "{\n  \"hiddenAttributes\": [],\n  \"menuLimit\": 200,\n  \"cols\": [],\n  \"rows\": [],\n  \"vals\": [],\n  \"exclusions\": {},\n  \"inclusions\": {},\n  \"unusedAttrsVertical\": 85,\n  \"autoSortUnusedAttrs\": false,\n  \"inclusionsInfo\": {},\n  \"aggregatorName\": \"Count\",\n  \"rendererName\": \"Table\"\n}"
        },
        "id" : "16F2710C08C045B7846D6F5D2737DF8C"
      },
      "cell_type" : "code",
      "source" : [
        "targets.collect"
      ],
      "outputs" : [
        {
          "name" : "stdout",
          "output_type" : "stream",
          "text" : "res70: Array[(String, List[Long])] = Array((AAGACCATGAACCTGCCAGA,List(15, 34, 19)), (CTGCCAGAAGGAAGAAACTC,List(11, 12)), (GAAACTCTGGACACATCTGA,List(10)), (AATGAAGCTGCAGACCTTAC,List(33, 42, 19, 26, 22)))\n"
        },
        {
          "metadata" : { },
          "data" : {
            "text/html" : "<div>\n      <script data-this=\"{&quot;dataId&quot;:&quot;anon42296a1a2f777ba4232db7f866b47222&quot;,&quot;dataInit&quot;:[],&quot;genId&quot;:&quot;439596048&quot;}\" type=\"text/x-scoped-javascript\">/*<![CDATA[*/req(['../javascripts/notebook/playground','../javascripts/notebook/magic/tabs'], \n      function(playground, _magictabs) {\n        // data ==> data-this (in observable.js's scopedEval) ==> this in JS => { dataId, dataInit, ... }\n        // this ==> scope (in observable.js's scopedEval) ==> this.parentElement ==> div.container below (toHtml)\n\n        playground.call(data,\n                        this\n                        ,\n                        {\n    \"f\": _magictabs,\n    \"o\": {}\n  }\n  \n                        \n                        \n                      );\n      }\n    );/*]]>*/</script>\n    <div>\n      <div>\n        <ul class=\"nav nav-tabs\" id=\"ul439596048\"><li>\n              <a href=\"#tab439596048-0\"><i class=\"fa fa-table\"/></a>\n            </li><li>\n              <a href=\"#tab439596048-1\"><i class=\"fa fa-pie-chart\"/></a>\n            </li><li>\n              <a href=\"#tab439596048-2\"><i class=\"fa fa-cubes\"/></a>\n            </li></ul>\n\n        <div class=\"tab-content\" id=\"tab439596048\"><div class=\"tab-pane\" id=\"tab439596048-0\">\n            <div>\n      <script data-this=\"{&quot;dataId&quot;:&quot;anon7ec3ef6103728982d163392f77fa3184&quot;,&quot;dataInit&quot;:[{&quot;_1&quot;:&quot;AAGACCATGAACCTGCCAGA&quot;,&quot;_2&quot;:[15,34,19]},{&quot;_1&quot;:&quot;CTGCCAGAAGGAAGAAACTC&quot;,&quot;_2&quot;:[11,12]},{&quot;_1&quot;:&quot;GAAACTCTGGACACATCTGA&quot;,&quot;_2&quot;:[10]},{&quot;_1&quot;:&quot;AATGAAGCTGCAGACCTTAC&quot;,&quot;_2&quot;:[33,42,19,26,22]}],&quot;genId&quot;:&quot;592390084&quot;}\" type=\"text/x-scoped-javascript\">/*<![CDATA[*/req(['../javascripts/notebook/playground','../javascripts/notebook/magic/tableChart'], \n      function(playground, _magictableChart) {\n        // data ==> data-this (in observable.js's scopedEval) ==> this in JS => { dataId, dataInit, ... }\n        // this ==> scope (in observable.js's scopedEval) ==> this.parentElement ==> div.container below (toHtml)\n\n        playground.call(data,\n                        this\n                        ,\n                        {\n    \"f\": _magictableChart,\n    \"o\": {\"headers\":[\"_1\",\"_2\"],\"width\":600,\"height\":400}\n  }\n  \n                        \n                        \n                      );\n      }\n    );/*]]>*/</script>\n    <div>\n      <span class=\"chart-total-item-count\"><p data-bind=\"text: value\"><script data-this=\"{&quot;valueId&quot;:&quot;anonc2b6c26d538cbd8ec2c3edb9258ccdda&quot;,&quot;initialValue&quot;:&quot;4&quot;}\" type=\"text/x-scoped-javascript\">/*<![CDATA[*/\nreq(\n['observable', 'knockout'],\nfunction (O, ko) {\n  ko.applyBindings({\n      value: O.makeObservable(valueId, initialValue)\n    },\n    this\n  );\n});\n        /*]]>*/</script></p> entries total</span>\n      <span class=\"chart-sampling-warning\"><p data-bind=\"text: value\"><script data-this=\"{&quot;valueId&quot;:&quot;anoncb0cbac3c3321fa9f3d8a83ffd5cf5bc&quot;,&quot;initialValue&quot;:&quot;&quot;}\" type=\"text/x-scoped-javascript\">/*<![CDATA[*/\nreq(\n['observable', 'knockout'],\nfunction (O, ko) {\n  ko.applyBindings({\n      value: O.makeObservable(valueId, initialValue)\n    },\n    this\n  );\n});\n        /*]]>*/</script></p></span>\n      <div>\n      </div>\n    </div></div>\n            </div><div class=\"tab-pane\" id=\"tab439596048-1\">\n            <div>\n      <script data-this=\"{&quot;dataId&quot;:&quot;anon26e7b578526d7604d9b9c7ef1cd80d88&quot;,&quot;dataInit&quot;:[{&quot;_1&quot;:&quot;AAGACCATGAACCTGCCAGA&quot;,&quot;_2&quot;:[15,34,19]},{&quot;_1&quot;:&quot;CTGCCAGAAGGAAGAAACTC&quot;,&quot;_2&quot;:[11,12]},{&quot;_1&quot;:&quot;GAAACTCTGGACACATCTGA&quot;,&quot;_2&quot;:[10]},{&quot;_1&quot;:&quot;AATGAAGCTGCAGACCTTAC&quot;,&quot;_2&quot;:[33,42,19,26,22]}],&quot;genId&quot;:&quot;2133912411&quot;}\" type=\"text/x-scoped-javascript\">/*<![CDATA[*/req(['../javascripts/notebook/playground','../javascripts/notebook/magic/pieChart'], \n      function(playground, _magicpieChart) {\n        // data ==> data-this (in observable.js's scopedEval) ==> this in JS => { dataId, dataInit, ... }\n        // this ==> scope (in observable.js's scopedEval) ==> this.parentElement ==> div.container below (toHtml)\n\n        playground.call(data,\n                        this\n                        ,\n                        {\n    \"f\": _magicpieChart,\n    \"o\": {\"series\":\"_1\",\"p\":\"_2\",\"width\":600,\"height\":400}\n  }\n  \n                        \n                        \n                      );\n      }\n    );/*]]>*/</script>\n    <div>\n      <span class=\"chart-total-item-count\"><p data-bind=\"text: value\"><script data-this=\"{&quot;valueId&quot;:&quot;anon4459ad4cf0c66c7ad5c2b09746e56f35&quot;,&quot;initialValue&quot;:&quot;4&quot;}\" type=\"text/x-scoped-javascript\">/*<![CDATA[*/\nreq(\n['observable', 'knockout'],\nfunction (O, ko) {\n  ko.applyBindings({\n      value: O.makeObservable(valueId, initialValue)\n    },\n    this\n  );\n});\n        /*]]>*/</script></p> entries total</span>\n      <span class=\"chart-sampling-warning\"><p data-bind=\"text: value\"><script data-this=\"{&quot;valueId&quot;:&quot;anon9be1cdada769fc21de3fa5a082e1f8f0&quot;,&quot;initialValue&quot;:&quot;&quot;}\" type=\"text/x-scoped-javascript\">/*<![CDATA[*/\nreq(\n['observable', 'knockout'],\nfunction (O, ko) {\n  ko.applyBindings({\n      value: O.makeObservable(valueId, initialValue)\n    },\n    this\n  );\n});\n        /*]]>*/</script></p></span>\n      <div>\n      </div>\n    </div></div>\n            </div><div class=\"tab-pane\" id=\"tab439596048-2\">\n            <div>\n      <script data-this=\"{&quot;dataId&quot;:&quot;anon4768174221a76bc5f6fb192c3e89b73c&quot;,&quot;dataInit&quot;:[{&quot;_1&quot;:&quot;AAGACCATGAACCTGCCAGA&quot;,&quot;_2&quot;:[15,34,19]},{&quot;_1&quot;:&quot;CTGCCAGAAGGAAGAAACTC&quot;,&quot;_2&quot;:[11,12]},{&quot;_1&quot;:&quot;GAAACTCTGGACACATCTGA&quot;,&quot;_2&quot;:[10]},{&quot;_1&quot;:&quot;AATGAAGCTGCAGACCTTAC&quot;,&quot;_2&quot;:[33,42,19,26,22]}],&quot;genId&quot;:&quot;97600158&quot;}\" type=\"text/x-scoped-javascript\">/*<![CDATA[*/req(['../javascripts/notebook/playground','../javascripts/notebook/magic/pivotChart'], \n      function(playground, _magicpivotChart) {\n        // data ==> data-this (in observable.js's scopedEval) ==> this in JS => { dataId, dataInit, ... }\n        // this ==> scope (in observable.js's scopedEval) ==> this.parentElement ==> div.container below (toHtml)\n\n        playground.call(data,\n                        this\n                        ,\n                        {\n    \"f\": _magicpivotChart,\n    \"o\": {\"width\":600,\"height\":400,\"derivedAttributes\":{},\"extraOptions\":{}}\n  }\n  \n                        \n                        \n                      );\n      }\n    );/*]]>*/</script>\n    <div>\n      <span class=\"chart-total-item-count\"><p data-bind=\"text: value\"><script data-this=\"{&quot;valueId&quot;:&quot;anon26ef1455ae8d490a852f4b58d8257796&quot;,&quot;initialValue&quot;:&quot;4&quot;}\" type=\"text/x-scoped-javascript\">/*<![CDATA[*/\nreq(\n['observable', 'knockout'],\nfunction (O, ko) {\n  ko.applyBindings({\n      value: O.makeObservable(valueId, initialValue)\n    },\n    this\n  );\n});\n        /*]]>*/</script></p> entries total</span>\n      <span class=\"chart-sampling-warning\"><p data-bind=\"text: value\"><script data-this=\"{&quot;valueId&quot;:&quot;anonc6987521c2173818bdb41cc6521e56ff&quot;,&quot;initialValue&quot;:&quot;&quot;}\" type=\"text/x-scoped-javascript\">/*<![CDATA[*/\nreq(\n['observable', 'knockout'],\nfunction (O, ko) {\n  ko.applyBindings({\n      value: O.makeObservable(valueId, initialValue)\n    },\n    this\n  );\n});\n        /*]]>*/</script></p></span>\n      <div>\n      </div>\n    </div></div>\n            </div></div>\n      </div>\n    </div></div>"
          },
          "output_type" : "execute_result",
          "execution_count" : 41,
          "time" : "Took: 1.397s, at 2018-01-15 11:26"
        }
      ]
    },
    {
      "metadata" : {
        "trusted" : true,
        "input_collapsed" : false,
        "collapsed" : false,
        "presentation" : {
          "tabs_state" : "{\n  \"tab_id\": \"#tab690580249-0\"\n}",
          "pivot_chart_state" : "{\n  \"hiddenAttributes\": [],\n  \"menuLimit\": 200,\n  \"cols\": [],\n  \"rows\": [],\n  \"vals\": [],\n  \"exclusions\": {},\n  \"inclusions\": {},\n  \"unusedAttrsVertical\": 85,\n  \"autoSortUnusedAttrs\": false,\n  \"inclusionsInfo\": {},\n  \"aggregatorName\": \"Count\",\n  \"rendererName\": \"Table\"\n}"
        },
        "id" : "E47D72A87BB344C682EA69535649E305"
      },
      "cell_type" : "code",
      "source" : [
        "val c  = targets.map(_._1).collect().toSet\n",
        "//c\n",
        "yReps.filter(kv=>c.contains(kv._1)).collect\n",
        "//yReps.take(1)\n"
      ],
      "outputs" : [
        {
          "name" : "stdout",
          "output_type" : "stream",
          "text" : "c: scala.collection.immutable.Set[String] = Set(CAGGGTTTCTGTCTTCTGGC, GAAACTCTGGACACATCTGA, AAGACCATGAACCTGCCAGA, CTGCCAGAAGGAAGAAACTC, AATGAAGCTGCAGACCTTAC, TGTCCAGGGTTTCTGTCTTC, TGTCCAGTGTTTCTTCCTTC)\nres56: Array[(String, Int)] = Array((CAGGGTTTCTGTCTTCTGGC,63), (TGTCCAGGGTTTCTGTCTTC,71), (AAGACCATGAACCTGCCAGA,71), (CTGCCAGAAGGAAGAAACTC,45), (GAAACTCTGGACACATCTGA,36), (AATGAAGCTGCAGACCTTAC,182), (TGTCCAGTGTTTCTTCCTTC,50))\n"
        },
        {
          "metadata" : { },
          "data" : {
            "text/html" : "<div>\n      <script data-this=\"{&quot;dataId&quot;:&quot;anon5d10ea9e15620525a13c7af1c347b9fa&quot;,&quot;dataInit&quot;:[],&quot;genId&quot;:&quot;690580249&quot;}\" type=\"text/x-scoped-javascript\">/*<![CDATA[*/req(['../javascripts/notebook/playground','../javascripts/notebook/magic/tabs'], \n      function(playground, _magictabs) {\n        // data ==> data-this (in observable.js's scopedEval) ==> this in JS => { dataId, dataInit, ... }\n        // this ==> scope (in observable.js's scopedEval) ==> this.parentElement ==> div.container below (toHtml)\n\n        playground.call(data,\n                        this\n                        ,\n                        {\n    \"f\": _magictabs,\n    \"o\": {}\n  }\n  \n                        \n                        \n                      );\n      }\n    );/*]]>*/</script>\n    <div>\n      <div>\n        <ul class=\"nav nav-tabs\" id=\"ul690580249\"><li>\n              <a href=\"#tab690580249-0\"><i class=\"fa fa-table\"/></a>\n            </li><li>\n              <a href=\"#tab690580249-1\"><i class=\"fa fa-bar-chart\"/></a>\n            </li><li>\n              <a href=\"#tab690580249-2\"><i class=\"fa fa-pie-chart\"/></a>\n            </li><li>\n              <a href=\"#tab690580249-3\"><i class=\"fa fa-cubes\"/></a>\n            </li></ul>\n\n        <div class=\"tab-content\" id=\"tab690580249\"><div class=\"tab-pane\" id=\"tab690580249-0\">\n            <div>\n      <script data-this=\"{&quot;dataId&quot;:&quot;anonf84f02ae0a01c1a325225364b2e8486f&quot;,&quot;dataInit&quot;:[{&quot;_1&quot;:&quot;CAGGGTTTCTGTCTTCTGGC&quot;,&quot;_2&quot;:63},{&quot;_1&quot;:&quot;TGTCCAGGGTTTCTGTCTTC&quot;,&quot;_2&quot;:71},{&quot;_1&quot;:&quot;AAGACCATGAACCTGCCAGA&quot;,&quot;_2&quot;:71},{&quot;_1&quot;:&quot;CTGCCAGAAGGAAGAAACTC&quot;,&quot;_2&quot;:45},{&quot;_1&quot;:&quot;GAAACTCTGGACACATCTGA&quot;,&quot;_2&quot;:36},{&quot;_1&quot;:&quot;AATGAAGCTGCAGACCTTAC&quot;,&quot;_2&quot;:182},{&quot;_1&quot;:&quot;TGTCCAGTGTTTCTTCCTTC&quot;,&quot;_2&quot;:50}],&quot;genId&quot;:&quot;1177943532&quot;}\" type=\"text/x-scoped-javascript\">/*<![CDATA[*/req(['../javascripts/notebook/playground','../javascripts/notebook/magic/tableChart'], \n      function(playground, _magictableChart) {\n        // data ==> data-this (in observable.js's scopedEval) ==> this in JS => { dataId, dataInit, ... }\n        // this ==> scope (in observable.js's scopedEval) ==> this.parentElement ==> div.container below (toHtml)\n\n        playground.call(data,\n                        this\n                        ,\n                        {\n    \"f\": _magictableChart,\n    \"o\": {\"headers\":[\"_1\",\"_2\"],\"width\":600,\"height\":400}\n  }\n  \n                        \n                        \n                      );\n      }\n    );/*]]>*/</script>\n    <div>\n      <span class=\"chart-total-item-count\"><p data-bind=\"text: value\"><script data-this=\"{&quot;valueId&quot;:&quot;anonf479637ae53d3c50ee44b0dc121f7185&quot;,&quot;initialValue&quot;:&quot;7&quot;}\" type=\"text/x-scoped-javascript\">/*<![CDATA[*/\nreq(\n['observable', 'knockout'],\nfunction (O, ko) {\n  ko.applyBindings({\n      value: O.makeObservable(valueId, initialValue)\n    },\n    this\n  );\n});\n        /*]]>*/</script></p> entries total</span>\n      <span class=\"chart-sampling-warning\"><p data-bind=\"text: value\"><script data-this=\"{&quot;valueId&quot;:&quot;anon59e36c185cacf3d7b55e5fb11ce42b99&quot;,&quot;initialValue&quot;:&quot;&quot;}\" type=\"text/x-scoped-javascript\">/*<![CDATA[*/\nreq(\n['observable', 'knockout'],\nfunction (O, ko) {\n  ko.applyBindings({\n      value: O.makeObservable(valueId, initialValue)\n    },\n    this\n  );\n});\n        /*]]>*/</script></p></span>\n      <div>\n      </div>\n    </div></div>\n            </div><div class=\"tab-pane\" id=\"tab690580249-1\">\n            <div>\n      <script data-this=\"{&quot;dataId&quot;:&quot;anon376242ca5075d25f442801369f11d92e&quot;,&quot;dataInit&quot;:[{&quot;_1&quot;:&quot;CAGGGTTTCTGTCTTCTGGC&quot;,&quot;_2&quot;:63},{&quot;_1&quot;:&quot;TGTCCAGGGTTTCTGTCTTC&quot;,&quot;_2&quot;:71},{&quot;_1&quot;:&quot;AAGACCATGAACCTGCCAGA&quot;,&quot;_2&quot;:71},{&quot;_1&quot;:&quot;CTGCCAGAAGGAAGAAACTC&quot;,&quot;_2&quot;:45},{&quot;_1&quot;:&quot;GAAACTCTGGACACATCTGA&quot;,&quot;_2&quot;:36},{&quot;_1&quot;:&quot;AATGAAGCTGCAGACCTTAC&quot;,&quot;_2&quot;:182},{&quot;_1&quot;:&quot;TGTCCAGTGTTTCTTCCTTC&quot;,&quot;_2&quot;:50}],&quot;genId&quot;:&quot;1878807650&quot;}\" type=\"text/x-scoped-javascript\">/*<![CDATA[*/req(['../javascripts/notebook/playground','../javascripts/notebook/magic/barChart'], \n      function(playground, _magicbarChart) {\n        // data ==> data-this (in observable.js's scopedEval) ==> this in JS => { dataId, dataInit, ... }\n        // this ==> scope (in observable.js's scopedEval) ==> this.parentElement ==> div.container below (toHtml)\n\n        playground.call(data,\n                        this\n                        ,\n                        {\n    \"f\": _magicbarChart,\n    \"o\": {\"x\":\"_1\",\"y\":\"_2\",\"width\":600,\"height\":400}\n  }\n  \n                        \n                        \n                      );\n      }\n    );/*]]>*/</script>\n    <div>\n      <span class=\"chart-total-item-count\"><p data-bind=\"text: value\"><script data-this=\"{&quot;valueId&quot;:&quot;anon2312a7c963e06d64946484391bb0e9b0&quot;,&quot;initialValue&quot;:&quot;7&quot;}\" type=\"text/x-scoped-javascript\">/*<![CDATA[*/\nreq(\n['observable', 'knockout'],\nfunction (O, ko) {\n  ko.applyBindings({\n      value: O.makeObservable(valueId, initialValue)\n    },\n    this\n  );\n});\n        /*]]>*/</script></p> entries total</span>\n      <span class=\"chart-sampling-warning\"><p data-bind=\"text: value\"><script data-this=\"{&quot;valueId&quot;:&quot;anon532d91f94e0b95d342f82cf5ade66cc9&quot;,&quot;initialValue&quot;:&quot;&quot;}\" type=\"text/x-scoped-javascript\">/*<![CDATA[*/\nreq(\n['observable', 'knockout'],\nfunction (O, ko) {\n  ko.applyBindings({\n      value: O.makeObservable(valueId, initialValue)\n    },\n    this\n  );\n});\n        /*]]>*/</script></p></span>\n      <div>\n      </div>\n    </div></div>\n            </div><div class=\"tab-pane\" id=\"tab690580249-2\">\n            <div>\n      <script data-this=\"{&quot;dataId&quot;:&quot;anonf9ec815b66f95cb1e65c88927bd1dc04&quot;,&quot;dataInit&quot;:[{&quot;_1&quot;:&quot;CAGGGTTTCTGTCTTCTGGC&quot;,&quot;_2&quot;:63},{&quot;_1&quot;:&quot;TGTCCAGGGTTTCTGTCTTC&quot;,&quot;_2&quot;:71},{&quot;_1&quot;:&quot;AAGACCATGAACCTGCCAGA&quot;,&quot;_2&quot;:71},{&quot;_1&quot;:&quot;CTGCCAGAAGGAAGAAACTC&quot;,&quot;_2&quot;:45},{&quot;_1&quot;:&quot;GAAACTCTGGACACATCTGA&quot;,&quot;_2&quot;:36},{&quot;_1&quot;:&quot;AATGAAGCTGCAGACCTTAC&quot;,&quot;_2&quot;:182},{&quot;_1&quot;:&quot;TGTCCAGTGTTTCTTCCTTC&quot;,&quot;_2&quot;:50}],&quot;genId&quot;:&quot;112365023&quot;}\" type=\"text/x-scoped-javascript\">/*<![CDATA[*/req(['../javascripts/notebook/playground','../javascripts/notebook/magic/pieChart'], \n      function(playground, _magicpieChart) {\n        // data ==> data-this (in observable.js's scopedEval) ==> this in JS => { dataId, dataInit, ... }\n        // this ==> scope (in observable.js's scopedEval) ==> this.parentElement ==> div.container below (toHtml)\n\n        playground.call(data,\n                        this\n                        ,\n                        {\n    \"f\": _magicpieChart,\n    \"o\": {\"series\":\"_1\",\"p\":\"_2\",\"width\":600,\"height\":400}\n  }\n  \n                        \n                        \n                      );\n      }\n    );/*]]>*/</script>\n    <div>\n      <span class=\"chart-total-item-count\"><p data-bind=\"text: value\"><script data-this=\"{&quot;valueId&quot;:&quot;anone82dca04856b3c74f4dcb72b25926214&quot;,&quot;initialValue&quot;:&quot;7&quot;}\" type=\"text/x-scoped-javascript\">/*<![CDATA[*/\nreq(\n['observable', 'knockout'],\nfunction (O, ko) {\n  ko.applyBindings({\n      value: O.makeObservable(valueId, initialValue)\n    },\n    this\n  );\n});\n        /*]]>*/</script></p> entries total</span>\n      <span class=\"chart-sampling-warning\"><p data-bind=\"text: value\"><script data-this=\"{&quot;valueId&quot;:&quot;anon0d189154baed640077e5e08f35e88a8c&quot;,&quot;initialValue&quot;:&quot;&quot;}\" type=\"text/x-scoped-javascript\">/*<![CDATA[*/\nreq(\n['observable', 'knockout'],\nfunction (O, ko) {\n  ko.applyBindings({\n      value: O.makeObservable(valueId, initialValue)\n    },\n    this\n  );\n});\n        /*]]>*/</script></p></span>\n      <div>\n      </div>\n    </div></div>\n            </div><div class=\"tab-pane\" id=\"tab690580249-3\">\n            <div>\n      <script data-this=\"{&quot;dataId&quot;:&quot;anon4836381aeb7598dbbd7fc1763060627d&quot;,&quot;dataInit&quot;:[{&quot;_1&quot;:&quot;CAGGGTTTCTGTCTTCTGGC&quot;,&quot;_2&quot;:63},{&quot;_1&quot;:&quot;TGTCCAGGGTTTCTGTCTTC&quot;,&quot;_2&quot;:71},{&quot;_1&quot;:&quot;AAGACCATGAACCTGCCAGA&quot;,&quot;_2&quot;:71},{&quot;_1&quot;:&quot;CTGCCAGAAGGAAGAAACTC&quot;,&quot;_2&quot;:45},{&quot;_1&quot;:&quot;GAAACTCTGGACACATCTGA&quot;,&quot;_2&quot;:36},{&quot;_1&quot;:&quot;AATGAAGCTGCAGACCTTAC&quot;,&quot;_2&quot;:182},{&quot;_1&quot;:&quot;TGTCCAGTGTTTCTTCCTTC&quot;,&quot;_2&quot;:50}],&quot;genId&quot;:&quot;1103332963&quot;}\" type=\"text/x-scoped-javascript\">/*<![CDATA[*/req(['../javascripts/notebook/playground','../javascripts/notebook/magic/pivotChart'], \n      function(playground, _magicpivotChart) {\n        // data ==> data-this (in observable.js's scopedEval) ==> this in JS => { dataId, dataInit, ... }\n        // this ==> scope (in observable.js's scopedEval) ==> this.parentElement ==> div.container below (toHtml)\n\n        playground.call(data,\n                        this\n                        ,\n                        {\n    \"f\": _magicpivotChart,\n    \"o\": {\"width\":600,\"height\":400,\"derivedAttributes\":{},\"extraOptions\":{}}\n  }\n  \n                        \n                        \n                      );\n      }\n    );/*]]>*/</script>\n    <div>\n      <span class=\"chart-total-item-count\"><p data-bind=\"text: value\"><script data-this=\"{&quot;valueId&quot;:&quot;anondd471c42d6ccfb5ffef07e64b559d0d8&quot;,&quot;initialValue&quot;:&quot;7&quot;}\" type=\"text/x-scoped-javascript\">/*<![CDATA[*/\nreq(\n['observable', 'knockout'],\nfunction (O, ko) {\n  ko.applyBindings({\n      value: O.makeObservable(valueId, initialValue)\n    },\n    this\n  );\n});\n        /*]]>*/</script></p> entries total</span>\n      <span class=\"chart-sampling-warning\"><p data-bind=\"text: value\"><script data-this=\"{&quot;valueId&quot;:&quot;anon8a109a5c0df9c7cf501bec7c8d285d4d&quot;,&quot;initialValue&quot;:&quot;&quot;}\" type=\"text/x-scoped-javascript\">/*<![CDATA[*/\nreq(\n['observable', 'knockout'],\nfunction (O, ko) {\n  ko.applyBindings({\n      value: O.makeObservable(valueId, initialValue)\n    },\n    this\n  );\n});\n        /*]]>*/</script></p></span>\n      <div>\n      </div>\n    </div></div>\n            </div></div>\n      </div>\n    </div></div>"
          },
          "output_type" : "execute_result",
          "execution_count" : 34,
          "time" : "Took: 1.716s, at 2018-01-15 11:19"
        }
      ]
    },
    {
      "metadata" : {
        "trusted" : true,
        "input_collapsed" : false,
        "collapsed" : false,
        "id" : "1B35E7BE554E42FABC143B16A656988E"
      },
      "cell_type" : "code",
      "source" : [
        "//saveHuman(guidomeNoPam, \"/guidomeNoPam.adam\")\n",
        "//saveHuman(chrYNoPam, \"/guidomeChrYNoPam.adam\")\n",
        "//saveHuman(chrYPam, \"/guidomeChrYPam.adam\")\n",
        "//saveHuman(guidomeNoPam, \"/guidomeNoPam.adam\")\n"
      ],
      "outputs" : [
        {
          "name" : "stdout",
          "output_type" : "stream",
          "text" : "res32: String = hdfs://namenode/pipelines/HUMAN/GRCh38/27/guidomeNoPam.adam\n"
        },
        {
          "metadata" : { },
          "data" : {
            "text/html" : "hdfs://namenode/pipelines/HUMAN/GRCh38/27/guidomeNoPam.adam"
          },
          "output_type" : "execute_result",
          "execution_count" : 16,
          "time" : "Took: 6m19.124s, at 2018-01-03 00:57"
        }
      ]
    },
    {
      "metadata" : {
        "trusted" : true,
        "input_collapsed" : false,
        "collapsed" : false,
        "presentation" : {
          "tabs_state" : "{\n  \"tab_id\": \"#tab2064821252-0\"\n}",
          "pivot_chart_state" : "{\n  \"hiddenAttributes\": [],\n  \"menuLimit\": 200,\n  \"cols\": [],\n  \"rows\": [],\n  \"vals\": [],\n  \"exclusions\": {},\n  \"inclusions\": {},\n  \"unusedAttrsVertical\": 85,\n  \"autoSortUnusedAttrs\": false,\n  \"inclusionsInfo\": {},\n  \"aggregatorName\": \"Count\",\n  \"rendererName\": \"Table\"\n}"
        },
        "id" : "D2813E9CCAA94BCE8257C260D4E32977"
      },
      "cell_type" : "code",
      "source" : [
        "import better.files._\n",
        "import java.io.{File => JFile}\n",
        "val pipelines = better.files.File(\"/pipelines\")\n",
        "val indexes = pipelines / \"indexes\""
      ],
      "outputs" : [
        {
          "name" : "stdout",
          "output_type" : "stream",
          "text" : "import better.files._\nimport java.io.{File=>JFile}\npipelines: better.files.File = /pipelines\nindexes: better.files.File = /pipelines/indexes\n"
        },
        {
          "metadata" : { },
          "data" : {
            "text/html" : ""
          },
          "output_type" : "execute_result",
          "execution_count" : 6,
          "time" : "Took: 1.026s, at 2017-12-30 14:23"
        }
      ]
    },
    {
      "metadata" : {
        "trusted" : true,
        "input_collapsed" : false,
        "collapsed" : false,
        "presentation" : {
          "tabs_state" : "{\n  \"tab_id\": \"#tab77275300-0\"\n}",
          "pivot_chart_state" : "{\n  \"hiddenAttributes\": [],\n  \"menuLimit\": 200,\n  \"cols\": [],\n  \"rows\": [],\n  \"vals\": [],\n  \"exclusions\": {},\n  \"inclusions\": {},\n  \"unusedAttrsVertical\": 85,\n  \"autoSortUnusedAttrs\": false,\n  \"inclusionsInfo\": {},\n  \"aggregatorName\": \"Count\",\n  \"rendererName\": \"Table\"\n}"
        },
        "id" : "434A46AE6D6C41D6A86C8D40B07D1EBA"
      },
      "cell_type" : "code",
      "source" : [
        "val human = indexes / \"HUMAN\" / \"27\"\n",
        "human.list.toList"
      ],
      "outputs" : [
        {
          "name" : "stdout",
          "output_type" : "stream",
          "text" : "human: better.files.File = /pipelines/indexes/HUMAN/27\nres10: List[better.files.File] = List(/pipelines/indexes/HUMAN/27/convert.sh, /pipelines/indexes/HUMAN/27/gencode.v27.pc_transcripts.fa, /pipelines/indexes/HUMAN/27/gencode.v27.transcripts.fa, /pipelines/indexes/HUMAN/27/gencode.v27.pc_translations.fa, /pipelines/indexes/HUMAN/27/gencode.v27.lncRNA_transcripts.fa, /pipelines/indexes/HUMAN/27/GRCh38.p10.genome.fa, /pipelines/indexes/HUMAN/27/log.out)\n"
        },
        {
          "metadata" : { },
          "data" : {
            "text/html" : "<div>\n      <script data-this=\"{&quot;dataId&quot;:&quot;anon44a886f5fb600369bb4c4089238ad8ad&quot;,&quot;dataInit&quot;:[],&quot;genId&quot;:&quot;77275300&quot;}\" type=\"text/x-scoped-javascript\">/*<![CDATA[*/req(['../javascripts/notebook/playground','../javascripts/notebook/magic/tabs'], \n      function(playground, _magictabs) {\n        // data ==> data-this (in observable.js's scopedEval) ==> this in JS => { dataId, dataInit, ... }\n        // this ==> scope (in observable.js's scopedEval) ==> this.parentElement ==> div.container below (toHtml)\n\n        playground.call(data,\n                        this\n                        ,\n                        {\n    \"f\": _magictabs,\n    \"o\": {}\n  }\n  \n                        \n                        \n                      );\n      }\n    );/*]]>*/</script>\n    <div>\n      <div>\n        <ul class=\"nav nav-tabs\" id=\"ul77275300\"><li>\n              <a href=\"#tab77275300-0\"><i class=\"fa fa-table\"/></a>\n            </li><li>\n              <a href=\"#tab77275300-1\"><i class=\"fa fa-pie-chart\"/></a>\n            </li><li>\n              <a href=\"#tab77275300-2\"><i class=\"fa fa-cubes\"/></a>\n            </li></ul>\n\n        <div class=\"tab-content\" id=\"tab77275300\"><div class=\"tab-pane\" id=\"tab77275300-0\">\n            <div>\n      <script data-this=\"{&quot;dataId&quot;:&quot;anonf153c0000f39ffbaab9959e18488781d&quot;,&quot;dataInit&quot;:[{&quot;path&quot;:&quot;/pipelines/indexes/HUMAN/27/convert.sh&quot;,&quot;fileSystem&quot;:&quot;sun.nio.fs.LinuxFileSystem@4fefce70&quot;},{&quot;path&quot;:&quot;/pipelines/indexes/HUMAN/27/gencode.v27.pc_transcripts.fa&quot;,&quot;fileSystem&quot;:&quot;sun.nio.fs.LinuxFileSystem@4fefce70&quot;},{&quot;path&quot;:&quot;/pipelines/indexes/HUMAN/27/gencode.v27.transcripts.fa&quot;,&quot;fileSystem&quot;:&quot;sun.nio.fs.LinuxFileSystem@4fefce70&quot;},{&quot;path&quot;:&quot;/pipelines/indexes/HUMAN/27/gencode.v27.pc_translations.fa&quot;,&quot;fileSystem&quot;:&quot;sun.nio.fs.LinuxFileSystem@4fefce70&quot;},{&quot;path&quot;:&quot;/pipelines/indexes/HUMAN/27/gencode.v27.lncRNA_transcripts.fa&quot;,&quot;fileSystem&quot;:&quot;sun.nio.fs.LinuxFileSystem@4fefce70&quot;},{&quot;path&quot;:&quot;/pipelines/indexes/HUMAN/27/GRCh38.p10.genome.fa&quot;,&quot;fileSystem&quot;:&quot;sun.nio.fs.LinuxFileSystem@4fefce70&quot;},{&quot;path&quot;:&quot;/pipelines/indexes/HUMAN/27/log.out&quot;,&quot;fileSystem&quot;:&quot;sun.nio.fs.LinuxFileSystem@4fefce70&quot;}],&quot;genId&quot;:&quot;834568478&quot;}\" type=\"text/x-scoped-javascript\">/*<![CDATA[*/req(['../javascripts/notebook/playground','../javascripts/notebook/magic/tableChart'], \n      function(playground, _magictableChart) {\n        // data ==> data-this (in observable.js's scopedEval) ==> this in JS => { dataId, dataInit, ... }\n        // this ==> scope (in observable.js's scopedEval) ==> this.parentElement ==> div.container below (toHtml)\n\n        playground.call(data,\n                        this\n                        ,\n                        {\n    \"f\": _magictableChart,\n    \"o\": {\"headers\":[\"path\",\"fileSystem\"],\"width\":600,\"height\":400}\n  }\n  \n                        \n                        \n                      );\n      }\n    );/*]]>*/</script>\n    <div>\n      <span class=\"chart-total-item-count\"><p data-bind=\"text: value\"><script data-this=\"{&quot;valueId&quot;:&quot;anonb25585b75e0567f01aa48b35e2482432&quot;,&quot;initialValue&quot;:&quot;7&quot;}\" type=\"text/x-scoped-javascript\">/*<![CDATA[*/\nreq(\n['observable', 'knockout'],\nfunction (O, ko) {\n  ko.applyBindings({\n      value: O.makeObservable(valueId, initialValue)\n    },\n    this\n  );\n});\n        /*]]>*/</script></p> entries total</span>\n      <span class=\"chart-sampling-warning\"><p data-bind=\"text: value\"><script data-this=\"{&quot;valueId&quot;:&quot;anon1757c859cf4de9502bc5fb515c46e326&quot;,&quot;initialValue&quot;:&quot;&quot;}\" type=\"text/x-scoped-javascript\">/*<![CDATA[*/\nreq(\n['observable', 'knockout'],\nfunction (O, ko) {\n  ko.applyBindings({\n      value: O.makeObservable(valueId, initialValue)\n    },\n    this\n  );\n});\n        /*]]>*/</script></p></span>\n      <div>\n      </div>\n    </div></div>\n            </div><div class=\"tab-pane\" id=\"tab77275300-1\">\n            <div>\n      <script data-this=\"{&quot;dataId&quot;:&quot;anond639b46a3627503ad0a923031663c449&quot;,&quot;dataInit&quot;:[{&quot;path&quot;:&quot;/pipelines/indexes/HUMAN/27/convert.sh&quot;,&quot;fileSystem&quot;:&quot;sun.nio.fs.LinuxFileSystem@4fefce70&quot;},{&quot;path&quot;:&quot;/pipelines/indexes/HUMAN/27/gencode.v27.pc_transcripts.fa&quot;,&quot;fileSystem&quot;:&quot;sun.nio.fs.LinuxFileSystem@4fefce70&quot;},{&quot;path&quot;:&quot;/pipelines/indexes/HUMAN/27/gencode.v27.transcripts.fa&quot;,&quot;fileSystem&quot;:&quot;sun.nio.fs.LinuxFileSystem@4fefce70&quot;},{&quot;path&quot;:&quot;/pipelines/indexes/HUMAN/27/gencode.v27.pc_translations.fa&quot;,&quot;fileSystem&quot;:&quot;sun.nio.fs.LinuxFileSystem@4fefce70&quot;},{&quot;path&quot;:&quot;/pipelines/indexes/HUMAN/27/gencode.v27.lncRNA_transcripts.fa&quot;,&quot;fileSystem&quot;:&quot;sun.nio.fs.LinuxFileSystem@4fefce70&quot;},{&quot;path&quot;:&quot;/pipelines/indexes/HUMAN/27/GRCh38.p10.genome.fa&quot;,&quot;fileSystem&quot;:&quot;sun.nio.fs.LinuxFileSystem@4fefce70&quot;},{&quot;path&quot;:&quot;/pipelines/indexes/HUMAN/27/log.out&quot;,&quot;fileSystem&quot;:&quot;sun.nio.fs.LinuxFileSystem@4fefce70&quot;}],&quot;genId&quot;:&quot;1279882737&quot;}\" type=\"text/x-scoped-javascript\">/*<![CDATA[*/req(['../javascripts/notebook/playground','../javascripts/notebook/magic/pieChart'], \n      function(playground, _magicpieChart) {\n        // data ==> data-this (in observable.js's scopedEval) ==> this in JS => { dataId, dataInit, ... }\n        // this ==> scope (in observable.js's scopedEval) ==> this.parentElement ==> div.container below (toHtml)\n\n        playground.call(data,\n                        this\n                        ,\n                        {\n    \"f\": _magicpieChart,\n    \"o\": {\"series\":\"path\",\"p\":\"fileSystem\",\"width\":600,\"height\":400}\n  }\n  \n                        \n                        \n                      );\n      }\n    );/*]]>*/</script>\n    <div>\n      <span class=\"chart-total-item-count\"><p data-bind=\"text: value\"><script data-this=\"{&quot;valueId&quot;:&quot;anon945d603b208fca645581666ac3192c8c&quot;,&quot;initialValue&quot;:&quot;7&quot;}\" type=\"text/x-scoped-javascript\">/*<![CDATA[*/\nreq(\n['observable', 'knockout'],\nfunction (O, ko) {\n  ko.applyBindings({\n      value: O.makeObservable(valueId, initialValue)\n    },\n    this\n  );\n});\n        /*]]>*/</script></p> entries total</span>\n      <span class=\"chart-sampling-warning\"><p data-bind=\"text: value\"><script data-this=\"{&quot;valueId&quot;:&quot;anon95bd4049b0423ba618d693d0eb4c7612&quot;,&quot;initialValue&quot;:&quot;&quot;}\" type=\"text/x-scoped-javascript\">/*<![CDATA[*/\nreq(\n['observable', 'knockout'],\nfunction (O, ko) {\n  ko.applyBindings({\n      value: O.makeObservable(valueId, initialValue)\n    },\n    this\n  );\n});\n        /*]]>*/</script></p></span>\n      <div>\n      </div>\n    </div></div>\n            </div><div class=\"tab-pane\" id=\"tab77275300-2\">\n            <div>\n      <script data-this=\"{&quot;dataId&quot;:&quot;anoncc27d11264e1cdc720003a34cab89b93&quot;,&quot;dataInit&quot;:[{&quot;path&quot;:&quot;/pipelines/indexes/HUMAN/27/convert.sh&quot;,&quot;fileSystem&quot;:&quot;sun.nio.fs.LinuxFileSystem@4fefce70&quot;},{&quot;path&quot;:&quot;/pipelines/indexes/HUMAN/27/gencode.v27.pc_transcripts.fa&quot;,&quot;fileSystem&quot;:&quot;sun.nio.fs.LinuxFileSystem@4fefce70&quot;},{&quot;path&quot;:&quot;/pipelines/indexes/HUMAN/27/gencode.v27.transcripts.fa&quot;,&quot;fileSystem&quot;:&quot;sun.nio.fs.LinuxFileSystem@4fefce70&quot;},{&quot;path&quot;:&quot;/pipelines/indexes/HUMAN/27/gencode.v27.pc_translations.fa&quot;,&quot;fileSystem&quot;:&quot;sun.nio.fs.LinuxFileSystem@4fefce70&quot;},{&quot;path&quot;:&quot;/pipelines/indexes/HUMAN/27/gencode.v27.lncRNA_transcripts.fa&quot;,&quot;fileSystem&quot;:&quot;sun.nio.fs.LinuxFileSystem@4fefce70&quot;},{&quot;path&quot;:&quot;/pipelines/indexes/HUMAN/27/GRCh38.p10.genome.fa&quot;,&quot;fileSystem&quot;:&quot;sun.nio.fs.LinuxFileSystem@4fefce70&quot;},{&quot;path&quot;:&quot;/pipelines/indexes/HUMAN/27/log.out&quot;,&quot;fileSystem&quot;:&quot;sun.nio.fs.LinuxFileSystem@4fefce70&quot;}],&quot;genId&quot;:&quot;1334425004&quot;}\" type=\"text/x-scoped-javascript\">/*<![CDATA[*/req(['../javascripts/notebook/playground','../javascripts/notebook/magic/pivotChart'], \n      function(playground, _magicpivotChart) {\n        // data ==> data-this (in observable.js's scopedEval) ==> this in JS => { dataId, dataInit, ... }\n        // this ==> scope (in observable.js's scopedEval) ==> this.parentElement ==> div.container below (toHtml)\n\n        playground.call(data,\n                        this\n                        ,\n                        {\n    \"f\": _magicpivotChart,\n    \"o\": {\"width\":600,\"height\":400,\"derivedAttributes\":{},\"extraOptions\":{}}\n  }\n  \n                        \n                        \n                      );\n      }\n    );/*]]>*/</script>\n    <div>\n      <span class=\"chart-total-item-count\"><p data-bind=\"text: value\"><script data-this=\"{&quot;valueId&quot;:&quot;anon03722b914a638fc576daad6374b18ca8&quot;,&quot;initialValue&quot;:&quot;7&quot;}\" type=\"text/x-scoped-javascript\">/*<![CDATA[*/\nreq(\n['observable', 'knockout'],\nfunction (O, ko) {\n  ko.applyBindings({\n      value: O.makeObservable(valueId, initialValue)\n    },\n    this\n  );\n});\n        /*]]>*/</script></p> entries total</span>\n      <span class=\"chart-sampling-warning\"><p data-bind=\"text: value\"><script data-this=\"{&quot;valueId&quot;:&quot;anon0d50d6184f4cb7b5db14952693e447fa&quot;,&quot;initialValue&quot;:&quot;&quot;}\" type=\"text/x-scoped-javascript\">/*<![CDATA[*/\nreq(\n['observable', 'knockout'],\nfunction (O, ko) {\n  ko.applyBindings({\n      value: O.makeObservable(valueId, initialValue)\n    },\n    this\n  );\n});\n        /*]]>*/</script></p></span>\n      <div>\n      </div>\n    </div></div>\n            </div></div>\n      </div>\n    </div></div>"
          },
          "output_type" : "execute_result",
          "execution_count" : 7,
          "time" : "Took: 1.795s, at 2017-12-30 14:23"
        }
      ]
    },
    {
      "metadata" : {
        "trusted" : true,
        "input_collapsed" : false,
        "collapsed" : false,
        "id" : "F954873CA7D943C1B3A78C0CBFFFF787"
      },
      "cell_type" : "code",
      "source" : [
        ""
      ],
      "outputs" : [
        {
          "metadata" : { },
          "data" : {
            "text/html" : ""
          },
          "output_type" : "execute_result",
          "execution_count" : 7,
          "time" : "Took: 12.747s, at 2017-12-29 01:16"
        }
      ]
    },
    {
      "metadata" : {
        "trusted" : true,
        "input_collapsed" : false,
        "collapsed" : true,
        "id" : "7A8B96CB7F26469E82E7C0EC36D14156"
      },
      "cell_type" : "code",
      "source" : [
        ""
      ],
      "outputs" : [ ]
    }
  ],
  "nbformat" : 4
}