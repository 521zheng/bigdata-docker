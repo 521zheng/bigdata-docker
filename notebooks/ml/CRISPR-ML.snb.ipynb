{
  "metadata" : {
    "id" : "389e7aeb-7496-4bc1-9688-d93a3e826427",
    "name" : "CRISPR-ML",
    "user_save_timestamp" : "1970-01-01T00:00:00.000Z",
    "auto_save_timestamp" : "1970-01-01T00:00:00.000Z",
    "language_info" : {
      "name" : "scala",
      "file_extension" : "scala",
      "codemirror_mode" : "text/x-scala"
    },
    "trusted" : true,
    "sparkNotebook" : null,
    "customLocalRepo" : "/root/.coursier/cache/v1/",
    "customRepos" : [
      "comp-bio-aging % default % https://dl.bintray.com/comp-bio-aging/main/",
      "denigma % default % https://dl.bintray.com/denigma/denigma-releases/",
      "snapshots % default % https://oss.sonatype.org/content/repositories/snapshots/"
    ],
    "customDeps" : [
      "org.bdgenomics.adam %% adam-core-spark2 % 0.23.0",
      "comp.bio.aging %% adam-playground % 0.0.8",
      "com.crealytics %% spark-excel % 0.9.9",
      "org.typelevel %% frameless-cats    % 0.4.0",
      "org.typelevel %% frameless-dataset   % 0.4.0",
      "com.github.pathikrit  %% better-files  % 3.4.0"
    ],
    "customImports" : null,
    "customArgs" : null,
    "customSparkConf" : {
      "spark.kryoserializer.buffer" : "4mb",
      "spark.master" : "spark://spark-master:7077",
      "spark.dynamicAllocation.enabled" : "false",
      "spark.executor.memory" : "20G",
      "spark.executor.cores" : "2",
      "spark.shuffle.service.enabled" : "false"
    },
    "customVars" : null
  },
  "cells" : [
    {
      "metadata" : {
        "id" : "262118DF075142388318F11525BD898E"
      },
      "cell_type" : "markdown",
      "source" : "Spark-notebook to work with CRISPR screening data\n--------------------------------------------------------"
    },
    {
      "metadata" : {
        "trusted" : true,
        "input_collapsed" : false,
        "collapsed" : false,
        "id" : "893C4BA183274256BCD480A8FA48F033"
      },
      "cell_type" : "code",
      "source" : [
        "import org.apache.spark.sql.{DataFrame, Encoders, SparkSession}\n",
        "import org.apache.spark.sql.types.StructType\n",
        "import org.bdgenomics.adam.rdd.ADAMContext._\n",
        "import scala.reflect.runtime.universe._"
      ],
      "outputs" : [
        {
          "name" : "stdout",
          "output_type" : "stream",
          "text" : "import org.apache.spark.sql.{DataFrame, Encoders, SparkSession}\nimport org.apache.spark.sql.types.StructType\nimport org.bdgenomics.adam.rdd.ADAMContext._\nimport scala.reflect.runtime.universe._\n"
        },
        {
          "metadata" : { },
          "data" : {
            "text/html" : ""
          },
          "output_type" : "execute_result",
          "execution_count" : 1,
          "time" : "Took: 2.028s, at 2018-01-17 15:23"
        }
      ]
    },
    {
      "metadata" : {
        "trusted" : true,
        "input_collapsed" : false,
        "collapsed" : false,
        "id" : "2B5B2F422EDC4618AEED7CDB81C82EBE"
      },
      "cell_type" : "code",
      "source" : [
        "val spark = SparkSession\n",
        "  .builder()\n",
        "  .appName(\"annotations\")\n",
        "  .getOrCreate()\n",
        "\n",
        "def readTSV(path: String, header: Boolean): DataFrame = spark.read.option(\"sep\", \"\\t\").option(\"header\", header).csv(path)\n",
        "def readTyped[T <: Product](path: String, header: Boolean, delimiter: String = \"\\t\")(implicit tag: TypeTag[T]) = {\n",
        "  var encoder: StructType = Encoders.product[T].schema\n",
        "  spark.read.option(\"sep\", delimiter)\n",
        "   .option(\"header\", header)\n",
        "   .schema(encoder)\n",
        "   .csv(path).as[T]\n",
        "}"
      ],
      "outputs" : [
        {
          "name" : "stdout",
          "output_type" : "stream",
          "text" : "spark: org.apache.spark.sql.SparkSession = org.apache.spark.sql.SparkSession@a7e9b68\nreadTSV: (path: String, header: Boolean)org.apache.spark.sql.DataFrame\nreadTyped: [T <: Product](path: String, header: Boolean, delimiter: String)(implicit tag: reflect.runtime.universe.TypeTag[T])org.apache.spark.sql.Dataset[T]\n"
        },
        {
          "metadata" : { },
          "data" : {
            "text/html" : ""
          },
          "output_type" : "execute_result",
          "execution_count" : 39,
          "time" : "Took: 0.723s, at 2018-01-17 20:21"
        }
      ]
    },
    {
      "metadata" : {
        "id" : "9B8ECDB3BF1048BF8562C6FE161D0230"
      },
      "cell_type" : "markdown",
      "source" : "Field descriptions\n---------------------\n\nField\tType\tDescription\n\nName\tString\tName of the sgRNA as provided by authors\n\nchr\tString\tChromosome name\n\nstart\tNumber\tStart position of sgRNA on the genome\n\nend\tNumber\tEnd position of sgRNA on the genome\n\nstrand\tString\tOne of '+' (forward) or '-' (reverse strand)\n\npubmed\tString\tPubMed ID of related article\n\nscore\tNumber\tScore of the sgRNA target gene provided by authors (NA if not provided)\n\ncellline\tString\tCell line used for the experiment\n\nscreentype\tString\tType of screen (positive selection, negative selection)\n\ncondition\tString\tExperiment condition (e.g. 'viability')\n\nhit\tString\tOne of 'true'/'false'\n\ngenetargets\tString\t${ENSEMBL_ID}::${GENE_SYMBOL}\n\nlog2fc\tNumber\tLog2 fold change calculated from normalized read counts\n\nscoredist\tArray\tA number of x/y coordinate pairs roughly representing roughly the experiment score distribution\n\neffect\tNumber\tEffect size of sgRNA. Domain: [-9, 9]\n\nrc_initial\tArray\tArray of 'initial' read counts (before dropout/without treatment. One element per replicate\n\nrc_final\tArray\tArray of 'final' read counts (after dropout/treament)\n"
    },
    {
      "metadata" : {
        "trusted" : true,
        "input_collapsed" : false,
        "collapsed" : false,
        "id" : "564F6A09A6F64BB5824EA802BB9948D0"
      },
      "cell_type" : "code",
      "source" : [
        "case class Screening(\n",
        "                   start: String,\n",
        "                   end: String,\n",
        "                   chr: String,\n",
        "                   strand: String,\n",
        "                   pubmed: String,\n",
        "                   cellline: String,\n",
        "                   condition: String,\n",
        "                   sequence: String,\n",
        "                   symbol: String,\n",
        "                   ensg: String,\n",
        "                   log2fc: String,\n",
        "                   rc_initial: String,\n",
        "                   rc_final: String,\n",
        "                   effect: String,\n",
        "                   cas: String,\n",
        "                   screentype: String\n",
        "                 )"
      ],
      "outputs" : [
        {
          "name" : "stdout",
          "output_type" : "stream",
          "text" : "defined class Screening\n"
        },
        {
          "metadata" : { },
          "data" : {
            "text/html" : ""
          },
          "output_type" : "execute_result",
          "execution_count" : 14,
          "time" : "Took: 0.665s, at 2018-01-17 20:03"
        }
      ]
    },
    {
      "metadata" : {
        "trusted" : true,
        "input_collapsed" : false,
        "collapsed" : false,
        "id" : "88F4B704D1C742428DE90C7D3A70A2B9"
      },
      "cell_type" : "code",
      "source" : [
        "val path = \"file:///pipelines/indexes/crispr/GenomeCRISPR_full05112017.csv\"\n",
        "val c = readTyped[Screening](path, true, \",\")"
      ],
      "outputs" : [
        {
          "name" : "stdout",
          "output_type" : "stream",
          "text" : "path: String = file:///pipelines/indexes/crispr/GenomeCRISPR_full05112017.csv\nc: org.apache.spark.sql.Dataset[Screening] = [start: string, end: string ... 14 more fields]\n"
        },
        {
          "metadata" : { },
          "data" : {
            "text/html" : ""
          },
          "output_type" : "execute_result",
          "execution_count" : 40,
          "time" : "Took: 0.866s, at 2018-01-17 20:21"
        }
      ]
    },
    {
      "metadata" : {
        "trusted" : true,
        "input_collapsed" : false,
        "collapsed" : false,
        "presentation" : {
          "tabs_state" : "{\n  \"tab_id\": \"#tab736458459-0\"\n}",
          "pivot_chart_state" : "{\n  \"hiddenAttributes\": [],\n  \"menuLimit\": 200,\n  \"cols\": [],\n  \"rows\": [],\n  \"vals\": [],\n  \"exclusions\": {},\n  \"inclusions\": {},\n  \"unusedAttrsVertical\": 85,\n  \"autoSortUnusedAttrs\": false,\n  \"inclusionsInfo\": {},\n  \"aggregatorName\": \"Count\",\n  \"rendererName\": \"Table\"\n}"
        },
        "id" : "17E27805A3294896AF556FBD906C645B"
      },
      "cell_type" : "code",
      "source" : [
        "val byType = c.rdd.map(c=>c.screentype -> c)"
      ],
      "outputs" : [
        {
          "name" : "stdout",
          "output_type" : "stream",
          "text" : "byType: org.apache.spark.rdd.RDD[(String, Screening)] = MapPartitionsRDD[74] at map at <console>:84\n"
        },
        {
          "metadata" : { },
          "data" : {
            "text/html" : ""
          },
          "output_type" : "execute_result",
          "execution_count" : 42,
          "time" : "Took: 0.777s, at 2018-01-17 20:22"
        }
      ]
    },
    {
      "metadata" : {
        "trusted" : true,
        "input_collapsed" : false,
        "collapsed" : false,
        "id" : "D8919DE18C0242DF85B7052A023C8CFF"
      },
      "cell_type" : "code",
      "source" : [
        "byType.countByKey"
      ],
      "outputs" : [
        {
          "name" : "stdout",
          "output_type" : "stream",
          "text" : "res72: scala.collection.Map[String,Long] = Map(null -> 489, negative selection -> 37089438, positive selection -> 1383773)\n"
        },
        {
          "metadata" : { },
          "data" : {
            "text/html" : "Map(null -&gt; 489, negative selection -&gt; 37089438, positive selection -&gt; 1383773)"
          },
          "output_type" : "execute_result",
          "execution_count" : 43,
          "time" : "Took: 1m56.081s, at 2018-01-17 20:24"
        }
      ]
    },
    {
      "metadata" : {
        "trusted" : true,
        "input_collapsed" : false,
        "collapsed" : false,
        "presentation" : {
          "tabs_state" : "{\n  \"tab_id\": \"#tab1669784382-0\"\n}",
          "pivot_chart_state" : "{\n  \"hiddenAttributes\": [],\n  \"menuLimit\": 200,\n  \"cols\": [],\n  \"rows\": [],\n  \"vals\": [],\n  \"exclusions\": {},\n  \"inclusions\": {},\n  \"unusedAttrsVertical\": 85,\n  \"autoSortUnusedAttrs\": false,\n  \"inclusionsInfo\": {},\n  \"aggregatorName\": \"Count\",\n  \"rendererName\": \"Table\"\n}"
        },
        "id" : "71D745D7B995432C84F321D4C4DE4BD2"
      },
      "cell_type" : "code",
      "source" : [
        "val byCondition = c.rdd.map(c=>c.condition -> c)"
      ],
      "outputs" : [
        {
          "name" : "stdout",
          "output_type" : "stream",
          "text" : "byCondition: org.apache.spark.rdd.RDD[(String, Screening)] = MapPartitionsRDD[80] at map at <console>:84\n"
        },
        {
          "metadata" : { },
          "data" : {
            "text/html" : ""
          },
          "output_type" : "execute_result",
          "execution_count" : 45,
          "time" : "Took: 0.795s, at 2018-01-17 20:28"
        }
      ]
    },
    {
      "metadata" : {
        "trusted" : true,
        "input_collapsed" : false,
        "collapsed" : false,
        "id" : "2D7ECFF5B0BC472B86B55A39EB118AFA"
      },
      "cell_type" : "code",
      "source" : [
        "byCondition.countByKey"
      ],
      "outputs" : [
        {
          "name" : "stdout",
          "output_type" : "stream",
          "text" : "res77: scala.collection.Map[String,Long] = Map(null -> 489, viability after 27 days -> 82449, viability after 6 days -> 82315, viability after 21 days -> 82315, resistance to PLX after 14 days -> 57793, viability after 19 days -> 83463, viability; Vemurafenib treatment -> 97790, viability after 5 days -> 82315, viability after 9 days -> 164630, viability after 18 days -> 246945, viability after 13 days -> 165778, essential genes for PA/LFnDTA toxicity -> 1459, resistance to vemurafenib (GeCKOv1 lentiCRISPRv1) -> 64022, viability (GeCKOv2 library) -> 107966, resistance to vemurafenib (GeCKOv1 lentiGuide) -> 64022, viability after 15 days -> 329394, viability after 8 days -> 82315, viability; Trametinib treatment -> 292292, resistance to PLX-4720 (puromycin) -> 95255, resistance to vemura..."
        },
        {
          "metadata" : { },
          "data" : {
            "text/html" : "Map(null -&gt; 489, viability after 27 days -&gt; 82449, viability after 6 days -&gt; 82315, viability after 21 days -&gt; 82315, resistance to PLX after 14 days -&gt; 57793, viability after 19 days -&gt; 83463, viability; Vemurafenib treatment -&gt; 97790, viability after 5 days -&gt; 82315, viability after 9 days -&gt; 164630, viability after 18 days -&gt; 246945, viability after 13 days -&gt; 165778, essential genes for PA/LFnDTA toxicity -&gt; 1459, resistance to vemurafenib (GeCKOv1 lentiCRISPRv1) -&gt; 64022, viability (GeCKOv2 library) -&gt; 107966, resistance to vemurafenib (GeCKOv1 lentiGuide) -&gt; 64022, viability after 15 days -&gt; 329394, viability after 8 days -&gt; 82315, viability; Trametinib treatment -&gt; 292292, resistance to PLX-4720 (puromycin) -&gt; 95255, resistance to vemurafenib (Avana lentiGuide) -&gt; 108607, viability (Avana lentiGuide) -&gt; 108659, viability after 12 days -&gt; 246945, resistance to PLX-4720 (zeocin) -&gt; 95255, resistance to vemurafenib (GeCKOv2 lentiGuide) -&gt; 121251, viability (Avana library 4 designs) -&gt; 71284, viability after 31 days -&gt; 164898, viability after 22 days -&gt; 83463, viability (Avana lentiCRISPRv2) -&gt; 108659, viability after 25 days -&gt; 83463, resistance to T3SS1-dependent cytotoxicity -&gt; 67858, resistance to West Nile virus (flavivirus) -&gt; 69046, essential genes for diphteria toxin toxicity -&gt; 1088, viability after 14 days -&gt; 57793, viability after 7 days -&gt; 141256, viability; focused library -&gt; 262844, viability after 36 days -&gt; 82449, viability -&gt; 33836016, viability after 10 days -&gt; 83463, resistance to PLX after 7 days -&gt; 57793, treatment with recombinant TRAIL -&gt; 13777, resistance to vemurafenib (Avana lentiCRISPRv2) -&gt; 108607, viability after 35 days -&gt; 164898, viability after 16 days -&gt; 83463, resistance to T3SS2-dependent cytotoxicity -&gt; 67858)"
          },
          "output_type" : "execute_result",
          "execution_count" : 46,
          "time" : "Took: 1m57.181s, at 2018-01-17 20:30"
        }
      ]
    },
    {
      "metadata" : {
        "trusted" : true,
        "input_collapsed" : false,
        "collapsed" : false,
        "presentation" : {
          "tabs_state" : "{\n  \"tab_id\": \"#tab1915135037-0\"\n}",
          "pivot_chart_state" : "{\n  \"hiddenAttributes\": [],\n  \"menuLimit\": 200,\n  \"cols\": [],\n  \"rows\": [],\n  \"vals\": [],\n  \"exclusions\": {},\n  \"inclusions\": {},\n  \"unusedAttrsVertical\": 85,\n  \"autoSortUnusedAttrs\": false,\n  \"inclusionsInfo\": {},\n  \"aggregatorName\": \"Count\",\n  \"rendererName\": \"Table\"\n}"
        },
        "id" : "3C90246728624D43856AA6A3F1B68C15"
      },
      "cell_type" : "code",
      "source" : [
        "c.take(20)"
      ],
      "outputs" : [
        {
          "name" : "stdout",
          "output_type" : "stream",
          "text" : "res83: Array[Screening] = Array(Screening(50844073,50844096,10,+,26472758,Jiyoye,viability,GCAGCATCCCAACCAGGTGGAGG,A1CF,ENSG00000148584,0.31590732393855947,[260],[244],2,hSpCas9,negative selection), Screening(50814011,50814034,10,-,26472758,Jiyoye,viability,GCGGGAGTGAGAGGACTGGGCGG,A1CF,ENSG00000148584,2.1441409756720797,[17],[59],9,hSpCas9,negative selection), Screening(50836111,50836134,10,+,26472758,Jiyoye,viability,ATGACTCTCATACTCCACGAAGG,A1CF,ENSG00000148584,1.4260344087571892,[75],[153],8,hSpCas9,negative selection), Screening(50836095,50836118,10,-,26472758,Jiyoye,viability,GAGTCATCGAGCAGCTGCCATGG,A1CF,ENSG00000148584,1.5501333353479165,[47],[105],8,hSpCas9,negative selection), Screening(50816234,50816257,10,-,26472758,Jiyoye,viability,AGTCACCCTAGCAAAACCAGTGG,A1CF,ENSG00000148584,..."
        },
        {
          "metadata" : { },
          "data" : {
            "text/html" : "<div>\n      <script data-this=\"{&quot;dataId&quot;:&quot;anon325cbc97681f779f0b397946eb5dcfec&quot;,&quot;dataInit&quot;:[],&quot;genId&quot;:&quot;1915135037&quot;}\" type=\"text/x-scoped-javascript\">/*<![CDATA[*/req(['../javascripts/notebook/playground','../javascripts/notebook/magic/tabs'], \n      function(playground, _magictabs) {\n        // data ==> data-this (in observable.js's scopedEval) ==> this in JS => { dataId, dataInit, ... }\n        // this ==> scope (in observable.js's scopedEval) ==> this.parentElement ==> div.container below (toHtml)\n\n        playground.call(data,\n                        this\n                        ,\n                        {\n    \"f\": _magictabs,\n    \"o\": {}\n  }\n  \n                        \n                        \n                      );\n      }\n    );/*]]>*/</script>\n    <div>\n      <div>\n        <ul class=\"nav nav-tabs\" id=\"ul1915135037\"><li>\n              <a href=\"#tab1915135037-0\"><i class=\"fa fa-table\"/></a>\n            </li><li>\n              <a href=\"#tab1915135037-1\"><i class=\"fa fa-cubes\"/></a>\n            </li></ul>\n\n        <div class=\"tab-content\" id=\"tab1915135037\"><div class=\"tab-pane\" id=\"tab1915135037-0\">\n            <div>\n      <script data-this=\"{&quot;dataId&quot;:&quot;anon618d28edd2439c97a1c71ca8b1cba5b9&quot;,&quot;dataInit&quot;:[{&quot;screentype&quot;:&quot;negative selection&quot;,&quot;ensg&quot;:&quot;ENSG00000148584&quot;,&quot;cellline&quot;:&quot;Jiyoye&quot;,&quot;effect&quot;:&quot;2&quot;,&quot;cas&quot;:&quot;hSpCas9&quot;,&quot;pubmed&quot;:&quot;26472758&quot;,&quot;symbol&quot;:&quot;A1CF&quot;,&quot;condition&quot;:&quot;viability&quot;,&quot;sequence&quot;:&quot;GCAGCATCCCAACCAGGTGGAGG&quot;,&quot;chr&quot;:&quot;10&quot;,&quot;rc_final&quot;:&quot;[244]&quot;,&quot;end&quot;:&quot;50844096&quot;,&quot;log2fc&quot;:&quot;0.31590732393855947&quot;,&quot;strand&quot;:&quot;+&quot;,&quot;start&quot;:&quot;50844073&quot;,&quot;rc_initial&quot;:&quot;[260]&quot;},{&quot;screentype&quot;:&quot;negative selection&quot;,&quot;ensg&quot;:&quot;ENSG00000148584&quot;,&quot;cellline&quot;:&quot;Jiyoye&quot;,&quot;effect&quot;:&quot;9&quot;,&quot;cas&quot;:&quot;hSpCas9&quot;,&quot;pubmed&quot;:&quot;26472758&quot;,&quot;symbol&quot;:&quot;A1CF&quot;,&quot;condition&quot;:&quot;viability&quot;,&quot;sequence&quot;:&quot;GCGGGAGTGAGAGGACTGGGCGG&quot;,&quot;chr&quot;:&quot;10&quot;,&quot;rc_final&quot;:&quot;[59]&quot;,&quot;end&quot;:&quot;50814034&quot;,&quot;log2fc&quot;:&quot;2.1441409756720797&quot;,&quot;strand&quot;:&quot;-&quot;,&quot;start&quot;:&quot;50814011&quot;,&quot;rc_initial&quot;:&quot;[17]&quot;},{&quot;screentype&quot;:&quot;negative selection&quot;,&quot;ensg&quot;:&quot;ENSG00000148584&quot;,&quot;cellline&quot;:&quot;Jiyoye&quot;,&quot;effect&quot;:&quot;8&quot;,&quot;cas&quot;:&quot;hSpCas9&quot;,&quot;pubmed&quot;:&quot;26472758&quot;,&quot;symbol&quot;:&quot;A1CF&quot;,&quot;condition&quot;:&quot;viability&quot;,&quot;sequence&quot;:&quot;ATGACTCTCATACTCCACGAAGG&quot;,&quot;chr&quot;:&quot;10&quot;,&quot;rc_final&quot;:&quot;[153]&quot;,&quot;end&quot;:&quot;50836134&quot;,&quot;log2fc&quot;:&quot;1.4260344087571892&quot;,&quot;strand&quot;:&quot;+&quot;,&quot;start&quot;:&quot;50836111&quot;,&quot;rc_initial&quot;:&quot;[75]&quot;},{&quot;screentype&quot;:&quot;negative selection&quot;,&quot;ensg&quot;:&quot;ENSG00000148584&quot;,&quot;cellline&quot;:&quot;Jiyoye&quot;,&quot;effect&quot;:&quot;8&quot;,&quot;cas&quot;:&quot;hSpCas9&quot;,&quot;pubmed&quot;:&quot;26472758&quot;,&quot;symbol&quot;:&quot;A1CF&quot;,&quot;condition&quot;:&quot;viability&quot;,&quot;sequence&quot;:&quot;GAGTCATCGAGCAGCTGCCATGG&quot;,&quot;chr&quot;:&quot;10&quot;,&quot;rc_final&quot;:&quot;[105]&quot;,&quot;end&quot;:&quot;50836118&quot;,&quot;log2fc&quot;:&quot;1.5501333353479165&quot;,&quot;strand&quot;:&quot;-&quot;,&quot;start&quot;:&quot;50836095&quot;,&quot;rc_initial&quot;:&quot;[47]&quot;},{&quot;screentype&quot;:&quot;negative selection&quot;,&quot;ensg&quot;:&quot;ENSG00000148584&quot;,&quot;cellline&quot;:&quot;Jiyoye&quot;,&quot;effect&quot;:&quot;3&quot;,&quot;cas&quot;:&quot;hSpCas9&quot;,&quot;pubmed&quot;:&quot;26472758&quot;,&quot;symbol&quot;:&quot;A1CF&quot;,&quot;condition&quot;:&quot;viability&quot;,&quot;sequence&quot;:&quot;AGTCACCCTAGCAAAACCAGTGG&quot;,&quot;chr&quot;:&quot;10&quot;,&quot;rc_final&quot;:&quot;[57]&quot;,&quot;end&quot;:&quot;50816257&quot;,&quot;log2fc&quot;:&quot;0.38251332727160436&quot;,&quot;strand&quot;:&quot;-&quot;,&quot;start&quot;:&quot;50816234&quot;,&quot;rc_initial&quot;:&quot;[58]&quot;},{&quot;screentype&quot;:&quot;negative selection&quot;,&quot;ensg&quot;:&quot;ENSG00000148584&quot;,&quot;cellline&quot;:&quot;Jiyoye&quot;,&quot;effect&quot;:&quot;6&quot;,&quot;cas&quot;:&quot;hSpCas9&quot;,&quot;pubmed&quot;:&quot;26472758&quot;,&quot;symbol&quot;:&quot;A1CF&quot;,&quot;condition&quot;:&quot;viability&quot;,&quot;sequence&quot;:&quot;GATCCCACCACAACCTACCTTGG&quot;,&quot;chr&quot;:&quot;10&quot;,&quot;rc_final&quot;:&quot;[538]&quot;,&quot;end&quot;:&quot;50816142&quot;,&quot;log2fc&quot;:&quot;0.9934768104353275&quot;,&quot;strand&quot;:&quot;-&quot;,&quot;start&quot;:&quot;50816119&quot;,&quot;rc_initial&quot;:&quot;[358]&quot;},{&quot;screentype&quot;:&quot;negative selection&quot;,&quot;ensg&quot;:&quot;ENSG00000148584&quot;,&quot;cellline&quot;:&quot;Jiyoye&quot;,&quot;effect&quot;:&quot;3&quot;,&quot;cas&quot;:&quot;hSpCas9&quot;,&quot;pubmed&quot;:&quot;26472758&quot;,&quot;symbol&quot;:&quot;A1CF&quot;,&quot;condition&quot;:&quot;viability&quot;,&quot;sequence&quot;:&quot;GGTGTTACCTCTAACAGAAGGGG&quot;,&quot;chr&quot;:&quot;10&quot;,&quot;rc_final&quot;:&quot;[0]&quot;,&quot;end&quot;:&quot;50816021&quot;,&quot;log2fc&quot;:&quot;0.40717538150587274&quot;,&quot;strand&quot;:&quot;+&quot;,&quot;start&quot;:&quot;50815998&quot;,&quot;rc_initial&quot;:&quot;[0]&quot;},{&quot;screentype&quot;:&quot;negative selection&quot;,&quot;ensg&quot;:&quot;ENSG00000148584&quot;,&quot;cellline&quot;:&quot;Jiyoye&quot;,&quot;effect&quot;:&quot;9&quot;,&quot;cas&quot;:&quot;hSpCas9&quot;,&quot;pubmed&quot;:&quot;26472758&quot;,&quot;symbol&quot;:&quot;A1CF&quot;,&quot;condition&quot;:&quot;viability&quot;,&quot;sequence&quot;:&quot;GCTTTGGAGGTGTGAAAGGGTGG&quot;,&quot;chr&quot;:&quot;10&quot;,&quot;rc_final&quot;:&quot;[11]&quot;,&quot;end&quot;:&quot;50810043&quot;,&quot;log2fc&quot;:&quot;2.9921378822270293&quot;,&quot;strand&quot;:&quot;+&quot;,&quot;start&quot;:&quot;50810020&quot;,&quot;rc_initial&quot;:&quot;[1]&quot;},{&quot;screentype&quot;:&quot;negative selection&quot;,&quot;ensg&quot;:&quot;ENSG00000148584&quot;,&quot;cellline&quot;:&quot;Jiyoye&quot;,&quot;effect&quot;:&quot;3&quot;,&quot;cas&quot;:&quot;hSpCas9&quot;,&quot;pubmed&quot;:&quot;26472758&quot;,&quot;symbol&quot;:&quot;A1CF&quot;,&quot;condition&quot;:&quot;viability&quot;,&quot;sequence&quot;:&quot;GGAGCGAGTTTAATTCCTTGGGG&quot;,&quot;chr&quot;:&quot;10&quot;,&quot;rc_final&quot;:&quot;[120]&quot;,&quot;end&quot;:&quot;50813884&quot;,&quot;log2fc&quot;:&quot;0.43122085547252453&quot;,&quot;strand&quot;:&quot;+&quot;,&quot;start&quot;:&quot;50813861&quot;,&quot;rc_initial&quot;:&quot;[118]&quot;},{&quot;screentype&quot;:&quot;negative selection&quot;,&quot;ensg&quot;:&quot;ENSG00000148584&quot;,&quot;cellline&quot;:&quot;Jiyoye&quot;,&quot;effect&quot;:&quot;-6&quot;,&quot;cas&quot;:&quot;hSpCas9&quot;,&quot;pubmed&quot;:&quot;26472758&quot;,&quot;symbol&quot;:&quot;A1CF&quot;,&quot;condition&quot;:&quot;viability&quot;,&quot;sequence&quot;:&quot;ATAAACTTGGCCCAAAGAGTAGG&quot;,&quot;chr&quot;:&quot;10&quot;,&quot;rc_final&quot;:&quot;[12]&quot;,&quot;end&quot;:&quot;50816165&quot;,&quot;log2fc&quot;:&quot;-1.1018382659819843&quot;,&quot;strand&quot;:&quot;+&quot;,&quot;start&quot;:&quot;50816142&quot;,&quot;rc_initial&quot;:&quot;[36]&quot;},{&quot;screentype&quot;:&quot;negative selection&quot;,&quot;ensg&quot;:&quot;ENSG00000175899&quot;,&quot;cellline&quot;:&quot;Jiyoye&quot;,&quot;effect&quot;:&quot;9&quot;,&quot;cas&quot;:&quot;hSpCas9&quot;,&quot;pubmed&quot;:&quot;26472758&quot;,&quot;symbol&quot;:&quot;A2M&quot;,&quot;condition&quot;:&quot;viability&quot;,&quot;sequence&quot;:&quot;GGTGTCAGAAGAACACGAAGAGG&quot;,&quot;chr&quot;:&quot;12&quot;,&quot;rc_final&quot;:&quot;[63]&quot;,&quot;end&quot;:&quot;9101634&quot;,&quot;log2fc&quot;:&quot;6.407175381505873&quot;,&quot;strand&quot;:&quot;-&quot;,&quot;start&quot;:&quot;9101611&quot;,&quot;rc_initial&quot;:&quot;[0]&quot;},{&quot;screentype&quot;:&quot;negative selection&quot;,&quot;ensg&quot;:&quot;ENSG00000175899&quot;,&quot;cellline&quot;:&quot;Jiyoye&quot;,&quot;effect&quot;:&quot;-4&quot;,&quot;cas&quot;:&quot;hSpCas9&quot;,&quot;pubmed&quot;:&quot;26472758&quot;,&quot;symbol&quot;:&quot;A2M&quot;,&quot;condition&quot;:&quot;viability&quot;,&quot;sequence&quot;:&quot;CCAGCCAGCCCCAACCTCGGAGG&quot;,&quot;chr&quot;:&quot;12&quot;,&quot;rc_final&quot;:&quot;[77]&quot;,&quot;end&quot;:&quot;9074660&quot;,&quot;log2fc&quot;:&quot;-0.5070947444682425&quot;,&quot;strand&quot;:&quot;-&quot;,&quot;start&quot;:&quot;9074637&quot;,&quot;rc_initial&quot;:&quot;[146]&quot;},{&quot;screentype&quot;:&quot;negative selection&quot;,&quot;ensg&quot;:&quot;ENSG00000175899&quot;,&quot;cellline&quot;:&quot;Jiyoye&quot;,&quot;effect&quot;:&quot;-8&quot;,&quot;cas&quot;:&quot;hSpCas9&quot;,&quot;pubmed&quot;:&quot;26472758&quot;,&quot;symbol&quot;:&quot;A2M&quot;,&quot;condition&quot;:&quot;viability&quot;,&quot;sequence&quot;:&quot;GAGGCTGGGAGACTTTGTGATGG&quot;,&quot;chr&quot;:&quot;12&quot;,&quot;rc_final&quot;:&quot;[53]&quot;,&quot;end&quot;:&quot;9098739&quot;,&quot;log2fc&quot;:&quot;-1.8152170398305745&quot;,&quot;strand&quot;:&quot;+&quot;,&quot;start&quot;:&quot;9098716&quot;,&quot;rc_initial&quot;:&quot;[251]&quot;},{&quot;screentype&quot;:&quot;negative selection&quot;,&quot;ensg&quot;:&quot;ENSG00000175899&quot;,&quot;cellline&quot;:&quot;Jiyoye&quot;,&quot;effect&quot;:&quot;5&quot;,&quot;cas&quot;:&quot;hSpCas9&quot;,&quot;pubmed&quot;:&quot;26472758&quot;,&quot;symbol&quot;:&quot;A2M&quot;,&quot;condition&quot;:&quot;viability&quot;,&quot;sequence&quot;:&quot;GGAGCGCCCTCAGAAACCCAAGG&quot;,&quot;chr&quot;:&quot;12&quot;,&quot;rc_final&quot;:&quot;[132]&quot;,&quot;end&quot;:&quot;9074768&quot;,&quot;log2fc&quot;:&quot;0.7620180988659708&quot;,&quot;strand&quot;:&quot;-&quot;,&quot;start&quot;:&quot;9074745&quot;,&quot;rc_initial&quot;:&quot;[103]&quot;},{&quot;screentype&quot;:&quot;negative selection&quot;,&quot;ensg&quot;:&quot;ENSG00000175899&quot;,&quot;cellline&quot;:&quot;Jiyoye&quot;,&quot;effect&quot;:&quot;0&quot;,&quot;cas&quot;:&quot;hSpCas9&quot;,&quot;pubmed&quot;:&quot;26472758&quot;,&quot;symbol&quot;:&quot;A2M&quot;,&quot;condition&quot;:&quot;viability&quot;,&quot;sequence&quot;:&quot;TAAGAAGCGGACCACAGTGATGG&quot;,&quot;chr&quot;:&quot;12&quot;,&quot;rc_final&quot;:&quot;[505]&quot;,&quot;end&quot;:&quot;9112466&quot;,&quot;log2fc&quot;:&quot;-0.09566035250172122&quot;,&quot;strand&quot;:&quot;-&quot;,&quot;start&quot;:&quot;9112443&quot;,&quot;rc_initial&quot;:&quot;[716]&quot;},{&quot;screentype&quot;:&quot;negative selection&quot;,&quot;ensg&quot;:&quot;ENSG00000175899&quot;,&quot;cellline&quot;:&quot;Jiyoye&quot;,&quot;effect&quot;:&quot;7&quot;,&quot;cas&quot;:&quot;hSpCas9&quot;,&quot;pubmed&quot;:&quot;26472758&quot;,&quot;symbol&quot;:&quot;A2M&quot;,&quot;condition&quot;:&quot;viability&quot;,&quot;sequence&quot;:&quot;AAACTCACCAACTCATTCAGGGG&quot;,&quot;chr&quot;:&quot;12&quot;,&quot;rc_final&quot;:&quot;[79]&quot;,&quot;end&quot;:&quot;9112174&quot;,&quot;log2fc&quot;:&quot;1.1143936322780275&quot;,&quot;strand&quot;:&quot;+&quot;,&quot;start&quot;:&quot;9112151&quot;,&quot;rc_initial&quot;:&quot;[48]&quot;},{&quot;screentype&quot;:&quot;negative selection&quot;,&quot;ensg&quot;:&quot;ENSG00000175899&quot;,&quot;cellline&quot;:&quot;Jiyoye&quot;,&quot;effect&quot;:&quot;7&quot;,&quot;cas&quot;:&quot;hSpCas9&quot;,&quot;pubmed&quot;:&quot;26472758&quot;,&quot;symbol&quot;:&quot;A2M&quot;,&quot;condition&quot;:&quot;viability&quot;,&quot;sequence&quot;:&quot;AAGCCTGTGAATCTTCACCGTGG&quot;,&quot;chr&quot;:&quot;12&quot;,&quot;rc_final&quot;:&quot;[113]&quot;,&quot;end&quot;:&quot;9107570&quot;,&quot;log2fc&quot;:&quot;1.2858690852837398&quot;,&quot;strand&quot;:&quot;+&quot;,&quot;start&quot;:&quot;9107547&quot;,&quot;rc_initial&quot;:&quot;[61]&quot;},{&quot;screentype&quot;:&quot;negative selection&quot;,&quot;ensg&quot;:&quot;ENSG00000175899&quot;,&quot;cellline&quot;:&quot;Jiyoye&quot;,&quot;effect&quot;:&quot;8&quot;,&quot;cas&quot;:&quot;hSpCas9&quot;,&quot;pubmed&quot;:&quot;26472758&quot;,&quot;symbol&quot;:&quot;A2M&quot;,&quot;condition&quot;:&quot;viability&quot;,&quot;sequence&quot;:&quot;CATGAGACATGGGCTCAAGGTGG&quot;,&quot;chr&quot;:&quot;12&quot;,&quot;rc_final&quot;:&quot;[107]&quot;,&quot;end&quot;:&quot;9101565&quot;,&quot;log2fc&quot;:&quot;1.9526095180403924&quot;,&quot;strand&quot;:&quot;+&quot;,&quot;start&quot;:&quot;9101542&quot;,&quot;rc_initial&quot;:&quot;[36]&quot;},{&quot;screentype&quot;:&quot;negative selection&quot;,&quot;ensg&quot;:&quot;ENSG00000175899&quot;,&quot;cellline&quot;:&quot;Jiyoye&quot;,&quot;effect&quot;:&quot;-5&quot;,&quot;cas&quot;:&quot;hSpCas9&quot;,&quot;pubmed&quot;:&quot;26472758&quot;,&quot;symbol&quot;:&quot;A2M&quot;,&quot;condition&quot;:&quot;viability&quot;,&quot;sequence&quot;:&quot;GAGCCGCTGTGACTCGCAGGTGG&quot;,&quot;chr&quot;:&quot;12&quot;,&quot;rc_final&quot;:&quot;[55]&quot;,&quot;end&quot;:&quot;9098710&quot;,&quot;log2fc&quot;:&quot;-0.8188926979739726&quot;,&quot;strand&quot;:&quot;+&quot;,&quot;start&quot;:&quot;9098687&quot;,&quot;rc_initial&quot;:&quot;[130]&quot;},{&quot;screentype&quot;:&quot;negative selection&quot;,&quot;ensg&quot;:&quot;ENSG00000175899&quot;,&quot;cellline&quot;:&quot;Jiyoye&quot;,&quot;effect&quot;:&quot;2&quot;,&quot;cas&quot;:&quot;hSpCas9&quot;,&quot;pubmed&quot;:&quot;26472758&quot;,&quot;symbol&quot;:&quot;A2M&quot;,&quot;condition&quot;:&quot;viability&quot;,&quot;sequence&quot;:&quot;ACTGCATCTGTGCAAACGGGCGG&quot;,&quot;chr&quot;:&quot;12&quot;,&quot;rc_final&quot;:&quot;[98]&quot;,&quot;end&quot;:&quot;9090416&quot;,&quot;log2fc&quot;:&quot;0.36410665961398725&quot;,&quot;strand&quot;:&quot;-&quot;,&quot;start&quot;:&quot;9090393&quot;,&quot;rc_initial&quot;:&quot;[101]&quot;}],&quot;genId&quot;:&quot;2070734303&quot;}\" type=\"text/x-scoped-javascript\">/*<![CDATA[*/req(['../javascripts/notebook/playground','../javascripts/notebook/magic/tableChart'], \n      function(playground, _magictableChart) {\n        // data ==> data-this (in observable.js's scopedEval) ==> this in JS => { dataId, dataInit, ... }\n        // this ==> scope (in observable.js's scopedEval) ==> this.parentElement ==> div.container below (toHtml)\n\n        playground.call(data,\n                        this\n                        ,\n                        {\n    \"f\": _magictableChart,\n    \"o\": {\"headers\":[\"start\",\"end\",\"chr\",\"strand\",\"pubmed\",\"cellline\",\"condition\",\"sequence\",\"symbol\",\"ensg\",\"log2fc\",\"rc_initial\",\"rc_final\",\"effect\",\"cas\",\"screentype\"],\"width\":600,\"height\":400}\n  }\n  \n                        \n                        \n                      );\n      }\n    );/*]]>*/</script>\n    <div>\n      <span class=\"chart-total-item-count\"><p data-bind=\"text: value\"><script data-this=\"{&quot;valueId&quot;:&quot;anon1923c0f77f80ff96044eec15ce14cf51&quot;,&quot;initialValue&quot;:&quot;20&quot;}\" type=\"text/x-scoped-javascript\">/*<![CDATA[*/\nreq(\n['observable', 'knockout'],\nfunction (O, ko) {\n  ko.applyBindings({\n      value: O.makeObservable(valueId, initialValue)\n    },\n    this\n  );\n});\n        /*]]>*/</script></p> entries total</span>\n      <span class=\"chart-sampling-warning\"><p data-bind=\"text: value\"><script data-this=\"{&quot;valueId&quot;:&quot;anon177357a2e153922a342b5b4ce176b760&quot;,&quot;initialValue&quot;:&quot;&quot;}\" type=\"text/x-scoped-javascript\">/*<![CDATA[*/\nreq(\n['observable', 'knockout'],\nfunction (O, ko) {\n  ko.applyBindings({\n      value: O.makeObservable(valueId, initialValue)\n    },\n    this\n  );\n});\n        /*]]>*/</script></p></span>\n      <div>\n      </div>\n    </div></div>\n            </div><div class=\"tab-pane\" id=\"tab1915135037-1\">\n            <div>\n      <script data-this=\"{&quot;dataId&quot;:&quot;anonb36ddf254f8e32342f398d44e569d2c2&quot;,&quot;dataInit&quot;:[{&quot;screentype&quot;:&quot;negative selection&quot;,&quot;ensg&quot;:&quot;ENSG00000148584&quot;,&quot;cellline&quot;:&quot;Jiyoye&quot;,&quot;effect&quot;:&quot;2&quot;,&quot;cas&quot;:&quot;hSpCas9&quot;,&quot;pubmed&quot;:&quot;26472758&quot;,&quot;symbol&quot;:&quot;A1CF&quot;,&quot;condition&quot;:&quot;viability&quot;,&quot;sequence&quot;:&quot;GCAGCATCCCAACCAGGTGGAGG&quot;,&quot;chr&quot;:&quot;10&quot;,&quot;rc_final&quot;:&quot;[244]&quot;,&quot;end&quot;:&quot;50844096&quot;,&quot;log2fc&quot;:&quot;0.31590732393855947&quot;,&quot;strand&quot;:&quot;+&quot;,&quot;start&quot;:&quot;50844073&quot;,&quot;rc_initial&quot;:&quot;[260]&quot;},{&quot;screentype&quot;:&quot;negative selection&quot;,&quot;ensg&quot;:&quot;ENSG00000148584&quot;,&quot;cellline&quot;:&quot;Jiyoye&quot;,&quot;effect&quot;:&quot;9&quot;,&quot;cas&quot;:&quot;hSpCas9&quot;,&quot;pubmed&quot;:&quot;26472758&quot;,&quot;symbol&quot;:&quot;A1CF&quot;,&quot;condition&quot;:&quot;viability&quot;,&quot;sequence&quot;:&quot;GCGGGAGTGAGAGGACTGGGCGG&quot;,&quot;chr&quot;:&quot;10&quot;,&quot;rc_final&quot;:&quot;[59]&quot;,&quot;end&quot;:&quot;50814034&quot;,&quot;log2fc&quot;:&quot;2.1441409756720797&quot;,&quot;strand&quot;:&quot;-&quot;,&quot;start&quot;:&quot;50814011&quot;,&quot;rc_initial&quot;:&quot;[17]&quot;},{&quot;screentype&quot;:&quot;negative selection&quot;,&quot;ensg&quot;:&quot;ENSG00000148584&quot;,&quot;cellline&quot;:&quot;Jiyoye&quot;,&quot;effect&quot;:&quot;8&quot;,&quot;cas&quot;:&quot;hSpCas9&quot;,&quot;pubmed&quot;:&quot;26472758&quot;,&quot;symbol&quot;:&quot;A1CF&quot;,&quot;condition&quot;:&quot;viability&quot;,&quot;sequence&quot;:&quot;ATGACTCTCATACTCCACGAAGG&quot;,&quot;chr&quot;:&quot;10&quot;,&quot;rc_final&quot;:&quot;[153]&quot;,&quot;end&quot;:&quot;50836134&quot;,&quot;log2fc&quot;:&quot;1.4260344087571892&quot;,&quot;strand&quot;:&quot;+&quot;,&quot;start&quot;:&quot;50836111&quot;,&quot;rc_initial&quot;:&quot;[75]&quot;},{&quot;screentype&quot;:&quot;negative selection&quot;,&quot;ensg&quot;:&quot;ENSG00000148584&quot;,&quot;cellline&quot;:&quot;Jiyoye&quot;,&quot;effect&quot;:&quot;8&quot;,&quot;cas&quot;:&quot;hSpCas9&quot;,&quot;pubmed&quot;:&quot;26472758&quot;,&quot;symbol&quot;:&quot;A1CF&quot;,&quot;condition&quot;:&quot;viability&quot;,&quot;sequence&quot;:&quot;GAGTCATCGAGCAGCTGCCATGG&quot;,&quot;chr&quot;:&quot;10&quot;,&quot;rc_final&quot;:&quot;[105]&quot;,&quot;end&quot;:&quot;50836118&quot;,&quot;log2fc&quot;:&quot;1.5501333353479165&quot;,&quot;strand&quot;:&quot;-&quot;,&quot;start&quot;:&quot;50836095&quot;,&quot;rc_initial&quot;:&quot;[47]&quot;},{&quot;screentype&quot;:&quot;negative selection&quot;,&quot;ensg&quot;:&quot;ENSG00000148584&quot;,&quot;cellline&quot;:&quot;Jiyoye&quot;,&quot;effect&quot;:&quot;3&quot;,&quot;cas&quot;:&quot;hSpCas9&quot;,&quot;pubmed&quot;:&quot;26472758&quot;,&quot;symbol&quot;:&quot;A1CF&quot;,&quot;condition&quot;:&quot;viability&quot;,&quot;sequence&quot;:&quot;AGTCACCCTAGCAAAACCAGTGG&quot;,&quot;chr&quot;:&quot;10&quot;,&quot;rc_final&quot;:&quot;[57]&quot;,&quot;end&quot;:&quot;50816257&quot;,&quot;log2fc&quot;:&quot;0.38251332727160436&quot;,&quot;strand&quot;:&quot;-&quot;,&quot;start&quot;:&quot;50816234&quot;,&quot;rc_initial&quot;:&quot;[58]&quot;},{&quot;screentype&quot;:&quot;negative selection&quot;,&quot;ensg&quot;:&quot;ENSG00000148584&quot;,&quot;cellline&quot;:&quot;Jiyoye&quot;,&quot;effect&quot;:&quot;6&quot;,&quot;cas&quot;:&quot;hSpCas9&quot;,&quot;pubmed&quot;:&quot;26472758&quot;,&quot;symbol&quot;:&quot;A1CF&quot;,&quot;condition&quot;:&quot;viability&quot;,&quot;sequence&quot;:&quot;GATCCCACCACAACCTACCTTGG&quot;,&quot;chr&quot;:&quot;10&quot;,&quot;rc_final&quot;:&quot;[538]&quot;,&quot;end&quot;:&quot;50816142&quot;,&quot;log2fc&quot;:&quot;0.9934768104353275&quot;,&quot;strand&quot;:&quot;-&quot;,&quot;start&quot;:&quot;50816119&quot;,&quot;rc_initial&quot;:&quot;[358]&quot;},{&quot;screentype&quot;:&quot;negative selection&quot;,&quot;ensg&quot;:&quot;ENSG00000148584&quot;,&quot;cellline&quot;:&quot;Jiyoye&quot;,&quot;effect&quot;:&quot;3&quot;,&quot;cas&quot;:&quot;hSpCas9&quot;,&quot;pubmed&quot;:&quot;26472758&quot;,&quot;symbol&quot;:&quot;A1CF&quot;,&quot;condition&quot;:&quot;viability&quot;,&quot;sequence&quot;:&quot;GGTGTTACCTCTAACAGAAGGGG&quot;,&quot;chr&quot;:&quot;10&quot;,&quot;rc_final&quot;:&quot;[0]&quot;,&quot;end&quot;:&quot;50816021&quot;,&quot;log2fc&quot;:&quot;0.40717538150587274&quot;,&quot;strand&quot;:&quot;+&quot;,&quot;start&quot;:&quot;50815998&quot;,&quot;rc_initial&quot;:&quot;[0]&quot;},{&quot;screentype&quot;:&quot;negative selection&quot;,&quot;ensg&quot;:&quot;ENSG00000148584&quot;,&quot;cellline&quot;:&quot;Jiyoye&quot;,&quot;effect&quot;:&quot;9&quot;,&quot;cas&quot;:&quot;hSpCas9&quot;,&quot;pubmed&quot;:&quot;26472758&quot;,&quot;symbol&quot;:&quot;A1CF&quot;,&quot;condition&quot;:&quot;viability&quot;,&quot;sequence&quot;:&quot;GCTTTGGAGGTGTGAAAGGGTGG&quot;,&quot;chr&quot;:&quot;10&quot;,&quot;rc_final&quot;:&quot;[11]&quot;,&quot;end&quot;:&quot;50810043&quot;,&quot;log2fc&quot;:&quot;2.9921378822270293&quot;,&quot;strand&quot;:&quot;+&quot;,&quot;start&quot;:&quot;50810020&quot;,&quot;rc_initial&quot;:&quot;[1]&quot;},{&quot;screentype&quot;:&quot;negative selection&quot;,&quot;ensg&quot;:&quot;ENSG00000148584&quot;,&quot;cellline&quot;:&quot;Jiyoye&quot;,&quot;effect&quot;:&quot;3&quot;,&quot;cas&quot;:&quot;hSpCas9&quot;,&quot;pubmed&quot;:&quot;26472758&quot;,&quot;symbol&quot;:&quot;A1CF&quot;,&quot;condition&quot;:&quot;viability&quot;,&quot;sequence&quot;:&quot;GGAGCGAGTTTAATTCCTTGGGG&quot;,&quot;chr&quot;:&quot;10&quot;,&quot;rc_final&quot;:&quot;[120]&quot;,&quot;end&quot;:&quot;50813884&quot;,&quot;log2fc&quot;:&quot;0.43122085547252453&quot;,&quot;strand&quot;:&quot;+&quot;,&quot;start&quot;:&quot;50813861&quot;,&quot;rc_initial&quot;:&quot;[118]&quot;},{&quot;screentype&quot;:&quot;negative selection&quot;,&quot;ensg&quot;:&quot;ENSG00000148584&quot;,&quot;cellline&quot;:&quot;Jiyoye&quot;,&quot;effect&quot;:&quot;-6&quot;,&quot;cas&quot;:&quot;hSpCas9&quot;,&quot;pubmed&quot;:&quot;26472758&quot;,&quot;symbol&quot;:&quot;A1CF&quot;,&quot;condition&quot;:&quot;viability&quot;,&quot;sequence&quot;:&quot;ATAAACTTGGCCCAAAGAGTAGG&quot;,&quot;chr&quot;:&quot;10&quot;,&quot;rc_final&quot;:&quot;[12]&quot;,&quot;end&quot;:&quot;50816165&quot;,&quot;log2fc&quot;:&quot;-1.1018382659819843&quot;,&quot;strand&quot;:&quot;+&quot;,&quot;start&quot;:&quot;50816142&quot;,&quot;rc_initial&quot;:&quot;[36]&quot;},{&quot;screentype&quot;:&quot;negative selection&quot;,&quot;ensg&quot;:&quot;ENSG00000175899&quot;,&quot;cellline&quot;:&quot;Jiyoye&quot;,&quot;effect&quot;:&quot;9&quot;,&quot;cas&quot;:&quot;hSpCas9&quot;,&quot;pubmed&quot;:&quot;26472758&quot;,&quot;symbol&quot;:&quot;A2M&quot;,&quot;condition&quot;:&quot;viability&quot;,&quot;sequence&quot;:&quot;GGTGTCAGAAGAACACGAAGAGG&quot;,&quot;chr&quot;:&quot;12&quot;,&quot;rc_final&quot;:&quot;[63]&quot;,&quot;end&quot;:&quot;9101634&quot;,&quot;log2fc&quot;:&quot;6.407175381505873&quot;,&quot;strand&quot;:&quot;-&quot;,&quot;start&quot;:&quot;9101611&quot;,&quot;rc_initial&quot;:&quot;[0]&quot;},{&quot;screentype&quot;:&quot;negative selection&quot;,&quot;ensg&quot;:&quot;ENSG00000175899&quot;,&quot;cellline&quot;:&quot;Jiyoye&quot;,&quot;effect&quot;:&quot;-4&quot;,&quot;cas&quot;:&quot;hSpCas9&quot;,&quot;pubmed&quot;:&quot;26472758&quot;,&quot;symbol&quot;:&quot;A2M&quot;,&quot;condition&quot;:&quot;viability&quot;,&quot;sequence&quot;:&quot;CCAGCCAGCCCCAACCTCGGAGG&quot;,&quot;chr&quot;:&quot;12&quot;,&quot;rc_final&quot;:&quot;[77]&quot;,&quot;end&quot;:&quot;9074660&quot;,&quot;log2fc&quot;:&quot;-0.5070947444682425&quot;,&quot;strand&quot;:&quot;-&quot;,&quot;start&quot;:&quot;9074637&quot;,&quot;rc_initial&quot;:&quot;[146]&quot;},{&quot;screentype&quot;:&quot;negative selection&quot;,&quot;ensg&quot;:&quot;ENSG00000175899&quot;,&quot;cellline&quot;:&quot;Jiyoye&quot;,&quot;effect&quot;:&quot;-8&quot;,&quot;cas&quot;:&quot;hSpCas9&quot;,&quot;pubmed&quot;:&quot;26472758&quot;,&quot;symbol&quot;:&quot;A2M&quot;,&quot;condition&quot;:&quot;viability&quot;,&quot;sequence&quot;:&quot;GAGGCTGGGAGACTTTGTGATGG&quot;,&quot;chr&quot;:&quot;12&quot;,&quot;rc_final&quot;:&quot;[53]&quot;,&quot;end&quot;:&quot;9098739&quot;,&quot;log2fc&quot;:&quot;-1.8152170398305745&quot;,&quot;strand&quot;:&quot;+&quot;,&quot;start&quot;:&quot;9098716&quot;,&quot;rc_initial&quot;:&quot;[251]&quot;},{&quot;screentype&quot;:&quot;negative selection&quot;,&quot;ensg&quot;:&quot;ENSG00000175899&quot;,&quot;cellline&quot;:&quot;Jiyoye&quot;,&quot;effect&quot;:&quot;5&quot;,&quot;cas&quot;:&quot;hSpCas9&quot;,&quot;pubmed&quot;:&quot;26472758&quot;,&quot;symbol&quot;:&quot;A2M&quot;,&quot;condition&quot;:&quot;viability&quot;,&quot;sequence&quot;:&quot;GGAGCGCCCTCAGAAACCCAAGG&quot;,&quot;chr&quot;:&quot;12&quot;,&quot;rc_final&quot;:&quot;[132]&quot;,&quot;end&quot;:&quot;9074768&quot;,&quot;log2fc&quot;:&quot;0.7620180988659708&quot;,&quot;strand&quot;:&quot;-&quot;,&quot;start&quot;:&quot;9074745&quot;,&quot;rc_initial&quot;:&quot;[103]&quot;},{&quot;screentype&quot;:&quot;negative selection&quot;,&quot;ensg&quot;:&quot;ENSG00000175899&quot;,&quot;cellline&quot;:&quot;Jiyoye&quot;,&quot;effect&quot;:&quot;0&quot;,&quot;cas&quot;:&quot;hSpCas9&quot;,&quot;pubmed&quot;:&quot;26472758&quot;,&quot;symbol&quot;:&quot;A2M&quot;,&quot;condition&quot;:&quot;viability&quot;,&quot;sequence&quot;:&quot;TAAGAAGCGGACCACAGTGATGG&quot;,&quot;chr&quot;:&quot;12&quot;,&quot;rc_final&quot;:&quot;[505]&quot;,&quot;end&quot;:&quot;9112466&quot;,&quot;log2fc&quot;:&quot;-0.09566035250172122&quot;,&quot;strand&quot;:&quot;-&quot;,&quot;start&quot;:&quot;9112443&quot;,&quot;rc_initial&quot;:&quot;[716]&quot;},{&quot;screentype&quot;:&quot;negative selection&quot;,&quot;ensg&quot;:&quot;ENSG00000175899&quot;,&quot;cellline&quot;:&quot;Jiyoye&quot;,&quot;effect&quot;:&quot;7&quot;,&quot;cas&quot;:&quot;hSpCas9&quot;,&quot;pubmed&quot;:&quot;26472758&quot;,&quot;symbol&quot;:&quot;A2M&quot;,&quot;condition&quot;:&quot;viability&quot;,&quot;sequence&quot;:&quot;AAACTCACCAACTCATTCAGGGG&quot;,&quot;chr&quot;:&quot;12&quot;,&quot;rc_final&quot;:&quot;[79]&quot;,&quot;end&quot;:&quot;9112174&quot;,&quot;log2fc&quot;:&quot;1.1143936322780275&quot;,&quot;strand&quot;:&quot;+&quot;,&quot;start&quot;:&quot;9112151&quot;,&quot;rc_initial&quot;:&quot;[48]&quot;},{&quot;screentype&quot;:&quot;negative selection&quot;,&quot;ensg&quot;:&quot;ENSG00000175899&quot;,&quot;cellline&quot;:&quot;Jiyoye&quot;,&quot;effect&quot;:&quot;7&quot;,&quot;cas&quot;:&quot;hSpCas9&quot;,&quot;pubmed&quot;:&quot;26472758&quot;,&quot;symbol&quot;:&quot;A2M&quot;,&quot;condition&quot;:&quot;viability&quot;,&quot;sequence&quot;:&quot;AAGCCTGTGAATCTTCACCGTGG&quot;,&quot;chr&quot;:&quot;12&quot;,&quot;rc_final&quot;:&quot;[113]&quot;,&quot;end&quot;:&quot;9107570&quot;,&quot;log2fc&quot;:&quot;1.2858690852837398&quot;,&quot;strand&quot;:&quot;+&quot;,&quot;start&quot;:&quot;9107547&quot;,&quot;rc_initial&quot;:&quot;[61]&quot;},{&quot;screentype&quot;:&quot;negative selection&quot;,&quot;ensg&quot;:&quot;ENSG00000175899&quot;,&quot;cellline&quot;:&quot;Jiyoye&quot;,&quot;effect&quot;:&quot;8&quot;,&quot;cas&quot;:&quot;hSpCas9&quot;,&quot;pubmed&quot;:&quot;26472758&quot;,&quot;symbol&quot;:&quot;A2M&quot;,&quot;condition&quot;:&quot;viability&quot;,&quot;sequence&quot;:&quot;CATGAGACATGGGCTCAAGGTGG&quot;,&quot;chr&quot;:&quot;12&quot;,&quot;rc_final&quot;:&quot;[107]&quot;,&quot;end&quot;:&quot;9101565&quot;,&quot;log2fc&quot;:&quot;1.9526095180403924&quot;,&quot;strand&quot;:&quot;+&quot;,&quot;start&quot;:&quot;9101542&quot;,&quot;rc_initial&quot;:&quot;[36]&quot;},{&quot;screentype&quot;:&quot;negative selection&quot;,&quot;ensg&quot;:&quot;ENSG00000175899&quot;,&quot;cellline&quot;:&quot;Jiyoye&quot;,&quot;effect&quot;:&quot;-5&quot;,&quot;cas&quot;:&quot;hSpCas9&quot;,&quot;pubmed&quot;:&quot;26472758&quot;,&quot;symbol&quot;:&quot;A2M&quot;,&quot;condition&quot;:&quot;viability&quot;,&quot;sequence&quot;:&quot;GAGCCGCTGTGACTCGCAGGTGG&quot;,&quot;chr&quot;:&quot;12&quot;,&quot;rc_final&quot;:&quot;[55]&quot;,&quot;end&quot;:&quot;9098710&quot;,&quot;log2fc&quot;:&quot;-0.8188926979739726&quot;,&quot;strand&quot;:&quot;+&quot;,&quot;start&quot;:&quot;9098687&quot;,&quot;rc_initial&quot;:&quot;[130]&quot;},{&quot;screentype&quot;:&quot;negative selection&quot;,&quot;ensg&quot;:&quot;ENSG00000175899&quot;,&quot;cellline&quot;:&quot;Jiyoye&quot;,&quot;effect&quot;:&quot;2&quot;,&quot;cas&quot;:&quot;hSpCas9&quot;,&quot;pubmed&quot;:&quot;26472758&quot;,&quot;symbol&quot;:&quot;A2M&quot;,&quot;condition&quot;:&quot;viability&quot;,&quot;sequence&quot;:&quot;ACTGCATCTGTGCAAACGGGCGG&quot;,&quot;chr&quot;:&quot;12&quot;,&quot;rc_final&quot;:&quot;[98]&quot;,&quot;end&quot;:&quot;9090416&quot;,&quot;log2fc&quot;:&quot;0.36410665961398725&quot;,&quot;strand&quot;:&quot;-&quot;,&quot;start&quot;:&quot;9090393&quot;,&quot;rc_initial&quot;:&quot;[101]&quot;}],&quot;genId&quot;:&quot;151397622&quot;}\" type=\"text/x-scoped-javascript\">/*<![CDATA[*/req(['../javascripts/notebook/playground','../javascripts/notebook/magic/pivotChart'], \n      function(playground, _magicpivotChart) {\n        // data ==> data-this (in observable.js's scopedEval) ==> this in JS => { dataId, dataInit, ... }\n        // this ==> scope (in observable.js's scopedEval) ==> this.parentElement ==> div.container below (toHtml)\n\n        playground.call(data,\n                        this\n                        ,\n                        {\n    \"f\": _magicpivotChart,\n    \"o\": {\"width\":600,\"height\":400,\"derivedAttributes\":{},\"extraOptions\":{}}\n  }\n  \n                        \n                        \n                      );\n      }\n    );/*]]>*/</script>\n    <div>\n      <span class=\"chart-total-item-count\"><p data-bind=\"text: value\"><script data-this=\"{&quot;valueId&quot;:&quot;anon1eb73a8045dfdcb4f231338394eb4a85&quot;,&quot;initialValue&quot;:&quot;20&quot;}\" type=\"text/x-scoped-javascript\">/*<![CDATA[*/\nreq(\n['observable', 'knockout'],\nfunction (O, ko) {\n  ko.applyBindings({\n      value: O.makeObservable(valueId, initialValue)\n    },\n    this\n  );\n});\n        /*]]>*/</script></p> entries total</span>\n      <span class=\"chart-sampling-warning\"><p data-bind=\"text: value\"><script data-this=\"{&quot;valueId&quot;:&quot;anon981d2851bd1c2f1732b69216a7323266&quot;,&quot;initialValue&quot;:&quot;&quot;}\" type=\"text/x-scoped-javascript\">/*<![CDATA[*/\nreq(\n['observable', 'knockout'],\nfunction (O, ko) {\n  ko.applyBindings({\n      value: O.makeObservable(valueId, initialValue)\n    },\n    this\n  );\n});\n        /*]]>*/</script></p></span>\n      <div>\n      </div>\n    </div></div>\n            </div></div>\n      </div>\n    </div></div>"
          },
          "output_type" : "execute_result",
          "execution_count" : 49,
          "time" : "Took: 1.313s, at 2018-01-17 21:19"
        }
      ]
    },
    {
      "metadata" : {
        "trusted" : true,
        "input_collapsed" : false,
        "collapsed" : true,
        "id" : "20EB1D633A4145299376BDF415505C8B"
      },
      "cell_type" : "code",
      "source" : [
        ""
      ],
      "outputs" : [ ]
    }
  ],
  "nbformat" : 4
}